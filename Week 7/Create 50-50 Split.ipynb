{
 "cells": [
  {
   "cell_type": "code",
   "execution_count": 2,
   "metadata": {
    "collapsed": false
   },
   "outputs": [
    {
     "name": "stdout",
     "output_type": "stream",
     "text": [
      "Loading DB...\n",
      "DB Read...\n"
     ]
    }
   ],
   "source": [
    "# Input the DB to Memory\n",
    "import pandas as pd\n",
    "import numpy as np\n",
    "print(\"Loading DB...\")\n",
    "dfs = pd.read_csv(\"terrorism_red_cat_for_random_forest.csv\")\n",
    "print(\"DB Read...\")\n",
    "#print(data_file.sheet_names)\n",
    "#dfs = data_file.parse(data_file.sheet_names[0])\n",
    "#print(\"DB Parsed...\")\n",
    "del(dfs['Unnamed: 0'])"
   ]
  },
  {
   "cell_type": "markdown",
   "metadata": {},
   "source": [
    "['iyear', 'extended', 'success', 'suicide', 'gname', 'nperps', 'nkill', 'nwound', 'ishostkid', 'nhostkid','weaptype1_txt_Biological', 'weaptype1_txt_Chemical', 'weaptype1_txt_Explosives/Bombs/Dynamite', 'weaptype1_txt_Fake Weapons', 'weaptype1_txt_Firearms', 'weaptype1_txt_Incendiary', 'weaptype1_txt_Melee', 'weaptype1_txt_Other', 'weaptype1_txt_Radiological', 'weaptype1_txt_Sabotage Equipment', 'weaptype1_txt_Unknown', 'weaptype1_txt_Vehicle (not to include vehicle-borne explosives, i.e., car or truck bombs)', 'attacktype1_txt_Armed Assault', 'attacktype1_txt_Assassination', 'attacktype1_txt_Bombing/Explosion', 'attacktype1_txt_Facility/Infrastructure Attack', 'attacktype1_txt_Hijacking', 'attacktype1_txt_Hostage Taking (Barricade Incident)', 'attacktype1_txt_Hostage Taking (Kidnapping)', 'attacktype1_txt_Unarmed Assault', 'attacktype1_txt_Unknown', 'targtype1_txt_Abortion Related', 'targtype1_txt_Airports & Aircraft', 'targtype1_txt_Business', 'targtype1_txt_Educational Institution', 'targtype1_txt_Food or Water Supply', 'targtype1_txt_Government (Diplomatic)', 'targtype1_txt_Government (General)', 'targtype1_txt_Journalists & Media', 'targtype1_txt_Maritime', 'targtype1_txt_Military', 'targtype1_txt_NGO', 'targtype1_txt_Other', 'targtype1_txt_Police', 'targtype1_txt_Private Citizens & Property', 'targtype1_txt_Religious Figures/Institutions', 'targtype1_txt_Telecommunication',  'targtype1_txt_Terrorists/Non-State Militia', 'targtype1_txt_Tourists', 'targtype1_txt_Transportation', 'targtype1_txt_Unknown',  'targtype1_txt_Utilities', 'targtype1_txt_Violent Political Party', 'region_txt_Australasia & Oceania', 'region_txt_Central America & Caribbean', 'region_txt_Central Asia', 'region_txt_East Asia', 'region_txt_Eastern Europe', 'region_txt_Middle East & North Africa', 'region_txt_North America', 'region_txt_South America', 'region_txt_South Asia', 'region_txt_Southeast Asia', 'region_txt_Sub-Saharan Africa', 'region_txt_Western Europe']"
   ]
  },
  {
   "cell_type": "code",
   "execution_count": 3,
   "metadata": {
    "collapsed": false
   },
   "outputs": [
    {
     "name": "stdout",
     "output_type": "stream",
     "text": [
      "Index(['iyear', 'extended', 'success', 'suicide', 'gname', 'nperps', 'nkill',\n",
      "       'nwound', 'ishostkid', 'nhostkid', 'weaptype1_txt_Biological',\n",
      "       'weaptype1_txt_Chemical', 'weaptype1_txt_Explosives/Bombs/Dynamite',\n",
      "       'weaptype1_txt_Fake Weapons', 'weaptype1_txt_Firearms',\n",
      "       'weaptype1_txt_Incendiary', 'weaptype1_txt_Melee',\n",
      "       'weaptype1_txt_Other', 'weaptype1_txt_Radiological',\n",
      "       'weaptype1_txt_Sabotage Equipment', 'weaptype1_txt_Unknown',\n",
      "       'weaptype1_txt_Vehicle (not to include vehicle-borne explosives, i.e., car or truck bombs)',\n",
      "       'attacktype1_txt_Armed Assault', 'attacktype1_txt_Assassination',\n",
      "       'attacktype1_txt_Bombing/Explosion',\n",
      "       'attacktype1_txt_Facility/Infrastructure Attack',\n",
      "       'attacktype1_txt_Hijacking',\n",
      "       'attacktype1_txt_Hostage Taking (Barricade Incident)',\n",
      "       'attacktype1_txt_Hostage Taking (Kidnapping)',\n",
      "       'attacktype1_txt_Unarmed Assault', 'attacktype1_txt_Unknown',\n",
      "       'targtype1_txt_Abortion Related', 'targtype1_txt_Airports & Aircraft',\n",
      "       'targtype1_txt_Business', 'targtype1_txt_Educational Institution',\n",
      "       'targtype1_txt_Food or Water Supply',\n",
      "       'targtype1_txt_Government (Diplomatic)',\n",
      "       'targtype1_txt_Government (General)',\n",
      "       'targtype1_txt_Journalists & Media', 'targtype1_txt_Maritime',\n",
      "       'targtype1_txt_Military', 'targtype1_txt_NGO', 'targtype1_txt_Other',\n",
      "       'targtype1_txt_Police', 'targtype1_txt_Private Citizens & Property',\n",
      "       'targtype1_txt_Religious Figures/Institutions',\n",
      "       'targtype1_txt_Telecommunication',\n",
      "       'targtype1_txt_Terrorists/Non-State Militia', 'targtype1_txt_Tourists',\n",
      "       'targtype1_txt_Transportation', 'targtype1_txt_Unknown',\n",
      "       'targtype1_txt_Utilities', 'targtype1_txt_Violent Political Party',\n",
      "       'region_txt_Australasia & Oceania',\n",
      "       'region_txt_Central America & Caribbean', 'region_txt_Central Asia',\n",
      "       'region_txt_East Asia', 'region_txt_Eastern Europe',\n",
      "       'region_txt_Middle East & North Africa', 'region_txt_North America',\n",
      "       'region_txt_South America', 'region_txt_South Asia',\n",
      "       'region_txt_Southeast Asia', 'region_txt_Sub-Saharan Africa',\n",
      "       'region_txt_Western Europe'],\n",
      "      dtype='object')\n"
     ]
    }
   ],
   "source": [
    "print(dfs.columns)"
   ]
  },
  {
   "cell_type": "code",
   "execution_count": 4,
   "metadata": {
    "collapsed": false
   },
   "outputs": [
    {
     "name": "stdout",
     "output_type": "stream",
     "text": [
      "Index(['iyear', 'extended', 'success', 'suicide', 'gname', 'nperps', 'nkill',\n",
      "       'nwound', 'ishostkid', 'nhostkid', 'weaptype1_txt_Biological',\n",
      "       'weaptype1_txt_Chemical', 'weaptype1_txt_Explosives/Bombs/Dynamite',\n",
      "       'weaptype1_txt_Fake Weapons', 'weaptype1_txt_Firearms',\n",
      "       'weaptype1_txt_Incendiary', 'weaptype1_txt_Melee',\n",
      "       'weaptype1_txt_Other', 'weaptype1_txt_Radiological',\n",
      "       'weaptype1_txt_Sabotage Equipment', 'weaptype1_txt_Unknown',\n",
      "       'weaptype1_txt_Vehicle (not to include vehicle-borne explosives, i.e., car or truck bombs)',\n",
      "       'attacktype1_txt_Armed Assault', 'attacktype1_txt_Assassination',\n",
      "       'attacktype1_txt_Bombing/Explosion',\n",
      "       'attacktype1_txt_Facility/Infrastructure Attack',\n",
      "       'attacktype1_txt_Hijacking',\n",
      "       'attacktype1_txt_Hostage Taking (Barricade Incident)',\n",
      "       'attacktype1_txt_Hostage Taking (Kidnapping)',\n",
      "       'attacktype1_txt_Unarmed Assault', 'attacktype1_txt_Unknown',\n",
      "       'targtype1_txt_Abortion Related', 'targtype1_txt_Airports & Aircraft',\n",
      "       'targtype1_txt_Business', 'targtype1_txt_Educational Institution',\n",
      "       'targtype1_txt_Food or Water Supply',\n",
      "       'targtype1_txt_Government (Diplomatic)',\n",
      "       'targtype1_txt_Government (General)',\n",
      "       'targtype1_txt_Journalists & Media', 'targtype1_txt_Maritime',\n",
      "       'targtype1_txt_Military', 'targtype1_txt_NGO', 'targtype1_txt_Other',\n",
      "       'targtype1_txt_Police', 'targtype1_txt_Private Citizens & Property',\n",
      "       'targtype1_txt_Religious Figures/Institutions',\n",
      "       'targtype1_txt_Telecommunication',\n",
      "       'targtype1_txt_Terrorists/Non-State Militia', 'targtype1_txt_Tourists',\n",
      "       'targtype1_txt_Transportation', 'targtype1_txt_Unknown',\n",
      "       'targtype1_txt_Utilities', 'targtype1_txt_Violent Political Party',\n",
      "       'region_txt_Australasia & Oceania',\n",
      "       'region_txt_Central America & Caribbean', 'region_txt_Central Asia',\n",
      "       'region_txt_East Asia', 'region_txt_Eastern Europe',\n",
      "       'region_txt_Middle East & North Africa', 'region_txt_North America',\n",
      "       'region_txt_South America', 'region_txt_South Asia',\n",
      "       'region_txt_Southeast Asia', 'region_txt_Sub-Saharan Africa',\n",
      "       'region_txt_Western Europe'],\n",
      "      dtype='object')\n",
      "['iyear', 'extended', 'success', 'suicide', 'gname', 'nperps', 'nkill', 'nwound', 'ishostkid', 'nhostkid', 'weaptype1_txt_Biological', 'weaptype1_txt_Chemical', 'weaptype1_txt_Explosives/Bombs/Dynamite', 'weaptype1_txt_Fake Weapons', 'weaptype1_txt_Firearms', 'weaptype1_txt_Incendiary', 'weaptype1_txt_Melee', 'weaptype1_txt_Other', 'weaptype1_txt_Radiological', 'weaptype1_txt_Sabotage Equipment', 'weaptype1_txt_Unknown', 'weaptype1_txt_Vehicle (not to include vehicle-borne explosives, i.e., car or truck bombs)', 'attacktype1_txt_Armed Assault', 'attacktype1_txt_Assassination', 'attacktype1_txt_Bombing/Explosion', 'attacktype1_txt_Facility/Infrastructure Attack', 'attacktype1_txt_Hijacking', 'attacktype1_txt_Hostage Taking (Barricade Incident)', 'attacktype1_txt_Hostage Taking (Kidnapping)', 'attacktype1_txt_Unarmed Assault', 'attacktype1_txt_Unknown', 'targtype1_txt_Abortion Related', 'targtype1_txt_Airports & Aircraft', 'targtype1_txt_Business', 'targtype1_txt_Educational Institution', 'targtype1_txt_Food or Water Supply', 'targtype1_txt_Government (Diplomatic)', 'targtype1_txt_Government (General)', 'targtype1_txt_Journalists & Media', 'targtype1_txt_Maritime', 'targtype1_txt_Military', 'targtype1_txt_NGO', 'targtype1_txt_Other', 'targtype1_txt_Police', 'targtype1_txt_Private Citizens & Property', 'targtype1_txt_Religious Figures/Institutions', 'targtype1_txt_Telecommunication', 'targtype1_txt_Terrorists/Non-State Militia', 'targtype1_txt_Tourists', 'targtype1_txt_Transportation', 'targtype1_txt_Unknown', 'targtype1_txt_Utilities', 'targtype1_txt_Violent Political Party', 'region_txt_Australasia & Oceania', 'region_txt_Central America & Caribbean', 'region_txt_Central Asia', 'region_txt_East Asia', 'region_txt_Eastern Europe', 'region_txt_Middle East & North Africa', 'region_txt_North America', 'region_txt_South America', 'region_txt_South Asia', 'region_txt_Southeast Asia', 'region_txt_Sub-Saharan Africa', 'region_txt_Western Europe']\n"
     ]
    }
   ],
   "source": [
    "dimensions = dfs.columns.tolist()\n",
    "\n",
    "columns = dfs.columns\n",
    "for cols in columns:\n",
    "    if cols == 'gname':\n",
    "        continue\n",
    "    if cols not in dimensions:\n",
    "        del(dfs[cols])\n",
    "\n",
    "columns = dfs.columns\n",
    "print(columns)\n",
    "print(dimensions)"
   ]
  },
  {
   "cell_type": "code",
   "execution_count": 5,
   "metadata": {
    "collapsed": false
   },
   "outputs": [],
   "source": [
    "del(dfs['gname'])"
   ]
  },
  {
   "cell_type": "code",
   "execution_count": 9,
   "metadata": {
    "collapsed": false
   },
   "outputs": [],
   "source": [
    "from sklearn.model_selection import train_test_split\n",
    "df_train_test, df_val = train_test_split(dfs, test_size=0.5, random_state=42)"
   ]
  },
  {
   "cell_type": "code",
   "execution_count": 10,
   "metadata": {
    "collapsed": false
   },
   "outputs": [
    {
     "name": "stdout",
     "output_type": "stream",
     "text": [
      "66272\n",
      "66272\n"
     ]
    }
   ],
   "source": [
    "print(len(df_train_test))\n",
    "print(len(df_val))"
   ]
  },
  {
   "cell_type": "code",
   "execution_count": 11,
   "metadata": {
    "collapsed": true
   },
   "outputs": [],
   "source": [
    "df_train_test.to_csv('terrorism_50_train_test.csv',encoding = 'utf-8')\n",
    "df_val.to_csv('terrorism_50_val.csv',encoding = 'utf-8')"
   ]
  },
  {
   "cell_type": "code",
   "execution_count": null,
   "metadata": {
    "collapsed": true
   },
   "outputs": [],
   "source": []
  }
 ],
 "metadata": {
  "anaconda-cloud": {},
  "kernelspec": {
   "display_name": "Python [conda root]",
   "language": "python",
   "name": "conda-root-py"
  },
  "language_info": {
   "codemirror_mode": {
    "name": "ipython",
    "version": 3
   },
   "file_extension": ".py",
   "mimetype": "text/x-python",
   "name": "python",
   "nbconvert_exporter": "python",
   "pygments_lexer": "ipython3",
   "version": "3.5.2"
  }
 },
 "nbformat": 4,
 "nbformat_minor": 1
}
