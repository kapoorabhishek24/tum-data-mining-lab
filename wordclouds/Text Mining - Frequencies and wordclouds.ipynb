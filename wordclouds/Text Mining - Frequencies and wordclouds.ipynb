{
 "cells": [
  {
   "cell_type": "markdown",
   "metadata": {},
   "source": [
    "# Text Mining Terrorism Dataset"
   ]
  },
  {
   "cell_type": "markdown",
   "metadata": {},
   "source": [
    "## *Basic Descriptive Statistics*"
   ]
  },
  {
   "cell_type": "markdown",
   "metadata": {},
   "source": [
    "### 1 - Set environment"
   ]
  },
  {
   "cell_type": "code",
   "execution_count": null,
   "metadata": {
    "collapsed": false
   },
   "outputs": [],
   "source": [
    "setwd(\"~/tum-data-mining-lab\")\n",
    "\n",
    "library(wordcloud)\n",
    "library(tm)\n",
    "library(dplyr)\n",
    "library(openxlsx)\n",
    "\n",
    "mydf <- read.xlsx(\"globalterrorismdb_0616dist.xlsx\", sheet = 1, startRow = 1, colNames = TRUE)"
   ]
  },
  {
   "cell_type": "markdown",
   "metadata": {},
   "source": [
    "### 2 - Goal: analyse following columns"
   ]
  },
  {
   "cell_type": "code",
   "execution_count": null,
   "metadata": {
    "collapsed": false
   },
   "outputs": [],
   "source": [
    "# columns: summary\n",
    "#mydf$summary\n",
    "#mydf$alternative_txt\n",
    "#mydf$motive\n",
    "#mydf$weapdetail"
   ]
  },
  {
   "cell_type": "markdown",
   "metadata": {},
   "source": [
    "### 3 - Utils Functions"
   ]
  },
  {
   "cell_type": "markdown",
   "metadata": {},
   "source": [
    "#### Frequencies of missing values"
   ]
  },
  {
   "cell_type": "code",
   "execution_count": null,
   "metadata": {
    "collapsed": true
   },
   "outputs": [],
   "source": [
    "#frequencies of na (relative)\n",
    "relative_na_frequencies <- function(column_to_process)\n",
    "{\n",
    "  count_na <- sum(is.na(mydf$summary))\n",
    "  count_not_na <- sum(!is.na(mydf$summary))\n",
    "  value <- count_na/(count_na + count_not_na)\n",
    "  print(value)\n",
    "}"
   ]
  },
  {
   "cell_type": "markdown",
   "metadata": {},
   "source": [
    "#### Wordclouds"
   ]
  },
  {
   "cell_type": "code",
   "execution_count": null,
   "metadata": {
    "collapsed": true
   },
   "outputs": [],
   "source": [
    "generate.cloud <- function(column_to_process, output_filename)\n",
    "{\n",
    "  #remove punctuation\n",
    "  column_to_process <- gsub(\"[[:punct:]]\", \"\", column_to_process)\n",
    "  \n",
    "  # Create corpus\n",
    "  corpus=Corpus(VectorSource(column_to_process))\n",
    "  \n",
    "  # Convert to lower-case\n",
    "  corpus=tm_map(corpus,tolower)\n",
    "  \n",
    "  # Remove stopwords\n",
    "  corpus=tm_map(corpus,function(x) removeWords(x,stopwords()))\n",
    "  \n",
    "  # convert corpus to a Plain Text Document\n",
    "  corpus=tm_map(corpus,PlainTextDocument)\n",
    "  \n",
    "  col=brewer.pal(6,\"Dark2\")\n",
    "  wordcloud(corpus, min.freq=25, scale=c(5,2),rot.per = 0.25,\n",
    "            random.color=T, max.word=45, random.order=F,colors=col)\n",
    "}"
   ]
  },
  {
   "cell_type": "markdown",
   "metadata": {},
   "source": [
    "### 4 - Frequencies and wordclouds for terrorism dataset"
   ]
  },
  {
   "cell_type": "markdown",
   "metadata": {},
   "source": [
    "#### 4.1 - Variable summary"
   ]
  },
  {
   "cell_type": "code",
   "execution_count": null,
   "metadata": {
    "collapsed": false
   },
   "outputs": [],
   "source": [
    "relative_na_frequencies(mydf$summary)\n",
    "generate.cloud(mydf$summary, \"summary\")"
   ]
  },
  {
   "cell_type": "markdown",
   "metadata": {},
   "source": [
    "#### 4.2 - Variable alternative_txt"
   ]
  },
  {
   "cell_type": "code",
   "execution_count": null,
   "metadata": {
    "collapsed": true
   },
   "outputs": [],
   "source": [
    "relative_na_frequencies(mydf$alternative_txt)\n",
    "generate.cloud(mydf$alternative_txt, \"alternative_txt\")"
   ]
  },
  {
   "cell_type": "markdown",
   "metadata": {},
   "source": [
    "#### 4.3 - Variable motive"
   ]
  },
  {
   "cell_type": "code",
   "execution_count": null,
   "metadata": {
    "collapsed": true
   },
   "outputs": [],
   "source": [
    "relative_na_frequencies(mydf$motive)\n",
    "generate.cloud(mydf$motive, \"motive\")"
   ]
  },
  {
   "cell_type": "markdown",
   "metadata": {},
   "source": [
    "#### 4.4 - Variable weapdetail"
   ]
  },
  {
   "cell_type": "code",
   "execution_count": null,
   "metadata": {
    "collapsed": true
   },
   "outputs": [],
   "source": [
    "relative_na_frequencies(mydf$weapdetail)\n",
    "generate.cloud(mydf$weapdetail, \"weapdetail\")"
   ]
  }
 ],
 "metadata": {
  "anaconda-cloud": {},
  "kernelspec": {
   "display_name": "R",
   "language": "R",
   "name": "ir"
  },
  "language_info": {
   "codemirror_mode": "r",
   "file_extension": ".r",
   "mimetype": "text/x-r-source",
   "name": "R",
   "pygments_lexer": "r",
   "version": "3.2.3"
  }
 },
 "nbformat": 4,
 "nbformat_minor": 1
}
