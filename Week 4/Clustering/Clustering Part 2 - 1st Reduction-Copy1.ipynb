{
 "cells": [
  {
   "cell_type": "code",
   "execution_count": 1,
   "metadata": {
    "collapsed": false
   },
   "outputs": [
    {
     "name": "stdout",
     "output_type": "stream",
     "text": [
      "Loading DB...\n",
      "DB Read...\n"
     ]
    }
   ],
   "source": [
    "# Input the DB to Memory\n",
    "import pandas as pd\n",
    "import numpy as np\n",
    "print(\"Loading DB...\")\n",
    "dfs = pd.read_csv(\"terrorism_red_cat.csv\")\n",
    "print(\"DB Read...\")\n",
    "#print(data_file.sheet_names)\n",
    "#dfs = data_file.parse(data_file.sheet_names[0])\n",
    "#print(\"DB Parsed...\")\n",
    "del(dfs['Unnamed: 0'])"
   ]
  },
  {
   "cell_type": "code",
   "execution_count": 2,
   "metadata": {
    "collapsed": false
   },
   "outputs": [
    {
     "name": "stdout",
     "output_type": "stream",
     "text": [
      "Index(['gname', 'nperps', 'nkill', 'nwound'], dtype='object')\n",
      "['nperps', 'nkill', 'nwound']\n"
     ]
    }
   ],
   "source": [
    "dimensions = ['nperps', 'nkill', 'nwound',]\n",
    "\n",
    "columns = dfs.columns\n",
    "\n",
    "for cols in columns:\n",
    "    if cols == 'gname':\n",
    "        continue\n",
    "    if cols not in dimensions:\n",
    "        del(dfs[cols])\n",
    "\n",
    "columns = dfs.columns\n",
    "print(columns)\n",
    "print(dimensions)"
   ]
  },
  {
   "cell_type": "code",
   "execution_count": 3,
   "metadata": {
    "collapsed": false
   },
   "outputs": [
    {
     "name": "stdout",
     "output_type": "stream",
     "text": [
      "Loading DB...\n",
      "DB Read...\n",
      "<class 'pandas.core.series.Series'>\n"
     ]
    }
   ],
   "source": [
    "print(\"Loading DB...\")\n",
    "dfs_names = pd.read_csv(\"final_names.csv\")\n",
    "print(\"DB Read...\")\n",
    "#print(data_file.sheet_names)\n",
    "#dfs = data_file.parse(data_file.sheet_names[0])\n",
    "#print(\"DB Parsed...\")\n",
    "print(type(dfs_names['group']))"
   ]
  },
  {
   "cell_type": "code",
   "execution_count": 4,
   "metadata": {
    "collapsed": false
   },
   "outputs": [
    {
     "name": "stdout",
     "output_type": "stream",
     "text": [
      "OrderedDict([(('Bougainville Revolutionary Army (BRA)', -1), [0, 0, 0]), (('Kanak Socialist National Liberation Front', -1), [0, 0, 0]), (('September 11 Commandos', -1), [0, 0, 0]), (('Kanak Separatists', -1), [0, 0, 0]), (('Animal Liberation Front (ALF)', -1), [0, 0, 0]), (('Anti-Government Rebels', -1), [0, 0, 0]), (('Croatian Nationalists', -1), [0, 0, 0]), (('Free Papua Movement (OPM-Organisasi Papua Merdeka)', -1), [0, 0, 0]), (('Informal Anarchist Federation', -1), [0, 0, 0]), (('National Committee Against Independence (CNCI)', -1), [0, 0, 0]), (('Vanuatu Mobile Force (VMF)', -1), [0, 0, 0]), (('Combat 18', -1), [0, 0, 0]), (('Greek Bulgarian Armenian Front', -1), [0, 0, 0]), (('Guadalcanal Liberation Army', -1), [0, 0, 0]), (('Isatabu Freedom Movement (IFM)', -1), [0, 0, 0]), (('Lufa Tribesmen', -1), [0, 0, 0]), (('Pacific Popular Front', -1), [0, 0, 0]), (('Palestine Liberation Organization (PLO)', -1), [0, 0, 0]), (('Paupa New Guinea Troops', -1), [0, 0, 0]), (('Zapatista National Liberation Army', -1), [0, 0, 0]), (('Farabundo Marti National Liberation Front (FMLN)', -1), [0, 0, 0]), (('Nicaraguan Democratic Force (FDN)', -1), [0, 0, 0]), (('Sandinista National Liberation Front (FSLN)', -1), [0, 0, 0]), ((\"People's Liberation Forces (FPL)\", -1), [0, 0, 0]), (('Guerrilla Army of the Poor (EGP)', -1), [0, 0, 0]), (('Nicaraguan Resistance', -1), [0, 0, 0]), (('Guatemalan National Revolutionary Unity (URNG)', -1), [0, 0, 0]), (('Death Squad', -1), [0, 0, 0]), (('Revolutionary Organization of People in Arms (ORPA)', -1), [0, 0, 0]), ((\"People's Revolutionary Army (ERP) (El Salvador)\", -1), [0, 0, 0]), (('Armed Forces of National Resistance (FARN)', -1), [0, 0, 0]), (('Lorenzo Zelaya Revolutionary Front (LZRF)', -1), [0, 0, 0]), (('Popular Revolutionary Bloc (BPR)', -1), [0, 0, 0]), (('Democratic Revolutionary Alliance (ARDE)', -1), [0, 0, 0]), (('Rebel Armed Forces of Guatemala (FAR)', -1), [0, 0, 0]), (('Patriotic Morazanista Front (FPM)', -1), [0, 0, 0]), (('Caribbean Revolutionary Alliance (ARC)', -1), [0, 0, 0]), (('Guatemalan Labor Party (PGT)', -1), [0, 0, 0]), (('Recontras', -1), [0, 0, 0]), (('Secret Anti-Communist Army (ESA)', -1), [0, 0, 0]), (('Cinchoneros Popular Liberation Movement', -1), [0, 0, 0]), ((\"31 January People's Front (FP-31)\", -1), [0, 0, 0]), (('20 December Movement (M-20)', -1), [0, 0, 0]), (('February 28 Popular League (El Salvador)', -1), [0, 0, 0]), (('Maximiliano Gomez Revolutionary Brigade', -1), [0, 0, 0]), (('Misurasata Indian Organization', -1), [0, 0, 0]), (('Union Guerrera Blanca (UGB)', -1), [0, 0, 0]), (('United Popular Action Front (FAPU)', -1), [0, 0, 0]), (('South Ossetian Separatists', -1), [0, 0, 0]), ((\"People's Democratic Army\", -1), [0, 0, 0]), (('Supporters of Ex-President Gamsakhurdial', -1), [0, 0, 0]), (('Islamic Jihad Group (IJG)', -1), [0, 0, 0]), (('White Legion (Georgia)', -1), [0, 0, 0]), (('Forest Brothers', -1), [0, 0, 0]), (('Islamic Jihad Union (Uzbekistan)', -1), [0, 0, 0]), (('Rizvon Sadirov Group', -1), [0, 0, 0]), (('Soldiers of the Caliphate', -1), [0, 0, 0]), (('Algeisk Wolves', -1), [0, 0, 0]), (('Hizb al-Tahrir al-Islami (HT)', -1), [0, 0, 0]), (('Islamic Movement of Uzbekistan (IMU)', -1), [0, 0, 0]), (('Sandval (union) Movement', -1), [0, 0, 0]), (('South Ossetian Extremists', -1), [0, 0, 0]), (('Tolib Ayombekov loyalists', -1), [0, 0, 0]), (('Uighur Liberation Organization', -1), [0, 0, 0]), (('Yekbun', -1), [0, 0, 0]), (('Zviadists', -1), [0, 0, 0]), (('Chukakuha (Middle Core Faction)', -1), [0, 0, 0]), ((\"Revolutionary Workers' Council (Kakurokyo)\", -1), [0, 0, 0]), (('East Asia Anti Japanese Armed Front', -1), [0, 0, 0]), (('Eastern Turkistan Islamic Movement (ETIM)', -1), [0, 0, 0]), (('Aum Shinri Kyo', -1), [0, 0, 0]), (('Senki (\"Battle Flag\")', -1), [0, 0, 0]), (('14 K Triad', -1), [0, 0, 0]), (('Seikijuku', -1), [0, 0, 0]), (('League of Communists', -1), [0, 0, 0]), (('Maruseido (Marxist Youth League)', -1), [0, 0, 0]), (('Sekihotai', -1), [0, 0, 0]), (('Turkestan Islamic Party', -1), [0, 0, 0]), (('Anti-Imperialist Students Council', -1), [0, 0, 0]), (('Anti-Narita Extremists', -1), [0, 0, 0]), (('Association for the Enhancement of the Justice of the Great Japan', -1), [0, 0, 0]), (('Chondaehyop (Radical Student Coalition)', -1), [0, 0, 0]), (('Chonson Univ. students', -1), [0, 0, 0]), (('Chukakuha Revolutionary Army', -1), [0, 0, 0]), (('Dainihon Yokuko Doshikai', -1), [0, 0, 0]), (('Democratic Progressive Party', -1), [0, 0, 0]), (('Do-or-Die Corps for the Abolition of Anti-Public Taxation Systems', -1), [0, 0, 0]), (('Great Japan Patriotic Party', -1), [0, 0, 0]), (('Hanchongryun', -1), [0, 0, 0]), (('Hiroyuki Jo', -1), [0, 0, 0]), (('Hotaru (Firefly)', -1), [0, 0, 0]), (('Issui Kai', -1), [0, 0, 0]), (('Japan National Youth Alliance', -1), [0, 0, 0]), ((\"Japan Socialist Youth League of the Revolutionary Workers' Association\", -1), [0, 0, 0]), (('Japanese Independence Patriotic Party', -1), [0, 0, 0]), (('Japanese Red Army (JRA)', -1), [0, 0, 0]), (('Korean Youth League', -1), [0, 0, 0]), (('Kyongbuk University Dental College Students', -1), [0, 0, 0]), (('Namchong-Nyon Students', -1), [0, 0, 0]), (('Nara Red Army', -1), [0, 0, 0]), (('National Defense Youth Corps', -1), [0, 0, 0]), (('Revolutionary Army', -1), [0, 0, 0]), (('Revolutionary Force', -1), [0, 0, 0]), (('Seiji Kesha Kokuyukai', -1), [0, 0, 0]), (('Shonkonjuku Group', -1), [0, 0, 0]), (('Taihikai (Great Sadness)', -1), [0, 0, 0]), (('Taikosha, right wing group', -1), [0, 0, 0]), (('Yamaguchi-Gumi Gang', -1), [0, 0, 0]), (('Yokoku Seiwa-Kai', -1), [0, 0, 0]), (('Kosovo Liberation Army (KLA)', -1), [0, 0, 0]), (('Caucasus Emirate', -1), [0, 0, 0]), (('National Liberation Army (NLA) (Macedonia)', -1), [0, 0, 0]), (('Riyadus-Salikhin Reconnaissance and Sabotage Battalion of Chechen Martyrs', -1), [0, 0, 0]), (('Armed Forces of the Chechen Republic of Ichkeria', -1), [0, 0, 0]), ((\"Dagestani Shari'ah Jamaat\", -1), [0, 0, 0]), (('Albanian National Army (ANA)', -1), [0, 0, 0]), (('Islambouli Brigades of al-Qaida', -1), [0, 0, 0]), (('NVF', -1), [0, 0, 0]), (('Ukrainian Nationalist Group', -1), [0, 0, 0]), (('Armenian Nationalists', -1), [0, 0, 0]), (('Black Berets', -1), [0, 0, 0]), (('December 13 Independent Group', -1), [0, 0, 0]), (('Extraparliamentary Opposition (APO)', -1), [0, 0, 0]), (('Internationalist Cells', -1), [0, 0, 0]), (('Liberation Army for Presevo, Medvedja and Bujanovac (UCPMB)', -1), [0, 0, 0]), (('Makhachkala Gang', -1), [0, 0, 0]), (('Red Army Faction (RAF)', -1), [0, 0, 0]), (('Revolutionary Cells Network (SRN)', -1), [0, 0, 0]), (('Islamic State of Iraq and the Levant (ISIL)', -1), [0, 0, 0]), ((\"Kurdistan Workers' Party (PKK)\", -1), [0, 0, 0]), (('Al-Qaida in Iraq', -1), [0, 0, 0]), (('Al-Qaida in the Arabian Peninsula (AQAP)', -1), [0, 0, 0]), (('Hamas (Islamic Resistance Movement)', -1), [0, 0, 0]), ((\"Al-Gama'at al-Islamiyya (IG)\", -1), [0, 0, 0]), (('Algerian Islamic Extremists', -1), [0, 0, 0]), (('Hezbollah', -1), [0, 0, 0]), (('Dev Sol', -1), [0, 0, 0]), (('Armed Islamic Group (GIA)', -1), [0, 0, 0]), (('Palestinian Islamic Jihad (PIJ)', -1), [0, 0, 0]), (('Al-Aqsa Martyrs Brigade', -1), [0, 0, 0]), (('Al-Nusrah Front', -1), [0, 0, 0]), (('Islamic Salvation Front (FIS)', -1), [0, 0, 0]), (('Islamic State of Iraq (ISI)', -1), [0, 0, 0]), (('Salafist Group for Preaching and Fighting (GSPC)', -1), [0, 0, 0]), (('Al-Qaida in the Islamic Maghreb (AQIM)', -1), [0, 0, 0]), (('Tripoli Province of the Islamic State', -1), [0, 0, 0]), (('Sinai Province of the Islamic State', -1), [0, 0, 0]), (('Popular Front for the Liberation of Palestine (PFLP)', -1), [0, 0, 0]), (('Muslim Brotherhood', -1), [0, 0, 0]), (('Mujahedin-e Khalq (MEK)', -1), [0, 0, 0]), (('Barqa Province of the Islamic State', -1), [0, 0, 0]), (('Fuerzas Armadas de Liberacion Nacional (FALN)', -1), [0, 0, 0]), (('New World Liberation Front (NWLF)', -1), [0, 0, 0]), (('Jewish Defense League (JDL)', -1), [0, 0, 0]), (('Earth Liberation Front (ELF)', -1), [0, 0, 0]), (('Black Nationalists', -1), [0, 0, 0]), (('Omega-7', -1), [0, 0, 0]), (('23rd of September Communist League', -1), [0, 0, 0]), (('Weather Underground, Weathermen', -1), [0, 0, 0]), (('Macheteros', -1), [0, 0, 0]), (('Armed Revolutionary Independence Movement (MIRA)', -1), [0, 0, 0]), (('Chicano Liberation Front', -1), [0, 0, 0]), (('Black Liberation Army', -1), [0, 0, 0]), (('Black Panthers', -1), [0, 0, 0]), (('Army of God', -1), [0, 0, 0]), (('Puerto Rican Nationalists', -1), [0, 0, 0]), (('United Freedom Front (UFF)', -1), [0, 0, 0]), (('Union of the People (UDP)', -1), [0, 0, 0]), (('Ku Klux Klan', -1), [0, 0, 0]), (('Zebra killers', -1), [0, 0, 0]), (('Independent Armed Revolutionary Commandos (CRIA)', -1), [0, 0, 0]), (('George Jackson Brigade', -1), [0, 0, 0]), (('Jewish Armed Resistance', -1), [0, 0, 0]), (('Shining Path (SL)', -1), [0, 0, 0]), (('Revolutionary Armed Forces of Colombia (FARC)', -1), [0, 0, 0]), (('National Liberation Army of Colombia (ELN)', -1), [0, 0, 0]), (('Manuel Rodriguez Patriotic Front (FPMR)', -1), [0, 0, 0]), (('Tupac Amaru Revolutionary Movement (MRTA)', -1), [0, 0, 0]), (('M-19 (Movement of April 19)', -1), [0, 0, 0]), (('Movement of the Revolutionary Left (MIR) (Chile)', -1), [0, 0, 0]), (('Popular Liberation Army (EPL)', -1), [0, 0, 0]), (('Simon Bolivar Guerrilla Coordinating Board (CGSB)', -1), [0, 0, 0]), (('The Extraditables', -1), [0, 0, 0]), (('United Popular Action Movement', -1), [0, 0, 0]), (('Montoneros (Argentina)', -1), [0, 0, 0]), (('Ejercito Revolucionaria del Pueblo (ERP) (Argentina)', -1), [0, 0, 0]), (('United Self Defense Units of Colombia (AUC)', -1), [0, 0, 0]), ((\"Paraguayan People's Army (EPP)\", -1), [0, 0, 0]), (('Tupamaros (Uruguay)', -1), [0, 0, 0]), (('Ricardo Franco Front (Dissident FARC)', -1), [0, 0, 0]), (('Brunswijk Jungle Commando', -1), [0, 0, 0]), (('Alfaro Vive', -1), [0, 0, 0]), (('Tupac Katari Guerrilla Army (EGTK)', -1), [0, 0, 0]), (('Red Flag (Venezuela)', -1), [0, 0, 0]), (('Peasant Self-Defense Group (ACCU)', -1), [0, 0, 0]), (('Death to Kidnappers (MAS)', -1), [0, 0, 0]), (('Popular Militia (Colombia)', -1), [0, 0, 0]), (('Rodrigo Franco Command', -1), [0, 0, 0]), ((\"Workers' Self-Defense Movement (MAO)\", -1), [0, 0, 0]), ((\"People's Revolutionary Organization\", -1), [0, 0, 0]), (('Taliban', -1), [0, 0, 0]), (('Communist Party of India - Maoist (CPI-Maoist)', -1), [0, 0, 0]), (('Liberation Tigers of Tamil Eelam (LTTE)', -1), [0, 0, 0]), (('Tehrik-i-Taliban Pakistan (TTP)', -1), [0, 0, 0]), ((\"People's Liberation Front (JVP)\", -1), [0, 0, 0]), (('United Liberation Front of Assam (ULFA)', -1), [0, 0, 0]), (('Baloch Republican Army (BRA)', -1), [0, 0, 0]), (('National Democratic Front of Bodoland (NDFB)', -1), [0, 0, 0]), (('Muttahida Qami Movement (MQM)', -1), [0, 0, 0]), (('Garo National Liberation Army', -1), [0, 0, 0]), (('Baloch Liberation Army (BLA)', -1), [0, 0, 0]), (('Lashkar-e-Taiba (LeT)', -1), [0, 0, 0]), (('Hizbul Mujahideen (HM)', -1), [0, 0, 0]), (('Lashkar-e-Jhangvi', -1), [0, 0, 0]), ((\"People's War Group (PWG)\", -1), [0, 0, 0]), (('Pro Hartal Activists', -1), [0, 0, 0]), (('Lashkar-e-Islam (Pakistan)', -1), [0, 0, 0]), (('Shanti Bahini - Peace Force', -1), [0, 0, 0]), (('Baloch Liberation Front (BLF)', -1), [0, 0, 0]), (('Janatantrik Terai Mukti Morcha- Jwala Singh (JTMM-J)', -1), [0, 0, 0]), (('United Baloch Army (UBA)', -1), [0, 0, 0]), (('National Liberation Front of Tripura (NLFT)', -1), [0, 0, 0]), (('Bangladesh Nationalist Party (BNP)', -1), [0, 0, 0]), (('Naxalites', -1), [0, 0, 0]), (('Haqqani Network', -1), [0, 0, 0]), ((\"New People's Army (NPA)\", -1), [0, 0, 0]), (('Abu Sayyaf Group (ASG)', -1), [0, 0, 0]), (('Moro Islamic Liberation Front (MILF)', -1), [0, 0, 0]), (('Moro National Liberation Front (MNLF)', -1), [0, 0, 0]), (('Khmer Rouge', -1), [0, 0, 0]), (('Bangsamoro Islamic Freedom Movement (BIFM)', -1), [0, 0, 0]), (('Runda Kumpulan Kecil (RKK)', -1), [0, 0, 0]), (('Free Aceh Movement (GAM)', -1), [0, 0, 0]), (('Karen National Union', -1), [0, 0, 0]), (('Jemaah Islamiya (JI)', -1), [0, 0, 0]), (('Pattani United Liberation Organization (PULO)', -1), [0, 0, 0]), (('Thai Islamic Militants', -1), [0, 0, 0]), (('April 6th Liberation Movement', -1), [0, 0, 0]), (('Kachin Independence Army (KIA)', -1), [0, 0, 0]), (('United Front for Democracy Against Dictatorship', -1), [0, 0, 0]), (('Democratic Karen Buddhist Army (DKBA)', -1), [0, 0, 0]), (('Mujahidin Indonesia Timur (MIT)', -1), [0, 0, 0]), (('Alex Boncayao Brigade (ABB)', -1), [0, 0, 0]), (('Barisan Revolusi Nasional (BRN)', -1), [0, 0, 0]), (('Al-Khobar', -1), [0, 0, 0]), (('Jamaah Ansharut Tauhid (JAT)', -1), [0, 0, 0]), (('Reform of the Armed Forces Movement', -1), [0, 0, 0]), (('Boko Haram', -1), [0, 0, 0]), (('Al-Shabaab', -1), [0, 0, 0]), (('African National Congress (South Africa)', -1), [0, 0, 0]), (('National Union for the Total Independence of Angola (UNITA)', -1), [0, 0, 0]), ((\"Lord's Resistance Army (LRA)\", -1), [0, 0, 0]), (('Mozambique National Resistance Movement (MNR)', -1), [0, 0, 0]), (('Janjaweed', -1), [0, 0, 0]), (('Allied Democratic Forces (ADF)', -1), [0, 0, 0]), (('Movement for the Emancipation of the Niger Delta (MEND)', -1), [0, 0, 0]), (('Democratic Front for the Liberation of Rwanda (FDLR)', -1), [0, 0, 0]), (('Movement of Democratic Forces of Casamance', -1), [0, 0, 0]), ((\"South-West Africa People's Organization (SWAPO)\", -1), [0, 0, 0]), (('Revolutionary United Front (RUF)', -1), [0, 0, 0]), ((\"Sudan People's Liberation Movement - North\", -1), [0, 0, 0]), ((\"Sudan People's Liberation Army (SPLA)\", -1), [0, 0, 0]), (('Party for the Liberation of the Hutu People (PALIPEHUTU)', -1), [0, 0, 0]), (('Inkatha Freedom Party (IFP)', -1), [0, 0, 0]), (('Movement for Oneness and Jihad in West Africa (MUJAO)', -1), [0, 0, 0]), (('Mayi Mayi', -1), [0, 0, 0]), (('Seleka', -1), [0, 0, 0]), (('National Liberation Front (FNL) (Burundi)', -1), [0, 0, 0]), (('Patriotic Resistance Front in Ituri (FRPI)', -1), [0, 0, 0]), ((\"Sudan People's Liberation Movement in Opposition (SPLM-IO)\", -1), [0, 0, 0]), (('Zimbabwe African Nationalist Union (ZANU)', -1), [0, 0, 0]), (('Azawad National Liberation Movement (MNLA)', -1), [0, 0, 0]), (('Uganda Freedom Movement (UFM)', -1), [0, 0, 0]), (('Basque Fatherland and Freedom (ETA)', -1), [0, 0, 0]), (('Irish Republican Army (IRA)', -1), [0, 0, 0]), (('Corsican National Liberation Front (FLNC)', -1), [0, 0, 0]), (('Ulster Volunteer Force (UVF)', -1), [0, 0, 0]), (('Ulster Freedom Fighters (UFF)', -1), [0, 0, 0]), (('Red Brigades', -1), [0, 0, 0]), (('First of October Antifascist Resistance Group (GRAPO)', -1), [0, 0, 0]), (('Corsican National Liberation Front- Historic Channel', -1), [0, 0, 0]), (('Armenian Secret Army for the Liberation of Armenia', -1), [0, 0, 0]), (('November 17 Revolutionary Organization (N17RO)', -1), [0, 0, 0]), (('Irish National Liberation Army (INLA)', -1), [0, 0, 0]), ((\"Revolutionary People's Struggle (ELA)\", -1), [0, 0, 0]), (('Irish Republican Extremists', -1), [0, 0, 0]), (('Dissident Republicans', -1), [0, 0, 0]), (('Terra Lliure', -1), [0, 0, 0]), (('Prima Linea', -1), [0, 0, 0]), (('Iparretarrak (IK)', -1), [0, 0, 0]), (('Action Directe', -1), [0, 0, 0]), (('Baader-Meinhof Group', -1), [0, 0, 0]), (('Conspiracy of Cells of Fire', -1), [0, 0, 0]), (('Revolutionary Cells', -1), [0, 0, 0]), ((\"Free Galician People's Guerrilla Army\", -1), [0, 0, 0]), (('Popular Forces of April 25', -1), [0, 0, 0]), (('Revolutionary Patriotic Anti-Fascist Front (FRAP)', -1), [0, 0, 0]), (('Real Irish Republican Army (RIRA)', -1), [0, 0, 0]), (('Ex-Somoza National Guard', -1), [0, 0, 0]), (('Coordination of the United Revolutionary Organization (CORU)', -1), [0, 0, 0]), (('Maximiliano Hernandez Martinez Brigade', -1), [0, 0, 0]), (('Revolutionary Front for Hatian Advancement and Progress (FRAPH)', -1), [0, 0, 0]), (('Ansar Allah', -1), [0, 0, 0]), (('Bloque Anti-Guerrillero de Oriente (BAGO)', -1), [0, 0, 0]), (('Chechen Lone Wolf Group', -1), [0, 0, 0]), (('Justice Commandos for the Armenian Genocide', -1), [0, 0, 0]), (('Sayfullakh', -1), [0, 0, 0]), (('Special Purpose Islamic Regiment (SPIR)', -1), [0, 0, 0]), (('Free Syrian Army', -1), [0, 0, 0]), (('Tawhid and Jihad', -1), [0, 0, 0]), (('Sanaa Province of the Islamic State', -1), [0, 0, 0]), (('Abdullah Azzam Brigades', -1), [0, 0, 0]), (('Front for the Liberation of Lebanon from Foreigners', -1), [0, 0, 0]), (('Ansar al-Din Front', -1), [0, 0, 0]), (('Institutional Revolutionary Party (PRI)', -1), [0, 0, 0]), (('Popular Revolutionary Army (Mexico)', -1), [0, 0, 0]), (('Armed Commandos of Liberation', -1), [0, 0, 0]), (('Democratic Revolutionary Party', -1), [0, 0, 0]), (('Al-Qaida', -1), [0, 0, 0]), (('Vietnamese Organization to Exterminate Communists and Restore the Nation', -1), [0, 0, 0]), (('Individuals Tending Toward Savagery', -1), [0, 0, 0]), (('Militant Peasants (NFI)', -1), [0, 0, 0]), (('Republic of New Afrika', -1), [0, 0, 0]), (('Jonathan Jackson Brigade', -1), [0, 0, 0]), (('Justice Army for Defenseless Peoples', -1), [0, 0, 0]), (('Movement for Triqui Unification and Struggle', -1), [0, 0, 0]), (('America Battalion', -1), [0, 0, 0]), (('Commandos for A Popular alternative', -1), [0, 0, 0]), (('Death to Rustlers', -1), [0, 0, 0]), (('National Socialist Civic Workers Movement', -1), [0, 0, 0]), (('Khorasan Chapter of the Islamic State', -1), [0, 0, 0]), (('Maoist Communist Center (MCC)', -1), [0, 0, 0]), (('Communist Party of Nepal- Maoist (CPN-M)', -1), [0, 0, 0]), (('Jundallah', -1), [0, 0, 0]), (('Harkatul Jihad-e-Islami', -1), [0, 0, 0]), (('Vigilante Group', -1), [0, 0, 0]), (('Deccan Mujahideen', -1), [0, 0, 0]), ((\"Cambodian People's Party (CPP)\", -1), [0, 0, 0]), (('North Korean involvement commandos', -1), [0, 0, 0]), (('Justice and Equality Movement (JEM)', -1), [0, 0, 0]), (('Tigray Peoples Liberation Front (TPLF)', -1), [0, 0, 0]), (('National Resistance Movement (NRM)', -1), [0, 0, 0]), (('Dissident Military Mmbrs of Northern Tribal Group', -1), [0, 0, 0]), (('Black September', -1), [0, 0, 0]), (('Armed Revolutionary Nuclei (NAR)', -1), [0, 0, 0]), (('Official Irish Republican Army (OIRA)', -1), [0, 0, 0]), (('Abu Nidal Organization (ANO)', -1), [0, 0, 0]), (('Abu Hafs al-Masri Brigades', -1), [0, 0, 0]), (('Black Order', -1), [0, 0, 0]), (('Republican Action Force', -1), [0, 0, 0]), (('Secret Organization of al-Qaida in Europe', -1), [0, 0, 0]), (('Popular Front for the Liberation of Palestine, Gen Cmd (PFLP-GC)', -1), [0, 0, 0]), (('New Order', -1), [0, 0, 0]), (('Mano Blanca', -1), [0, 0, 0]), (('Miskito Indian Organization', -1), [0, 0, 0]), (('National Anti Communist Commando', -1), [0, 0, 0]), (('Revolutionary Workers Party', -1), [0, 0, 0]), (('Guatemalan Communist Party', -1), [0, 0, 0]), (('Jamaica Labor Party', -1), [0, 0, 0]), (('Cossack Separatists', -1), [0, 0, 0]), ((\"Kata'ib al-Khoul\", -1), [0, 0, 0]), (('Al-Fatah', -1), [0, 0, 0]), (('Devrimici Halk Kurtulus Cephesi (DHKP/C)', -1), [0, 0, 0]), (('Democratic Front for the Liberation of Palestine (DFLP)', -1), [0, 0, 0]), (('Turkish Communist Party/Marxist (TKP-ML)', -1), [0, 0, 0]), (('Jewish Extremists', -1), [0, 0, 0]), (('Syrian Social Nationalist Party', -1), [0, 0, 0]), (('Kurdish Democratic Party-Iraq (KDP)', -1), [0, 0, 0]), (('Islamic Unification Movement', -1), [0, 0, 0]), (('The Justice Department', -1), [0, 0, 0]), (('Che Guevara Brigade', -1), [0, 0, 0]), (('Movement of the Revolutionary Left (MIR) (Peru)', -1), [0, 0, 0]), (('Ejercito de Liberacion Nacional (Bolivia)', -1), [0, 0, 0]), (('National Liberation Army (Ecuador)', -1), [0, 0, 0]), (('Jamaat-E-Islami (Bangladesh)', -1), [0, 0, 0]), ((\"People's Liberation Army (India)\", -1), [0, 0, 0]), (('Hizb-I-Islami', -1), [0, 0, 0]), (('Awami League', -1), [0, 0, 0]), (('Jamaat-E-Islami (India/Pakistan)', -1), [0, 0, 0]), (('Babbar Khalsa International (BKI)', -1), [0, 0, 0]), (('Communist Party of India- Marxist', -1), [0, 0, 0]), ((\"Pakistani People's Party (PPP)\", -1), [0, 0, 0]), (('Tamil Nadu Liberation Army', -1), [0, 0, 0]), (('Kuki Tribal Militants', -1), [0, 0, 0]), (('Khasi Students Union', -1), [0, 0, 0]), ((\"All Burma Students' Democratic Front (ABSDF)\", -1), [0, 0, 0]), (('Karenni National Progressive Party', -1), [0, 0, 0]), (('Shan State Army - North (SSA-N)', -1), [0, 0, 0]), (('National League for Democracy', -1), [0, 0, 0]), (('Eritrean Liberation Front', -1), [0, 0, 0]), (('Front for the Liberation of the Enclave of Cabinda (FLEC)', -1), [0, 0, 0]), (('Sudan Liberation Movement', -1), [0, 0, 0]), (('Oromo Liberation Front', -1), [0, 0, 0]), (('Al-Ittihaad al-Islami (AIAI)', -1), [0, 0, 0]), (('Pan Africanist Congress (PAC)', -1), [0, 0, 0]), ((\"People's Democratic Party (PDP)\", -1), [0, 0, 0]), ((\"Odua Peoples' Congress (OPC)\", -1), [0, 0, 0]), (('National Army for the Liberation of Uganda (NALU)', -1), [0, 0, 0]), (('Union of Congolese Patriots (UPC)', -1), [0, 0, 0]), (('Breton Liberation Front (FLB)', -1), [0, 0, 0]), (('Red Hand Commandos', -1), [0, 0, 0]), (('National Organization of Cypriot Fighters (EOKA)', -1), [0, 0, 0]), (('Angry Brigade', -1), [0, 0, 0])])\n"
     ]
    }
   ],
   "source": [
    "import collections\n",
    "group_dict = collections.OrderedDict()\n",
    "for name in dfs_names['group']:\n",
    "    group_dict[(name,-1)] = []\n",
    "    for index in range(len(dimensions)):\n",
    "        group_dict[(name,-1)].append(0)\n",
    "print(group_dict)"
   ]
  },
  {
   "cell_type": "code",
   "execution_count": 5,
   "metadata": {
    "collapsed": false
   },
   "outputs": [],
   "source": [
    "for index, gname in enumerate(dfs['gname']):\n",
    "    for i in range(len(dimensions)):\n",
    "        #if dimensions[i] == 'nkill':\n",
    "        #   print(str(dfs[dimensions[i]][index]))\n",
    "        if str(dfs[dimensions[i]][index]) == 'nan' or dfs[dimensions[i]][index] < 0 :\n",
    "            continue\n",
    "        group_dict[(gname,-1)][i] += dfs[dimensions[i]][index] "
   ]
  },
  {
   "cell_type": "code",
   "execution_count": 6,
   "metadata": {
    "collapsed": false
   },
   "outputs": [
    {
     "name": "stdout",
     "output_type": "stream",
     "text": [
      "OrderedDict([(('Bougainville Revolutionary Army (BRA)', -1), [0.95238095238095233, 0.95238095238095233, 1.4285714285714286]), (('Kanak Socialist National Liberation Front', -1), [3.0, 0.80000000000000004, 1.2]), (('September 11 Commandos', -1), [0.0, 2.0, 0.0]), (('Kanak Separatists', -1), [0.0, 4.5, 1.0]), (('Animal Liberation Front (ALF)', -1), [0.47787610619469029, 0.0, 0.035398230088495575]), (('Anti-Government Rebels', -1), [1.1428571428571428, 1.5714285714285714, 0.5714285714285714]), (('Croatian Nationalists', -1), [0.6470588235294118, 1.2647058823529411, 3.0]), (('Free Papua Movement (OPM-Organisasi Papua Merdeka)', -1), [6.9655172413793105, 1.4827586206896552, 0.7931034482758621]), (('Informal Anarchist Federation', -1), [0.12820512820512819, 0.0, 0.20512820512820512]), (('National Committee Against Independence (CNCI)', -1), [0.0, 0.0, 0.0]), (('Vanuatu Mobile Force (VMF)', -1), [69.0, 0.0, 0.0]), (('Combat 18', -1), [0.0, 0.0, 3.5]), (('Greek Bulgarian Armenian Front', -1), [0.0, 1.0, 1.0]), (('Guadalcanal Liberation Army', -1), [0.0, 2.0, 0.0]), (('Isatabu Freedom Movement (IFM)', -1), [0.0, 0.0, 0.0]), (('Lufa Tribesmen', -1), [0.0, 2.0, 6.0]), (('Pacific Popular Front', -1), [2.0, 0.0, 0.0]), (('Palestine Liberation Organization (PLO)', -1), [0.35897435897435898, 2.9358974358974357, 2.9743589743589745]), (('Paupa New Guinea Troops', -1), [0.0, 0.0, 0.0]), (('Zapatista National Liberation Army', -1), [2.1739130434782608, 3.5217391304347827, 0.91304347826086951]), (('Farabundo Marti National Liberation Front (FMLN)', -1), [5.1883513386566467, 1.0911225927665571, 0.45420385157350868]), (('Nicaraguan Democratic Force (FDN)', -1), [14.74447949526814, 4.2460567823343851, 0.75709779179810721]), (('Sandinista National Liberation Front (FSLN)', -1), [4.2937500000000002, 0.75, 0.43125000000000002]), ((\"People's Liberation Forces (FPL)\", -1), [3.3529411764705883, 0.6797385620915033, 0.41830065359477125]), (('Guerrilla Army of the Poor (EGP)', -1), [3.2419354838709675, 1.653225806451613, 0.32258064516129031]), (('Nicaraguan Resistance', -1), [4.8220338983050848, 1.8135593220338984, 1.9745762711864407]), (('Guatemalan National Revolutionary Unity (URNG)', -1), [1.4791666666666667, 0.21875, 0.09375]), (('Death Squad', -1), [0.58769230769230774, 2.4892307692307694, 0.31692307692307692]), (('Revolutionary Organization of People in Arms (ORPA)', -1), [4.9512195121951219, 1.1951219512195121, 0.78048780487804881]), ((\"People's Revolutionary Army (ERP) (El Salvador)\", -1), [4.6031746031746028, 0.60317460317460314, 0.52380952380952384]), (('Armed Forces of National Resistance (FARN)', -1), [3.7297297297297298, 0.45945945945945948, 0.10810810810810811]), (('Lorenzo Zelaya Revolutionary Front (LZRF)', -1), [1.25, 0.66666666666666663, 0.5]), (('Popular Revolutionary Bloc (BPR)', -1), [55.805555555555557, 0.88888888888888884, 0.22222222222222221]), (('Democratic Revolutionary Alliance (ARDE)', -1), [37.931034482758619, 1.8275862068965518, 2.0]), (('Rebel Armed Forces of Guatemala (FAR)', -1), [0.73076923076923073, 0.61538461538461542, 0.0]), (('Patriotic Morazanista Front (FPM)', -1), [0.25, 0.41666666666666669, 1.125]), (('Caribbean Revolutionary Alliance (ARC)', -1), [0.0, 0.040000000000000001, 1.04]), (('Guatemalan Labor Party (PGT)', -1), [0.7142857142857143, 0.38095238095238093, 0.0]), (('Recontras', -1), [47.535714285714285, 1.1964285714285714, 0.5892857142857143]), (('Secret Anti-Communist Army (ESA)', -1), [2.5789473684210527, 0.57894736842105265, 0.052631578947368418]), (('Cinchoneros Popular Liberation Movement', -1), [0.83333333333333337, 0.055555555555555552, 0.33333333333333331]), ((\"31 January People's Front (FP-31)\", -1), [1.2352941176470589, 0.0, 1.1764705882352942]), (('20 December Movement (M-20)', -1), [0.066666666666666666, 0.066666666666666666, 0.93333333333333335]), (('February 28 Popular League (El Salvador)', -1), [14.533333333333333, 2.7333333333333334, 0.0]), (('Maximiliano Gomez Revolutionary Brigade', -1), [0.0, 0.5, 0.0]), (('Misurasata Indian Organization', -1), [66.428571428571431, 8.5, 1.0714285714285714]), (('Union Guerrera Blanca (UGB)', -1), [0.7142857142857143, 1.2857142857142858, 0.0]), (('United Popular Action Front (FAPU)', -1), [2.6153846153846154, 1.0, 1.0]), (('South Ossetian Separatists', -1), [0.0, 0.10000000000000001, 0.40000000000000002]), ((\"People's Democratic Army\", -1), [0.0, 0.0, 0.0]), (('Supporters of Ex-President Gamsakhurdial', -1), [7.1428571428571432, 0.14285714285714285, 0.0]), (('Islamic Jihad Group (IJG)', -1), [1.0, 2.3333333333333335, 2.0]), (('White Legion (Georgia)', -1), [0.0, 6.0, 0.66666666666666663]), (('Forest Brothers', -1), [0.0, 1.0, 2.5]), (('Islamic Jihad Union (Uzbekistan)', -1), [0.5, 1.5, 3.0]), (('Rizvon Sadirov Group', -1), [0.0, 0.5, 0.0]), (('Soldiers of the Caliphate', -1), [2.5, 0.5, 0.0]), (('Algeisk Wolves', -1), [0.0, 0.0, 0.0]), (('Hizb al-Tahrir al-Islami (HT)', -1), [1.0, 0.0, 0.0]), (('Islamic Movement of Uzbekistan (IMU)', -1), [1.0, 8.6666666666666661, 21.666666666666668]), (('Sandval (union) Movement', -1), [0.0, 0.0, 1.0]), (('South Ossetian Extremists', -1), [0.0, 0.0, 0.0]), (('Tolib Ayombekov loyalists', -1), [0.0, 1.0, 0.0]), (('Uighur Liberation Organization', -1), [0.0, 2.0, 0.0]), (('Yekbun', -1), [2.0, 0.0, 1.0]), (('Zviadists', -1), [0.0, 0.0, 0.0]), (('Chukakuha (Middle Core Faction)', -1), [0.0, 0.033333333333333333, 0.033333333333333333]), ((\"Revolutionary Workers' Council (Kakurokyo)\", -1), [0.0, 0.20000000000000001, 0.34999999999999998]), (('East Asia Anti Japanese Armed Front', -1), [1.9166666666666667, 0.16666666666666666, 0.0]), (('Eastern Turkistan Islamic Movement (ETIM)', -1), [1.375, 14.125, 18.375]), (('Aum Shinri Kyo', -1), [0.8571428571428571, 3.0, 857.57142857142856]), (('Senki (\"Battle Flag\")', -1), [0.0, 0.0, 0.0]), (('14 K Triad', -1), [6.0, 0.0, 0.0]), (('Seikijuku', -1), [0.33333333333333331, 0.0, 0.0]), (('League of Communists', -1), [1.0, 0.0, 0.0]), (('Maruseido (Marxist Youth League)', -1), [0.0, 0.0, 3.5]), (('Sekihotai', -1), [0.0, 0.0, 0.0]), (('Turkestan Islamic Party', -1), [0.0, 1.5, 7.0]), (('Anti-Imperialist Students Council', -1), [0.0, 0.0, 0.0]), (('Anti-Narita Extremists', -1), [0.0, 0.0, 0.0]), (('Association for the Enhancement of the Justice of the Great Japan', -1), [2.0, 0.0, 0.0]), (('Chondaehyop (Radical Student Coalition)', -1), [0.0, 0.0, 0.0]), (('Chonson Univ. students', -1), [100.0, 0.0, 0.0]), (('Chukakuha Revolutionary Army', -1), [0.0, 0.0, 0.0]), (('Dainihon Yokuko Doshikai', -1), [1.0, 0.0, 1.0]), (('Democratic Progressive Party', -1), [50.0, 0.0, 0.0]), (('Do-or-Die Corps for the Abolition of Anti-Public Taxation Systems', -1), [0.0, 0.0, 0.0]), (('Great Japan Patriotic Party', -1), [1.0, 0.0, 0.0]), (('Hanchongryun', -1), [0.0, 0.0, 30.0]), (('Hiroyuki Jo', -1), [1.0, 1.0, 0.0]), (('Hotaru (Firefly)', -1), [0.0, 0.0, 0.0]), (('Issui Kai', -1), [1.0, 0.0, 0.0]), (('Japan National Youth Alliance', -1), [1.0, 0.0, 0.0]), ((\"Japan Socialist Youth League of the Revolutionary Workers' Association\", -1), [1.0, 3.0, 0.0]), (('Japanese Independence Patriotic Party', -1), [0.0, 1.0, 2.0]), (('Japanese Red Army (JRA)', -1), [3.75, 3.25, 9.375]), (('Korean Youth League', -1), [1.0, 1.0, 0.0]), (('Kyongbuk University Dental College Students', -1), [0.0, 0.0, 0.0]), (('Namchong-Nyon Students', -1), [100.0, 0.0, 1.0]), (('Nara Red Army', -1), [0.0, 0.0, 0.0]), (('National Defense Youth Corps', -1), [1.0, 0.0, 1.0]), (('Revolutionary Army', -1), [0.0, 0.0, 0.0]), (('Revolutionary Force', -1), [0.0, 0.0, 0.0]), (('Seiji Kesha Kokuyukai', -1), [1.0, 0.0, 0.0]), (('Shonkonjuku Group', -1), [2.0, 0.0, 0.0]), (('Taihikai (Great Sadness)', -1), [2.0, 0.0, 0.0]), (('Taikosha, right wing group', -1), [2.0, 0.0, 1.0]), (('Yamaguchi-Gumi Gang', -1), [2.0, 0.0, 0.0]), (('Yokoku Seiwa-Kai', -1), [1.0, 0.0, 0.0]), (('Kosovo Liberation Army (KLA)', -1), [37.707317073170735, 0.6097560975609756, 2.1951219512195124]), (('Caucasus Emirate', -1), [1.4102564102564104, 5.3589743589743595, 14.589743589743589]), (('National Liberation Army (NLA) (Macedonia)', -1), [0.0, 0.5, 0.44117647058823528]), (('Riyadus-Salikhin Reconnaissance and Sabotage Battalion of Chechen Martyrs', -1), [0.40000000000000002, 41.200000000000003, 105.2]), (('Armed Forces of the Chechen Republic of Ichkeria', -1), [16.888888888888889, 10.222222222222221, 16.777777777777779]), ((\"Dagestani Shari'ah Jamaat\", -1), [0.0, 2.6000000000000001, 6.0]), (('Albanian National Army (ANA)', -1), [2.25, 0.5, 1.0]), (('Islambouli Brigades of al-Qaida', -1), [1.3999999999999999, 24.0, 30.199999999999999]), (('NVF', -1), [0.25, 3.5, 2.5]), (('Ukrainian Nationalist Group', -1), [40.200000000000003, 0.59999999999999998, 28.0]), (('Armenian Nationalists', -1), [0.0, 3.0, 0.0]), (('Black Berets', -1), [1.6666666666666667, 2.3333333333333335, 0.33333333333333331]), (('December 13 Independent Group', -1), [0.0, 0.0, 0.0]), (('Extraparliamentary Opposition (APO)', -1), [0.0, 0.0, 0.0]), (('Internationalist Cells', -1), [0.0, 0.0, 0.0]), (('Liberation Army for Presevo, Medvedja and Bujanovac (UCPMB)', -1), [0.0, 0.0, 0.33333333333333331]), (('Makhachkala Gang', -1), [3.0, 0.0, 0.66666666666666663]), (('Red Army Faction (RAF)', -1), [0.84905660377358494, 0.24528301886792453, 0.77358490566037741]), (('Revolutionary Cells Network (SRN)', -1), [0.0, 0.0, 0.0]), (('Islamic State of Iraq and the Levant (ISIL)', -1), [1.3607727845443092, 5.7284040319193616, 6.5559974800504]), ((\"Kurdistan Workers' Party (PKK)\", -1), [2.2828124999999999, 1.6140625, 1.6078125000000001]), (('Al-Qaida in Iraq', -1), [1.3115318416523236, 6.8774526678141115, 16.973149741824443]), (('Al-Qaida in the Arabian Peninsula (AQAP)', -1), [1.1088180112570356, 2.7851782363977491, 2.6913696060037524]), (('Hamas (Islamic Resistance Movement)', -1), [1.7603833865814698, 2.3386581469648564, 9.1437699680511191]), ((\"Al-Gama'at al-Islamiyya (IG)\", -1), [0.35907335907335908, 1.8996138996138996, 1.3397683397683398]), (('Algerian Islamic Extremists', -1), [1.3225806451612903, 1.782258064516129, 1.8588709677419355]), (('Hezbollah', -1), [0.44664031620553357, 2.9525691699604741, 5.4624505928853742]), (('Dev Sol', -1), [0.6094420600858369, 0.50643776824034337, 0.51931330472102999]), (('Armed Islamic Group (GIA)', -1), [2.7122641509433962, 6.5518867924528301, 6.2641509433962268]), (('Palestinian Islamic Jihad (PIJ)', -1), [0.44970414201183434, 1.3668639053254439, 4.9585798816568047]), (('Al-Aqsa Martyrs Brigade', -1), [0.80379746835443033, 1.7278481012658229, 6.1202531645569618]), (('Al-Nusrah Front', -1), [1.5225806451612902, 11.632258064516128, 11.290322580645162]), (('Islamic Salvation Front (FIS)', -1), [0.48322147651006714, 1.3020134228187918, 1.3422818791946309]), (('Islamic State of Iraq (ISI)', -1), [0.17482517482517482, 11.993006993006993, 31.39160839160839]), (('Salafist Group for Preaching and Fighting (GSPC)', -1), [4.1223021582733814, 2.7841726618705036, 1.9640287769784173]), (('Al-Qaida in the Islamic Maghreb (AQIM)', -1), [1.3184357541899441, 3.2737430167597767, 4.5474860335195535]), (('Tripoli Province of the Islamic State', -1), [0.421875, 1.171875, 0.96875]), (('Sinai Province of the Islamic State', -1), [0.38211382113821141, 4.2926829268292686, 4.1056910569105689]), (('Popular Front for the Liberation of Palestine (PFLP)', -1), [0.81343283582089554, 0.9925373134328358, 3.6940298507462686]), (('Muslim Brotherhood', -1), [0.55913978494623651, 2.118279569892473, 0.80645161290322576]), (('Mujahedin-e Khalq (MEK)', -1), [5.387096774193548, 5.365591397849462, 2.5591397849462365]), (('Barqa Province of the Islamic State', -1), [0.22033898305084745, 2.5593220338983049, 3.9491525423728815]), (('Fuerzas Armadas de Liberacion Nacional (FALN)', -1), [0.068376068376068383, 0.042735042735042736, 0.67521367521367526]), (('New World Liberation Front (NWLF)', -1), [0.0, 0.011764705882352941, 0.058823529411764705]), (('Jewish Defense League (JDL)', -1), [0.85365853658536583, 0.04878048780487805, 0.75609756097560976]), (('Earth Liberation Front (ELF)', -1), [1.2638888888888888, 0.0, 0.013888888888888888]), (('Black Nationalists', -1), [0.54929577464788737, 0.23943661971830985, 0.36619718309859156]), (('Omega-7', -1), [0.16666666666666666, 0.055555555555555552, 0.29629629629629628]), (('23rd of September Communist League', -1), [1.6136363636363635, 1.6363636363636365, 0.31818181818181818]), (('Weather Underground, Weathermen', -1), [0.30952380952380953, 0.023809523809523808, 0.0]), (('Macheteros', -1), [0.64516129032258063, 0.096774193548387094, 0.16129032258064516]), (('Armed Revolutionary Independence Movement (MIRA)', -1), [0.10000000000000001, 0.0, 0.36666666666666664]), (('Chicano Liberation Front', -1), [0.066666666666666666, 0.066666666666666666, 0.13333333333333333]), (('Black Liberation Army', -1), [1.1785714285714286, 0.6071428571428571, 0.14285714285714285]), (('Black Panthers', -1), [2.2916666666666665, 0.25, 2.8333333333333335]), (('Army of God', -1), [1.7826086956521738, 0.086956521739130432, 5.3913043478260869]), (('Puerto Rican Nationalists', -1), [0.0, 0.0, 0.0]), (('United Freedom Front (UFF)', -1), [0.27272727272727271, 0.0, 1.0454545454545454]), (('Union of the People (UDP)', -1), [0.8571428571428571, 0.047619047619047616, 0.76190476190476186]), (('Ku Klux Klan', -1), [4.0499999999999998, 0.34999999999999998, 1.3]), (('Zebra killers', -1), [1.6000000000000001, 0.75, 0.40000000000000002]), (('Independent Armed Revolutionary Commandos (CRIA)', -1), [0.0, 0.0, 0.21052631578947367]), (('George Jackson Brigade', -1), [0.47058823529411764, 0.058823529411764705, 0.0]), (('Jewish Armed Resistance', -1), [0.15789473684210525, 0.10526315789473684, 0.10526315789473684]), (('Shining Path (SL)', -1), [7.0406287787182587, 1.9525997581620314, 0.63192261185006049]), (('Revolutionary Armed Forces of Colombia (FARC)', -1), [7.5478175576262876, 1.7979401667484061, 1.8268759195684159]), (('National Liberation Army of Colombia (ELN)', -1), [4.0153721682847898, 0.80906148867313921, 0.76132686084142398]), (('Manuel Rodriguez Patriotic Front (FPMR)', -1), [0.311639549436796, 0.10888610763454318, 0.35919899874843553]), (('Tupac Amaru Revolutionary Movement (MRTA)', -1), [3.2260536398467434, 0.35632183908045978, 0.7816091954022989]), (('M-19 (Movement of April 19)', -1), [8.3073394495412849, 1.4357798165137614, 0.87385321100917435]), (('Movement of the Revolutionary Left (MIR) (Chile)', -1), [0.80983606557377052, 0.14426229508196722, 0.28196721311475409]), (('Popular Liberation Army (EPL)', -1), [7.9720930232558143, 1.3023255813953489, 0.40465116279069768]), (('Simon Bolivar Guerrilla Coordinating Board (CGSB)', -1), [8.2590361445783138, 1.1144578313253013, 0.50602409638554213]), (('The Extraditables', -1), [0.29629629629629628, 1.6666666666666667, 3.8055555555555554]), (('United Popular Action Movement', -1), [1.1481481481481481, 0.17592592592592593, 0.27777777777777779]), (('Montoneros (Argentina)', -1), [2.3431372549019609, 0.80392156862745101, 0.81372549019607843]), (('Ejercito Revolucionaria del Pueblo (ERP) (Argentina)', -1), [2.9870129870129869, 0.20779220779220781, 0.19480519480519481]), (('United Self Defense Units of Colombia (AUC)', -1), [32.25, 5.125, 0.359375]), ((\"Paraguayan People's Army (EPP)\", -1), [1.0384615384615385, 0.61538461538461542, 0.42307692307692307]), (('Tupamaros (Uruguay)', -1), [3.3500000000000001, 0.10000000000000001, 0.0]), (('Ricardo Franco Front (Dissident FARC)', -1), [3.3846153846153846, 1.2307692307692308, 0.79487179487179482]), (('Brunswijk Jungle Commando', -1), [4.9259259259259256, 0.44444444444444442, 0.1111111111111111]), (('Alfaro Vive', -1), [5.0800000000000001, 0.64000000000000001, 0.040000000000000001]), (('Tupac Katari Guerrilla Army (EGTK)', -1), [0.18181818181818182, 0.22727272727272727, 0.0]), (('Red Flag (Venezuela)', -1), [2.5714285714285716, 0.0, 0.095238095238095233]), (('Peasant Self-Defense Group (ACCU)', -1), [54.523809523809526, 14.904761904761905, 0.047619047619047616]), (('Death to Kidnappers (MAS)', -1), [0.66666666666666663, 2.3888888888888888, 0.055555555555555552]), (('Popular Militia (Colombia)', -1), [0.0, 0.33333333333333331, 0.066666666666666666]), (('Rodrigo Franco Command', -1), [1.7333333333333334, 0.66666666666666663, 0.13333333333333333]), ((\"Workers' Self-Defense Movement (MAO)\", -1), [6.0, 0.26666666666666666, 0.0]), ((\"People's Revolutionary Organization\", -1), [0.35714285714285715, 0.071428571428571425, 0.2857142857142857]), (('Taliban', -1), [5.9823603527929441, 3.5220495590088197, 3.6351322973540543]), (('Communist Party of India - Maoist (CPI-Maoist)', -1), [15.925558312655086, 1.2090570719602978, 0.93424317617866004]), (('Liberation Tigers of Tamil Eelam (LTTE)', -1), [3.7322907083716652, 6.0248390064397421, 8.2355105795768164]), (('Tehrik-i-Taliban Pakistan (TTP)', -1), [3.7547931382441977, 4.322906155398587, 7.5459132189707363]), ((\"People's Liberation Front (JVP)\", -1), [1.3766578249336869, 1.8488063660477454, 2.0742705570291777]), (('United Liberation Front of Assam (ULFA)', -1), [0.42465753424657532, 1.8938356164383561, 6.9897260273972606]), (('Baloch Republican Army (BRA)', -1), [0.13445378151260504, 0.51260504201680668, 2.1890756302521011]), (('National Democratic Front of Bodoland (NDFB)', -1), [2.4076433121019107, 3.0509554140127388, 3.0191082802547773]), (('Muttahida Qami Movement (MQM)', -1), [0.14583333333333334, 0.82638888888888884, 0.80555555555555558]), (('Garo National Liberation Army', -1), [2.4411764705882355, 0.4485294117647059, 0.61764705882352944]), (('Baloch Liberation Army (BLA)', -1), [0.5213675213675214, 1.8205128205128205, 3.1196581196581197]), (('Lashkar-e-Taiba (LeT)', -1), [1.5585585585585586, 6.6486486486486482, 15.864864864864865]), (('Hizbul Mujahideen (HM)', -1), [0.93333333333333335, 1.9142857142857144, 4.3238095238095235]), (('Lashkar-e-Jhangvi', -1), [1.7272727272727273, 9.9595959595959602, 17.979797979797979]), ((\"People's War Group (PWG)\", -1), [7.1318681318681323, 4.0879120879120876, 1.5604395604395604]), (('Pro Hartal Activists', -1), [0.32967032967032966, 0.054945054945054944, 1.6703296703296704]), (('Lashkar-e-Islam (Pakistan)', -1), [3.4022988505747125, 2.0114942528735633, 1.8735632183908046]), (('Shanti Bahini - Peace Force', -1), [1.5116279069767442, 4.4534883720930232, 6.2093023255813957]), (('Baloch Liberation Front (BLF)', -1), [1.1095890410958904, 1.4109589041095891, 0.9452054794520548]), (('Janatantrik Terai Mukti Morcha- Jwala Singh (JTMM-J)', -1), [8.0833333333333339, 0.43055555555555558, 0.5]), (('United Baloch Army (UBA)', -1), [0.42857142857142855, 2.0714285714285716, 6.7428571428571429]), (('National Liberation Front of Tripura (NLFT)', -1), [2.8405797101449277, 2.9855072463768115, 1.1304347826086956]), (('Bangladesh Nationalist Party (BNP)', -1), [0.91176470588235292, 0.16176470588235295, 5.588235294117645]), (('Naxalites', -1), [15.636363636363637, 6.1060606060606064, 2.2272727272727271]), (('Haqqani Network', -1), [1.375, 6.8281249999999947, 13.437500000000004]), ((\"New People's Army (NPA)\", -1), [10.407824933687003, 1.3985411140583555, 1.1153846153846154]), (('Abu Sayyaf Group (ASG)', -1), [4.4785100286532948, 1.6733524355300859, 3.7650429799426934]), (('Moro Islamic Liberation Front (MILF)', -1), [18.24126984126984, 1.9301587301587302, 4.5619047619047617]), (('Moro National Liberation Front (MNLF)', -1), [10.481927710843374, 2.4759036144578315, 4.5602409638554215]), (('Khmer Rouge', -1), [5.5608108108108105, 2.2702702702702702, 2.0]), (('Bangsamoro Islamic Freedom Movement (BIFM)', -1), [3.3265306122448979, 0.7142857142857143, 1.7959183673469388]), (('Runda Kumpulan Kecil (RKK)', -1), [1.0560747663551402, 0.3644859813084112, 2.1588785046728973]), (('Free Aceh Movement (GAM)', -1), [1.7142857142857142, 1.1142857142857143, 1.638095238095238]), (('Karen National Union', -1), [9.9047619047619051, 2.5476190476190479, 7.3095238095238093]), (('Jemaah Islamiya (JI)', -1), [0.32876712328767121, 4.6301369863013697, 16.082191780821919]), (('Pattani United Liberation Organization (PULO)', -1), [1.7872340425531914, 0.72340425531914898, 5.5319148936170217]), (('Thai Islamic Militants', -1), [1.0851063829787233, 0.61702127659574468, 2.6382978723404253]), (('April 6th Liberation Movement', -1), [0.0, 0.033333333333333333, 3.1333333333333333]), (('Kachin Independence Army (KIA)', -1), [11.833333333333334, 1.0833333333333333, 6.625]), (('United Front for Democracy Against Dictatorship', -1), [0.2608695652173913, 0.86956521739130432, 5.6956521739130439]), (('Democratic Karen Buddhist Army (DKBA)', -1), [31.111111111111111, 1.7777777777777777, 3.5]), (('Mujahidin Indonesia Timur (MIT)', -1), [1.0, 1.2, 0.46666666666666667]), (('Alex Boncayao Brigade (ABB)', -1), [2.9090909090909092, 0.63636363636363635, 0.54545454545454541]), (('Barisan Revolusi Nasional (BRN)', -1), [2.2000000000000002, 2.0, 3.5]), (('Al-Khobar', -1), [0.25, 1.375, 7.125]), (('Jamaah Ansharut Tauhid (JAT)', -1), [0.625, 0.25, 7.25]), (('Reform of the Armed Forces Movement', -1), [0.125, 0.0, 0.125]), (('Boko Haram', -1), [7.5058823529411764, 9.1835294117647113, 4.0447058823529414]), (('Al-Shabaab', -1), [1.2176470588235293, 2.4992647058823527, 2.9911764705889707]), (('African National Congress (South Africa)', -1), [0.27169811320754716, 0.79622641509433967, 1.7433962264150944]), (('National Union for the Total Independence of Angola (UNITA)', -1), [3.657963446475196, 5.3916449086161879, 4.1592689295039165]), ((\"Lord's Resistance Army (LRA)\", -1), [6.75, 11.339843749921874, 2.2421875]), (('Mozambique National Resistance Movement (MNR)', -1), [7.5943396226415096, 10.363207547169811, 5.2594339622641506]), (('Janjaweed', -1), [9.365269461077844, 1.778443113772455, 1.4071856287425151]), (('Allied Democratic Forces (ADF)', -1), [2.6166666666666667, 7.4000000000000004, 2.2166666666666668]), (('Movement for the Emancipation of the Niger Delta (MEND)', -1), [0.55844155844155841, 3.6103896103896105, 0.92207792207792205]), (('Democratic Front for the Liberation of Rwanda (FDLR)', -1), [1.75, 5.546875, 3.2812500000000004]), (('Movement of Democratic Forces of Casamance', -1), [5.1475409836065573, 2.622950819672131, 3.081967213114754]), ((\"South-West Africa People's Organization (SWAPO)\", -1), [0.23636363636363636, 1.6545454545454545, 3.2545454545454544]), (('Revolutionary United Front (RUF)', -1), [4.8148148148148149, 8.7037037036851839, 1.4259259259259258]), ((\"Sudan People's Liberation Movement - North\", -1), [0.0, 6.615384615384615, 4.9230769230769234]), ((\"Sudan People's Liberation Army (SPLA)\", -1), [0.15789473684210525, 4.7631578947368425, 1.868421052631579]), (('Party for the Liberation of the Hutu People (PALIPEHUTU)', -1), [1.8055555555555556, 4.666666666666667, 3.6111111111111112]), (('Inkatha Freedom Party (IFP)', -1), [23.666666666666668, 6.0666666666666664, 3.1333333333333333]), (('Movement for Oneness and Jihad in West Africa (MUJAO)', -1), [3.0303030303030303, 2.1515151515151514, 2.2424242424242422]), (('Mayi Mayi', -1), [4.6428571428571432, 2.8214285714285716, 3.2142857142857144]), (('Seleka', -1), [1.0714285714285714, 10.892857142857142, 2.5]), (('National Liberation Front (FNL) (Burundi)', -1), [0.59259259259259256, 1.0740740740740742, 1.7777777777777777]), (('Patriotic Resistance Front in Ituri (FRPI)', -1), [5.8461538461538458, 0.34615384615384615, 1.3846153846153846]), ((\"Sudan People's Liberation Movement in Opposition (SPLM-IO)\", -1), [4.166666666666667, 21.0, 17.875]), (('Zimbabwe African Nationalist Union (ZANU)', -1), [11.761904761904763, 1.2380952380952381, 1.3333333333333333]), (('Azawad National Liberation Movement (MNLA)', -1), [2.1111111111111112, 3.6111111111111112, 7.6111111111111107]), (('Uganda Freedom Movement (UFM)', -1), [1.2777777777777777, 0.55555555555555558, 0.3888888888888889]), (('Basque Fatherland and Freedom (ETA)', -1), [0.57375328083989496, 0.37847769028871392, 1.131758530183727]), (('Irish Republican Army (IRA)', -1), [0.18282988871224165, 0.56650768415474295, 1.5060943296237415]), (('Corsican National Liberation Front (FLNC)', -1), [0.61562998405103664, 0.020733652312599681, 0.16586921850079744]), (('Ulster Volunteer Force (UVF)', -1), [0.14937759336099585, 1.4066390041493777, 0.11203319502074689]), (('Ulster Freedom Fighters (UFF)', -1), [0.12987012987012986, 0.77489177489177485, 0.23376623376623376]), (('Red Brigades', -1), [1.7216981132075471, 0.32547169811320753, 0.57547169811320753]), (('First of October Antifascist Resistance Group (GRAPO)', -1), [1.0507614213197969, 0.40101522842639592, 0.39593908629441626]), (('Corsican National Liberation Front- Historic Channel', -1), [0.0, 0.0, 0.0]), (('Armenian Secret Army for the Liberation of Armenia', -1), [0.40909090909090912, 0.31818181818181818, 2.1420454545454546]), (('November 17 Revolutionary Organization (N17RO)', -1), [0.26415094339622641, 0.22641509433962265, 0.64150943396226412]), (('Irish National Liberation Army (INLA)', -1), [0.34065934065934067, 0.8571428571428571, 1.0219780219780219]), ((\"Revolutionary People's Struggle (ELA)\", -1), [0.047619047619047616, 0.023809523809523808, 0.20238095238095238]), (('Irish Republican Extremists', -1), [0.02247191011235955, 0.9550561797752809, 0.11235955056179775]), (('Dissident Republicans', -1), [0.33333333333333331, 0.0, 0.045454545454545456]), (('Terra Lliure', -1), [0.032786885245901641, 0.016393442622950821, 0.75409836065573765]), (('Prima Linea', -1), [1.8793103448275863, 0.27586206896551724, 0.51724137931034486]), (('Iparretarrak (IK)', -1), [0.38181818181818183, 0.036363636363636362, 0.072727272727272724]), (('Action Directe', -1), [0.16981132075471697, 0.11320754716981132, 1.4339622641509433]), (('Baader-Meinhof Group', -1), [0.60784313725490191, 0.15686274509803921, 0.50980392156862742]), (('Conspiracy of Cells of Fire', -1), [3.7884615384615383, 0.0, 0.34615384615384615]), (('Revolutionary Cells', -1), [0.10000000000000001, 0.02, 0.28000000000000003]), ((\"Free Galician People's Guerrilla Army\", -1), [0.042553191489361701, 0.085106382978723402, 0.87234042553191493]), (('Popular Forces of April 25', -1), [0.41304347826086957, 0.21739130434782608, 0.34782608695652173]), (('Revolutionary Patriotic Anti-Fascist Front (FRAP)', -1), [0.35555555555555557, 0.13333333333333333, 0.044444444444444446]), (('Real Irish Republican Army (RIRA)', -1), [0.33333333333333331, 0.84615384615384615, 6.4615384615384617]), (('Ex-Somoza National Guard', -1), [0.81818181818181823, 2.1818181818181817, 0.54545454545454541]), (('Coordination of the United Revolutionary Organization (CORU)', -1), [0.0, 5.3571428571428568, 0.7142857142857143]), (('Maximiliano Hernandez Martinez Brigade', -1), [0.0, 2.4285714285714284, 0.8571428571428571]), (('Revolutionary Front for Hatian Advancement and Progress (FRAPH)', -1), [0.25, 9.75, 0.25]), (('Ansar Allah', -1), [0.0, 21.0, 0.0]), (('Bloque Anti-Guerrillero de Oriente (BAGO)', -1), [0.0, 14.0, 0.0]), (('Chechen Lone Wolf Group', -1), [0.0, 11.5, 0.0]), (('Justice Commandos for the Armenian Genocide', -1), [0.63636363636363635, 0.70454545454545459, 0.54545454545454541]), (('Sayfullakh', -1), [0.0, 3.0, 2.0]), (('Special Purpose Islamic Regiment (SPIR)', -1), [41.0, 170.0, 0.0]), (('Free Syrian Army', -1), [0.16279069767441862, 3.9767441860465116, 5.8139534883720927]), (('Tawhid and Jihad', -1), [0.66666666666666663, 19.238095238095237, 38.833333333333336]), (('Sanaa Province of the Islamic State', -1), [0.48148148148148145, 10.037037037037036, 24.037037037037038]), (('Abdullah Azzam Brigades', -1), [0.47619047619047616, 8.5238095238095237, 27.285714285714285]), (('Front for the Liberation of Lebanon from Foreigners', -1), [0.0, 19.833333333333332, 53.75]), (('Ansar al-Din Front', -1), [0.0, 103.0, 0.0]), (('Institutional Revolutionary Party (PRI)', -1), [0.071428571428571425, 7.1428571428571432, 0.14285714285714285]), (('Popular Revolutionary Army (Mexico)', -1), [4.5384615384615383, 0.69230769230769229, 1.6923076923076923]), (('Armed Commandos of Liberation', -1), [0.0, 0.41666666666666669, 0.0]), (('Democratic Revolutionary Party', -1), [18.181818181818183, 0.45454545454545453, 9.0]), (('Al-Qaida', -1), [0.88, 70.359999999999999, 108.58]), (('Vietnamese Organization to Exterminate Communists and Restore the Nation', -1), [0.33333333333333331, 1.0, 0.33333333333333331]), (('Individuals Tending Toward Savagery', -1), [0.0, 18.5, 51.0]), (('Militant Peasants (NFI)', -1), [0.0, 3.0, 20.0]), (('Republic of New Afrika', -1), [1.0, 5.0, 11.0]), (('Jonathan Jackson Brigade', -1), [0.0, 4.0, 2.0]), (('Justice Army for Defenseless Peoples', -1), [0.0, 4.0, 0.0]), (('Movement for Triqui Unification and Struggle', -1), [0.0, 4.0, 0.0]), (('America Battalion', -1), [50.5, 6.25, 1.75]), (('Commandos for A Popular alternative', -1), [10.0, 9.5, 0.0]), (('Death to Rustlers', -1), [0.0, 7.0, 0.0]), (('National Socialist Civic Workers Movement', -1), [0.0, 10.5, 0.5]), (('Khorasan Chapter of the Islamic State', -1), [0.65079365079365081, 2.7777777777777777, 3.2222222222222223]), (('Maoist Communist Center (MCC)', -1), [37.575757575757578, 5.8484848484848486, 1.8181818181818181]), (('Communist Party of Nepal- Maoist (CPN-M)', -1), [44.631578947368418, 32.10526315789474, 15.894736842105264]), (('Jundallah', -1), [1.8387096774193548, 13.290322580645162, 26.258064516129032]), (('Harkatul Jihad-e-Islami', -1), [0.7857142857142857, 13.642857142857142, 42.071428571428569]), (('Vigilante Group', -1), [0.23999999999999999, 9.8800000000000008, 0.0]), (('Deccan Mujahideen', -1), [3.0, 23.0, 31.5]), ((\"Cambodian People's Party (CPP)\", -1), [0.0, 16.0, 39.333333333333336]), (('North Korean involvement commandos', -1), [3.0, 21.0, 50.0]), (('Justice and Equality Movement (JEM)', -1), [0.0, 15.352941176470589, 0.88235294117647056]), (('Tigray Peoples Liberation Front (TPLF)', -1), [0.0, 31.699999999999999, 20.0]), (('National Resistance Movement (NRM)', -1), [0.33333333333333331, 76.0, 0.0]), (('Dissident Military Mmbrs of Northern Tribal Group', -1), [0.0, 150.0, 0.0]), (('Black September', -1), [1.7959183673469388, 1.5714285714285714, 2.4693877551020407]), (('Armed Revolutionary Nuclei (NAR)', -1), [1.3, 4.2999999999999998, 12.25]), (('Official Irish Republican Army (OIRA)', -1), [0.0, 1.368421052631579, 0.0]), (('Abu Nidal Organization (ANO)', -1), [1.3421052631578947, 6.9210526315789478, 12.763157894736842]), (('Abu Hafs al-Masri Brigades', -1), [0.090909090909090912, 18.0, 166.81818181818181]), (('Black Order', -1), [0.83333333333333337, 4.0, 8.3333333333333339]), (('Republican Action Force', -1), [0.83333333333333337, 4.0, 0.0]), (('Secret Organization of al-Qaida in Europe', -1), [1.0, 14.0, 196.0]), (('Popular Front for the Liberation of Palestine, Gen Cmd (PFLP-GC)', -1), [1.1428571428571428, 23.857142857142858, 7.2857142857142856]), (('New Order', -1), [0.0, 7.5, 56.0]), (('Mano Blanca', -1), [0.0, 0.0, 0.0]), (('Miskito Indian Organization', -1), [0.0, 0.33333333333333331, 0.33333333333333331]), (('National Anti Communist Commando', -1), [3.0, 0.66666666666666663, 0.0]), (('Revolutionary Workers Party', -1), [0.59999999999999998, 0.40000000000000002, 0.0]), (('Guatemalan Communist Party', -1), [2.5, 6.5, 0.0]), (('Jamaica Labor Party', -1), [0.0, 5.0, 8.0]), (('Cossack Separatists', -1), [0.0, 1.0, 1.0]), ((\"Kata'ib al-Khoul\", -1), [0.0, 1.0, 0.5]), (('Al-Fatah', -1), [0.53846153846153844, 1.5384615384615385, 2.8076923076923075]), (('Devrimici Halk Kurtulus Cephesi (DHKP/C)', -1), [1.2647058823529411, 0.73529411764705888, 2.2058823529411766]), (('Democratic Front for the Liberation of Palestine (DFLP)', -1), [0.67647058823529416, 1.5294117647058822, 6.3529411764705879]), (('Turkish Communist Party/Marxist (TKP-ML)', -1), [1.1428571428571428, 0.5357142857142857, 0.9642857142857143]), (('Jewish Extremists', -1), [3.2592592592592591, 0.29629629629629628, 0.85185185185185186]), (('Syrian Social Nationalist Party', -1), [0.40000000000000002, 3.6000000000000001, 3.0]), (('Kurdish Democratic Party-Iraq (KDP)', -1), [0.0, 0.0, 0.0]), (('Islamic Unification Movement', -1), [3.3333333333333335, 22.666666666666668, 125.0]), (('The Justice Department', -1), [0.0, 0.0, 0.0625]), (('Che Guevara Brigade', -1), [0.0, 0.0, 0.0]), (('Movement of the Revolutionary Left (MIR) (Peru)', -1), [0.7142857142857143, 0.2857142857142857, 0.0]), (('Ejercito de Liberacion Nacional (Bolivia)', -1), [3.0, 0.0, 0.0]), (('National Liberation Army (Ecuador)', -1), [0.0, 0.0, 0.33333333333333331]), (('Jamaat-E-Islami (Bangladesh)', -1), [1.8833333333333333, 0.83333333333333337, 5.6500000000000004]), ((\"People's Liberation Army (India)\", -1), [0.61363636363636365, 0.88636363636363635, 2.5909090909090908]), (('Hizb-I-Islami', -1), [0.33333333333333331, 2.2333333333333334, 6.0]), (('Awami League', -1), [2.7307692307692308, 0.92307692307692313, 15.538461538461538]), (('Jamaat-E-Islami (India/Pakistan)', -1), [26.0, 0.69999999999999996, 10.300000000000001]), (('Babbar Khalsa International (BKI)', -1), [0.5, 7.4000000000000004, 22.600000000000001]), (('Communist Party of India- Marxist', -1), [26.875, 0.125, 3.875]), ((\"Pakistani People's Party (PPP)\", -1), [18.75, 0.625, 2.0]), (('Tamil Nadu Liberation Army', -1), [0.66666666666666663, 0.0, 0.0]), (('Kuki Tribal Militants', -1), [2.0, 7.4000000000000004, 0.0]), (('Khasi Students Union', -1), [1.0, 0.75, 0.5]), ((\"All Burma Students' Democratic Front (ABSDF)\", -1), [0.20000000000000001, 0.20000000000000001, 1.0]), (('Karenni National Progressive Party', -1), [5.0, 5.0, 2.3333333333333335]), (('Shan State Army - North (SSA-N)', -1), [40.0, 0.66666666666666663, 1.3333333333333333]), (('National League for Democracy', -1), [1.5, 1.0, 0.0]), (('Eritrean Liberation Front', -1), [0.66666666666666663, 0.33333333333333331, 0.0]), (('Front for the Liberation of the Enclave of Cabinda (FLEC)', -1), [0.6428571428571429, 0.6428571428571429, 0.6428571428571429]), (('Sudan Liberation Movement', -1), [0.25, 1.6666666666666667, 1.0833333333333333]), (('Oromo Liberation Front', -1), [0.0, 17.125, 3.625]), (('Al-Ittihaad al-Islami (AIAI)', -1), [0.0, 4.5999999999999996, 8.1999999999999993]), (('Pan Africanist Congress (PAC)', -1), [2.0, 1.2, 4.2000000000000002]), ((\"People's Democratic Party (PDP)\", -1), [7.75, 0.5, 0.5]), ((\"Odua Peoples' Congress (OPC)\", -1), [16.666666666666668, 0.33333333333333331, 1.0]), (('National Army for the Liberation of Uganda (NALU)', -1), [0.5, 0.5, 4.5]), (('Union of Congolese Patriots (UPC)', -1), [0.0, 3.5, 5.0]), (('Breton Liberation Front (FLB)', -1), [0.0625, 0.15625, 0.0]), (('Red Hand Commandos', -1), [0.0, 1.0, 0.1111111111111111]), (('National Organization of Cypriot Fighters (EOKA)', -1), [3.6000000000000001, 0.0, 0.40000000000000002]), (('Angry Brigade', -1), [0.0, 0.0, 0.0])])\n",
      "<class 'numpy.int64'>\n",
      "3\n"
     ]
    }
   ],
   "source": [
    "def get_index(groups, name):\n",
    "    for i in range(len(groups)):\n",
    "        if groups[i] == name:\n",
    "            return i\n",
    "    return -1\n",
    "\n",
    "unique_groups, group_counts = np.unique(dfs['gname'], return_counts=True)\n",
    "for gname, c_id in group_dict:\n",
    "    index = get_index(unique_groups,gname)\n",
    "    if index == -1:\n",
    "        print(\"WTF. \" + gname)\n",
    "    nevents = group_counts[index]\n",
    "    #print(nevents)\n",
    "    #nevents = nevents[0]\n",
    "    for i in range(len(group_dict[(gname,c_id)])):\n",
    "        group_dict[(gname,c_id)][i] = group_dict[(gname,c_id)][i]/nevents\n",
    "    #group_dict[(gname,c_id)].append(nevents)\n",
    "\n",
    "print(group_dict)\n",
    "print(type(nevents))\n",
    "print(nevents)"
   ]
  },
  {
   "cell_type": "code",
   "execution_count": 7,
   "metadata": {
    "collapsed": false
   },
   "outputs": [
    {
     "name": "stdout",
     "output_type": "stream",
     "text": [
      "['14 K Triad' '20 December Movement (M-20)'\n",
      " '23rd of September Communist League' \"31 January People's Front (FP-31)\"\n",
      " 'Abdullah Azzam Brigades' 'Abu Hafs al-Masri Brigades'\n",
      " 'Abu Nidal Organization (ANO)' 'Abu Sayyaf Group (ASG)' 'Action Directe'\n",
      " 'African National Congress (South Africa)' 'Al-Aqsa Martyrs Brigade'\n",
      " 'Al-Fatah' \"Al-Gama'at al-Islamiyya (IG)\" 'Al-Ittihaad al-Islami (AIAI)'\n",
      " 'Al-Khobar' 'Al-Nusrah Front' 'Al-Qaida' 'Al-Qaida in Iraq'\n",
      " 'Al-Qaida in the Arabian Peninsula (AQAP)'\n",
      " 'Al-Qaida in the Islamic Maghreb (AQIM)' 'Al-Shabaab'\n",
      " 'Albanian National Army (ANA)' 'Alex Boncayao Brigade (ABB)' 'Alfaro Vive'\n",
      " 'Algeisk Wolves' 'Algerian Islamic Extremists'\n",
      " \"All Burma Students' Democratic Front (ABSDF)\"\n",
      " 'Allied Democratic Forces (ADF)' 'America Battalion' 'Angry Brigade'\n",
      " 'Animal Liberation Front (ALF)' 'Ansar Allah' 'Ansar al-Din Front'\n",
      " 'Anti-Government Rebels' 'Anti-Imperialist Students Council'\n",
      " 'Anti-Narita Extremists' 'April 6th Liberation Movement'\n",
      " 'Armed Commandos of Liberation'\n",
      " 'Armed Forces of National Resistance (FARN)'\n",
      " 'Armed Forces of the Chechen Republic of Ichkeria'\n",
      " 'Armed Islamic Group (GIA)'\n",
      " 'Armed Revolutionary Independence Movement (MIRA)'\n",
      " 'Armed Revolutionary Nuclei (NAR)' 'Armenian Nationalists'\n",
      " 'Armenian Secret Army for the Liberation of Armenia' 'Army of God'\n",
      " 'Association for the Enhancement of the Justice of the Great Japan'\n",
      " 'Aum Shinri Kyo' 'Awami League'\n",
      " 'Azawad National Liberation Movement (MNLA)' 'Baader-Meinhof Group'\n",
      " 'Babbar Khalsa International (BKI)' 'Baloch Liberation Army (BLA)'\n",
      " 'Baloch Liberation Front (BLF)' 'Baloch Republican Army (BRA)'\n",
      " 'Bangladesh Nationalist Party (BNP)'\n",
      " 'Bangsamoro Islamic Freedom Movement (BIFM)'\n",
      " 'Barisan Revolusi Nasional (BRN)' 'Barqa Province of the Islamic State'\n",
      " 'Basque Fatherland and Freedom (ETA)' 'Black Berets'\n",
      " 'Black Liberation Army' 'Black Nationalists' 'Black Order'\n",
      " 'Black Panthers' 'Black September'\n",
      " 'Bloque Anti-Guerrillero de Oriente (BAGO)' 'Boko Haram'\n",
      " 'Bougainville Revolutionary Army (BRA)' 'Breton Liberation Front (FLB)'\n",
      " 'Brunswijk Jungle Commando' \"Cambodian People's Party (CPP)\"\n",
      " 'Caribbean Revolutionary Alliance (ARC)' 'Caucasus Emirate'\n",
      " 'Che Guevara Brigade' 'Chechen Lone Wolf Group' 'Chicano Liberation Front'\n",
      " 'Chondaehyop (Radical Student Coalition)' 'Chonson Univ. students'\n",
      " 'Chukakuha (Middle Core Faction)' 'Chukakuha Revolutionary Army'\n",
      " 'Cinchoneros Popular Liberation Movement' 'Combat 18'\n",
      " 'Commandos for A Popular alternative'\n",
      " 'Communist Party of India - Maoist (CPI-Maoist)'\n",
      " 'Communist Party of India- Marxist'\n",
      " 'Communist Party of Nepal- Maoist (CPN-M)' 'Conspiracy of Cells of Fire'\n",
      " 'Coordination of the United Revolutionary Organization (CORU)'\n",
      " 'Corsican National Liberation Front (FLNC)'\n",
      " 'Corsican National Liberation Front- Historic Channel'\n",
      " 'Cossack Separatists' 'Croatian Nationalists' \"Dagestani Shari'ah Jamaat\"\n",
      " 'Dainihon Yokuko Doshikai' 'Death Squad' 'Death to Kidnappers (MAS)'\n",
      " 'Death to Rustlers' 'Deccan Mujahideen' 'December 13 Independent Group'\n",
      " 'Democratic Front for the Liberation of Palestine (DFLP)'\n",
      " 'Democratic Front for the Liberation of Rwanda (FDLR)'\n",
      " 'Democratic Karen Buddhist Army (DKBA)' 'Democratic Progressive Party'\n",
      " 'Democratic Revolutionary Alliance (ARDE)'\n",
      " 'Democratic Revolutionary Party' 'Dev Sol'\n",
      " 'Devrimici Halk Kurtulus Cephesi (DHKP/C)'\n",
      " 'Dissident Military Mmbrs of Northern Tribal Group'\n",
      " 'Dissident Republicans'\n",
      " 'Do-or-Die Corps for the Abolition of Anti-Public Taxation Systems'\n",
      " 'Earth Liberation Front (ELF)' 'East Asia Anti Japanese Armed Front'\n",
      " 'Eastern Turkistan Islamic Movement (ETIM)'\n",
      " 'Ejercito Revolucionaria del Pueblo (ERP) (Argentina)'\n",
      " 'Ejercito de Liberacion Nacional (Bolivia)' 'Eritrean Liberation Front'\n",
      " 'Ex-Somoza National Guard' 'Extraparliamentary Opposition (APO)'\n",
      " 'Farabundo Marti National Liberation Front (FMLN)'\n",
      " 'February 28 Popular League (El Salvador)'\n",
      " 'First of October Antifascist Resistance Group (GRAPO)' 'Forest Brothers'\n",
      " 'Free Aceh Movement (GAM)' \"Free Galician People's Guerrilla Army\"\n",
      " 'Free Papua Movement (OPM-Organisasi Papua Merdeka)' 'Free Syrian Army'\n",
      " 'Front for the Liberation of Lebanon from Foreigners'\n",
      " 'Front for the Liberation of the Enclave of Cabinda (FLEC)'\n",
      " 'Fuerzas Armadas de Liberacion Nacional (FALN)'\n",
      " 'Garo National Liberation Army' 'George Jackson Brigade'\n",
      " 'Great Japan Patriotic Party' 'Greek Bulgarian Armenian Front'\n",
      " 'Guadalcanal Liberation Army' 'Guatemalan Communist Party'\n",
      " 'Guatemalan Labor Party (PGT)'\n",
      " 'Guatemalan National Revolutionary Unity (URNG)'\n",
      " 'Guerrilla Army of the Poor (EGP)' 'Hamas (Islamic Resistance Movement)'\n",
      " 'Hanchongryun' 'Haqqani Network' 'Harkatul Jihad-e-Islami' 'Hezbollah'\n",
      " 'Hiroyuki Jo' 'Hizb al-Tahrir al-Islami (HT)' 'Hizb-I-Islami'\n",
      " 'Hizbul Mujahideen (HM)' 'Hotaru (Firefly)'\n",
      " 'Independent Armed Revolutionary Commandos (CRIA)'\n",
      " 'Individuals Tending Toward Savagery' 'Informal Anarchist Federation'\n",
      " 'Inkatha Freedom Party (IFP)' 'Institutional Revolutionary Party (PRI)'\n",
      " 'Internationalist Cells' 'Iparretarrak (IK)'\n",
      " 'Irish National Liberation Army (INLA)' 'Irish Republican Army (IRA)'\n",
      " 'Irish Republican Extremists' 'Isatabu Freedom Movement (IFM)'\n",
      " 'Islambouli Brigades of al-Qaida' 'Islamic Jihad Group (IJG)'\n",
      " 'Islamic Jihad Union (Uzbekistan)' 'Islamic Movement of Uzbekistan (IMU)'\n",
      " 'Islamic Salvation Front (FIS)' 'Islamic State of Iraq (ISI)'\n",
      " 'Islamic State of Iraq and the Levant (ISIL)'\n",
      " 'Islamic Unification Movement' 'Issui Kai' 'Jamaah Ansharut Tauhid (JAT)'\n",
      " 'Jamaat-E-Islami (Bangladesh)' 'Jamaat-E-Islami (India/Pakistan)'\n",
      " 'Jamaica Labor Party'\n",
      " 'Janatantrik Terai Mukti Morcha- Jwala Singh (JTMM-J)' 'Janjaweed'\n",
      " 'Japan National Youth Alliance'\n",
      " \"Japan Socialist Youth League of the Revolutionary Workers' Association\"\n",
      " 'Japanese Independence Patriotic Party' 'Japanese Red Army (JRA)'\n",
      " 'Jemaah Islamiya (JI)' 'Jewish Armed Resistance'\n",
      " 'Jewish Defense League (JDL)' 'Jewish Extremists'\n",
      " 'Jonathan Jackson Brigade' 'Jundallah'\n",
      " 'Justice Army for Defenseless Peoples'\n",
      " 'Justice Commandos for the Armenian Genocide'\n",
      " 'Justice and Equality Movement (JEM)' 'Kachin Independence Army (KIA)'\n",
      " 'Kanak Separatists' 'Kanak Socialist National Liberation Front'\n",
      " 'Karen National Union' 'Karenni National Progressive Party'\n",
      " \"Kata'ib al-Khoul\" 'Khasi Students Union' 'Khmer Rouge'\n",
      " 'Khorasan Chapter of the Islamic State' 'Korean Youth League'\n",
      " 'Kosovo Liberation Army (KLA)' 'Ku Klux Klan' 'Kuki Tribal Militants'\n",
      " 'Kurdish Democratic Party-Iraq (KDP)' \"Kurdistan Workers' Party (PKK)\"\n",
      " 'Kyongbuk University Dental College Students' 'Lashkar-e-Islam (Pakistan)'\n",
      " 'Lashkar-e-Jhangvi' 'Lashkar-e-Taiba (LeT)' 'League of Communists'\n",
      " 'Liberation Army for Presevo, Medvedja and Bujanovac (UCPMB)'\n",
      " 'Liberation Tigers of Tamil Eelam (LTTE)' \"Lord's Resistance Army (LRA)\"\n",
      " 'Lorenzo Zelaya Revolutionary Front (LZRF)' 'Lufa Tribesmen'\n",
      " 'M-19 (Movement of April 19)' 'Macheteros' 'Makhachkala Gang'\n",
      " 'Mano Blanca' 'Manuel Rodriguez Patriotic Front (FPMR)'\n",
      " 'Maoist Communist Center (MCC)' 'Maruseido (Marxist Youth League)'\n",
      " 'Maximiliano Gomez Revolutionary Brigade'\n",
      " 'Maximiliano Hernandez Martinez Brigade' 'Mayi Mayi'\n",
      " 'Militant Peasants (NFI)' 'Miskito Indian Organization'\n",
      " 'Misurasata Indian Organization' 'Montoneros (Argentina)'\n",
      " 'Moro Islamic Liberation Front (MILF)'\n",
      " 'Moro National Liberation Front (MNLF)'\n",
      " 'Movement for Oneness and Jihad in West Africa (MUJAO)'\n",
      " 'Movement for Triqui Unification and Struggle'\n",
      " 'Movement for the Emancipation of the Niger Delta (MEND)'\n",
      " 'Movement of Democratic Forces of Casamance'\n",
      " 'Movement of the Revolutionary Left (MIR) (Chile)'\n",
      " 'Movement of the Revolutionary Left (MIR) (Peru)'\n",
      " 'Mozambique National Resistance Movement (MNR)' 'Mujahedin-e Khalq (MEK)'\n",
      " 'Mujahidin Indonesia Timur (MIT)' 'Muslim Brotherhood'\n",
      " 'Muttahida Qami Movement (MQM)' 'NVF' 'Namchong-Nyon Students'\n",
      " 'Nara Red Army' 'National Anti Communist Commando'\n",
      " 'National Army for the Liberation of Uganda (NALU)'\n",
      " 'National Committee Against Independence (CNCI)'\n",
      " 'National Defense Youth Corps'\n",
      " 'National Democratic Front of Bodoland (NDFB)'\n",
      " 'National League for Democracy' 'National Liberation Army (Ecuador)'\n",
      " 'National Liberation Army (NLA) (Macedonia)'\n",
      " 'National Liberation Army of Colombia (ELN)'\n",
      " 'National Liberation Front (FNL) (Burundi)'\n",
      " 'National Liberation Front of Tripura (NLFT)'\n",
      " 'National Organization of Cypriot Fighters (EOKA)'\n",
      " 'National Resistance Movement (NRM)'\n",
      " 'National Socialist Civic Workers Movement'\n",
      " 'National Union for the Total Independence of Angola (UNITA)' 'Naxalites'\n",
      " 'New Order' \"New People's Army (NPA)\" 'New World Liberation Front (NWLF)'\n",
      " 'Nicaraguan Democratic Force (FDN)' 'Nicaraguan Resistance'\n",
      " 'North Korean involvement commandos'\n",
      " 'November 17 Revolutionary Organization (N17RO)'\n",
      " \"Odua Peoples' Congress (OPC)\" 'Official Irish Republican Army (OIRA)'\n",
      " 'Omega-7' 'Oromo Liberation Front' 'Pacific Popular Front'\n",
      " \"Pakistani People's Party (PPP)\" 'Palestine Liberation Organization (PLO)'\n",
      " 'Palestinian Islamic Jihad (PIJ)' 'Pan Africanist Congress (PAC)'\n",
      " \"Paraguayan People's Army (EPP)\"\n",
      " 'Party for the Liberation of the Hutu People (PALIPEHUTU)'\n",
      " 'Patriotic Morazanista Front (FPM)'\n",
      " 'Patriotic Resistance Front in Ituri (FRPI)'\n",
      " 'Pattani United Liberation Organization (PULO)' 'Paupa New Guinea Troops'\n",
      " 'Peasant Self-Defense Group (ACCU)' \"People's Democratic Army\"\n",
      " \"People's Democratic Party (PDP)\" \"People's Liberation Army (India)\"\n",
      " \"People's Liberation Forces (FPL)\" \"People's Liberation Front (JVP)\"\n",
      " \"People's Revolutionary Army (ERP) (El Salvador)\"\n",
      " \"People's Revolutionary Organization\" \"People's War Group (PWG)\"\n",
      " 'Popular Forces of April 25'\n",
      " 'Popular Front for the Liberation of Palestine (PFLP)'\n",
      " 'Popular Front for the Liberation of Palestine, Gen Cmd (PFLP-GC)'\n",
      " 'Popular Liberation Army (EPL)' 'Popular Militia (Colombia)'\n",
      " 'Popular Revolutionary Army (Mexico)' 'Popular Revolutionary Bloc (BPR)'\n",
      " 'Prima Linea' 'Pro Hartal Activists' 'Puerto Rican Nationalists'\n",
      " 'Real Irish Republican Army (RIRA)'\n",
      " 'Rebel Armed Forces of Guatemala (FAR)' 'Recontras'\n",
      " 'Red Army Faction (RAF)' 'Red Brigades' 'Red Flag (Venezuela)'\n",
      " 'Red Hand Commandos' 'Reform of the Armed Forces Movement'\n",
      " 'Republic of New Afrika' 'Republican Action Force'\n",
      " 'Revolutionary Armed Forces of Colombia (FARC)' 'Revolutionary Army'\n",
      " 'Revolutionary Cells' 'Revolutionary Cells Network (SRN)'\n",
      " 'Revolutionary Force'\n",
      " 'Revolutionary Front for Hatian Advancement and Progress (FRAPH)'\n",
      " 'Revolutionary Organization of People in Arms (ORPA)'\n",
      " 'Revolutionary Patriotic Anti-Fascist Front (FRAP)'\n",
      " \"Revolutionary People's Struggle (ELA)\" 'Revolutionary United Front (RUF)'\n",
      " 'Revolutionary Workers Party' \"Revolutionary Workers' Council (Kakurokyo)\"\n",
      " 'Ricardo Franco Front (Dissident FARC)'\n",
      " 'Riyadus-Salikhin Reconnaissance and Sabotage Battalion of Chechen Martyrs'\n",
      " 'Rizvon Sadirov Group' 'Rodrigo Franco Command'\n",
      " 'Runda Kumpulan Kecil (RKK)'\n",
      " 'Salafist Group for Preaching and Fighting (GSPC)'\n",
      " 'Sanaa Province of the Islamic State'\n",
      " 'Sandinista National Liberation Front (FSLN)' 'Sandval (union) Movement'\n",
      " 'Sayfullakh' 'Secret Anti-Communist Army (ESA)'\n",
      " 'Secret Organization of al-Qaida in Europe' 'Seiji Kesha Kokuyukai'\n",
      " 'Seikijuku' 'Sekihotai' 'Seleka' 'Senki (\"Battle Flag\")'\n",
      " 'September 11 Commandos' 'Shan State Army - North (SSA-N)'\n",
      " 'Shanti Bahini - Peace Force' 'Shining Path (SL)' 'Shonkonjuku Group'\n",
      " 'Simon Bolivar Guerrilla Coordinating Board (CGSB)'\n",
      " 'Sinai Province of the Islamic State' 'Soldiers of the Caliphate'\n",
      " 'South Ossetian Extremists' 'South Ossetian Separatists'\n",
      " \"South-West Africa People's Organization (SWAPO)\"\n",
      " 'Special Purpose Islamic Regiment (SPIR)' 'Sudan Liberation Movement'\n",
      " \"Sudan People's Liberation Army (SPLA)\"\n",
      " \"Sudan People's Liberation Movement - North\"\n",
      " \"Sudan People's Liberation Movement in Opposition (SPLM-IO)\"\n",
      " 'Supporters of Ex-President Gamsakhurdial'\n",
      " 'Syrian Social Nationalist Party' 'Taihikai (Great Sadness)'\n",
      " 'Taikosha, right wing group' 'Taliban' 'Tamil Nadu Liberation Army'\n",
      " 'Tawhid and Jihad' 'Tehrik-i-Taliban Pakistan (TTP)' 'Terra Lliure'\n",
      " 'Thai Islamic Militants' 'The Extraditables' 'The Justice Department'\n",
      " 'Tigray Peoples Liberation Front (TPLF)' 'Tolib Ayombekov loyalists'\n",
      " 'Tripoli Province of the Islamic State'\n",
      " 'Tupac Amaru Revolutionary Movement (MRTA)'\n",
      " 'Tupac Katari Guerrilla Army (EGTK)' 'Tupamaros (Uruguay)'\n",
      " 'Turkestan Islamic Party' 'Turkish Communist Party/Marxist (TKP-ML)'\n",
      " 'Uganda Freedom Movement (UFM)' 'Uighur Liberation Organization'\n",
      " 'Ukrainian Nationalist Group' 'Ulster Freedom Fighters (UFF)'\n",
      " 'Ulster Volunteer Force (UVF)' 'Union Guerrera Blanca (UGB)'\n",
      " 'Union of Congolese Patriots (UPC)' 'Union of the People (UDP)'\n",
      " 'United Baloch Army (UBA)' 'United Freedom Front (UFF)'\n",
      " 'United Front for Democracy Against Dictatorship'\n",
      " 'United Liberation Front of Assam (ULFA)'\n",
      " 'United Popular Action Front (FAPU)' 'United Popular Action Movement'\n",
      " 'United Self Defense Units of Colombia (AUC)' 'Vanuatu Mobile Force (VMF)'\n",
      " 'Vietnamese Organization to Exterminate Communists and Restore the Nation'\n",
      " 'Vigilante Group' 'Weather Underground, Weathermen'\n",
      " 'White Legion (Georgia)' \"Workers' Self-Defense Movement (MAO)\"\n",
      " 'Yamaguchi-Gumi Gang' 'Yekbun' 'Yokoku Seiwa-Kai'\n",
      " 'Zapatista National Liberation Army' 'Zebra killers'\n",
      " 'Zimbabwe African Nationalist Union (ZANU)' 'Zviadists']\n",
      "[   4   15   44   17   21   11   38  349   53  530  158   52  259    5    8\n",
      "  155   50  581  533  179 1360    4   11   25    1  248    5  120    4    3\n",
      "  113    1    2    7    1    2   30   12   37    9  212   30   20    3  176\n",
      "   23    1    7   26   18   51   10  117   73  238   68  147   10   59 1905\n",
      "    3   28   71    6   24   49    1 1700   21   32   27    3   25   39   13\n",
      "    2   30    1    1   60    1   18    2    4 1612    8   19   52   14  627\n",
      "  128    2   34    5    1  325   18    3    8    3   34   64   18    1   29\n",
      "   11  233   34    1   66    1   72   12    8   77    3   18   11    6 2129\n",
      "   15  197    2  105   47   29   43   12   14  117  136   17    1    1    1\n",
      "    2   21   96  124  313    1   64   14  253    1    2   30  105    1   19\n",
      "    2   39   30   14    3   55   91 1887   89    1    5    3    2    3  149\n",
      "  143 2381    3    1    8   60   10    2   72  167    1    1    1    8   73\n",
      "   19   82   27    1   31    1   44   17   24    4    5   84    3    2    4\n",
      "  148   63    1   41   20    5    4 1280    1   87   99  111    2    3 1087\n",
      "  256   36    1  436   31    3    5  799   33    2   14    7   28    2    3\n",
      "   14  102  315  166   33    1   77   61  305    7  212   93   15   93  144\n",
      "    4    1    1    3    2    2    1  157    2    3   34 1236   27   69    5\n",
      "    3    2  383   66    2 1508   85  317  118    1  106    3   19   54    8\n",
      "    1    8   78  169    5   52   36   24   26   47    1   21    4    4   44\n",
      "  153  377   63   14   91   46  134    7  215   15   13   36   58   91   23\n",
      "   39   26   56   53  212   21    9    8    2    6 2039    1   50    3    1\n",
      "    4   82   45   84   54   10   20   39   10    2   15  107  139   27  160\n",
      "    1    1   19    4    1    3    2   28    5    2    3   86 4135    1  166\n",
      "  123    2    1   10   55    1   12   38   39   24    7    5    1    1 4762\n",
      "    6   42  991   61   47  108   16   10    1  128  522   22   40    2   28\n",
      "   18    1    5  231  241   14    2   21   70   22   23  292   13  108   64\n",
      "    2    3   25   42    3   15    1    1    1   23   20   21    1]\n"
     ]
    }
   ],
   "source": [
    "print(unique_groups)\n",
    "print(group_counts)"
   ]
  },
  {
   "cell_type": "code",
   "execution_count": 8,
   "metadata": {
    "collapsed": false
   },
   "outputs": [
    {
     "name": "stdout",
     "output_type": "stream",
     "text": [
      "[[ 0.95238095  0.95238095  1.42857143]\n",
      " [ 3.          0.8         1.2       ]\n",
      " [ 0.          2.          0.        ]\n",
      " ..., \n",
      " [ 0.          1.          0.11111111]\n",
      " [ 3.6         0.          0.4       ]\n",
      " [ 0.          0.          0.        ]]\n"
     ]
    },
    {
     "name": "stderr",
     "output_type": "stream",
     "text": [
      "D:\\Users\\Avradip\\Anaconda3\\lib\\site-packages\\ipykernel\\__main__.py:3: FutureWarning: comparison to `None` will result in an elementwise object comparison in the future.\n",
      "  app.launch_new_instance()\n"
     ]
    },
    {
     "name": "stdout",
     "output_type": "stream",
     "text": [
      "[[-0.28597074 -0.23965638 -0.13100057]\n",
      " [-0.11133869 -0.25049511 -0.13598272]\n",
      " [-0.36719494 -0.16514014 -0.162139  ]\n",
      " ..., \n",
      " [-0.36719494 -0.23626928 -0.15971712]\n",
      " [-0.06016744 -0.30739843 -0.15342024]\n",
      " [-0.36719494 -0.30739843 -0.162139  ]]\n"
     ]
    }
   ],
   "source": [
    "dimension_arr = None # This should be a NumPy array \n",
    "for key_tup in group_dict:\n",
    "    if dimension_arr == None:\n",
    "        dimension_arr = np.asarray(group_dict[key_tup]) # First iteration, create the array\n",
    "    else:\n",
    "        dimension_arr = np.vstack((dimension_arr, group_dict[key_tup]))\n",
    "\n",
    "print(dimension_arr)\n",
    "from sklearn import preprocessing\n",
    "dim_arr_scaled = preprocessing.scale(dimension_arr)\n",
    "print(dim_arr_scaled)"
   ]
  },
  {
   "cell_type": "code",
   "execution_count": 9,
   "metadata": {
    "collapsed": false
   },
   "outputs": [
    {
     "name": "stdout",
     "output_type": "stream",
     "text": [
      "403\n",
      "403\n",
      "403\n"
     ]
    }
   ],
   "source": [
    "from sklearn.cluster import KMeans\n",
    "import numpy as np\n",
    "k=5\n",
    "kmeans = KMeans(n_clusters=k,random_state=0).fit(dimension_arr)\n",
    "\n",
    "print(len(group_dict))\n",
    "print(len(group_dict.keys()))\n",
    "print(len(kmeans.labels_))\n",
    "#rint(group_dict.keys())\n",
    "#rint(kmeans.labels_)\n",
    "#i = 0\n",
    "#for key_tup in group_dict:\n",
    "#    group_dict[(key_tup[0],kmeans.labels_[i])] = group_dict.pop(key_tup) \n",
    "#    i += 1\n",
    "\n",
    "#rint(group_dict)"
   ]
  },
  {
   "cell_type": "code",
   "execution_count": 10,
   "metadata": {
    "collapsed": false
   },
   "outputs": [
    {
     "name": "stdout",
     "output_type": "stream",
     "text": [
      "403\n",
      "403\n",
      "(403, 3)\n"
     ]
    }
   ],
   "source": [
    "\n",
    "print(len(group_dict))\n",
    "print(len(kmeans.labels_))\n",
    "print(dim_arr_scaled.shape)\n",
    "\n",
    "result_dict = {}\n",
    "for i in range(k):\n",
    "    result_dict[i] = []\n",
    "\n",
    "i = 0\n",
    "for key_tup in group_dict:\n",
    "    if i == 403:\n",
    "        print(\"Wtf!\" + str(group_dict[key_tup]))\n",
    "        break\n",
    "    #print(key_tup)\n",
    "    #print(i)\n",
    "    #print(group_dict[key_tup])\n",
    "    #print(kmeans.labels_[i])\n",
    "    result_dict[kmeans.labels_[i]].append(key_tup[0]) \n",
    "    i += 1\n",
    "    "
   ]
  },
  {
   "cell_type": "code",
   "execution_count": 11,
   "metadata": {
    "collapsed": false
   },
   "outputs": [
    {
     "name": "stdout",
     "output_type": "stream",
     "text": [
      "{0: ['Bougainville Revolutionary Army (BRA)', 'Kanak Socialist National Liberation Front', 'September 11 Commandos', 'Kanak Separatists', 'Animal Liberation Front (ALF)', 'Anti-Government Rebels', 'Croatian Nationalists', 'Free Papua Movement (OPM-Organisasi Papua Merdeka)', 'Informal Anarchist Federation', 'National Committee Against Independence (CNCI)', 'Combat 18', 'Greek Bulgarian Armenian Front', 'Guadalcanal Liberation Army', 'Isatabu Freedom Movement (IFM)', 'Lufa Tribesmen', 'Pacific Popular Front', 'Palestine Liberation Organization (PLO)', 'Paupa New Guinea Troops', 'Zapatista National Liberation Army', 'Farabundo Marti National Liberation Front (FMLN)', 'Nicaraguan Democratic Force (FDN)', 'Sandinista National Liberation Front (FSLN)', \"People's Liberation Forces (FPL)\", 'Guerrilla Army of the Poor (EGP)', 'Nicaraguan Resistance', 'Guatemalan National Revolutionary Unity (URNG)', 'Death Squad', 'Revolutionary Organization of People in Arms (ORPA)', \"People's Revolutionary Army (ERP) (El Salvador)\", 'Armed Forces of National Resistance (FARN)', 'Lorenzo Zelaya Revolutionary Front (LZRF)', 'Rebel Armed Forces of Guatemala (FAR)', 'Patriotic Morazanista Front (FPM)', 'Caribbean Revolutionary Alliance (ARC)', 'Guatemalan Labor Party (PGT)', 'Secret Anti-Communist Army (ESA)', 'Cinchoneros Popular Liberation Movement', \"31 January People's Front (FP-31)\", '20 December Movement (M-20)', 'February 28 Popular League (El Salvador)', 'Maximiliano Gomez Revolutionary Brigade', 'Union Guerrera Blanca (UGB)', 'United Popular Action Front (FAPU)', 'South Ossetian Separatists', \"People's Democratic Army\", 'Supporters of Ex-President Gamsakhurdial', 'Islamic Jihad Group (IJG)', 'White Legion (Georgia)', 'Forest Brothers', 'Islamic Jihad Union (Uzbekistan)', 'Rizvon Sadirov Group', 'Soldiers of the Caliphate', 'Algeisk Wolves', 'Hizb al-Tahrir al-Islami (HT)', 'Islamic Movement of Uzbekistan (IMU)', 'Sandval (union) Movement', 'South Ossetian Extremists', 'Tolib Ayombekov loyalists', 'Uighur Liberation Organization', 'Yekbun', 'Zviadists', 'Chukakuha (Middle Core Faction)', \"Revolutionary Workers' Council (Kakurokyo)\", 'East Asia Anti Japanese Armed Front', 'Eastern Turkistan Islamic Movement (ETIM)', 'Senki (\"Battle Flag\")', '14 K Triad', 'Seikijuku', 'League of Communists', 'Maruseido (Marxist Youth League)', 'Sekihotai', 'Turkestan Islamic Party', 'Anti-Imperialist Students Council', 'Anti-Narita Extremists', 'Association for the Enhancement of the Justice of the Great Japan', 'Chondaehyop (Radical Student Coalition)', 'Chukakuha Revolutionary Army', 'Dainihon Yokuko Doshikai', 'Do-or-Die Corps for the Abolition of Anti-Public Taxation Systems', 'Great Japan Patriotic Party', 'Hanchongryun', 'Hiroyuki Jo', 'Hotaru (Firefly)', 'Issui Kai', 'Japan National Youth Alliance', \"Japan Socialist Youth League of the Revolutionary Workers' Association\", 'Japanese Independence Patriotic Party', 'Japanese Red Army (JRA)', 'Korean Youth League', 'Kyongbuk University Dental College Students', 'Nara Red Army', 'National Defense Youth Corps', 'Revolutionary Army', 'Revolutionary Force', 'Seiji Kesha Kokuyukai', 'Shonkonjuku Group', 'Taihikai (Great Sadness)', 'Taikosha, right wing group', 'Yamaguchi-Gumi Gang', 'Yokoku Seiwa-Kai', 'Caucasus Emirate', 'National Liberation Army (NLA) (Macedonia)', 'Armed Forces of the Chechen Republic of Ichkeria', \"Dagestani Shari'ah Jamaat\", 'Albanian National Army (ANA)', 'Islambouli Brigades of al-Qaida', 'NVF', 'Armenian Nationalists', 'Black Berets', 'December 13 Independent Group', 'Extraparliamentary Opposition (APO)', 'Internationalist Cells', 'Liberation Army for Presevo, Medvedja and Bujanovac (UCPMB)', 'Makhachkala Gang', 'Red Army Faction (RAF)', 'Revolutionary Cells Network (SRN)', 'Islamic State of Iraq and the Levant (ISIL)', \"Kurdistan Workers' Party (PKK)\", 'Al-Qaida in Iraq', 'Al-Qaida in the Arabian Peninsula (AQAP)', 'Hamas (Islamic Resistance Movement)', \"Al-Gama'at al-Islamiyya (IG)\", 'Algerian Islamic Extremists', 'Hezbollah', 'Dev Sol', 'Armed Islamic Group (GIA)', 'Palestinian Islamic Jihad (PIJ)', 'Al-Aqsa Martyrs Brigade', 'Al-Nusrah Front', 'Islamic Salvation Front (FIS)', 'Islamic State of Iraq (ISI)', 'Salafist Group for Preaching and Fighting (GSPC)', 'Al-Qaida in the Islamic Maghreb (AQIM)', 'Tripoli Province of the Islamic State', 'Sinai Province of the Islamic State', 'Popular Front for the Liberation of Palestine (PFLP)', 'Muslim Brotherhood', 'Mujahedin-e Khalq (MEK)', 'Barqa Province of the Islamic State', 'Fuerzas Armadas de Liberacion Nacional (FALN)', 'New World Liberation Front (NWLF)', 'Jewish Defense League (JDL)', 'Earth Liberation Front (ELF)', 'Black Nationalists', 'Omega-7', '23rd of September Communist League', 'Weather Underground, Weathermen', 'Macheteros', 'Armed Revolutionary Independence Movement (MIRA)', 'Chicano Liberation Front', 'Black Liberation Army', 'Black Panthers', 'Army of God', 'Puerto Rican Nationalists', 'United Freedom Front (UFF)', 'Union of the People (UDP)', 'Ku Klux Klan', 'Zebra killers', 'Independent Armed Revolutionary Commandos (CRIA)', 'George Jackson Brigade', 'Jewish Armed Resistance', 'Shining Path (SL)', 'Revolutionary Armed Forces of Colombia (FARC)', 'National Liberation Army of Colombia (ELN)', 'Manuel Rodriguez Patriotic Front (FPMR)', 'Tupac Amaru Revolutionary Movement (MRTA)', 'M-19 (Movement of April 19)', 'Movement of the Revolutionary Left (MIR) (Chile)', 'Popular Liberation Army (EPL)', 'Simon Bolivar Guerrilla Coordinating Board (CGSB)', 'The Extraditables', 'United Popular Action Movement', 'Montoneros (Argentina)', 'Ejercito Revolucionaria del Pueblo (ERP) (Argentina)', \"Paraguayan People's Army (EPP)\", 'Tupamaros (Uruguay)', 'Ricardo Franco Front (Dissident FARC)', 'Brunswijk Jungle Commando', 'Alfaro Vive', 'Tupac Katari Guerrilla Army (EGTK)', 'Red Flag (Venezuela)', 'Death to Kidnappers (MAS)', 'Popular Militia (Colombia)', 'Rodrigo Franco Command', \"Workers' Self-Defense Movement (MAO)\", \"People's Revolutionary Organization\", 'Taliban', 'Communist Party of India - Maoist (CPI-Maoist)', 'Liberation Tigers of Tamil Eelam (LTTE)', 'Tehrik-i-Taliban Pakistan (TTP)', \"People's Liberation Front (JVP)\", 'United Liberation Front of Assam (ULFA)', 'Baloch Republican Army (BRA)', 'National Democratic Front of Bodoland (NDFB)', 'Muttahida Qami Movement (MQM)', 'Garo National Liberation Army', 'Baloch Liberation Army (BLA)', 'Lashkar-e-Taiba (LeT)', 'Hizbul Mujahideen (HM)', 'Lashkar-e-Jhangvi', \"People's War Group (PWG)\", 'Pro Hartal Activists', 'Lashkar-e-Islam (Pakistan)', 'Shanti Bahini - Peace Force', 'Baloch Liberation Front (BLF)', 'Janatantrik Terai Mukti Morcha- Jwala Singh (JTMM-J)', 'United Baloch Army (UBA)', 'National Liberation Front of Tripura (NLFT)', 'Bangladesh Nationalist Party (BNP)', 'Naxalites', 'Haqqani Network', \"New People's Army (NPA)\", 'Abu Sayyaf Group (ASG)', 'Moro Islamic Liberation Front (MILF)', 'Moro National Liberation Front (MNLF)', 'Khmer Rouge', 'Bangsamoro Islamic Freedom Movement (BIFM)', 'Runda Kumpulan Kecil (RKK)', 'Free Aceh Movement (GAM)', 'Karen National Union', 'Jemaah Islamiya (JI)', 'Pattani United Liberation Organization (PULO)', 'Thai Islamic Militants', 'April 6th Liberation Movement', 'Kachin Independence Army (KIA)', 'United Front for Democracy Against Dictatorship', 'Mujahidin Indonesia Timur (MIT)', 'Alex Boncayao Brigade (ABB)', 'Barisan Revolusi Nasional (BRN)', 'Al-Khobar', 'Jamaah Ansharut Tauhid (JAT)', 'Reform of the Armed Forces Movement', 'Boko Haram', 'Al-Shabaab', 'African National Congress (South Africa)', 'National Union for the Total Independence of Angola (UNITA)', \"Lord's Resistance Army (LRA)\", 'Mozambique National Resistance Movement (MNR)', 'Janjaweed', 'Allied Democratic Forces (ADF)', 'Movement for the Emancipation of the Niger Delta (MEND)', 'Democratic Front for the Liberation of Rwanda (FDLR)', 'Movement of Democratic Forces of Casamance', \"South-West Africa People's Organization (SWAPO)\", 'Revolutionary United Front (RUF)', \"Sudan People's Liberation Movement - North\", \"Sudan People's Liberation Army (SPLA)\", 'Party for the Liberation of the Hutu People (PALIPEHUTU)', 'Inkatha Freedom Party (IFP)', 'Movement for Oneness and Jihad in West Africa (MUJAO)', 'Mayi Mayi', 'Seleka', 'National Liberation Front (FNL) (Burundi)', 'Patriotic Resistance Front in Ituri (FRPI)', \"Sudan People's Liberation Movement in Opposition (SPLM-IO)\", 'Zimbabwe African Nationalist Union (ZANU)', 'Azawad National Liberation Movement (MNLA)', 'Uganda Freedom Movement (UFM)', 'Basque Fatherland and Freedom (ETA)', 'Irish Republican Army (IRA)', 'Corsican National Liberation Front (FLNC)', 'Ulster Volunteer Force (UVF)', 'Ulster Freedom Fighters (UFF)', 'Red Brigades', 'First of October Antifascist Resistance Group (GRAPO)', 'Corsican National Liberation Front- Historic Channel', 'Armenian Secret Army for the Liberation of Armenia', 'November 17 Revolutionary Organization (N17RO)', 'Irish National Liberation Army (INLA)', \"Revolutionary People's Struggle (ELA)\", 'Irish Republican Extremists', 'Dissident Republicans', 'Terra Lliure', 'Prima Linea', 'Iparretarrak (IK)', 'Action Directe', 'Baader-Meinhof Group', 'Conspiracy of Cells of Fire', 'Revolutionary Cells', \"Free Galician People's Guerrilla Army\", 'Popular Forces of April 25', 'Revolutionary Patriotic Anti-Fascist Front (FRAP)', 'Real Irish Republican Army (RIRA)', 'Ex-Somoza National Guard', 'Coordination of the United Revolutionary Organization (CORU)', 'Maximiliano Hernandez Martinez Brigade', 'Revolutionary Front for Hatian Advancement and Progress (FRAPH)', 'Ansar Allah', 'Bloque Anti-Guerrillero de Oriente (BAGO)', 'Chechen Lone Wolf Group', 'Justice Commandos for the Armenian Genocide', 'Sayfullakh', 'Free Syrian Army', 'Tawhid and Jihad', 'Sanaa Province of the Islamic State', 'Abdullah Azzam Brigades', 'Front for the Liberation of Lebanon from Foreigners', 'Institutional Revolutionary Party (PRI)', 'Popular Revolutionary Army (Mexico)', 'Armed Commandos of Liberation', 'Democratic Revolutionary Party', 'Vietnamese Organization to Exterminate Communists and Restore the Nation', 'Individuals Tending Toward Savagery', 'Militant Peasants (NFI)', 'Republic of New Afrika', 'Jonathan Jackson Brigade', 'Justice Army for Defenseless Peoples', 'Movement for Triqui Unification and Struggle', 'Commandos for A Popular alternative', 'Death to Rustlers', 'National Socialist Civic Workers Movement', 'Khorasan Chapter of the Islamic State', 'Jundallah', 'Harkatul Jihad-e-Islami', 'Vigilante Group', 'Deccan Mujahideen', \"Cambodian People's Party (CPP)\", 'North Korean involvement commandos', 'Justice and Equality Movement (JEM)', 'Tigray Peoples Liberation Front (TPLF)', 'Black September', 'Armed Revolutionary Nuclei (NAR)', 'Official Irish Republican Army (OIRA)', 'Abu Nidal Organization (ANO)', 'Black Order', 'Republican Action Force', 'Popular Front for the Liberation of Palestine, Gen Cmd (PFLP-GC)', 'New Order', 'Mano Blanca', 'Miskito Indian Organization', 'National Anti Communist Commando', 'Revolutionary Workers Party', 'Guatemalan Communist Party', 'Jamaica Labor Party', 'Cossack Separatists', \"Kata'ib al-Khoul\", 'Al-Fatah', 'Devrimici Halk Kurtulus Cephesi (DHKP/C)', 'Democratic Front for the Liberation of Palestine (DFLP)', 'Turkish Communist Party/Marxist (TKP-ML)', 'Jewish Extremists', 'Syrian Social Nationalist Party', 'Kurdish Democratic Party-Iraq (KDP)', 'The Justice Department', 'Che Guevara Brigade', 'Movement of the Revolutionary Left (MIR) (Peru)', 'Ejercito de Liberacion Nacional (Bolivia)', 'National Liberation Army (Ecuador)', 'Jamaat-E-Islami (Bangladesh)', \"People's Liberation Army (India)\", 'Hizb-I-Islami', 'Awami League', 'Jamaat-E-Islami (India/Pakistan)', 'Babbar Khalsa International (BKI)', 'Communist Party of India- Marxist', \"Pakistani People's Party (PPP)\", 'Tamil Nadu Liberation Army', 'Kuki Tribal Militants', 'Khasi Students Union', \"All Burma Students' Democratic Front (ABSDF)\", 'Karenni National Progressive Party', 'National League for Democracy', 'Eritrean Liberation Front', 'Front for the Liberation of the Enclave of Cabinda (FLEC)', 'Sudan Liberation Movement', 'Oromo Liberation Front', 'Al-Ittihaad al-Islami (AIAI)', 'Pan Africanist Congress (PAC)', \"People's Democratic Party (PDP)\", \"Odua Peoples' Congress (OPC)\", 'National Army for the Liberation of Uganda (NALU)', 'Union of Congolese Patriots (UPC)', 'Breton Liberation Front (FLB)', 'Red Hand Commandos', 'National Organization of Cypriot Fighters (EOKA)', 'Angry Brigade'], 1: ['Aum Shinri Kyo'], 2: ['Riyadus-Salikhin Reconnaissance and Sabotage Battalion of Chechen Martyrs', 'Al-Qaida', 'Abu Hafs al-Masri Brigades', 'Secret Organization of al-Qaida in Europe', 'Islamic Unification Movement'], 3: ['Special Purpose Islamic Regiment (SPIR)', 'Ansar al-Din Front', 'National Resistance Movement (NRM)', 'Dissident Military Mmbrs of Northern Tribal Group'], 4: ['Vanuatu Mobile Force (VMF)', 'Popular Revolutionary Bloc (BPR)', 'Democratic Revolutionary Alliance (ARDE)', 'Recontras', 'Misurasata Indian Organization', 'Chonson Univ. students', 'Democratic Progressive Party', 'Namchong-Nyon Students', 'Kosovo Liberation Army (KLA)', 'Ukrainian Nationalist Group', 'United Self Defense Units of Colombia (AUC)', 'Peasant Self-Defense Group (ACCU)', 'Democratic Karen Buddhist Army (DKBA)', 'America Battalion', 'Maoist Communist Center (MCC)', 'Communist Party of Nepal- Maoist (CPN-M)', 'Shan State Army - North (SSA-N)']}\n"
     ]
    }
   ],
   "source": [
    "print(result_dict)"
   ]
  },
  {
   "cell_type": "code",
   "execution_count": 12,
   "metadata": {
    "collapsed": false
   },
   "outputs": [
    {
     "name": "stdout",
     "output_type": "stream",
     "text": [
      "[[  2.10642186e+00   2.64126488e+00   3.66706305e+00]\n",
      " [  8.57142857e-01   3.00000000e+00   8.57571429e+02]\n",
      " [  1.14084848e+00   3.32453333e+01   1.40319636e+02]\n",
      " [  1.03333333e+01   1.24750000e+02   0.00000000e+00]\n",
      " [  5.26588500e+01   4.72356554e+00   3.51654732e+00]]\n"
     ]
    }
   ],
   "source": [
    "print(kmeans.cluster_centers_)"
   ]
  },
  {
   "cell_type": "code",
   "execution_count": 13,
   "metadata": {
    "collapsed": false
   },
   "outputs": [
    {
     "name": "stdout",
     "output_type": "stream",
     "text": [
      "['nperps', 'nkill', 'nwound']\n"
     ]
    }
   ],
   "source": [
    "print(dimensions)"
   ]
  },
  {
   "cell_type": "code",
   "execution_count": null,
   "metadata": {
    "collapsed": true
   },
   "outputs": [],
   "source": []
  }
 ],
 "metadata": {
  "anaconda-cloud": {},
  "kernelspec": {
   "display_name": "Python [conda root]",
   "language": "python",
   "name": "conda-root-py"
  },
  "language_info": {
   "codemirror_mode": {
    "name": "ipython",
    "version": 3
   },
   "file_extension": ".py",
   "mimetype": "text/x-python",
   "name": "python",
   "nbconvert_exporter": "python",
   "pygments_lexer": "ipython3",
   "version": "3.5.2"
  }
 },
 "nbformat": 4,
 "nbformat_minor": 1
}
