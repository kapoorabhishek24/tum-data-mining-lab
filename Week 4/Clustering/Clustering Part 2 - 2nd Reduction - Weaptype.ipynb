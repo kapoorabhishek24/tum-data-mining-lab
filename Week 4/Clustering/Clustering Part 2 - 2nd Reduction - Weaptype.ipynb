{
 "cells": [
  {
   "cell_type": "code",
   "execution_count": 2,
   "metadata": {
    "collapsed": false
   },
   "outputs": [
    {
     "name": "stdout",
     "output_type": "stream",
     "text": [
      "Loading DB...\n",
      "DB Read...\n"
     ]
    }
   ],
   "source": [
    "# Input the DB to Memory\n",
    "import pandas as pd\n",
    "import numpy as np\n",
    "print(\"Loading DB...\")\n",
    "dfs = pd.read_csv(\"terrorism_red_cat.csv\")\n",
    "print(\"DB Read...\")\n",
    "#print(data_file.sheet_names)\n",
    "#dfs = data_file.parse(data_file.sheet_names[0])\n",
    "#print(\"DB Parsed...\")\n",
    "del(dfs['Unnamed: 0'])"
   ]
  },
  {
   "cell_type": "markdown",
   "metadata": {},
   "source": [
    " ['weaptype1_txt_Biological', 'weaptype1_txt_Chemical', 'weaptype1_txt_Explosives/Bombs/Dynamite', 'weaptype1_txt_Fake Weapons', \n",
    "    'weaptype1_txt_Firearms', 'weaptype1_txt_Incendiary', 'weaptype1_txt_Melee', 'weaptype1_txt_Sabotage Equipment', \n",
    "    'weaptype1_txt_Vehicle (not to include vehicle-borne explosives, i.e., car or truck bombs)', 'attacktype1_txt_Armed Assault',\n",
    "    'attacktype1_txt_Assassination', 'attacktype1_txt_Bombing/Explosion', 'attacktype1_txt_Facility/Infrastructure Attack', \n",
    "    'attacktype1_txt_Hijacking', 'attacktype1_txt_Hostage Taking (Barricade Incident)', \n",
    "    'attacktype1_txt_Hostage Taking (Kidnapping)', 'attacktype1_txt_Unarmed Assault', 'targtype1_txt_Abortion Related', \n",
    "    'targtype1_txt_Airports & Aircraft', 'targtype1_txt_Business', 'targtype1_txt_Educational Institution', \n",
    "    'targtype1_txt_Food or Water Supply', 'targtype1_txt_Government (Diplomatic)', 'targtype1_txt_Government (General)',\n",
    "    'targtype1_txt_Journalists & Media', 'targtype1_txt_Maritime', 'targtype1_txt_Military', 'targtype1_txt_NGO', \n",
    "    'targtype1_txt_Police', 'targtype1_txt_Private Citizens & Property', 'targtype1_txt_Religious Figures/Institutions', \n",
    "    'targtype1_txt_Telecommunication', 'targtype1_txt_Terrorists/Non-State Militia', 'targtype1_txt_Tourists', \n",
    "    'targtype1_txt_Transportation', 'targtype1_txt_Utilities', 'targtype1_txt_Violent Political Party']"
   ]
  },
  {
   "cell_type": "code",
   "execution_count": 3,
   "metadata": {
    "collapsed": false
   },
   "outputs": [
    {
     "name": "stdout",
     "output_type": "stream",
     "text": [
      "Index(['gname', 'weaptype1_txt_Biological', 'weaptype1_txt_Chemical',\n",
      "       'weaptype1_txt_Explosives/Bombs/Dynamite', 'weaptype1_txt_Fake Weapons',\n",
      "       'weaptype1_txt_Firearms', 'weaptype1_txt_Incendiary',\n",
      "       'weaptype1_txt_Melee', 'weaptype1_txt_Sabotage Equipment',\n",
      "       'weaptype1_txt_Vehicle (not to include vehicle-borne explosives, i.e., car or truck bombs)'],\n",
      "      dtype='object')\n",
      "['weaptype1_txt_Biological', 'weaptype1_txt_Chemical', 'weaptype1_txt_Explosives/Bombs/Dynamite', 'weaptype1_txt_Fake Weapons', 'weaptype1_txt_Firearms', 'weaptype1_txt_Incendiary', 'weaptype1_txt_Melee', 'weaptype1_txt_Sabotage Equipment', 'weaptype1_txt_Vehicle (not to include vehicle-borne explosives, i.e., car or truck bombs)']\n"
     ]
    }
   ],
   "source": [
    "dimensions = ['weaptype1_txt_Biological', 'weaptype1_txt_Chemical', 'weaptype1_txt_Explosives/Bombs/Dynamite', 'weaptype1_txt_Fake Weapons', \n",
    "    'weaptype1_txt_Firearms', 'weaptype1_txt_Incendiary', 'weaptype1_txt_Melee', 'weaptype1_txt_Sabotage Equipment', \n",
    "    'weaptype1_txt_Vehicle (not to include vehicle-borne explosives, i.e., car or truck bombs)']\n",
    "\n",
    "columns = dfs.columns\n",
    "\n",
    "for cols in columns:\n",
    "    if cols == 'gname':\n",
    "        continue\n",
    "    if cols not in dimensions:\n",
    "        del(dfs[cols])\n",
    "\n",
    "columns = dfs.columns\n",
    "print(columns)\n",
    "print(dimensions)"
   ]
  },
  {
   "cell_type": "code",
   "execution_count": 4,
   "metadata": {
    "collapsed": false
   },
   "outputs": [
    {
     "name": "stdout",
     "output_type": "stream",
     "text": [
      "Loading DB...\n",
      "DB Read...\n",
      "<class 'pandas.core.series.Series'>\n"
     ]
    }
   ],
   "source": [
    "print(\"Loading DB...\")\n",
    "dfs_names = pd.read_csv(\"final_names.csv\")\n",
    "print(\"DB Read...\")\n",
    "#print(data_file.sheet_names)\n",
    "#dfs = data_file.parse(data_file.sheet_names[0])\n",
    "#print(\"DB Parsed...\")\n",
    "print(type(dfs_names['group']))"
   ]
  },
  {
   "cell_type": "code",
   "execution_count": 5,
   "metadata": {
    "collapsed": false
   },
   "outputs": [
    {
     "name": "stdout",
     "output_type": "stream",
     "text": [
      "OrderedDict([(('Bougainville Revolutionary Army (BRA)', -1), [0, 0, 0, 0, 0, 0, 0, 0, 0]), (('Kanak Socialist National Liberation Front', -1), [0, 0, 0, 0, 0, 0, 0, 0, 0]), (('September 11 Commandos', -1), [0, 0, 0, 0, 0, 0, 0, 0, 0]), (('Kanak Separatists', -1), [0, 0, 0, 0, 0, 0, 0, 0, 0]), (('Animal Liberation Front (ALF)', -1), [0, 0, 0, 0, 0, 0, 0, 0, 0]), (('Anti-Government Rebels', -1), [0, 0, 0, 0, 0, 0, 0, 0, 0]), (('Croatian Nationalists', -1), [0, 0, 0, 0, 0, 0, 0, 0, 0]), (('Free Papua Movement (OPM-Organisasi Papua Merdeka)', -1), [0, 0, 0, 0, 0, 0, 0, 0, 0]), (('Informal Anarchist Federation', -1), [0, 0, 0, 0, 0, 0, 0, 0, 0]), (('National Committee Against Independence (CNCI)', -1), [0, 0, 0, 0, 0, 0, 0, 0, 0]), (('Vanuatu Mobile Force (VMF)', -1), [0, 0, 0, 0, 0, 0, 0, 0, 0]), (('Combat 18', -1), [0, 0, 0, 0, 0, 0, 0, 0, 0]), (('Greek Bulgarian Armenian Front', -1), [0, 0, 0, 0, 0, 0, 0, 0, 0]), (('Guadalcanal Liberation Army', -1), [0, 0, 0, 0, 0, 0, 0, 0, 0]), (('Isatabu Freedom Movement (IFM)', -1), [0, 0, 0, 0, 0, 0, 0, 0, 0]), (('Lufa Tribesmen', -1), [0, 0, 0, 0, 0, 0, 0, 0, 0]), (('Pacific Popular Front', -1), [0, 0, 0, 0, 0, 0, 0, 0, 0]), (('Palestine Liberation Organization (PLO)', -1), [0, 0, 0, 0, 0, 0, 0, 0, 0]), (('Paupa New Guinea Troops', -1), [0, 0, 0, 0, 0, 0, 0, 0, 0]), (('Zapatista National Liberation Army', -1), [0, 0, 0, 0, 0, 0, 0, 0, 0]), (('Farabundo Marti National Liberation Front (FMLN)', -1), [0, 0, 0, 0, 0, 0, 0, 0, 0]), (('Nicaraguan Democratic Force (FDN)', -1), [0, 0, 0, 0, 0, 0, 0, 0, 0]), (('Sandinista National Liberation Front (FSLN)', -1), [0, 0, 0, 0, 0, 0, 0, 0, 0]), ((\"People's Liberation Forces (FPL)\", -1), [0, 0, 0, 0, 0, 0, 0, 0, 0]), (('Guerrilla Army of the Poor (EGP)', -1), [0, 0, 0, 0, 0, 0, 0, 0, 0]), (('Nicaraguan Resistance', -1), [0, 0, 0, 0, 0, 0, 0, 0, 0]), (('Guatemalan National Revolutionary Unity (URNG)', -1), [0, 0, 0, 0, 0, 0, 0, 0, 0]), (('Death Squad', -1), [0, 0, 0, 0, 0, 0, 0, 0, 0]), (('Revolutionary Organization of People in Arms (ORPA)', -1), [0, 0, 0, 0, 0, 0, 0, 0, 0]), ((\"People's Revolutionary Army (ERP) (El Salvador)\", -1), [0, 0, 0, 0, 0, 0, 0, 0, 0]), (('Armed Forces of National Resistance (FARN)', -1), [0, 0, 0, 0, 0, 0, 0, 0, 0]), (('Lorenzo Zelaya Revolutionary Front (LZRF)', -1), [0, 0, 0, 0, 0, 0, 0, 0, 0]), (('Popular Revolutionary Bloc (BPR)', -1), [0, 0, 0, 0, 0, 0, 0, 0, 0]), (('Democratic Revolutionary Alliance (ARDE)', -1), [0, 0, 0, 0, 0, 0, 0, 0, 0]), (('Rebel Armed Forces of Guatemala (FAR)', -1), [0, 0, 0, 0, 0, 0, 0, 0, 0]), (('Patriotic Morazanista Front (FPM)', -1), [0, 0, 0, 0, 0, 0, 0, 0, 0]), (('Caribbean Revolutionary Alliance (ARC)', -1), [0, 0, 0, 0, 0, 0, 0, 0, 0]), (('Guatemalan Labor Party (PGT)', -1), [0, 0, 0, 0, 0, 0, 0, 0, 0]), (('Recontras', -1), [0, 0, 0, 0, 0, 0, 0, 0, 0]), (('Secret Anti-Communist Army (ESA)', -1), [0, 0, 0, 0, 0, 0, 0, 0, 0]), (('Cinchoneros Popular Liberation Movement', -1), [0, 0, 0, 0, 0, 0, 0, 0, 0]), ((\"31 January People's Front (FP-31)\", -1), [0, 0, 0, 0, 0, 0, 0, 0, 0]), (('20 December Movement (M-20)', -1), [0, 0, 0, 0, 0, 0, 0, 0, 0]), (('February 28 Popular League (El Salvador)', -1), [0, 0, 0, 0, 0, 0, 0, 0, 0]), (('Maximiliano Gomez Revolutionary Brigade', -1), [0, 0, 0, 0, 0, 0, 0, 0, 0]), (('Misurasata Indian Organization', -1), [0, 0, 0, 0, 0, 0, 0, 0, 0]), (('Union Guerrera Blanca (UGB)', -1), [0, 0, 0, 0, 0, 0, 0, 0, 0]), (('United Popular Action Front (FAPU)', -1), [0, 0, 0, 0, 0, 0, 0, 0, 0]), (('South Ossetian Separatists', -1), [0, 0, 0, 0, 0, 0, 0, 0, 0]), ((\"People's Democratic Army\", -1), [0, 0, 0, 0, 0, 0, 0, 0, 0]), (('Supporters of Ex-President Gamsakhurdial', -1), [0, 0, 0, 0, 0, 0, 0, 0, 0]), (('Islamic Jihad Group (IJG)', -1), [0, 0, 0, 0, 0, 0, 0, 0, 0]), (('White Legion (Georgia)', -1), [0, 0, 0, 0, 0, 0, 0, 0, 0]), (('Forest Brothers', -1), [0, 0, 0, 0, 0, 0, 0, 0, 0]), (('Islamic Jihad Union (Uzbekistan)', -1), [0, 0, 0, 0, 0, 0, 0, 0, 0]), (('Rizvon Sadirov Group', -1), [0, 0, 0, 0, 0, 0, 0, 0, 0]), (('Soldiers of the Caliphate', -1), [0, 0, 0, 0, 0, 0, 0, 0, 0]), (('Algeisk Wolves', -1), [0, 0, 0, 0, 0, 0, 0, 0, 0]), (('Hizb al-Tahrir al-Islami (HT)', -1), [0, 0, 0, 0, 0, 0, 0, 0, 0]), (('Islamic Movement of Uzbekistan (IMU)', -1), [0, 0, 0, 0, 0, 0, 0, 0, 0]), (('Sandval (union) Movement', -1), [0, 0, 0, 0, 0, 0, 0, 0, 0]), (('South Ossetian Extremists', -1), [0, 0, 0, 0, 0, 0, 0, 0, 0]), (('Tolib Ayombekov loyalists', -1), [0, 0, 0, 0, 0, 0, 0, 0, 0]), (('Uighur Liberation Organization', -1), [0, 0, 0, 0, 0, 0, 0, 0, 0]), (('Yekbun', -1), [0, 0, 0, 0, 0, 0, 0, 0, 0]), (('Zviadists', -1), [0, 0, 0, 0, 0, 0, 0, 0, 0]), (('Chukakuha (Middle Core Faction)', -1), [0, 0, 0, 0, 0, 0, 0, 0, 0]), ((\"Revolutionary Workers' Council (Kakurokyo)\", -1), [0, 0, 0, 0, 0, 0, 0, 0, 0]), (('East Asia Anti Japanese Armed Front', -1), [0, 0, 0, 0, 0, 0, 0, 0, 0]), (('Eastern Turkistan Islamic Movement (ETIM)', -1), [0, 0, 0, 0, 0, 0, 0, 0, 0]), (('Aum Shinri Kyo', -1), [0, 0, 0, 0, 0, 0, 0, 0, 0]), (('Senki (\"Battle Flag\")', -1), [0, 0, 0, 0, 0, 0, 0, 0, 0]), (('14 K Triad', -1), [0, 0, 0, 0, 0, 0, 0, 0, 0]), (('Seikijuku', -1), [0, 0, 0, 0, 0, 0, 0, 0, 0]), (('League of Communists', -1), [0, 0, 0, 0, 0, 0, 0, 0, 0]), (('Maruseido (Marxist Youth League)', -1), [0, 0, 0, 0, 0, 0, 0, 0, 0]), (('Sekihotai', -1), [0, 0, 0, 0, 0, 0, 0, 0, 0]), (('Turkestan Islamic Party', -1), [0, 0, 0, 0, 0, 0, 0, 0, 0]), (('Anti-Imperialist Students Council', -1), [0, 0, 0, 0, 0, 0, 0, 0, 0]), (('Anti-Narita Extremists', -1), [0, 0, 0, 0, 0, 0, 0, 0, 0]), (('Association for the Enhancement of the Justice of the Great Japan', -1), [0, 0, 0, 0, 0, 0, 0, 0, 0]), (('Chondaehyop (Radical Student Coalition)', -1), [0, 0, 0, 0, 0, 0, 0, 0, 0]), (('Chonson Univ. students', -1), [0, 0, 0, 0, 0, 0, 0, 0, 0]), (('Chukakuha Revolutionary Army', -1), [0, 0, 0, 0, 0, 0, 0, 0, 0]), (('Dainihon Yokuko Doshikai', -1), [0, 0, 0, 0, 0, 0, 0, 0, 0]), (('Democratic Progressive Party', -1), [0, 0, 0, 0, 0, 0, 0, 0, 0]), (('Do-or-Die Corps for the Abolition of Anti-Public Taxation Systems', -1), [0, 0, 0, 0, 0, 0, 0, 0, 0]), (('Great Japan Patriotic Party', -1), [0, 0, 0, 0, 0, 0, 0, 0, 0]), (('Hanchongryun', -1), [0, 0, 0, 0, 0, 0, 0, 0, 0]), (('Hiroyuki Jo', -1), [0, 0, 0, 0, 0, 0, 0, 0, 0]), (('Hotaru (Firefly)', -1), [0, 0, 0, 0, 0, 0, 0, 0, 0]), (('Issui Kai', -1), [0, 0, 0, 0, 0, 0, 0, 0, 0]), (('Japan National Youth Alliance', -1), [0, 0, 0, 0, 0, 0, 0, 0, 0]), ((\"Japan Socialist Youth League of the Revolutionary Workers' Association\", -1), [0, 0, 0, 0, 0, 0, 0, 0, 0]), (('Japanese Independence Patriotic Party', -1), [0, 0, 0, 0, 0, 0, 0, 0, 0]), (('Japanese Red Army (JRA)', -1), [0, 0, 0, 0, 0, 0, 0, 0, 0]), (('Korean Youth League', -1), [0, 0, 0, 0, 0, 0, 0, 0, 0]), (('Kyongbuk University Dental College Students', -1), [0, 0, 0, 0, 0, 0, 0, 0, 0]), (('Namchong-Nyon Students', -1), [0, 0, 0, 0, 0, 0, 0, 0, 0]), (('Nara Red Army', -1), [0, 0, 0, 0, 0, 0, 0, 0, 0]), (('National Defense Youth Corps', -1), [0, 0, 0, 0, 0, 0, 0, 0, 0]), (('Revolutionary Army', -1), [0, 0, 0, 0, 0, 0, 0, 0, 0]), (('Revolutionary Force', -1), [0, 0, 0, 0, 0, 0, 0, 0, 0]), (('Seiji Kesha Kokuyukai', -1), [0, 0, 0, 0, 0, 0, 0, 0, 0]), (('Shonkonjuku Group', -1), [0, 0, 0, 0, 0, 0, 0, 0, 0]), (('Taihikai (Great Sadness)', -1), [0, 0, 0, 0, 0, 0, 0, 0, 0]), (('Taikosha, right wing group', -1), [0, 0, 0, 0, 0, 0, 0, 0, 0]), (('Yamaguchi-Gumi Gang', -1), [0, 0, 0, 0, 0, 0, 0, 0, 0]), (('Yokoku Seiwa-Kai', -1), [0, 0, 0, 0, 0, 0, 0, 0, 0]), (('Kosovo Liberation Army (KLA)', -1), [0, 0, 0, 0, 0, 0, 0, 0, 0]), (('Caucasus Emirate', -1), [0, 0, 0, 0, 0, 0, 0, 0, 0]), (('National Liberation Army (NLA) (Macedonia)', -1), [0, 0, 0, 0, 0, 0, 0, 0, 0]), (('Riyadus-Salikhin Reconnaissance and Sabotage Battalion of Chechen Martyrs', -1), [0, 0, 0, 0, 0, 0, 0, 0, 0]), (('Armed Forces of the Chechen Republic of Ichkeria', -1), [0, 0, 0, 0, 0, 0, 0, 0, 0]), ((\"Dagestani Shari'ah Jamaat\", -1), [0, 0, 0, 0, 0, 0, 0, 0, 0]), (('Albanian National Army (ANA)', -1), [0, 0, 0, 0, 0, 0, 0, 0, 0]), (('Islambouli Brigades of al-Qaida', -1), [0, 0, 0, 0, 0, 0, 0, 0, 0]), (('NVF', -1), [0, 0, 0, 0, 0, 0, 0, 0, 0]), (('Ukrainian Nationalist Group', -1), [0, 0, 0, 0, 0, 0, 0, 0, 0]), (('Armenian Nationalists', -1), [0, 0, 0, 0, 0, 0, 0, 0, 0]), (('Black Berets', -1), [0, 0, 0, 0, 0, 0, 0, 0, 0]), (('December 13 Independent Group', -1), [0, 0, 0, 0, 0, 0, 0, 0, 0]), (('Extraparliamentary Opposition (APO)', -1), [0, 0, 0, 0, 0, 0, 0, 0, 0]), (('Internationalist Cells', -1), [0, 0, 0, 0, 0, 0, 0, 0, 0]), (('Liberation Army for Presevo, Medvedja and Bujanovac (UCPMB)', -1), [0, 0, 0, 0, 0, 0, 0, 0, 0]), (('Makhachkala Gang', -1), [0, 0, 0, 0, 0, 0, 0, 0, 0]), (('Red Army Faction (RAF)', -1), [0, 0, 0, 0, 0, 0, 0, 0, 0]), (('Revolutionary Cells Network (SRN)', -1), [0, 0, 0, 0, 0, 0, 0, 0, 0]), (('Islamic State of Iraq and the Levant (ISIL)', -1), [0, 0, 0, 0, 0, 0, 0, 0, 0]), ((\"Kurdistan Workers' Party (PKK)\", -1), [0, 0, 0, 0, 0, 0, 0, 0, 0]), (('Al-Qaida in Iraq', -1), [0, 0, 0, 0, 0, 0, 0, 0, 0]), (('Al-Qaida in the Arabian Peninsula (AQAP)', -1), [0, 0, 0, 0, 0, 0, 0, 0, 0]), (('Hamas (Islamic Resistance Movement)', -1), [0, 0, 0, 0, 0, 0, 0, 0, 0]), ((\"Al-Gama'at al-Islamiyya (IG)\", -1), [0, 0, 0, 0, 0, 0, 0, 0, 0]), (('Algerian Islamic Extremists', -1), [0, 0, 0, 0, 0, 0, 0, 0, 0]), (('Hezbollah', -1), [0, 0, 0, 0, 0, 0, 0, 0, 0]), (('Dev Sol', -1), [0, 0, 0, 0, 0, 0, 0, 0, 0]), (('Armed Islamic Group (GIA)', -1), [0, 0, 0, 0, 0, 0, 0, 0, 0]), (('Palestinian Islamic Jihad (PIJ)', -1), [0, 0, 0, 0, 0, 0, 0, 0, 0]), (('Al-Aqsa Martyrs Brigade', -1), [0, 0, 0, 0, 0, 0, 0, 0, 0]), (('Al-Nusrah Front', -1), [0, 0, 0, 0, 0, 0, 0, 0, 0]), (('Islamic Salvation Front (FIS)', -1), [0, 0, 0, 0, 0, 0, 0, 0, 0]), (('Islamic State of Iraq (ISI)', -1), [0, 0, 0, 0, 0, 0, 0, 0, 0]), (('Salafist Group for Preaching and Fighting (GSPC)', -1), [0, 0, 0, 0, 0, 0, 0, 0, 0]), (('Al-Qaida in the Islamic Maghreb (AQIM)', -1), [0, 0, 0, 0, 0, 0, 0, 0, 0]), (('Tripoli Province of the Islamic State', -1), [0, 0, 0, 0, 0, 0, 0, 0, 0]), (('Sinai Province of the Islamic State', -1), [0, 0, 0, 0, 0, 0, 0, 0, 0]), (('Popular Front for the Liberation of Palestine (PFLP)', -1), [0, 0, 0, 0, 0, 0, 0, 0, 0]), (('Muslim Brotherhood', -1), [0, 0, 0, 0, 0, 0, 0, 0, 0]), (('Mujahedin-e Khalq (MEK)', -1), [0, 0, 0, 0, 0, 0, 0, 0, 0]), (('Barqa Province of the Islamic State', -1), [0, 0, 0, 0, 0, 0, 0, 0, 0]), (('Fuerzas Armadas de Liberacion Nacional (FALN)', -1), [0, 0, 0, 0, 0, 0, 0, 0, 0]), (('New World Liberation Front (NWLF)', -1), [0, 0, 0, 0, 0, 0, 0, 0, 0]), (('Jewish Defense League (JDL)', -1), [0, 0, 0, 0, 0, 0, 0, 0, 0]), (('Earth Liberation Front (ELF)', -1), [0, 0, 0, 0, 0, 0, 0, 0, 0]), (('Black Nationalists', -1), [0, 0, 0, 0, 0, 0, 0, 0, 0]), (('Omega-7', -1), [0, 0, 0, 0, 0, 0, 0, 0, 0]), (('23rd of September Communist League', -1), [0, 0, 0, 0, 0, 0, 0, 0, 0]), (('Weather Underground, Weathermen', -1), [0, 0, 0, 0, 0, 0, 0, 0, 0]), (('Macheteros', -1), [0, 0, 0, 0, 0, 0, 0, 0, 0]), (('Armed Revolutionary Independence Movement (MIRA)', -1), [0, 0, 0, 0, 0, 0, 0, 0, 0]), (('Chicano Liberation Front', -1), [0, 0, 0, 0, 0, 0, 0, 0, 0]), (('Black Liberation Army', -1), [0, 0, 0, 0, 0, 0, 0, 0, 0]), (('Black Panthers', -1), [0, 0, 0, 0, 0, 0, 0, 0, 0]), (('Army of God', -1), [0, 0, 0, 0, 0, 0, 0, 0, 0]), (('Puerto Rican Nationalists', -1), [0, 0, 0, 0, 0, 0, 0, 0, 0]), (('United Freedom Front (UFF)', -1), [0, 0, 0, 0, 0, 0, 0, 0, 0]), (('Union of the People (UDP)', -1), [0, 0, 0, 0, 0, 0, 0, 0, 0]), (('Ku Klux Klan', -1), [0, 0, 0, 0, 0, 0, 0, 0, 0]), (('Zebra killers', -1), [0, 0, 0, 0, 0, 0, 0, 0, 0]), (('Independent Armed Revolutionary Commandos (CRIA)', -1), [0, 0, 0, 0, 0, 0, 0, 0, 0]), (('George Jackson Brigade', -1), [0, 0, 0, 0, 0, 0, 0, 0, 0]), (('Jewish Armed Resistance', -1), [0, 0, 0, 0, 0, 0, 0, 0, 0]), (('Shining Path (SL)', -1), [0, 0, 0, 0, 0, 0, 0, 0, 0]), (('Revolutionary Armed Forces of Colombia (FARC)', -1), [0, 0, 0, 0, 0, 0, 0, 0, 0]), (('National Liberation Army of Colombia (ELN)', -1), [0, 0, 0, 0, 0, 0, 0, 0, 0]), (('Manuel Rodriguez Patriotic Front (FPMR)', -1), [0, 0, 0, 0, 0, 0, 0, 0, 0]), (('Tupac Amaru Revolutionary Movement (MRTA)', -1), [0, 0, 0, 0, 0, 0, 0, 0, 0]), (('M-19 (Movement of April 19)', -1), [0, 0, 0, 0, 0, 0, 0, 0, 0]), (('Movement of the Revolutionary Left (MIR) (Chile)', -1), [0, 0, 0, 0, 0, 0, 0, 0, 0]), (('Popular Liberation Army (EPL)', -1), [0, 0, 0, 0, 0, 0, 0, 0, 0]), (('Simon Bolivar Guerrilla Coordinating Board (CGSB)', -1), [0, 0, 0, 0, 0, 0, 0, 0, 0]), (('The Extraditables', -1), [0, 0, 0, 0, 0, 0, 0, 0, 0]), (('United Popular Action Movement', -1), [0, 0, 0, 0, 0, 0, 0, 0, 0]), (('Montoneros (Argentina)', -1), [0, 0, 0, 0, 0, 0, 0, 0, 0]), (('Ejercito Revolucionaria del Pueblo (ERP) (Argentina)', -1), [0, 0, 0, 0, 0, 0, 0, 0, 0]), (('United Self Defense Units of Colombia (AUC)', -1), [0, 0, 0, 0, 0, 0, 0, 0, 0]), ((\"Paraguayan People's Army (EPP)\", -1), [0, 0, 0, 0, 0, 0, 0, 0, 0]), (('Tupamaros (Uruguay)', -1), [0, 0, 0, 0, 0, 0, 0, 0, 0]), (('Ricardo Franco Front (Dissident FARC)', -1), [0, 0, 0, 0, 0, 0, 0, 0, 0]), (('Brunswijk Jungle Commando', -1), [0, 0, 0, 0, 0, 0, 0, 0, 0]), (('Alfaro Vive', -1), [0, 0, 0, 0, 0, 0, 0, 0, 0]), (('Tupac Katari Guerrilla Army (EGTK)', -1), [0, 0, 0, 0, 0, 0, 0, 0, 0]), (('Red Flag (Venezuela)', -1), [0, 0, 0, 0, 0, 0, 0, 0, 0]), (('Peasant Self-Defense Group (ACCU)', -1), [0, 0, 0, 0, 0, 0, 0, 0, 0]), (('Death to Kidnappers (MAS)', -1), [0, 0, 0, 0, 0, 0, 0, 0, 0]), (('Popular Militia (Colombia)', -1), [0, 0, 0, 0, 0, 0, 0, 0, 0]), (('Rodrigo Franco Command', -1), [0, 0, 0, 0, 0, 0, 0, 0, 0]), ((\"Workers' Self-Defense Movement (MAO)\", -1), [0, 0, 0, 0, 0, 0, 0, 0, 0]), ((\"People's Revolutionary Organization\", -1), [0, 0, 0, 0, 0, 0, 0, 0, 0]), (('Taliban', -1), [0, 0, 0, 0, 0, 0, 0, 0, 0]), (('Communist Party of India - Maoist (CPI-Maoist)', -1), [0, 0, 0, 0, 0, 0, 0, 0, 0]), (('Liberation Tigers of Tamil Eelam (LTTE)', -1), [0, 0, 0, 0, 0, 0, 0, 0, 0]), (('Tehrik-i-Taliban Pakistan (TTP)', -1), [0, 0, 0, 0, 0, 0, 0, 0, 0]), ((\"People's Liberation Front (JVP)\", -1), [0, 0, 0, 0, 0, 0, 0, 0, 0]), (('United Liberation Front of Assam (ULFA)', -1), [0, 0, 0, 0, 0, 0, 0, 0, 0]), (('Baloch Republican Army (BRA)', -1), [0, 0, 0, 0, 0, 0, 0, 0, 0]), (('National Democratic Front of Bodoland (NDFB)', -1), [0, 0, 0, 0, 0, 0, 0, 0, 0]), (('Muttahida Qami Movement (MQM)', -1), [0, 0, 0, 0, 0, 0, 0, 0, 0]), (('Garo National Liberation Army', -1), [0, 0, 0, 0, 0, 0, 0, 0, 0]), (('Baloch Liberation Army (BLA)', -1), [0, 0, 0, 0, 0, 0, 0, 0, 0]), (('Lashkar-e-Taiba (LeT)', -1), [0, 0, 0, 0, 0, 0, 0, 0, 0]), (('Hizbul Mujahideen (HM)', -1), [0, 0, 0, 0, 0, 0, 0, 0, 0]), (('Lashkar-e-Jhangvi', -1), [0, 0, 0, 0, 0, 0, 0, 0, 0]), ((\"People's War Group (PWG)\", -1), [0, 0, 0, 0, 0, 0, 0, 0, 0]), (('Pro Hartal Activists', -1), [0, 0, 0, 0, 0, 0, 0, 0, 0]), (('Lashkar-e-Islam (Pakistan)', -1), [0, 0, 0, 0, 0, 0, 0, 0, 0]), (('Shanti Bahini - Peace Force', -1), [0, 0, 0, 0, 0, 0, 0, 0, 0]), (('Baloch Liberation Front (BLF)', -1), [0, 0, 0, 0, 0, 0, 0, 0, 0]), (('Janatantrik Terai Mukti Morcha- Jwala Singh (JTMM-J)', -1), [0, 0, 0, 0, 0, 0, 0, 0, 0]), (('United Baloch Army (UBA)', -1), [0, 0, 0, 0, 0, 0, 0, 0, 0]), (('National Liberation Front of Tripura (NLFT)', -1), [0, 0, 0, 0, 0, 0, 0, 0, 0]), (('Bangladesh Nationalist Party (BNP)', -1), [0, 0, 0, 0, 0, 0, 0, 0, 0]), (('Naxalites', -1), [0, 0, 0, 0, 0, 0, 0, 0, 0]), (('Haqqani Network', -1), [0, 0, 0, 0, 0, 0, 0, 0, 0]), ((\"New People's Army (NPA)\", -1), [0, 0, 0, 0, 0, 0, 0, 0, 0]), (('Abu Sayyaf Group (ASG)', -1), [0, 0, 0, 0, 0, 0, 0, 0, 0]), (('Moro Islamic Liberation Front (MILF)', -1), [0, 0, 0, 0, 0, 0, 0, 0, 0]), (('Moro National Liberation Front (MNLF)', -1), [0, 0, 0, 0, 0, 0, 0, 0, 0]), (('Khmer Rouge', -1), [0, 0, 0, 0, 0, 0, 0, 0, 0]), (('Bangsamoro Islamic Freedom Movement (BIFM)', -1), [0, 0, 0, 0, 0, 0, 0, 0, 0]), (('Runda Kumpulan Kecil (RKK)', -1), [0, 0, 0, 0, 0, 0, 0, 0, 0]), (('Free Aceh Movement (GAM)', -1), [0, 0, 0, 0, 0, 0, 0, 0, 0]), (('Karen National Union', -1), [0, 0, 0, 0, 0, 0, 0, 0, 0]), (('Jemaah Islamiya (JI)', -1), [0, 0, 0, 0, 0, 0, 0, 0, 0]), (('Pattani United Liberation Organization (PULO)', -1), [0, 0, 0, 0, 0, 0, 0, 0, 0]), (('Thai Islamic Militants', -1), [0, 0, 0, 0, 0, 0, 0, 0, 0]), (('April 6th Liberation Movement', -1), [0, 0, 0, 0, 0, 0, 0, 0, 0]), (('Kachin Independence Army (KIA)', -1), [0, 0, 0, 0, 0, 0, 0, 0, 0]), (('United Front for Democracy Against Dictatorship', -1), [0, 0, 0, 0, 0, 0, 0, 0, 0]), (('Democratic Karen Buddhist Army (DKBA)', -1), [0, 0, 0, 0, 0, 0, 0, 0, 0]), (('Mujahidin Indonesia Timur (MIT)', -1), [0, 0, 0, 0, 0, 0, 0, 0, 0]), (('Alex Boncayao Brigade (ABB)', -1), [0, 0, 0, 0, 0, 0, 0, 0, 0]), (('Barisan Revolusi Nasional (BRN)', -1), [0, 0, 0, 0, 0, 0, 0, 0, 0]), (('Al-Khobar', -1), [0, 0, 0, 0, 0, 0, 0, 0, 0]), (('Jamaah Ansharut Tauhid (JAT)', -1), [0, 0, 0, 0, 0, 0, 0, 0, 0]), (('Reform of the Armed Forces Movement', -1), [0, 0, 0, 0, 0, 0, 0, 0, 0]), (('Boko Haram', -1), [0, 0, 0, 0, 0, 0, 0, 0, 0]), (('Al-Shabaab', -1), [0, 0, 0, 0, 0, 0, 0, 0, 0]), (('African National Congress (South Africa)', -1), [0, 0, 0, 0, 0, 0, 0, 0, 0]), (('National Union for the Total Independence of Angola (UNITA)', -1), [0, 0, 0, 0, 0, 0, 0, 0, 0]), ((\"Lord's Resistance Army (LRA)\", -1), [0, 0, 0, 0, 0, 0, 0, 0, 0]), (('Mozambique National Resistance Movement (MNR)', -1), [0, 0, 0, 0, 0, 0, 0, 0, 0]), (('Janjaweed', -1), [0, 0, 0, 0, 0, 0, 0, 0, 0]), (('Allied Democratic Forces (ADF)', -1), [0, 0, 0, 0, 0, 0, 0, 0, 0]), (('Movement for the Emancipation of the Niger Delta (MEND)', -1), [0, 0, 0, 0, 0, 0, 0, 0, 0]), (('Democratic Front for the Liberation of Rwanda (FDLR)', -1), [0, 0, 0, 0, 0, 0, 0, 0, 0]), (('Movement of Democratic Forces of Casamance', -1), [0, 0, 0, 0, 0, 0, 0, 0, 0]), ((\"South-West Africa People's Organization (SWAPO)\", -1), [0, 0, 0, 0, 0, 0, 0, 0, 0]), (('Revolutionary United Front (RUF)', -1), [0, 0, 0, 0, 0, 0, 0, 0, 0]), ((\"Sudan People's Liberation Movement - North\", -1), [0, 0, 0, 0, 0, 0, 0, 0, 0]), ((\"Sudan People's Liberation Army (SPLA)\", -1), [0, 0, 0, 0, 0, 0, 0, 0, 0]), (('Party for the Liberation of the Hutu People (PALIPEHUTU)', -1), [0, 0, 0, 0, 0, 0, 0, 0, 0]), (('Inkatha Freedom Party (IFP)', -1), [0, 0, 0, 0, 0, 0, 0, 0, 0]), (('Movement for Oneness and Jihad in West Africa (MUJAO)', -1), [0, 0, 0, 0, 0, 0, 0, 0, 0]), (('Mayi Mayi', -1), [0, 0, 0, 0, 0, 0, 0, 0, 0]), (('Seleka', -1), [0, 0, 0, 0, 0, 0, 0, 0, 0]), (('National Liberation Front (FNL) (Burundi)', -1), [0, 0, 0, 0, 0, 0, 0, 0, 0]), (('Patriotic Resistance Front in Ituri (FRPI)', -1), [0, 0, 0, 0, 0, 0, 0, 0, 0]), ((\"Sudan People's Liberation Movement in Opposition (SPLM-IO)\", -1), [0, 0, 0, 0, 0, 0, 0, 0, 0]), (('Zimbabwe African Nationalist Union (ZANU)', -1), [0, 0, 0, 0, 0, 0, 0, 0, 0]), (('Azawad National Liberation Movement (MNLA)', -1), [0, 0, 0, 0, 0, 0, 0, 0, 0]), (('Uganda Freedom Movement (UFM)', -1), [0, 0, 0, 0, 0, 0, 0, 0, 0]), (('Basque Fatherland and Freedom (ETA)', -1), [0, 0, 0, 0, 0, 0, 0, 0, 0]), (('Irish Republican Army (IRA)', -1), [0, 0, 0, 0, 0, 0, 0, 0, 0]), (('Corsican National Liberation Front (FLNC)', -1), [0, 0, 0, 0, 0, 0, 0, 0, 0]), (('Ulster Volunteer Force (UVF)', -1), [0, 0, 0, 0, 0, 0, 0, 0, 0]), (('Ulster Freedom Fighters (UFF)', -1), [0, 0, 0, 0, 0, 0, 0, 0, 0]), (('Red Brigades', -1), [0, 0, 0, 0, 0, 0, 0, 0, 0]), (('First of October Antifascist Resistance Group (GRAPO)', -1), [0, 0, 0, 0, 0, 0, 0, 0, 0]), (('Corsican National Liberation Front- Historic Channel', -1), [0, 0, 0, 0, 0, 0, 0, 0, 0]), (('Armenian Secret Army for the Liberation of Armenia', -1), [0, 0, 0, 0, 0, 0, 0, 0, 0]), (('November 17 Revolutionary Organization (N17RO)', -1), [0, 0, 0, 0, 0, 0, 0, 0, 0]), (('Irish National Liberation Army (INLA)', -1), [0, 0, 0, 0, 0, 0, 0, 0, 0]), ((\"Revolutionary People's Struggle (ELA)\", -1), [0, 0, 0, 0, 0, 0, 0, 0, 0]), (('Irish Republican Extremists', -1), [0, 0, 0, 0, 0, 0, 0, 0, 0]), (('Dissident Republicans', -1), [0, 0, 0, 0, 0, 0, 0, 0, 0]), (('Terra Lliure', -1), [0, 0, 0, 0, 0, 0, 0, 0, 0]), (('Prima Linea', -1), [0, 0, 0, 0, 0, 0, 0, 0, 0]), (('Iparretarrak (IK)', -1), [0, 0, 0, 0, 0, 0, 0, 0, 0]), (('Action Directe', -1), [0, 0, 0, 0, 0, 0, 0, 0, 0]), (('Baader-Meinhof Group', -1), [0, 0, 0, 0, 0, 0, 0, 0, 0]), (('Conspiracy of Cells of Fire', -1), [0, 0, 0, 0, 0, 0, 0, 0, 0]), (('Revolutionary Cells', -1), [0, 0, 0, 0, 0, 0, 0, 0, 0]), ((\"Free Galician People's Guerrilla Army\", -1), [0, 0, 0, 0, 0, 0, 0, 0, 0]), (('Popular Forces of April 25', -1), [0, 0, 0, 0, 0, 0, 0, 0, 0]), (('Revolutionary Patriotic Anti-Fascist Front (FRAP)', -1), [0, 0, 0, 0, 0, 0, 0, 0, 0]), (('Real Irish Republican Army (RIRA)', -1), [0, 0, 0, 0, 0, 0, 0, 0, 0]), (('Ex-Somoza National Guard', -1), [0, 0, 0, 0, 0, 0, 0, 0, 0]), (('Coordination of the United Revolutionary Organization (CORU)', -1), [0, 0, 0, 0, 0, 0, 0, 0, 0]), (('Maximiliano Hernandez Martinez Brigade', -1), [0, 0, 0, 0, 0, 0, 0, 0, 0]), (('Revolutionary Front for Hatian Advancement and Progress (FRAPH)', -1), [0, 0, 0, 0, 0, 0, 0, 0, 0]), (('Ansar Allah', -1), [0, 0, 0, 0, 0, 0, 0, 0, 0]), (('Bloque Anti-Guerrillero de Oriente (BAGO)', -1), [0, 0, 0, 0, 0, 0, 0, 0, 0]), (('Chechen Lone Wolf Group', -1), [0, 0, 0, 0, 0, 0, 0, 0, 0]), (('Justice Commandos for the Armenian Genocide', -1), [0, 0, 0, 0, 0, 0, 0, 0, 0]), (('Sayfullakh', -1), [0, 0, 0, 0, 0, 0, 0, 0, 0]), (('Special Purpose Islamic Regiment (SPIR)', -1), [0, 0, 0, 0, 0, 0, 0, 0, 0]), (('Free Syrian Army', -1), [0, 0, 0, 0, 0, 0, 0, 0, 0]), (('Tawhid and Jihad', -1), [0, 0, 0, 0, 0, 0, 0, 0, 0]), (('Sanaa Province of the Islamic State', -1), [0, 0, 0, 0, 0, 0, 0, 0, 0]), (('Abdullah Azzam Brigades', -1), [0, 0, 0, 0, 0, 0, 0, 0, 0]), (('Front for the Liberation of Lebanon from Foreigners', -1), [0, 0, 0, 0, 0, 0, 0, 0, 0]), (('Ansar al-Din Front', -1), [0, 0, 0, 0, 0, 0, 0, 0, 0]), (('Institutional Revolutionary Party (PRI)', -1), [0, 0, 0, 0, 0, 0, 0, 0, 0]), (('Popular Revolutionary Army (Mexico)', -1), [0, 0, 0, 0, 0, 0, 0, 0, 0]), (('Armed Commandos of Liberation', -1), [0, 0, 0, 0, 0, 0, 0, 0, 0]), (('Democratic Revolutionary Party', -1), [0, 0, 0, 0, 0, 0, 0, 0, 0]), (('Al-Qaida', -1), [0, 0, 0, 0, 0, 0, 0, 0, 0]), (('Vietnamese Organization to Exterminate Communists and Restore the Nation', -1), [0, 0, 0, 0, 0, 0, 0, 0, 0]), (('Individuals Tending Toward Savagery', -1), [0, 0, 0, 0, 0, 0, 0, 0, 0]), (('Militant Peasants (NFI)', -1), [0, 0, 0, 0, 0, 0, 0, 0, 0]), (('Republic of New Afrika', -1), [0, 0, 0, 0, 0, 0, 0, 0, 0]), (('Jonathan Jackson Brigade', -1), [0, 0, 0, 0, 0, 0, 0, 0, 0]), (('Justice Army for Defenseless Peoples', -1), [0, 0, 0, 0, 0, 0, 0, 0, 0]), (('Movement for Triqui Unification and Struggle', -1), [0, 0, 0, 0, 0, 0, 0, 0, 0]), (('America Battalion', -1), [0, 0, 0, 0, 0, 0, 0, 0, 0]), (('Commandos for A Popular alternative', -1), [0, 0, 0, 0, 0, 0, 0, 0, 0]), (('Death to Rustlers', -1), [0, 0, 0, 0, 0, 0, 0, 0, 0]), (('National Socialist Civic Workers Movement', -1), [0, 0, 0, 0, 0, 0, 0, 0, 0]), (('Khorasan Chapter of the Islamic State', -1), [0, 0, 0, 0, 0, 0, 0, 0, 0]), (('Maoist Communist Center (MCC)', -1), [0, 0, 0, 0, 0, 0, 0, 0, 0]), (('Communist Party of Nepal- Maoist (CPN-M)', -1), [0, 0, 0, 0, 0, 0, 0, 0, 0]), (('Jundallah', -1), [0, 0, 0, 0, 0, 0, 0, 0, 0]), (('Harkatul Jihad-e-Islami', -1), [0, 0, 0, 0, 0, 0, 0, 0, 0]), (('Vigilante Group', -1), [0, 0, 0, 0, 0, 0, 0, 0, 0]), (('Deccan Mujahideen', -1), [0, 0, 0, 0, 0, 0, 0, 0, 0]), ((\"Cambodian People's Party (CPP)\", -1), [0, 0, 0, 0, 0, 0, 0, 0, 0]), (('North Korean involvement commandos', -1), [0, 0, 0, 0, 0, 0, 0, 0, 0]), (('Justice and Equality Movement (JEM)', -1), [0, 0, 0, 0, 0, 0, 0, 0, 0]), (('Tigray Peoples Liberation Front (TPLF)', -1), [0, 0, 0, 0, 0, 0, 0, 0, 0]), (('National Resistance Movement (NRM)', -1), [0, 0, 0, 0, 0, 0, 0, 0, 0]), (('Dissident Military Mmbrs of Northern Tribal Group', -1), [0, 0, 0, 0, 0, 0, 0, 0, 0]), (('Black September', -1), [0, 0, 0, 0, 0, 0, 0, 0, 0]), (('Armed Revolutionary Nuclei (NAR)', -1), [0, 0, 0, 0, 0, 0, 0, 0, 0]), (('Official Irish Republican Army (OIRA)', -1), [0, 0, 0, 0, 0, 0, 0, 0, 0]), (('Abu Nidal Organization (ANO)', -1), [0, 0, 0, 0, 0, 0, 0, 0, 0]), (('Abu Hafs al-Masri Brigades', -1), [0, 0, 0, 0, 0, 0, 0, 0, 0]), (('Black Order', -1), [0, 0, 0, 0, 0, 0, 0, 0, 0]), (('Republican Action Force', -1), [0, 0, 0, 0, 0, 0, 0, 0, 0]), (('Secret Organization of al-Qaida in Europe', -1), [0, 0, 0, 0, 0, 0, 0, 0, 0]), (('Popular Front for the Liberation of Palestine, Gen Cmd (PFLP-GC)', -1), [0, 0, 0, 0, 0, 0, 0, 0, 0]), (('New Order', -1), [0, 0, 0, 0, 0, 0, 0, 0, 0]), (('Mano Blanca', -1), [0, 0, 0, 0, 0, 0, 0, 0, 0]), (('Miskito Indian Organization', -1), [0, 0, 0, 0, 0, 0, 0, 0, 0]), (('National Anti Communist Commando', -1), [0, 0, 0, 0, 0, 0, 0, 0, 0]), (('Revolutionary Workers Party', -1), [0, 0, 0, 0, 0, 0, 0, 0, 0]), (('Guatemalan Communist Party', -1), [0, 0, 0, 0, 0, 0, 0, 0, 0]), (('Jamaica Labor Party', -1), [0, 0, 0, 0, 0, 0, 0, 0, 0]), (('Cossack Separatists', -1), [0, 0, 0, 0, 0, 0, 0, 0, 0]), ((\"Kata'ib al-Khoul\", -1), [0, 0, 0, 0, 0, 0, 0, 0, 0]), (('Al-Fatah', -1), [0, 0, 0, 0, 0, 0, 0, 0, 0]), (('Devrimici Halk Kurtulus Cephesi (DHKP/C)', -1), [0, 0, 0, 0, 0, 0, 0, 0, 0]), (('Democratic Front for the Liberation of Palestine (DFLP)', -1), [0, 0, 0, 0, 0, 0, 0, 0, 0]), (('Turkish Communist Party/Marxist (TKP-ML)', -1), [0, 0, 0, 0, 0, 0, 0, 0, 0]), (('Jewish Extremists', -1), [0, 0, 0, 0, 0, 0, 0, 0, 0]), (('Syrian Social Nationalist Party', -1), [0, 0, 0, 0, 0, 0, 0, 0, 0]), (('Kurdish Democratic Party-Iraq (KDP)', -1), [0, 0, 0, 0, 0, 0, 0, 0, 0]), (('Islamic Unification Movement', -1), [0, 0, 0, 0, 0, 0, 0, 0, 0]), (('The Justice Department', -1), [0, 0, 0, 0, 0, 0, 0, 0, 0]), (('Che Guevara Brigade', -1), [0, 0, 0, 0, 0, 0, 0, 0, 0]), (('Movement of the Revolutionary Left (MIR) (Peru)', -1), [0, 0, 0, 0, 0, 0, 0, 0, 0]), (('Ejercito de Liberacion Nacional (Bolivia)', -1), [0, 0, 0, 0, 0, 0, 0, 0, 0]), (('National Liberation Army (Ecuador)', -1), [0, 0, 0, 0, 0, 0, 0, 0, 0]), (('Jamaat-E-Islami (Bangladesh)', -1), [0, 0, 0, 0, 0, 0, 0, 0, 0]), ((\"People's Liberation Army (India)\", -1), [0, 0, 0, 0, 0, 0, 0, 0, 0]), (('Hizb-I-Islami', -1), [0, 0, 0, 0, 0, 0, 0, 0, 0]), (('Awami League', -1), [0, 0, 0, 0, 0, 0, 0, 0, 0]), (('Jamaat-E-Islami (India/Pakistan)', -1), [0, 0, 0, 0, 0, 0, 0, 0, 0]), (('Babbar Khalsa International (BKI)', -1), [0, 0, 0, 0, 0, 0, 0, 0, 0]), (('Communist Party of India- Marxist', -1), [0, 0, 0, 0, 0, 0, 0, 0, 0]), ((\"Pakistani People's Party (PPP)\", -1), [0, 0, 0, 0, 0, 0, 0, 0, 0]), (('Tamil Nadu Liberation Army', -1), [0, 0, 0, 0, 0, 0, 0, 0, 0]), (('Kuki Tribal Militants', -1), [0, 0, 0, 0, 0, 0, 0, 0, 0]), (('Khasi Students Union', -1), [0, 0, 0, 0, 0, 0, 0, 0, 0]), ((\"All Burma Students' Democratic Front (ABSDF)\", -1), [0, 0, 0, 0, 0, 0, 0, 0, 0]), (('Karenni National Progressive Party', -1), [0, 0, 0, 0, 0, 0, 0, 0, 0]), (('Shan State Army - North (SSA-N)', -1), [0, 0, 0, 0, 0, 0, 0, 0, 0]), (('National League for Democracy', -1), [0, 0, 0, 0, 0, 0, 0, 0, 0]), (('Eritrean Liberation Front', -1), [0, 0, 0, 0, 0, 0, 0, 0, 0]), (('Front for the Liberation of the Enclave of Cabinda (FLEC)', -1), [0, 0, 0, 0, 0, 0, 0, 0, 0]), (('Sudan Liberation Movement', -1), [0, 0, 0, 0, 0, 0, 0, 0, 0]), (('Oromo Liberation Front', -1), [0, 0, 0, 0, 0, 0, 0, 0, 0]), (('Al-Ittihaad al-Islami (AIAI)', -1), [0, 0, 0, 0, 0, 0, 0, 0, 0]), (('Pan Africanist Congress (PAC)', -1), [0, 0, 0, 0, 0, 0, 0, 0, 0]), ((\"People's Democratic Party (PDP)\", -1), [0, 0, 0, 0, 0, 0, 0, 0, 0]), ((\"Odua Peoples' Congress (OPC)\", -1), [0, 0, 0, 0, 0, 0, 0, 0, 0]), (('National Army for the Liberation of Uganda (NALU)', -1), [0, 0, 0, 0, 0, 0, 0, 0, 0]), (('Union of Congolese Patriots (UPC)', -1), [0, 0, 0, 0, 0, 0, 0, 0, 0]), (('Breton Liberation Front (FLB)', -1), [0, 0, 0, 0, 0, 0, 0, 0, 0]), (('Red Hand Commandos', -1), [0, 0, 0, 0, 0, 0, 0, 0, 0]), (('National Organization of Cypriot Fighters (EOKA)', -1), [0, 0, 0, 0, 0, 0, 0, 0, 0]), (('Angry Brigade', -1), [0, 0, 0, 0, 0, 0, 0, 0, 0])])\n"
     ]
    }
   ],
   "source": [
    "import collections\n",
    "group_dict = collections.OrderedDict()\n",
    "for name in dfs_names['group']:\n",
    "    group_dict[(name,-1)] = []\n",
    "    for index in range(len(dimensions)):\n",
    "        group_dict[(name,-1)].append(0)\n",
    "print(group_dict)"
   ]
  },
  {
   "cell_type": "code",
   "execution_count": 6,
   "metadata": {
    "collapsed": false
   },
   "outputs": [],
   "source": [
    "for index, gname in enumerate(dfs['gname']):\n",
    "    for i in range(len(dimensions)):\n",
    "        #if dimensions[i] == 'nkill':\n",
    "        #   print(str(dfs[dimensions[i]][index]))\n",
    "        if str(dfs[dimensions[i]][index]) == 'nan' or dfs[dimensions[i]][index] < 0 :\n",
    "            continue\n",
    "        group_dict[(gname,-1)][i] += dfs[dimensions[i]][index] "
   ]
  },
  {
   "cell_type": "code",
   "execution_count": 7,
   "metadata": {
    "collapsed": false
   },
   "outputs": [
    {
     "name": "stdout",
     "output_type": "stream",
     "text": [
      "OrderedDict([(('Bougainville Revolutionary Army (BRA)', -1), [0.0, 0.0, 0.095238095238095233, 0.0, 0.2857142857142857, 0.38095238095238093, 0.0, 0.0, 0.0]), (('Kanak Socialist National Liberation Front', -1), [0.0, 0.0, 0.0, 0.0, 0.40000000000000002, 0.40000000000000002, 0.0, 0.0, 0.0]), (('September 11 Commandos', -1), [0.0, 0.0, 0.5, 0.0, 0.0, 0.0, 0.0, 0.0, 0.0]), (('Kanak Separatists', -1), [0.0, 0.0, 0.0, 0.0, 0.75, 0.25, 0.0, 0.0, 0.0]), (('Animal Liberation Front (ALF)', -1), [0.0, 0.0088495575221238937, 0.11504424778761062, 0.017699115044247787, 0.0, 0.83185840707964598, 0.0, 0.097345132743362831, 0.0]), (('Anti-Government Rebels', -1), [0.0, 0.0, 0.14285714285714285, 0.0, 0.14285714285714285, 0.0, 0.0, 0.0, 0.0]), (('Croatian Nationalists', -1), [0.0, 0.0, 0.70588235294117652, 0.0, 0.20588235294117646, 0.029411764705882353, 0.0, 0.0, 0.0]), (('Free Papua Movement (OPM-Organisasi Papua Merdeka)', -1), [0.0, 0.0, 0.034482758620689655, 0.0, 0.75862068965517238, 0.10344827586206896, 0.10344827586206896, 0.0, 0.0]), (('Informal Anarchist Federation', -1), [0.0, 0.0, 0.66666666666666663, 0.0, 0.02564102564102564, 0.30769230769230771, 0.0, 0.0, 0.0]), (('National Committee Against Independence (CNCI)', -1), [0.0, 0.0, 1.0, 0.0, 0.0, 0.0, 0.0, 0.0, 0.0]), (('Vanuatu Mobile Force (VMF)', -1), [0.0, 0.0, 0.0, 0.0, 0.0, 0.0, 0.0, 0.0, 0.0]), (('Combat 18', -1), [0.0, 0.0, 0.5, 0.0, 0.5, 0.0, 0.0, 0.0, 0.0]), (('Greek Bulgarian Armenian Front', -1), [0.0, 0.0, 1.0, 0.0, 0.0, 0.0, 0.0, 0.0, 0.0]), (('Guadalcanal Liberation Army', -1), [0.0, 0.0, 0.0, 0.0, 1.0, 0.0, 0.0, 0.0, 0.0]), (('Isatabu Freedom Movement (IFM)', -1), [0.0, 0.0, 0.0, 0.0, 0.0, 0.0, 0.0, 0.0, 0.0]), (('Lufa Tribesmen', -1), [0.0, 0.0, 1.0, 0.0, 0.0, 0.0, 0.0, 0.0, 0.0]), (('Pacific Popular Front', -1), [0.0, 0.0, 0.0, 0.0, 0.0, 1.0, 0.0, 0.0, 0.0]), (('Palestine Liberation Organization (PLO)', -1), [0.0, 0.0, 0.57692307692307687, 0.0, 0.24358974358974358, 0.089743589743589744, 0.01282051282051282, 0.0, 0.0]), (('Paupa New Guinea Troops', -1), [0.0, 0.0, 0.0, 0.0, 1.0, 0.0, 0.0, 0.0, 0.0]), (('Zapatista National Liberation Army', -1), [0.0, 0.0, 0.2608695652173913, 0.0, 0.43478260869565216, 0.043478260869565216, 0.043478260869565216, 0.0, 0.0]), (('Farabundo Marti National Liberation Front (FMLN)', -1), [0.0, 0.0, 0.61766087364960076, 0.0, 0.33818694222639739, 0.077970878346641612, 0.0, 0.0014091122592766556, 0.0]), (('Nicaraguan Democratic Force (FDN)', -1), [0.0, 0.0, 0.30283911671924291, 0.0, 0.75078864353312302, 0.072555205047318619, 0.0, 0.0, 0.0]), (('Sandinista National Liberation Front (FSLN)', -1), [0.0, 0.0, 0.16875000000000001, 0.0, 0.27500000000000002, 0.087499999999999994, 0.0062500000000000003, 0.0, 0.0]), ((\"People's Liberation Forces (FPL)\", -1), [0.0, 0.0, 0.37908496732026142, 0.0, 0.43790849673202614, 0.1111111111111111, 0.0, 0.0, 0.0]), (('Guerrilla Army of the Poor (EGP)', -1), [0.0, 0.0, 0.35483870967741937, 0.0, 0.42741935483870969, 0.11290322580645161, 0.0080645161290322578, 0.0, 0.0]), (('Nicaraguan Resistance', -1), [0.0, 0.0, 0.39830508474576271, 0.0, 0.69491525423728817, 0.0084745762711864406, 0.0, 0.0, 0.0]), (('Guatemalan National Revolutionary Unity (URNG)', -1), [0.0, 0.0, 0.5, 0.0, 0.3125, 0.010416666666666666, 0.0, 0.0, 0.0]), (('Death Squad', -1), [0.0, 0.0, 0.067692307692307691, 0.0, 0.85230769230769232, 0.0030769230769230769, 0.0092307692307692316, 0.0, 0.0030769230769230769]), (('Revolutionary Organization of People in Arms (ORPA)', -1), [0.0, 0.0, 0.29268292682926828, 0.0, 0.59756097560975607, 0.15853658536585366, 0.0, 0.0, 0.0]), ((\"People's Revolutionary Army (ERP) (El Salvador)\", -1), [0.0, 0.0, 0.46031746031746029, 0.0, 0.41269841269841268, 0.079365079365079361, 0.0, 0.0, 0.0]), (('Armed Forces of National Resistance (FARN)', -1), [0.0, 0.0, 0.13513513513513514, 0.0, 0.72972972972972971, 0.0, 0.0, 0.0, 0.0]), (('Lorenzo Zelaya Revolutionary Front (LZRF)', -1), [0.0, 0.0, 0.75, 0.0, 0.25, 0.0, 0.0, 0.0, 0.0]), (('Popular Revolutionary Bloc (BPR)', -1), [0.0, 0.0, 0.083333333333333329, 0.0, 0.63888888888888884, 0.25, 0.0, 0.0, 0.0]), (('Democratic Revolutionary Alliance (ARDE)', -1), [0.0, 0.0, 0.31034482758620691, 0.0, 0.65517241379310343, 0.0, 0.034482758620689655, 0.0, 0.0]), (('Rebel Armed Forces of Guatemala (FAR)', -1), [0.0, 0.0, 0.038461538461538464, 0.0, 0.38461538461538464, 0.11538461538461539, 0.0, 0.0, 0.0]), (('Patriotic Morazanista Front (FPM)', -1), [0.0, 0.0, 0.66666666666666663, 0.0, 0.20833333333333334, 0.0, 0.041666666666666664, 0.0, 0.0]), (('Caribbean Revolutionary Alliance (ARC)', -1), [0.0, 0.0, 0.92000000000000004, 0.0, 0.0, 0.040000000000000001, 0.0, 0.0, 0.0]), (('Guatemalan Labor Party (PGT)', -1), [0.0, 0.0, 0.33333333333333331, 0.0, 0.5714285714285714, 0.047619047619047616, 0.0, 0.0, 0.0]), (('Recontras', -1), [0.0, 0.0, 0.071428571428571425, 0.0, 0.75, 0.035714285714285712, 0.0, 0.0, 0.0]), (('Secret Anti-Communist Army (ESA)', -1), [0.0, 0.0, 0.31578947368421051, 0.0, 0.36842105263157893, 0.0, 0.0, 0.0, 0.0]), (('Cinchoneros Popular Liberation Movement', -1), [0.0, 0.0, 0.72222222222222221, 0.0, 0.22222222222222221, 0.16666666666666666, 0.0, 0.055555555555555552, 0.0]), ((\"31 January People's Front (FP-31)\", -1), [0.0, 0.0, 0.76470588235294112, 0.0, 0.058823529411764705, 0.23529411764705882, 0.0, 0.0, 0.0]), (('20 December Movement (M-20)', -1), [0.0, 0.0, 0.80000000000000004, 0.0, 0.20000000000000001, 0.0, 0.0, 0.0, 0.0]), (('February 28 Popular League (El Salvador)', -1), [0.0, 0.0, 0.0, 0.0, 0.8666666666666667, 0.066666666666666666, 0.0, 0.0, 0.0]), (('Maximiliano Gomez Revolutionary Brigade', -1), [0.0, 0.0, 1.0, 0.0, 0.0, 0.0, 0.0, 0.0, 0.0]), (('Misurasata Indian Organization', -1), [0.0, 0.0, 0.35714285714285715, 0.0, 0.6428571428571429, 0.0, 0.0, 0.0, 0.0]), (('Union Guerrera Blanca (UGB)', -1), [0.0, 0.0, 0.14285714285714285, 0.0, 0.42857142857142855, 0.0, 0.0, 0.0, 0.0]), (('United Popular Action Front (FAPU)', -1), [0.0, 0.0, 0.076923076923076927, 0.0, 0.53846153846153844, 0.0, 0.0, 0.0, 0.0]), (('South Ossetian Separatists', -1), [0.0, 0.0, 0.69999999999999996, 0.0, 0.40000000000000002, 0.0, 0.0, 0.0, 0.0]), ((\"People's Democratic Army\", -1), [0.0, 0.0, 0.0, 0.0, 1.0, 0.0, 0.0, 0.0, 0.0]), (('Supporters of Ex-President Gamsakhurdial', -1), [0.0, 0.0, 0.5714285714285714, 0.0, 0.14285714285714285, 0.14285714285714285, 0.0, 0.0, 0.0]), (('Islamic Jihad Group (IJG)', -1), [0.0, 0.0, 1.0, 0.0, 0.0, 0.0, 0.0, 0.0, 0.0]), (('White Legion (Georgia)', -1), [0.0, 0.0, 0.33333333333333331, 0.0, 0.33333333333333331, 0.0, 0.0, 0.0, 0.0]), (('Forest Brothers', -1), [0.0, 0.0, 1.0, 0.0, 0.5, 0.0, 0.0, 0.0, 0.0]), (('Islamic Jihad Union (Uzbekistan)', -1), [0.0, 0.0, 1.0, 0.0, 0.5, 0.0, 0.0, 0.0, 0.0]), (('Rizvon Sadirov Group', -1), [0.0, 0.0, 0.0, 0.0, 0.5, 0.0, 0.0, 0.0, 0.0]), (('Soldiers of the Caliphate', -1), [0.0, 0.0, 1.0, 0.0, 0.0, 0.0, 0.0, 0.0, 0.0]), (('Algeisk Wolves', -1), [0.0, 0.0, 1.0, 0.0, 0.0, 0.0, 0.0, 0.0, 0.0]), (('Hizb al-Tahrir al-Islami (HT)', -1), [0.0, 0.0, 1.0, 0.0, 0.0, 0.0, 0.0, 0.0, 0.0]), (('Islamic Movement of Uzbekistan (IMU)', -1), [0.0, 0.0, 0.66666666666666663, 0.0, 0.33333333333333331, 0.0, 0.0, 0.0, 0.0]), (('Sandval (union) Movement', -1), [0.0, 0.0, 0.0, 0.0, 0.0, 0.0, 0.0, 0.0, 0.0]), (('South Ossetian Extremists', -1), [0.0, 0.0, 0.0, 0.0, 1.0, 0.0, 0.0, 0.0, 0.0]), (('Tolib Ayombekov loyalists', -1), [0.0, 0.0, 0.0, 0.0, 0.0, 0.0, 1.0, 0.0, 0.0]), (('Uighur Liberation Organization', -1), [0.0, 0.0, 0.0, 0.0, 1.0, 0.0, 0.0, 0.0, 0.0]), (('Yekbun', -1), [0.0, 0.0, 0.0, 0.0, 0.0, 1.0, 0.0, 0.0, 0.0]), (('Zviadists', -1), [0.0, 0.0, 0.0, 0.0, 1.0, 0.0, 0.0, 0.0, 0.0]), (('Chukakuha (Middle Core Faction)', -1), [0.0, 0.0, 0.26666666666666666, 0.0, 0.0, 0.65000000000000002, 0.0, 0.033333333333333333, 0.0]), ((\"Revolutionary Workers' Council (Kakurokyo)\", -1), [0.0, 0.0, 0.5, 0.0, 0.0, 0.34999999999999998, 0.14999999999999999, 0.0, 0.0]), (('East Asia Anti Japanese Armed Front', -1), [0.0, 0.0, 1.0, 0.0, 0.0, 0.0, 0.0, 0.0, 0.0]), (('Eastern Turkistan Islamic Movement (ETIM)', -1), [0.0, 0.0, 0.25, 0.0, 0.0, 0.25, 0.5, 0.0, 0.25]), (('Aum Shinri Kyo', -1), [0.14285714285714285, 0.42857142857142855, 0.14285714285714285, 0.14285714285714285, 0.14285714285714285, 0.0, 0.0, 0.0, 0.0]), (('Senki (\"Battle Flag\")', -1), [0.0, 0.0, 0.20000000000000001, 0.0, 0.0, 0.80000000000000004, 0.0, 0.0, 0.0]), (('14 K Triad', -1), [0.0, 0.0, 0.0, 0.0, 0.0, 1.0, 0.0, 0.0, 0.0]), (('Seikijuku', -1), [0.0, 0.0, 0.0, 0.0, 1.0, 0.0, 0.0, 0.0, 0.0]), (('League of Communists', -1), [0.0, 0.0, 0.0, 0.0, 0.0, 1.0, 0.0, 0.0, 0.0]), (('Maruseido (Marxist Youth League)', -1), [0.0, 0.0, 0.0, 0.0, 0.0, 1.0, 0.0, 0.0, 0.0]), (('Sekihotai', -1), [0.0, 0.0, 0.5, 0.0, 0.0, 0.0, 0.0, 0.0, 0.0]), (('Turkestan Islamic Party', -1), [0.0, 0.0, 1.0, 0.0, 0.0, 0.0, 0.0, 0.0, 0.0]), (('Anti-Imperialist Students Council', -1), [0.0, 0.0, 0.0, 0.0, 0.0, 1.0, 0.0, 0.0, 0.0]), (('Anti-Narita Extremists', -1), [0.0, 0.0, 1.0, 0.0, 0.0, 0.0, 0.0, 0.0, 0.0]), (('Association for the Enhancement of the Justice of the Great Japan', -1), [0.0, 0.0, 0.0, 0.0, 0.0, 0.0, 0.0, 0.0, 0.0]), (('Chondaehyop (Radical Student Coalition)', -1), [0.0, 0.0, 0.0, 0.0, 0.0, 0.0, 0.0, 0.0, 0.0]), (('Chonson Univ. students', -1), [0.0, 0.0, 0.0, 0.0, 0.0, 1.0, 0.0, 0.0, 0.0]), (('Chukakuha Revolutionary Army', -1), [0.0, 0.0, 1.0, 0.0, 0.0, 0.0, 0.0, 0.0, 0.0]), (('Dainihon Yokuko Doshikai', -1), [0.0, 0.0, 0.0, 0.0, 0.0, 0.0, 1.0, 0.0, 0.0]), (('Democratic Progressive Party', -1), [0.0, 0.0, 0.0, 0.0, 0.0, 0.0, 0.0, 0.0, 0.0]), (('Do-or-Die Corps for the Abolition of Anti-Public Taxation Systems', -1), [0.0, 0.0, 0.0, 0.0, 0.0, 1.0, 0.0, 0.0, 0.0]), (('Great Japan Patriotic Party', -1), [0.0, 0.0, 0.0, 0.0, 1.0, 0.0, 0.0, 0.0, 0.0]), (('Hanchongryun', -1), [0.0, 0.0, 0.0, 0.0, 0.0, 0.0, 1.0, 0.0, 0.0]), (('Hiroyuki Jo', -1), [0.0, 0.0, 0.0, 0.0, 0.0, 0.0, 1.0, 0.0, 0.0]), (('Hotaru (Firefly)', -1), [0.0, 0.0, 0.0, 0.0, 1.0, 0.0, 0.0, 0.0, 0.0]), (('Issui Kai', -1), [0.0, 0.0, 0.0, 0.0, 0.0, 1.0, 0.0, 0.0, 0.0]), (('Japan National Youth Alliance', -1), [0.0, 0.0, 0.0, 0.0, 0.0, 1.0, 0.0, 0.0, 0.0]), ((\"Japan Socialist Youth League of the Revolutionary Workers' Association\", -1), [0.0, 0.0, 0.0, 0.0, 0.0, 1.0, 0.0, 0.0, 0.0]), (('Japanese Independence Patriotic Party', -1), [0.0, 0.0, 0.0, 0.0, 1.0, 0.0, 0.0, 0.0, 0.0]), (('Japanese Red Army (JRA)', -1), [0.0, 0.0, 0.5, 0.0, 0.5, 0.125, 0.125, 0.0, 0.0]), (('Korean Youth League', -1), [0.0, 0.0, 0.0, 0.0, 1.0, 0.0, 0.0, 0.0, 0.0]), (('Kyongbuk University Dental College Students', -1), [0.0, 0.0, 0.0, 0.0, 0.0, 1.0, 0.0, 0.0, 0.0]), (('Namchong-Nyon Students', -1), [0.0, 0.0, 0.0, 0.0, 0.0, 0.0, 0.0, 0.0, 0.0]), (('Nara Red Army', -1), [0.0, 0.0, 0.0, 0.0, 0.0, 1.0, 0.0, 0.0, 0.0]), (('National Defense Youth Corps', -1), [0.0, 0.0, 0.0, 0.0, 0.0, 0.0, 1.0, 0.0, 0.0]), (('Revolutionary Army', -1), [0.0, 0.0, 0.0, 0.0, 0.0, 1.0, 0.0, 0.0, 0.0]), (('Revolutionary Force', -1), [0.0, 0.0, 1.0, 0.0, 0.0, 0.0, 0.0, 0.0, 0.0]), (('Seiji Kesha Kokuyukai', -1), [0.0, 0.0, 0.0, 0.0, 1.0, 0.0, 0.0, 0.0, 0.0]), (('Shonkonjuku Group', -1), [0.0, 0.0, 0.0, 0.0, 0.0, 0.0, 0.0, 0.0, 0.0]), (('Taihikai (Great Sadness)', -1), [0.0, 0.0, 1.0, 0.0, 1.0, 0.0, 1.0, 0.0, 0.0]), (('Taikosha, right wing group', -1), [0.0, 0.0, 0.0, 0.0, 0.0, 0.0, 0.0, 0.0, 1.0]), (('Yamaguchi-Gumi Gang', -1), [0.0, 0.0, 0.0, 0.0, 0.0, 0.0, 0.0, 0.0, 0.0]), (('Yokoku Seiwa-Kai', -1), [0.0, 0.0, 0.0, 0.0, 1.0, 0.0, 0.0, 0.0, 0.0]), (('Kosovo Liberation Army (KLA)', -1), [0.0, 0.0, 0.43902439024390244, 0.0, 0.51219512195121952, 0.0, 0.0, 0.0, 0.0]), (('Caucasus Emirate', -1), [0.0, 0.0, 0.64102564102564108, 0.0, 0.41025641025641024, 0.10256410256410256, 0.0, 0.0, 0.0]), (('National Liberation Army (NLA) (Macedonia)', -1), [0.0, 0.0, 0.3235294117647059, 0.0, 0.61764705882352944, 0.029411764705882353, 0.0, 0.0, 0.0]), (('Riyadus-Salikhin Reconnaissance and Sabotage Battalion of Chechen Martyrs', -1), [0.0, 0.10000000000000001, 0.90000000000000002, 0.0, 0.10000000000000001, 0.0, 0.0, 0.0, 0.0]), (('Armed Forces of the Chechen Republic of Ichkeria', -1), [0.0, 0.0, 0.1111111111111111, 0.0, 1.0, 0.0, 0.0, 0.0, 0.0]), ((\"Dagestani Shari'ah Jamaat\", -1), [0.0, 0.0, 0.59999999999999998, 0.0, 0.40000000000000002, 0.0, 0.0, 0.0, 0.0]), (('Albanian National Army (ANA)', -1), [0.0, 0.0, 0.5, 0.0, 0.75, 0.0, 0.0, 0.0, 0.0]), (('Islambouli Brigades of al-Qaida', -1), [0.0, 0.0, 1.0, 0.0, 0.0, 0.0, 0.0, 0.0, 0.0]), (('NVF', -1), [0.0, 0.0, 0.5, 0.0, 0.25, 0.0, 0.25, 0.0, 0.0]), (('Ukrainian Nationalist Group', -1), [0.0, 0.0, 0.80000000000000004, 0.0, 0.0, 0.40000000000000002, 0.0, 0.0, 0.0]), (('Armenian Nationalists', -1), [0.0, 0.0, 0.0, 0.0, 1.0, 0.0, 0.0, 0.0, 0.0]), (('Black Berets', -1), [0.0, 0.0, 0.66666666666666663, 0.0, 1.0, 0.33333333333333331, 0.0, 0.0, 0.0]), (('December 13 Independent Group', -1), [0.0, 0.0, 1.0, 0.0, 0.0, 0.0, 0.0, 0.0, 0.0]), (('Extraparliamentary Opposition (APO)', -1), [0.0, 0.0, 0.16666666666666666, 0.0, 0.33333333333333331, 0.5, 0.0, 0.0, 0.0]), (('Internationalist Cells', -1), [0.0, 0.0, 0.0, 0.0, 0.0, 1.0, 0.0, 0.0, 0.0]), (('Liberation Army for Presevo, Medvedja and Bujanovac (UCPMB)', -1), [0.0, 0.0, 0.33333333333333331, 0.0, 0.66666666666666663, 0.0, 0.0, 0.0, 0.0]), (('Makhachkala Gang', -1), [0.0, 0.0, 0.33333333333333331, 0.0, 0.66666666666666663, 0.0, 0.0, 0.0, 0.0]), (('Red Army Faction (RAF)', -1), [0.0, 0.0, 0.43396226415094341, 0.0, 0.13207547169811321, 0.33962264150943394, 0.018867924528301886, 0.0, 0.0]), (('Revolutionary Cells Network (SRN)', -1), [0.0, 0.0, 0.0, 0.0, 0.0, 1.0, 0.0, 0.0, 0.0]), (('Islamic State of Iraq and the Levant (ISIL)', -1), [0.0, 0.00041999160016799666, 0.71146577068458627, 0.0, 0.12641747165056699, 0.014279714405711887, 0.014699706005879883, 0.00041999160016799666, 0.0020999580008399833]), ((\"Kurdistan Workers' Party (PKK)\", -1), [0.0, 0.00078125000000000004, 0.31718750000000001, 0.0, 0.43906250000000002, 0.19921875, 0.025000000000000001, 0.0015625000000000001, 0.0]), (('Al-Qaida in Iraq', -1), [0.0, 0.0, 0.81411359724612742, 0.0, 0.17383820998278829, 0.0086058519793459545, 0.0034423407917383822, 0.0, 0.0]), (('Al-Qaida in the Arabian Peninsula (AQAP)', -1), [0.0, 0.0, 0.46716697936210133, 0.0, 0.50844277673545968, 0.018761726078799251, 0.020637898686679174, 0.0, 0.0]), (('Hamas (Islamic Resistance Movement)', -1), [0.0, 0.0095846645367412137, 0.72523961661341851, 0.0, 0.24600638977635783, 0.0063897763578274758, 0.028753993610223641, 0.0, 0.012779552715654952]), ((\"Al-Gama'at al-Islamiyya (IG)\", -1), [0.0, 0.0, 0.061776061776061778, 0.0, 0.84555984555984554, 0.0, 0.011583011583011582, 0.0, 0.0]), (('Algerian Islamic Extremists', -1), [0.0, 0.0, 0.54435483870967738, 0.0, 0.36693548387096775, 0.032258064516129031, 0.14516129032258066, 0.0, 0.0]), (('Hezbollah', -1), [0.0, 0.003952569169960474, 0.73122529644268774, 0.0, 0.17786561264822134, 0.023715415019762844, 0.0, 0.0, 0.0]), (('Dev Sol', -1), [0.0, 0.0, 0.51502145922746778, 0.0, 0.2832618025751073, 0.18454935622317598, 0.0085836909871244635, 0.0, 0.0]), (('Armed Islamic Group (GIA)', -1), [0.0, 0.0, 0.25943396226415094, 0.0, 0.48584905660377359, 0.089622641509433956, 0.17452830188679244, 0.0, 0.0]), (('Palestinian Islamic Jihad (PIJ)', -1), [0.0, 0.0, 0.84615384615384615, 0.0, 0.11242603550295859, 0.0, 0.082840236686390539, 0.0, 0.0]), (('Al-Aqsa Martyrs Brigade', -1), [0.0, 0.0, 0.569620253164557, 0.0, 0.47468354430379744, 0.012658227848101266, 0.037974683544303799, 0.0, 0.0]), (('Al-Nusrah Front', -1), [0.0, 0.0, 0.61290322580645162, 0.0, 0.23225806451612904, 0.025806451612903226, 0.045161290322580643, 0.0064516129032258064, 0.0064516129032258064]), (('Islamic Salvation Front (FIS)', -1), [0.0, 0.0, 0.14093959731543623, 0.0, 0.70469798657718119, 0.060402684563758392, 0.026845637583892617, 0.0067114093959731542, 0.0]), (('Islamic State of Iraq (ISI)', -1), [0.0, 0.0, 0.73426573426573427, 0.0, 0.25174825174825177, 0.013986013986013986, 0.013986013986013986, 0.0, 0.0]), (('Salafist Group for Preaching and Fighting (GSPC)', -1), [0.0, 0.0, 0.42446043165467628, 0.0071942446043165471, 0.64028776978417268, 0.050359712230215826, 0.086330935251798566, 0.0, 0.0]), (('Al-Qaida in the Islamic Maghreb (AQIM)', -1), [0.0, 0.0, 0.58100558659217882, 0.0, 0.31284916201117319, 0.0223463687150838, 0.039106145251396648, 0.0055865921787709499, 0.0055865921787709499]), (('Tripoli Province of the Islamic State', -1), [0.0, 0.0, 0.34375, 0.0, 0.203125, 0.03125, 0.078125, 0.0, 0.0]), (('Sinai Province of the Islamic State', -1), [0.0, 0.0, 0.65040650406504064, 0.0, 0.38211382113821141, 0.016260162601626018, 0.032520325203252036, 0.0, 0.0]), (('Popular Front for the Liberation of Palestine (PFLP)', -1), [0.0, 0.0, 0.65671641791044777, 0.0, 0.29104477611940299, 0.037313432835820892, 0.044776119402985072, 0.0, 0.0]), (('Muslim Brotherhood', -1), [0.0, 0.0, 0.44086021505376344, 0.0, 0.39784946236559138, 0.053763440860215055, 0.0, 0.0, 0.0]), (('Mujahedin-e Khalq (MEK)', -1), [0.0, 0.0, 0.60215053763440862, 0.0, 0.21505376344086022, 0.10752688172043011, 0.043010752688172046, 0.0, 0.0]), (('Barqa Province of the Islamic State', -1), [0.0, 0.0, 0.64406779661016944, 0.0, 0.16949152542372881, 0.016949152542372881, 0.067796610169491525, 0.0, 0.0]), (('Fuerzas Armadas de Liberacion Nacional (FALN)', -1), [0.0, 0.0, 0.94017094017094016, 0.0, 0.02564102564102564, 0.034188034188034191, 0.0, 0.0, 0.0]), (('New World Liberation Front (NWLF)', -1), [0.0, 0.0, 0.94117647058823528, 0.0, 0.011764705882352941, 0.035294117647058823, 0.011764705882352941, 0.0, 0.0]), (('Jewish Defense League (JDL)', -1), [0.0, 0.024390243902439025, 0.51219512195121952, 0.0, 0.097560975609756101, 0.28048780487804881, 0.04878048780487805, 0.0, 0.0]), (('Earth Liberation Front (ELF)', -1), [0.0, 0.0, 0.041666666666666664, 0.0, 0.0, 0.91666666666666663, 0.013888888888888888, 0.055555555555555552, 0.0]), (('Black Nationalists', -1), [0.0, 0.0, 0.49295774647887325, 0.0, 0.28169014084507044, 0.23943661971830985, 0.014084507042253521, 0.0, 0.0]), (('Omega-7', -1), [0.0, 0.0, 0.85185185185185186, 0.0, 0.07407407407407407, 0.092592592592592587, 0.0, 0.0, 0.0]), (('23rd of September Communist League', -1), [0.0, 0.0, 0.045454545454545456, 0.0, 0.68181818181818177, 0.0, 0.0, 0.0, 0.0]), (('Weather Underground, Weathermen', -1), [0.0, 0.0, 0.90476190476190477, 0.0, 0.023809523809523808, 0.047619047619047616, 0.0, 0.0, 0.0]), (('Macheteros', -1), [0.0, 0.0, 0.54838709677419351, 0.0, 0.25806451612903225, 0.16129032258064516, 0.0, 0.0, 0.0]), (('Armed Revolutionary Independence Movement (MIRA)', -1), [0.0, 0.0, 0.56666666666666665, 0.0, 0.0, 0.43333333333333335, 0.0, 0.0, 0.0]), (('Chicano Liberation Front', -1), [0.0, 0.0, 0.73333333333333328, 0.0, 0.033333333333333333, 0.23333333333333334, 0.0, 0.0, 0.0]), (('Black Liberation Army', -1), [0.0, 0.0, 0.17857142857142858, 0.0, 0.7857142857142857, 0.0, 0.0, 0.0, 0.0]), (('Black Panthers', -1), [0.0, 0.0, 0.58333333333333337, 0.041666666666666664, 0.375, 0.0, 0.0, 0.0, 0.0]), (('Army of God', -1), [0.0, 0.0, 0.56521739130434778, 0.0, 0.21739130434782608, 0.21739130434782608, 0.0, 0.0, 0.0]), (('Puerto Rican Nationalists', -1), [0.0, 0.0, 0.86956521739130432, 0.0, 0.0, 0.13043478260869565, 0.0, 0.0, 0.0]), (('United Freedom Front (UFF)', -1), [0.0, 0.0, 0.86363636363636365, 0.0, 0.0, 0.045454545454545456, 0.0, 0.0, 0.0]), (('Union of the People (UDP)', -1), [0.0, 0.0, 0.95238095238095233, 0.0, 0.0, 0.0, 0.0, 0.0, 0.0]), (('Ku Klux Klan', -1), [0.0, 0.050000000000000003, 0.20000000000000001, 0.0, 0.5, 0.10000000000000001, 0.20000000000000001, 0.0, 0.0]), (('Zebra killers', -1), [0.0, 0.0, 0.0, 0.0, 0.94999999999999996, 0.0, 0.10000000000000001, 0.0, 0.0]), (('Independent Armed Revolutionary Commandos (CRIA)', -1), [0.0, 0.0, 0.10526315789473684, 0.0, 0.0, 0.89473684210526316, 0.0, 0.0, 0.0]), (('George Jackson Brigade', -1), [0.0, 0.0, 0.88235294117647056, 0.0, 0.058823529411764705, 0.058823529411764705, 0.0, 0.0, 0.0]), (('Jewish Armed Resistance', -1), [0.0, 0.0, 0.68421052631578949, 0.0, 0.10526315789473684, 0.21052631578947367, 0.052631578947368418, 0.0, 0.0]), (('Shining Path (SL)', -1), [0.0, 0.00096735187424425639, 0.51172914147521165, 0.0, 0.40822249093107615, 0.051753325272067711, 0.01475211608222491, 0.00072551390568319229, 0.0]), (('Revolutionary Armed Forces of Colombia (FARC)', -1), [0.00049043648847474255, 0.0019617459538989702, 0.4394310936733693, 0.0, 0.34085335948994605, 0.087788131436978917, 0.0078469838155958808, 0.0019617459538989702, 0.0014713094654242277]), (('National Liberation Army of Colombia (ELN)', -1), [0.0, 0.0, 0.46116504854368934, 0.0, 0.35841423948220064, 0.076860841423948223, 0.0008090614886731392, 0.0, 0.0]), (('Manuel Rodriguez Patriotic Front (FPMR)', -1), [0.0, 0.0, 0.77096370463078845, 0.0, 0.15143929912390489, 0.12390488110137672, 0.0, 0.0, 0.0012515644555694619]), (('Tupac Amaru Revolutionary Movement (MRTA)', -1), [0.0, 0.0, 0.70881226053639845, 0.0, 0.2413793103448276, 0.034482758620689655, 0.0, 0.0, 0.0]), (('M-19 (Movement of April 19)', -1), [0.0, 0.0, 0.27522935779816515, 0.0, 0.46330275229357798, 0.11238532110091744, 0.0, 0.0, 0.0045871559633027525]), (('Movement of the Revolutionary Left (MIR) (Chile)', -1), [0.0, 0.0, 0.73770491803278693, 0.0, 0.13770491803278689, 0.12131147540983607, 0.0, 0.0, 0.0]), (('Popular Liberation Army (EPL)', -1), [0.0, 0.0, 0.13023255813953488, 0.0, 0.57674418604651168, 0.065116279069767441, 0.0, 0.0, 0.0]), (('Simon Bolivar Guerrilla Coordinating Board (CGSB)', -1), [0.0, 0.0, 0.60240963855421692, 0.0, 0.43373493975903615, 0.018072289156626505, 0.0, 0.0, 0.0]), (('The Extraditables', -1), [0.0, 0.0, 0.63888888888888884, 0.0, 0.16666666666666666, 0.18518518518518517, 0.0, 0.0, 0.0]), (('United Popular Action Movement', -1), [0.0, 0.0, 0.45370370370370372, 0.0, 0.44444444444444442, 0.14814814814814814, 0.0, 0.0, 0.0]), (('Montoneros (Argentina)', -1), [0.0, 0.0, 0.57843137254901966, 0.0, 0.39215686274509803, 0.049019607843137254, 0.0, 0.0, 0.0]), (('Ejercito Revolucionaria del Pueblo (ERP) (Argentina)', -1), [0.0, 0.0, 0.48051948051948051, 0.0, 0.27272727272727271, 0.14285714285714285, 0.0, 0.0, 0.0]), (('United Self Defense Units of Colombia (AUC)', -1), [0.0, 0.0, 0.015625, 0.0, 0.734375, 0.015625, 0.078125, 0.0, 0.0]), ((\"Paraguayan People's Army (EPP)\", -1), [0.0, 0.0, 0.19230769230769232, 0.0, 0.57692307692307687, 0.15384615384615385, 0.038461538461538464, 0.0, 0.0]), (('Tupamaros (Uruguay)', -1), [0.0, 0.0, 0.20000000000000001, 0.0, 0.375, 0.25, 0.0, 0.0, 0.0]), (('Ricardo Franco Front (Dissident FARC)', -1), [0.0, 0.0, 0.53846153846153844, 0.0, 0.25641025641025639, 0.076923076923076927, 0.0, 0.0, 0.0]), (('Brunswijk Jungle Commando', -1), [0.0, 0.0, 0.14814814814814814, 0.0, 0.48148148148148145, 0.25925925925925924, 0.0, 0.0, 0.0]), (('Alfaro Vive', -1), [0.0, 0.0, 0.12, 0.0, 0.68000000000000005, 0.0, 0.0, 0.0, 0.0]), (('Tupac Katari Guerrilla Army (EGTK)', -1), [0.0, 0.0, 0.90909090909090906, 0.0, 0.090909090909090912, 0.0, 0.0, 0.0, 0.0]), (('Red Flag (Venezuela)', -1), [0.0, 0.0, 0.38095238095238093, 0.0, 0.33333333333333331, 0.14285714285714285, 0.0, 0.0, 0.0]), (('Peasant Self-Defense Group (ACCU)', -1), [0.0, 0.0, 0.0, 0.0, 0.76190476190476186, 0.0, 0.0, 0.0, 0.0]), (('Death to Kidnappers (MAS)', -1), [0.0, 0.0, 0.16666666666666666, 0.0, 0.5, 0.0, 0.055555555555555552, 0.0, 0.0]), (('Popular Militia (Colombia)', -1), [0.0, 0.0, 0.93333333333333335, 0.0, 0.066666666666666666, 0.0, 0.0, 0.0, 0.0]), (('Rodrigo Franco Command', -1), [0.0, 0.0, 0.59999999999999998, 0.0, 0.40000000000000002, 0.0, 0.0, 0.0, 0.0]), ((\"Workers' Self-Defense Movement (MAO)\", -1), [0.0, 0.0, 0.26666666666666666, 0.0, 0.59999999999999998, 0.0, 0.0, 0.0, 0.0]), ((\"People's Revolutionary Organization\", -1), [0.0, 0.071428571428571425, 0.7857142857142857, 0.0, 0.14285714285714285, 0.0, 0.0, 0.0, 0.0]), (('Taliban', -1), [0.0, 0.006929861402771945, 0.46094078118437631, 0.0, 0.40928181436371275, 0.04598908021839563, 0.022889542209155816, 0.00020999580008399833, 0.00041999160016799666]), (('Communist Party of India - Maoist (CPI-Maoist)', -1), [0.0, 0.00062034739454094293, 0.31017369727047145, 0.0, 0.38833746898263027, 0.18486352357320099, 0.10669975186104218, 0.0093052109181141433, 0.00062034739454094293]), (('Liberation Tigers of Tamil Eelam (LTTE)', -1), [0.0, 0.0027598896044158236, 0.44802207911683534, 0.0, 0.46918123275068996, 0.014719411223551058, 0.039558417663293467, 0.0, 0.0]), (('Tehrik-i-Taliban Pakistan (TTP)', -1), [0.0, 0.0040363269424823411, 0.57013118062563073, 0.0, 0.38244197780020184, 0.046417759838546922, 0.031281533804238142, 0.0, 0.0010090817356205853]), ((\"People's Liberation Front (JVP)\", -1), [0.0, 0.0, 0.19098143236074269, 0.0, 0.61273209549071617, 0.1883289124668435, 0.023872679045092837, 0.0, 0.0]), (('United Liberation Front of Assam (ULFA)', -1), [0.0, 0.0, 0.72945205479452058, 0.0, 0.24315068493150685, 0.0034246575342465752, 0.013698630136986301, 0.0, 0.0]), (('Baloch Republican Army (BRA)', -1), [0.0, 0.0, 0.90756302521008403, 0.0, 0.11764705882352941, 0.012605042016806723, 0.0, 0.0, 0.0]), (('National Democratic Front of Bodoland (NDFB)', -1), [0.0, 0.0, 0.34394904458598724, 0.0, 0.54777070063694266, 0.031847133757961783, 0.050955414012738856, 0.012738853503184714, 0.0]), (('Muttahida Qami Movement (MQM)', -1), [0.0, 0.0, 0.048611111111111112, 0.0, 0.20833333333333334, 0.34722222222222221, 0.34722222222222221, 0.0, 0.0]), (('Garo National Liberation Army', -1), [0.0, 0.0, 0.26470588235294118, 0.0, 0.69852941176470584, 0.044117647058823532, 0.029411764705882353, 0.0, 0.0]), (('Baloch Liberation Army (BLA)', -1), [0.0, 0.0, 0.60683760683760679, 0.0, 0.39316239316239315, 0.0085470085470085479, 0.0, 0.0, 0.0]), (('Lashkar-e-Taiba (LeT)', -1), [0.0, 0.018018018018018018, 0.54054054054054057, 0.0, 0.61261261261261257, 0.018018018018018018, 0.072072072072072071, 0.0, 0.0]), (('Hizbul Mujahideen (HM)', -1), [0.0, 0.0, 0.43809523809523809, 0.0, 0.56190476190476191, 0.0095238095238095247, 0.047619047619047616, 0.0, 0.0]), (('Lashkar-e-Jhangvi', -1), [0.0, 0.020202020202020204, 0.44444444444444442, 0.0, 0.58585858585858586, 0.0, 0.020202020202020204, 0.0, 0.0]), ((\"People's War Group (PWG)\", -1), [0.0, 0.0, 0.64835164835164838, 0.0, 0.34065934065934067, 0.087912087912087919, 0.02197802197802198, 0.0, 0.0]), (('Pro Hartal Activists', -1), [0.0, 0.0, 0.7142857142857143, 0.0, 0.0, 0.27472527472527475, 0.0, 0.043956043956043959, 0.0]), (('Lashkar-e-Islam (Pakistan)', -1), [0.0, 0.0, 0.48275862068965519, 0.0, 0.34482758620689657, 0.022988505747126436, 0.045977011494252873, 0.0, 0.011494252873563218]), (('Shanti Bahini - Peace Force', -1), [0.0, 0.0, 0.081395348837209308, 0.0, 0.83720930232558144, 0.023255813953488372, 0.034883720930232558, 0.0, 0.0]), (('Baloch Liberation Front (BLF)', -1), [0.0, 0.0, 0.27397260273972601, 0.0, 0.69863013698630139, 0.082191780821917804, 0.0, 0.0, 0.013698630136986301]), (('Janatantrik Terai Mukti Morcha- Jwala Singh (JTMM-J)', -1), [0.0, 0.0, 0.18055555555555555, 0.0, 0.31944444444444442, 0.097222222222222224, 0.069444444444444448, 0.0, 0.0]), (('United Baloch Army (UBA)', -1), [0.0, 0.0, 0.90000000000000002, 0.0, 0.14285714285714285, 0.014285714285714285, 0.014285714285714285, 0.0, 0.0]), (('National Liberation Front of Tripura (NLFT)', -1), [0.0, 0.0, 0.10144927536231885, 0.0, 0.71014492753623193, 0.028985507246376812, 0.043478260869565216, 0.0, 0.0]), (('Bangladesh Nationalist Party (BNP)', -1), [0.0, 0.0, 0.55882352941176472, 0.0, 0.10294117647058823, 0.22058823529411764, 0.029411764705882353, 0.0, 0.0]), (('Naxalites', -1), [0.0, 0.0, 0.39393939393939392, 0.0, 0.5, 0.060606060606060608, 0.060606060606060608, 0.0, 0.0]), (('Haqqani Network', -1), [0.0, 0.046875, 0.828125, 0.0, 0.3125, 0.0, 0.0, 0.0, 0.0]), ((\"New People's Army (NPA)\", -1), [0.0, 0.00066312997347480103, 0.18037135278514588, 0.0, 0.60676392572944293, 0.18368700265251989, 0.012599469496021221, 0.0013262599469496021, 0.0]), (('Abu Sayyaf Group (ASG)', -1), [0.0, 0.0, 0.47277936962750716, 0.0, 0.42120343839541546, 0.03151862464183381, 0.045845272206303724, 0.0, 0.0]), (('Moro Islamic Liberation Front (MILF)', -1), [0.0, 0.0, 0.54920634920634925, 0.0, 0.40000000000000002, 0.07301587301587302, 0.0095238095238095247, 0.0, 0.0]), (('Moro National Liberation Front (MNLF)', -1), [0.0, 0.0, 0.41566265060240964, 0.0, 0.39759036144578314, 0.030120481927710843, 0.006024096385542169, 0.0, 0.0]), (('Khmer Rouge', -1), [0.0, 0.0, 0.5067567567567568, 0.0, 0.33108108108108109, 0.0067567567567567571, 0.0067567567567567571, 0.0, 0.0]), (('Bangsamoro Islamic Freedom Movement (BIFM)', -1), [0.0, 0.0, 0.78911564625850339, 0.0, 0.24489795918367346, 0.0068027210884353739, 0.020408163265306121, 0.0, 0.0]), (('Runda Kumpulan Kecil (RKK)', -1), [0.0, 0.0, 0.82242990654205606, 0.0, 0.14018691588785046, 0.046728971962616821, 0.0093457943925233638, 0.056074766355140186, 0.0]), (('Free Aceh Movement (GAM)', -1), [0.0, 0.0, 0.47619047619047616, 0.0, 0.43809523809523809, 0.11428571428571428, 0.028571428571428571, 0.0, 0.0]), (('Karen National Union', -1), [0.0, 0.0, 0.69047619047619047, 0.0, 0.2857142857142857, 0.047619047619047616, 0.011904761904761904, 0.011904761904761904, 0.0]), (('Jemaah Islamiya (JI)', -1), [0.0, 0.0, 0.98630136986301364, 0.0, 0.013698630136986301, 0.0, 0.0, 0.0, 0.0]), (('Pattani United Liberation Organization (PULO)', -1), [0.0, 0.0, 0.87234042553191493, 0.0, 0.19148936170212766, 0.021276595744680851, 0.0, 0.0, 0.0]), (('Thai Islamic Militants', -1), [0.0, 0.0, 0.48936170212765956, 0.0, 0.53191489361702127, 0.042553191489361701, 0.021276595744680851, 0.0, 0.0]), (('April 6th Liberation Movement', -1), [0.0, 0.0, 0.83333333333333337, 0.0, 0.0, 0.0, 0.0, 0.0, 0.0]), (('Kachin Independence Army (KIA)', -1), [0.0, 0.0, 0.5, 0.0, 0.29166666666666669, 0.29166666666666669, 0.0, 0.0, 0.0]), (('United Front for Democracy Against Dictatorship', -1), [0.0, 0.0, 0.39130434782608697, 0.0, 0.043478260869565216, 0.60869565217391308, 0.0, 0.0, 0.0]), (('Democratic Karen Buddhist Army (DKBA)', -1), [0.0, 0.0, 0.16666666666666666, 0.0, 0.72222222222222221, 0.055555555555555552, 0.0, 0.0, 0.0]), (('Mujahidin Indonesia Timur (MIT)', -1), [0.0, 0.0, 0.13333333333333333, 0.0, 0.53333333333333333, 0.0, 0.26666666666666666, 0.0, 0.0]), (('Alex Boncayao Brigade (ABB)', -1), [0.0, 0.0, 0.36363636363636365, 0.0, 0.72727272727272729, 0.0, 0.0, 0.0, 0.0]), (('Barisan Revolusi Nasional (BRN)', -1), [0.0, 0.0, 0.40000000000000002, 0.0, 0.59999999999999998, 0.0, 0.0, 0.0, 0.0]), (('Al-Khobar', -1), [0.0, 0.0, 1.0, 0.0, 0.0, 0.0, 0.0, 0.0, 0.0]), (('Jamaah Ansharut Tauhid (JAT)', -1), [0.0, 0.0, 0.75, 0.0, 0.125, 0.125, 0.0, 0.0, 0.0]), (('Reform of the Armed Forces Movement', -1), [0.0, 0.0, 1.0, 0.0, 0.0, 0.0, 0.0, 0.0, 0.0]), (('Boko Haram', -1), [0.0, 0.0, 0.40058823529411763, 0.0, 0.60529411764705887, 0.27294117647058824, 0.057647058823529412, 0.0, 0.001176470588235294]), (('Al-Shabaab', -1), [0.0, 0.0, 0.45367647058823529, 0.0, 0.41544117647058826, 0.027205882352941177, 0.039705882352941174, 0.0014705882352941176, 0.0]), (('African National Congress (South Africa)', -1), [0.0, 0.0, 0.68490566037735845, 0.0, 0.13773584905660377, 0.032075471698113207, 0.0037735849056603774, 0.0018867924528301887, 0.0018867924528301887]), (('National Union for the Total Independence of Angola (UNITA)', -1), [0.0, 0.0, 0.62140992167101827, 0.0, 0.26631853785900783, 0.033942558746736295, 0.018276762402088774, 0.0, 0.0]), ((\"Lord's Resistance Army (LRA)\", -1), [0.0, 0.0, 0.03515625, 0.0, 0.43359375, 0.15234375, 0.10546875, 0.0, 0.0]), (('Mozambique National Resistance Movement (MNR)', -1), [0.0, 0.0, 0.17452830188679244, 0.0, 0.69811320754716977, 0.056603773584905662, 0.02358490566037736, 0.014150943396226415, 0.0]), (('Janjaweed', -1), [0.0, 0.0, 0.0, 0.0, 0.56886227544910184, 0.16766467065868262, 0.20359281437125748, 0.0, 0.0059880239520958087]), (('Allied Democratic Forces (ADF)', -1), [0.0, 0.0, 0.125, 0.0, 0.5, 0.16666666666666666, 0.29999999999999999, 0.0, 0.0]), (('Movement for the Emancipation of the Niger Delta (MEND)', -1), [0.0, 0.0, 0.54545454545454541, 0.0, 0.35064935064935066, 0.0, 0.0, 0.012987012987012988, 0.0]), (('Democratic Front for the Liberation of Rwanda (FDLR)', -1), [0.0, 0.0, 0.0625, 0.0, 0.4375, 0.1875, 0.09375, 0.0, 0.0]), (('Movement of Democratic Forces of Casamance', -1), [0.0, 0.0, 0.21311475409836064, 0.0, 0.75409836065573765, 0.016393442622950821, 0.016393442622950821, 0.0, 0.0]), ((\"South-West Africa People's Organization (SWAPO)\", -1), [0.0, 0.0, 0.49090909090909091, 0.0, 0.32727272727272727, 0.018181818181818181, 0.018181818181818181, 0.0, 0.0]), (('Revolutionary United Front (RUF)', -1), [0.0, 0.0, 0.055555555555555552, 0.0, 0.62962962962962965, 0.092592592592592587, 0.092592592592592587, 0.0, 0.0]), ((\"Sudan People's Liberation Movement - North\", -1), [0.0, 0.0, 0.48717948717948717, 0.0, 0.15384615384615385, 0.15384615384615385, 0.0, 0.0, 0.0]), ((\"Sudan People's Liberation Army (SPLA)\", -1), [0.0, 0.0, 0.18421052631578946, 0.0, 0.36842105263157893, 0.0, 0.0, 0.0, 0.0]), (('Party for the Liberation of the Hutu People (PALIPEHUTU)', -1), [0.0, 0.0, 0.30555555555555558, 0.0, 0.58333333333333337, 0.083333333333333329, 0.0, 0.0, 0.0]), (('Inkatha Freedom Party (IFP)', -1), [0.0, 0.0, 0.0, 0.0, 0.96666666666666667, 0.0, 0.20000000000000001, 0.0, 0.0]), (('Movement for Oneness and Jihad in West Africa (MUJAO)', -1), [0.0, 0.0, 0.54545454545454541, 0.0, 0.36363636363636365, 0.060606060606060608, 0.0, 0.0, 0.0]), (('Mayi Mayi', -1), [0.0, 0.0, 0.0, 0.0, 0.7857142857142857, 0.071428571428571425, 0.21428571428571427, 0.0, 0.0]), (('Seleka', -1), [0.0, 0.0, 0.10714285714285714, 0.0, 0.75, 0.25, 0.071428571428571425, 0.035714285714285712, 0.0]), (('National Liberation Front (FNL) (Burundi)', -1), [0.0, 0.0, 0.88888888888888884, 0.0, 0.14814814814814814, 0.0, 0.0, 0.0, 0.0]), (('Patriotic Resistance Front in Ituri (FRPI)', -1), [0.0, 0.0, 0.0, 0.0, 0.38461538461538464, 0.076923076923076927, 0.15384615384615385, 0.0, 0.0]), ((\"Sudan People's Liberation Movement in Opposition (SPLM-IO)\", -1), [0.0, 0.0, 0.041666666666666664, 0.0, 0.375, 0.20833333333333334, 0.0, 0.0, 0.0]), (('Zimbabwe African Nationalist Union (ZANU)', -1), [0.0, 0.0, 0.2857142857142857, 0.0, 0.23809523809523808, 0.095238095238095233, 0.095238095238095233, 0.0, 0.0]), (('Azawad National Liberation Movement (MNLA)', -1), [0.0, 0.0, 0.0, 0.0, 0.66666666666666663, 0.16666666666666666, 0.055555555555555552, 0.0, 0.0]), (('Uganda Freedom Movement (UFM)', -1), [0.0, 0.0, 0.5, 0.0, 0.16666666666666666, 0.055555555555555552, 0.0, 0.0, 0.0]), (('Basque Fatherland and Freedom (ETA)', -1), [0.0, 0.00052493438320209973, 0.6435695538057743, 0.0, 0.25459317585301838, 0.060892388451443569, 0.0020997375328083989, 0.0, 0.0]), (('Irish Republican Army (IRA)', -1), [0.0, 0.0, 0.49814520402755696, 0.0, 0.33227344992050872, 0.1589825119236884, 0.0021197668256491787, 0.0, 0.00052994170641229468]), (('Corsican National Liberation Front (FLNC)', -1), [0.0, 0.0, 0.93301435406698563, 0.0, 0.044657097288676235, 0.025518341307814992, 0.001594896331738437, 0.0, 0.0]), (('Ulster Volunteer Force (UVF)', -1), [0.0, 0.0041493775933609959, 0.26141078838174275, 0.0, 0.68049792531120334, 0.020746887966804978, 0.062240663900414939, 0.0, 0.0]), (('Ulster Freedom Fighters (UFF)', -1), [0.0, 0.0, 0.12121212121212122, 0.0, 0.65800865800865804, 0.1774891774891775, 0.025974025974025976, 0.0, 0.004329004329004329]), (('Red Brigades', -1), [0.0, 0.0, 0.17452830188679244, 0.0, 0.59905660377358494, 0.16981132075471697, 0.0047169811320754715, 0.0, 0.0]), (('First of October Antifascist Resistance Group (GRAPO)', -1), [0.0, 0.0, 0.55837563451776651, 0.0, 0.36548223350253806, 0.030456852791878174, 0.0, 0.0, 0.0]), (('Corsican National Liberation Front- Historic Channel', -1), [0.0, 0.0, 0.96875, 0.0, 0.03125, 0.0, 0.0, 0.0, 0.0]), (('Armenian Secret Army for the Liberation of Armenia', -1), [0.0, 0.0, 0.78977272727272729, 0.0, 0.13636363636363635, 0.011363636363636364, 0.0, 0.0, 0.0]), (('November 17 Revolutionary Organization (N17RO)', -1), [0.0, 0.0, 0.85849056603773588, 0.0, 0.14150943396226415, 0.0, 0.0, 0.0, 0.0]), (('Irish National Liberation Army (INLA)', -1), [0.0, 0.0, 0.2967032967032967, 0.0, 0.49450549450549453, 0.14285714285714285, 0.0, 0.0, 0.0]), ((\"Revolutionary People's Struggle (ELA)\", -1), [0.0, 0.0, 0.91666666666666663, 0.0, 0.011904761904761904, 0.071428571428571425, 0.0, 0.0, 0.0]), (('Irish Republican Extremists', -1), [0.0, 0.0, 0.2696629213483146, 0.0, 0.6404494382022472, 0.033707865168539325, 0.033707865168539325, 0.0, 0.0]), (('Dissident Republicans', -1), [0.0, 0.0, 0.72727272727272729, 0.015151515151515152, 0.10606060606060606, 0.16666666666666666, 0.015151515151515152, 0.0, 0.0]), (('Terra Lliure', -1), [0.0, 0.0, 0.88524590163934425, 0.0, 0.032786885245901641, 0.0, 0.0, 0.0, 0.0]), (('Prima Linea', -1), [0.0, 0.0, 0.20689655172413793, 0.0, 0.63793103448275867, 0.18965517241379309, 0.0, 0.0, 0.0]), (('Iparretarrak (IK)', -1), [0.0, 0.0, 0.92727272727272725, 0.0, 0.036363636363636362, 0.018181818181818181, 0.0, 0.0, 0.0]), (('Action Directe', -1), [0.0, 0.0, 0.81132075471698117, 0.0, 0.15094339622641509, 0.0, 0.0, 0.0, 0.0]), (('Baader-Meinhof Group', -1), [0.0, 0.0, 0.31372549019607843, 0.0, 0.098039215686274508, 0.50980392156862742, 0.0, 0.0, 0.0]), (('Conspiracy of Cells of Fire', -1), [0.0, 0.0, 0.59615384615384615, 0.0, 0.0, 0.38461538461538464, 0.0, 0.019230769230769232, 0.0]), (('Revolutionary Cells', -1), [0.0, 0.0, 0.69999999999999996, 0.0, 0.059999999999999998, 0.23999999999999999, 0.0, 0.0, 0.0]), ((\"Free Galician People's Guerrilla Army\", -1), [0.0, 0.0, 0.80851063829787229, 0.0, 0.021276595744680851, 0.0, 0.0, 0.0, 0.0]), (('Popular Forces of April 25', -1), [0.0, 0.0, 0.80434782608695654, 0.0, 0.10869565217391304, 0.021739130434782608, 0.0, 0.0, 0.0]), (('Revolutionary Patriotic Anti-Fascist Front (FRAP)', -1), [0.0, 0.0, 0.22222222222222221, 0.0, 0.22222222222222221, 0.53333333333333333, 0.022222222222222223, 0.0, 0.0]), (('Real Irish Republican Army (RIRA)', -1), [0.0, 0.0, 0.82051282051282048, 0.0, 0.10256410256410256, 0.05128205128205128, 0.0, 0.0, 0.0]), (('Ex-Somoza National Guard', -1), [0.0, 0.0, 0.18181818181818182, 0.0, 0.72727272727272729, 0.0, 0.0, 0.0, 0.0]), (('Coordination of the United Revolutionary Organization (CORU)', -1), [0.0, 0.0, 0.8571428571428571, 0.0, 0.14285714285714285, 0.0, 0.0, 0.0, 0.0]), (('Maximiliano Hernandez Martinez Brigade', -1), [0.0, 0.0, 0.5714285714285714, 0.0, 0.2857142857142857, 0.14285714285714285, 0.0, 0.0, 0.0]), (('Revolutionary Front for Hatian Advancement and Progress (FRAPH)', -1), [0.0, 0.0, 0.0, 0.0, 0.25, 0.0, 0.25, 0.0, 0.25]), (('Ansar Allah', -1), [0.0, 0.0, 1.0, 0.0, 0.0, 0.0, 0.0, 0.0, 0.0]), (('Bloque Anti-Guerrillero de Oriente (BAGO)', -1), [0.0, 0.0, 0.0, 0.0, 1.0, 0.0, 0.0, 0.0, 0.0]), (('Chechen Lone Wolf Group', -1), [0.0, 0.0, 0.0, 0.0, 1.0, 0.0, 0.0, 0.0, 0.0]), (('Justice Commandos for the Armenian Genocide', -1), [0.0, 0.0, 0.52272727272727271, 0.0, 0.40909090909090912, 0.090909090909090912, 0.0, 0.0, 0.0]), (('Sayfullakh', -1), [0.0, 0.0, 0.0, 0.0, 1.0, 0.0, 0.0, 0.0, 0.0]), (('Special Purpose Islamic Regiment (SPIR)', -1), [0.0, 0.0, 1.0, 0.0, 1.0, 0.0, 0.0, 0.0, 0.0]), (('Free Syrian Army', -1), [0.0, 0.0, 0.76744186046511631, 0.0, 0.13953488372093023, 0.0, 0.023255813953488372, 0.0, 0.0]), (('Tawhid and Jihad', -1), [0.0, 0.0, 0.69047619047619047, 0.0, 0.23809523809523808, 0.0, 0.095238095238095233, 0.0, 0.0]), (('Sanaa Province of the Islamic State', -1), [0.0, 0.0, 1.0, 0.0, 0.0, 0.0, 0.0, 0.0, 0.0]), (('Abdullah Azzam Brigades', -1), [0.0, 0.0, 0.90476190476190477, 0.0, 0.19047619047619047, 0.0, 0.0, 0.0, 0.0]), (('Front for the Liberation of Lebanon from Foreigners', -1), [0.0, 0.0, 1.0, 0.0, 0.083333333333333329, 0.0, 0.0, 0.0, 0.0]), (('Ansar al-Din Front', -1), [0.0, 0.0, 0.0, 0.0, 0.0, 0.0, 0.0, 0.0, 0.0]), (('Institutional Revolutionary Party (PRI)', -1), [0.0, 0.0, 0.0, 0.0, 1.0, 0.0, 0.0, 0.0, 0.0]), (('Popular Revolutionary Army (Mexico)', -1), [0.0, 0.0, 0.23076923076923078, 0.0, 0.76923076923076927, 0.0, 0.0, 0.0, 0.0]), (('Armed Commandos of Liberation', -1), [0.0, 0.0, 0.91666666666666663, 0.0, 0.083333333333333329, 0.0, 0.0, 0.0, 0.0]), (('Democratic Revolutionary Party', -1), [0.0, 0.0, 0.0, 0.0, 0.27272727272727271, 0.45454545454545453, 0.090909090909090912, 0.0, 0.0]), (('Al-Qaida', -1), [0.0, 0.02, 0.83999999999999997, 0.0, 0.10000000000000001, 0.080000000000000002, 0.080000000000000002, 0.0, 0.080000000000000002]), (('Vietnamese Organization to Exterminate Communists and Restore the Nation', -1), [0.0, 0.0, 0.0, 0.0, 0.66666666666666663, 0.33333333333333331, 0.0, 0.0, 0.0]), (('Individuals Tending Toward Savagery', -1), [0.0, 0.0, 0.5, 0.0, 0.0, 0.5, 0.0, 0.0, 0.0]), (('Militant Peasants (NFI)', -1), [0.0, 0.0, 0.0, 0.0, 1.0, 0.0, 0.0, 0.0, 0.0]), (('Republic of New Afrika', -1), [0.0, 0.0, 0.0, 0.0, 1.0, 0.0, 0.0, 0.0, 0.0]), (('Jonathan Jackson Brigade', -1), [0.0, 0.0, 0.0, 0.0, 1.0, 0.0, 0.0, 0.0, 0.0]), (('Justice Army for Defenseless Peoples', -1), [0.0, 0.0, 0.0, 0.0, 1.0, 0.0, 0.0, 0.0, 0.0]), (('Movement for Triqui Unification and Struggle', -1), [0.0, 0.0, 0.0, 0.0, 1.0, 0.0, 0.0, 0.0, 0.0]), (('America Battalion', -1), [0.0, 0.0, 0.25, 0.0, 0.75, 0.0, 0.0, 0.0, 0.0]), (('Commandos for A Popular alternative', -1), [0.0, 0.0, 0.0, 0.0, 1.0, 0.0, 0.0, 0.0, 0.0]), (('Death to Rustlers', -1), [0.0, 0.0, 0.0, 0.0, 1.0, 0.0, 0.0, 0.0, 0.0]), (('National Socialist Civic Workers Movement', -1), [0.0, 0.0, 0.5, 0.0, 0.5, 0.0, 0.0, 0.0, 0.0]), (('Khorasan Chapter of the Islamic State', -1), [0.0, 0.0, 0.47619047619047616, 0.0, 0.46031746031746029, 0.015873015873015872, 0.12698412698412698, 0.0, 0.0]), (('Maoist Communist Center (MCC)', -1), [0.0, 0.0, 0.30303030303030304, 0.0, 0.51515151515151514, 0.090909090909090912, 0.090909090909090912, 0.060606060606060608, 0.0]), (('Communist Party of Nepal- Maoist (CPN-M)', -1), [0.0, 0.0, 0.57894736842105265, 0.0, 0.52631578947368418, 0.0, 0.052631578947368418, 0.0, 0.0]), (('Jundallah', -1), [0.0, 0.032258064516129031, 0.61290322580645162, 0.0, 0.32258064516129031, 0.064516129032258063, 0.032258064516129031, 0.0, 0.0]), (('Harkatul Jihad-e-Islami', -1), [0.0, 0.0, 0.7857142857142857, 0.0, 0.2857142857142857, 0.0, 0.0, 0.0, 0.0]), (('Vigilante Group', -1), [0.0, 0.0, 0.0, 0.0, 0.95999999999999996, 0.0, 0.040000000000000001, 0.0, 0.0]), (('Deccan Mujahideen', -1), [0.0, 0.0, 0.375, 0.0, 0.75, 0.0, 0.125, 0.0, 0.0]), ((\"Cambodian People's Party (CPP)\", -1), [0.0, 0.0, 0.66666666666666663, 0.0, 0.33333333333333331, 0.0, 0.0, 0.0, 0.0]), (('North Korean involvement commandos', -1), [0.0, 0.0, 1.0, 0.0, 0.0, 0.0, 0.0, 0.0, 0.0]), (('Justice and Equality Movement (JEM)', -1), [0.0, 0.0, 0.058823529411764705, 0.0, 0.82352941176470584, 0.0, 0.0, 0.0, 0.0]), (('Tigray Peoples Liberation Front (TPLF)', -1), [0.0, 0.0, 0.0, 0.0, 0.20000000000000001, 0.0, 0.0, 0.0, 0.0]), (('National Resistance Movement (NRM)', -1), [0.0, 0.0, 0.33333333333333331, 0.0, 0.0, 0.0, 0.0, 0.0, 0.0]), (('Dissident Military Mmbrs of Northern Tribal Group', -1), [0.0, 0.0, 0.0, 0.0, 1.0, 0.0, 0.0, 0.0, 0.0]), (('Black September', -1), [0.0, 0.0, 0.63265306122448983, 0.0, 0.34693877551020408, 0.040816326530612242, 0.0, 0.0, 0.0]), (('Armed Revolutionary Nuclei (NAR)', -1), [0.0, 0.050000000000000003, 0.29999999999999999, 0.0, 0.55000000000000004, 0.20000000000000001, 0.0, 0.0, 0.0]), (('Official Irish Republican Army (OIRA)', -1), [0.0, 0.0, 0.15789473684210525, 0.0, 0.84210526315789469, 0.0, 0.052631578947368418, 0.0, 0.0]), (('Abu Nidal Organization (ANO)', -1), [0.0, 0.0, 0.5, 0.0, 0.65789473684210531, 0.0, 0.0, 0.0, 0.0]), (('Abu Hafs al-Masri Brigades', -1), [0.0, 0.0, 1.0, 0.0, 0.0, 0.0, 0.0, 0.0, 0.0]), (('Black Order', -1), [0.0, 0.0, 0.83333333333333337, 0.0, 0.0, 0.16666666666666666, 0.0, 0.0, 0.0]), (('Republican Action Force', -1), [0.0, 0.0, 0.0, 0.0, 1.0, 0.0, 0.0, 0.0, 0.0]), (('Secret Organization of al-Qaida in Europe', -1), [0.0, 0.0, 1.0, 0.0, 0.0, 0.0, 0.0, 0.0, 0.0]), (('Popular Front for the Liberation of Palestine, Gen Cmd (PFLP-GC)', -1), [0.0, 0.0, 0.8571428571428571, 0.0, 0.2857142857142857, 0.0, 0.0, 0.0, 0.0]), (('New Order', -1), [0.0, 0.0, 1.0, 0.0, 0.0, 0.0, 0.0, 0.0, 0.0]), (('Mano Blanca', -1), [0.0, 0.0, 0.59999999999999998, 0.0, 0.0, 0.0, 0.0, 0.0, 0.0]), (('Miskito Indian Organization', -1), [0.0, 0.0, 0.33333333333333331, 0.0, 0.66666666666666663, 0.0, 0.0, 0.0, 0.0]), (('National Anti Communist Commando', -1), [0.0, 0.0, 0.0, 0.0, 1.0, 0.0, 0.0, 0.0, 0.0]), (('Revolutionary Workers Party', -1), [0.0, 0.0, 0.80000000000000004, 0.0, 0.20000000000000001, 0.0, 0.0, 0.0, 0.0]), (('Guatemalan Communist Party', -1), [0.0, 0.0, 0.0, 0.0, 1.0, 0.0, 0.0, 0.0, 0.0]), (('Jamaica Labor Party', -1), [0.0, 0.0, 0.0, 0.0, 1.0, 0.0, 0.0, 0.0, 0.0]), (('Cossack Separatists', -1), [0.0, 0.0, 1.0, 0.0, 0.0, 0.0, 0.0, 0.0, 0.0]), ((\"Kata'ib al-Khoul\", -1), [0.0, 0.0, 0.0, 0.0, 1.0, 0.0, 0.0, 0.0, 0.0]), (('Al-Fatah', -1), [0.0, 0.0, 0.26923076923076922, 0.0, 0.53846153846153844, 0.076923076923076927, 0.057692307692307696, 0.0, 0.0]), (('Devrimici Halk Kurtulus Cephesi (DHKP/C)', -1), [0.0, 0.0, 0.70588235294117652, 0.0, 0.41176470588235292, 0.029411764705882353, 0.0, 0.0, 0.0]), (('Democratic Front for the Liberation of Palestine (DFLP)', -1), [0.0, 0.0, 0.67647058823529416, 0.0, 0.23529411764705882, 0.058823529411764705, 0.058823529411764705, 0.0, 0.0]), (('Turkish Communist Party/Marxist (TKP-ML)', -1), [0.0, 0.0, 0.4642857142857143, 0.0, 0.2857142857142857, 0.10714285714285714, 0.0, 0.0, 0.0]), (('Jewish Extremists', -1), [0.0, 0.0, 0.14814814814814814, 0.0, 0.25925925925925924, 0.22222222222222221, 0.14814814814814814, 0.0, 0.0]), (('Syrian Social Nationalist Party', -1), [0.0, 0.0, 0.59999999999999998, 0.0, 0.0, 0.20000000000000001, 0.0, 0.0, 0.0]), (('Kurdish Democratic Party-Iraq (KDP)', -1), [0.0, 0.0, 0.25, 0.0, 0.25, 0.0, 0.0, 0.0, 0.0]), (('Islamic Unification Movement', -1), [0.0, 0.0, 1.0, 0.0, 0.0, 0.0, 0.0, 0.0, 0.0]), (('The Justice Department', -1), [0.0625, 0.0625, 0.0, 0.0, 0.0, 0.0625, 0.0, 0.0, 0.0]), (('Che Guevara Brigade', -1), [0.0, 0.0, 1.0, 0.0, 0.0, 0.0, 0.0, 0.0, 0.0]), (('Movement of the Revolutionary Left (MIR) (Peru)', -1), [0.0, 0.0, 0.2857142857142857, 0.0, 0.7142857142857143, 0.0, 0.0, 0.0, 0.0]), (('Ejercito de Liberacion Nacional (Bolivia)', -1), [0.0, 0.0, 0.33333333333333331, 0.0, 0.0, 0.0, 0.0, 0.0, 0.0]), (('National Liberation Army (Ecuador)', -1), [0.0, 0.0, 0.33333333333333331, 0.0, 0.66666666666666663, 0.0, 0.0, 0.0, 0.0]), (('Jamaat-E-Islami (Bangladesh)', -1), [0.0, 0.0, 0.5, 0.0, 0.21666666666666667, 0.46666666666666667, 0.066666666666666666, 0.0, 0.0]), ((\"People's Liberation Army (India)\", -1), [0.0, 0.0, 0.81818181818181823, 0.0, 0.18181818181818182, 0.0, 0.0, 0.0, 0.0]), (('Hizb-I-Islami', -1), [0.0, 0.0, 0.66666666666666663, 0.0, 0.13333333333333333, 0.066666666666666666, 0.033333333333333333, 0.0, 0.0]), (('Awami League', -1), [0.0, 0.0, 0.19230769230769232, 0.0, 0.53846153846153844, 0.23076923076923078, 0.11538461538461539, 0.0, 0.0]), (('Jamaat-E-Islami (India/Pakistan)', -1), [0.0, 0.0, 0.20000000000000001, 0.0, 0.40000000000000002, 0.20000000000000001, 0.20000000000000001, 0.0, 0.0]), (('Babbar Khalsa International (BKI)', -1), [0.0, 0.0, 0.80000000000000004, 0.0, 0.10000000000000001, 0.0, 0.10000000000000001, 0.0, 0.0]), (('Communist Party of India- Marxist', -1), [0.0, 0.0, 0.375, 0.0, 0.25, 0.0, 0.125, 0.0, 0.0]), ((\"Pakistani People's Party (PPP)\", -1), [0.0, 0.0, 0.25, 0.0, 0.375, 0.125, 0.0, 0.0, 0.0]), (('Tamil Nadu Liberation Army', -1), [0.0, 0.0, 1.0, 0.0, 0.0, 0.0, 0.0, 0.0, 0.0]), (('Kuki Tribal Militants', -1), [0.0, 0.0, 0.0, 0.0, 0.59999999999999998, 0.0, 0.0, 0.0, 0.0]), (('Khasi Students Union', -1), [0.0, 0.0, 0.0, 0.0, 0.25, 0.5, 0.0, 0.0, 0.0]), ((\"All Burma Students' Democratic Front (ABSDF)\", -1), [0.0, 0.0, 1.0, 0.0, 0.0, 0.0, 0.0, 0.0, 0.0]), (('Karenni National Progressive Party', -1), [0.0, 0.0, 0.0, 0.0, 1.0, 0.0, 0.0, 0.0, 0.0]), (('Shan State Army - North (SSA-N)', -1), [0.0, 0.0, 0.33333333333333331, 0.0, 0.66666666666666663, 0.0, 0.0, 0.0, 0.0]), (('National League for Democracy', -1), [0.0, 0.0, 1.0, 0.0, 0.0, 0.0, 0.0, 0.0, 0.0]), (('Eritrean Liberation Front', -1), [0.0, 0.0, 0.16666666666666666, 0.0, 0.22222222222222221, 0.0, 0.0, 0.0, 0.0]), (('Front for the Liberation of the Enclave of Cabinda (FLEC)', -1), [0.0, 0.0, 0.071428571428571425, 0.0, 0.5714285714285714, 0.0, 0.0, 0.0, 0.0]), (('Sudan Liberation Movement', -1), [0.0, 0.0, 0.0, 0.0, 0.66666666666666663, 0.0, 0.16666666666666666, 0.0, 0.0]), (('Oromo Liberation Front', -1), [0.0, 0.0, 0.5, 0.0, 0.375, 0.0, 0.0, 0.0, 0.0]), (('Al-Ittihaad al-Islami (AIAI)', -1), [0.0, 0.0, 0.59999999999999998, 0.0, 0.40000000000000002, 0.0, 0.0, 0.0, 0.0]), (('Pan Africanist Congress (PAC)', -1), [0.0, 0.0, 0.20000000000000001, 0.0, 0.80000000000000004, 0.0, 0.20000000000000001, 0.0, 0.0]), ((\"People's Democratic Party (PDP)\", -1), [0.0, 0.0, 0.0, 0.0, 0.75, 0.0, 0.0, 0.0, 0.0]), ((\"Odua Peoples' Congress (OPC)\", -1), [0.0, 0.33333333333333331, 0.0, 0.0, 0.66666666666666663, 0.33333333333333331, 0.33333333333333331, 0.0, 0.0]), (('National Army for the Liberation of Uganda (NALU)', -1), [0.0, 0.0, 0.5, 0.0, 0.0, 0.0, 0.0, 0.0, 0.0]), (('Union of Congolese Patriots (UPC)', -1), [0.0, 0.0, 0.0, 0.0, 1.0, 0.0, 0.5, 0.0, 0.0]), (('Breton Liberation Front (FLB)', -1), [0.0, 0.0, 0.9375, 0.0, 0.0, 0.0625, 0.0, 0.0, 0.0]), (('Red Hand Commandos', -1), [0.0, 0.0, 0.1111111111111111, 0.0, 0.88888888888888884, 0.0, 0.0, 0.0, 0.0]), (('National Organization of Cypriot Fighters (EOKA)', -1), [0.0, 0.0, 0.40000000000000002, 0.0, 0.20000000000000001, 0.0, 0.20000000000000001, 0.0, 0.0]), (('Angry Brigade', -1), [0.0, 0.0, 0.66666666666666663, 0.0, 0.0, 0.33333333333333331, 0.0, 0.0, 0.0])])\n",
      "<class 'numpy.int64'>\n",
      "3\n"
     ]
    }
   ],
   "source": [
    "def get_index(groups, name):\n",
    "    for i in range(len(groups)):\n",
    "        if groups[i] == name:\n",
    "            return i\n",
    "    return -1\n",
    "\n",
    "unique_groups, group_counts = np.unique(dfs['gname'], return_counts=True)\n",
    "for gname, c_id in group_dict:\n",
    "    index = get_index(unique_groups,gname)\n",
    "    if index == -1:\n",
    "        print(\"WTF. \" + gname)\n",
    "    nevents = group_counts[index]\n",
    "    #print(nevents)\n",
    "    #nevents = nevents[0]\n",
    "    for i in range(len(group_dict[(gname,c_id)])):\n",
    "        group_dict[(gname,c_id)][i] = group_dict[(gname,c_id)][i]/nevents\n",
    "    #group_dict[(gname,c_id)].append(nevents)\n",
    "\n",
    "print(group_dict)\n",
    "print(type(nevents))\n",
    "print(nevents)"
   ]
  },
  {
   "cell_type": "code",
   "execution_count": 8,
   "metadata": {
    "collapsed": false
   },
   "outputs": [
    {
     "name": "stdout",
     "output_type": "stream",
     "text": [
      "['14 K Triad' '20 December Movement (M-20)'\n",
      " '23rd of September Communist League' \"31 January People's Front (FP-31)\"\n",
      " 'Abdullah Azzam Brigades' 'Abu Hafs al-Masri Brigades'\n",
      " 'Abu Nidal Organization (ANO)' 'Abu Sayyaf Group (ASG)' 'Action Directe'\n",
      " 'African National Congress (South Africa)' 'Al-Aqsa Martyrs Brigade'\n",
      " 'Al-Fatah' \"Al-Gama'at al-Islamiyya (IG)\" 'Al-Ittihaad al-Islami (AIAI)'\n",
      " 'Al-Khobar' 'Al-Nusrah Front' 'Al-Qaida' 'Al-Qaida in Iraq'\n",
      " 'Al-Qaida in the Arabian Peninsula (AQAP)'\n",
      " 'Al-Qaida in the Islamic Maghreb (AQIM)' 'Al-Shabaab'\n",
      " 'Albanian National Army (ANA)' 'Alex Boncayao Brigade (ABB)' 'Alfaro Vive'\n",
      " 'Algeisk Wolves' 'Algerian Islamic Extremists'\n",
      " \"All Burma Students' Democratic Front (ABSDF)\"\n",
      " 'Allied Democratic Forces (ADF)' 'America Battalion' 'Angry Brigade'\n",
      " 'Animal Liberation Front (ALF)' 'Ansar Allah' 'Ansar al-Din Front'\n",
      " 'Anti-Government Rebels' 'Anti-Imperialist Students Council'\n",
      " 'Anti-Narita Extremists' 'April 6th Liberation Movement'\n",
      " 'Armed Commandos of Liberation'\n",
      " 'Armed Forces of National Resistance (FARN)'\n",
      " 'Armed Forces of the Chechen Republic of Ichkeria'\n",
      " 'Armed Islamic Group (GIA)'\n",
      " 'Armed Revolutionary Independence Movement (MIRA)'\n",
      " 'Armed Revolutionary Nuclei (NAR)' 'Armenian Nationalists'\n",
      " 'Armenian Secret Army for the Liberation of Armenia' 'Army of God'\n",
      " 'Association for the Enhancement of the Justice of the Great Japan'\n",
      " 'Aum Shinri Kyo' 'Awami League'\n",
      " 'Azawad National Liberation Movement (MNLA)' 'Baader-Meinhof Group'\n",
      " 'Babbar Khalsa International (BKI)' 'Baloch Liberation Army (BLA)'\n",
      " 'Baloch Liberation Front (BLF)' 'Baloch Republican Army (BRA)'\n",
      " 'Bangladesh Nationalist Party (BNP)'\n",
      " 'Bangsamoro Islamic Freedom Movement (BIFM)'\n",
      " 'Barisan Revolusi Nasional (BRN)' 'Barqa Province of the Islamic State'\n",
      " 'Basque Fatherland and Freedom (ETA)' 'Black Berets'\n",
      " 'Black Liberation Army' 'Black Nationalists' 'Black Order'\n",
      " 'Black Panthers' 'Black September'\n",
      " 'Bloque Anti-Guerrillero de Oriente (BAGO)' 'Boko Haram'\n",
      " 'Bougainville Revolutionary Army (BRA)' 'Breton Liberation Front (FLB)'\n",
      " 'Brunswijk Jungle Commando' \"Cambodian People's Party (CPP)\"\n",
      " 'Caribbean Revolutionary Alliance (ARC)' 'Caucasus Emirate'\n",
      " 'Che Guevara Brigade' 'Chechen Lone Wolf Group' 'Chicano Liberation Front'\n",
      " 'Chondaehyop (Radical Student Coalition)' 'Chonson Univ. students'\n",
      " 'Chukakuha (Middle Core Faction)' 'Chukakuha Revolutionary Army'\n",
      " 'Cinchoneros Popular Liberation Movement' 'Combat 18'\n",
      " 'Commandos for A Popular alternative'\n",
      " 'Communist Party of India - Maoist (CPI-Maoist)'\n",
      " 'Communist Party of India- Marxist'\n",
      " 'Communist Party of Nepal- Maoist (CPN-M)' 'Conspiracy of Cells of Fire'\n",
      " 'Coordination of the United Revolutionary Organization (CORU)'\n",
      " 'Corsican National Liberation Front (FLNC)'\n",
      " 'Corsican National Liberation Front- Historic Channel'\n",
      " 'Cossack Separatists' 'Croatian Nationalists' \"Dagestani Shari'ah Jamaat\"\n",
      " 'Dainihon Yokuko Doshikai' 'Death Squad' 'Death to Kidnappers (MAS)'\n",
      " 'Death to Rustlers' 'Deccan Mujahideen' 'December 13 Independent Group'\n",
      " 'Democratic Front for the Liberation of Palestine (DFLP)'\n",
      " 'Democratic Front for the Liberation of Rwanda (FDLR)'\n",
      " 'Democratic Karen Buddhist Army (DKBA)' 'Democratic Progressive Party'\n",
      " 'Democratic Revolutionary Alliance (ARDE)'\n",
      " 'Democratic Revolutionary Party' 'Dev Sol'\n",
      " 'Devrimici Halk Kurtulus Cephesi (DHKP/C)'\n",
      " 'Dissident Military Mmbrs of Northern Tribal Group'\n",
      " 'Dissident Republicans'\n",
      " 'Do-or-Die Corps for the Abolition of Anti-Public Taxation Systems'\n",
      " 'Earth Liberation Front (ELF)' 'East Asia Anti Japanese Armed Front'\n",
      " 'Eastern Turkistan Islamic Movement (ETIM)'\n",
      " 'Ejercito Revolucionaria del Pueblo (ERP) (Argentina)'\n",
      " 'Ejercito de Liberacion Nacional (Bolivia)' 'Eritrean Liberation Front'\n",
      " 'Ex-Somoza National Guard' 'Extraparliamentary Opposition (APO)'\n",
      " 'Farabundo Marti National Liberation Front (FMLN)'\n",
      " 'February 28 Popular League (El Salvador)'\n",
      " 'First of October Antifascist Resistance Group (GRAPO)' 'Forest Brothers'\n",
      " 'Free Aceh Movement (GAM)' \"Free Galician People's Guerrilla Army\"\n",
      " 'Free Papua Movement (OPM-Organisasi Papua Merdeka)' 'Free Syrian Army'\n",
      " 'Front for the Liberation of Lebanon from Foreigners'\n",
      " 'Front for the Liberation of the Enclave of Cabinda (FLEC)'\n",
      " 'Fuerzas Armadas de Liberacion Nacional (FALN)'\n",
      " 'Garo National Liberation Army' 'George Jackson Brigade'\n",
      " 'Great Japan Patriotic Party' 'Greek Bulgarian Armenian Front'\n",
      " 'Guadalcanal Liberation Army' 'Guatemalan Communist Party'\n",
      " 'Guatemalan Labor Party (PGT)'\n",
      " 'Guatemalan National Revolutionary Unity (URNG)'\n",
      " 'Guerrilla Army of the Poor (EGP)' 'Hamas (Islamic Resistance Movement)'\n",
      " 'Hanchongryun' 'Haqqani Network' 'Harkatul Jihad-e-Islami' 'Hezbollah'\n",
      " 'Hiroyuki Jo' 'Hizb al-Tahrir al-Islami (HT)' 'Hizb-I-Islami'\n",
      " 'Hizbul Mujahideen (HM)' 'Hotaru (Firefly)'\n",
      " 'Independent Armed Revolutionary Commandos (CRIA)'\n",
      " 'Individuals Tending Toward Savagery' 'Informal Anarchist Federation'\n",
      " 'Inkatha Freedom Party (IFP)' 'Institutional Revolutionary Party (PRI)'\n",
      " 'Internationalist Cells' 'Iparretarrak (IK)'\n",
      " 'Irish National Liberation Army (INLA)' 'Irish Republican Army (IRA)'\n",
      " 'Irish Republican Extremists' 'Isatabu Freedom Movement (IFM)'\n",
      " 'Islambouli Brigades of al-Qaida' 'Islamic Jihad Group (IJG)'\n",
      " 'Islamic Jihad Union (Uzbekistan)' 'Islamic Movement of Uzbekistan (IMU)'\n",
      " 'Islamic Salvation Front (FIS)' 'Islamic State of Iraq (ISI)'\n",
      " 'Islamic State of Iraq and the Levant (ISIL)'\n",
      " 'Islamic Unification Movement' 'Issui Kai' 'Jamaah Ansharut Tauhid (JAT)'\n",
      " 'Jamaat-E-Islami (Bangladesh)' 'Jamaat-E-Islami (India/Pakistan)'\n",
      " 'Jamaica Labor Party'\n",
      " 'Janatantrik Terai Mukti Morcha- Jwala Singh (JTMM-J)' 'Janjaweed'\n",
      " 'Japan National Youth Alliance'\n",
      " \"Japan Socialist Youth League of the Revolutionary Workers' Association\"\n",
      " 'Japanese Independence Patriotic Party' 'Japanese Red Army (JRA)'\n",
      " 'Jemaah Islamiya (JI)' 'Jewish Armed Resistance'\n",
      " 'Jewish Defense League (JDL)' 'Jewish Extremists'\n",
      " 'Jonathan Jackson Brigade' 'Jundallah'\n",
      " 'Justice Army for Defenseless Peoples'\n",
      " 'Justice Commandos for the Armenian Genocide'\n",
      " 'Justice and Equality Movement (JEM)' 'Kachin Independence Army (KIA)'\n",
      " 'Kanak Separatists' 'Kanak Socialist National Liberation Front'\n",
      " 'Karen National Union' 'Karenni National Progressive Party'\n",
      " \"Kata'ib al-Khoul\" 'Khasi Students Union' 'Khmer Rouge'\n",
      " 'Khorasan Chapter of the Islamic State' 'Korean Youth League'\n",
      " 'Kosovo Liberation Army (KLA)' 'Ku Klux Klan' 'Kuki Tribal Militants'\n",
      " 'Kurdish Democratic Party-Iraq (KDP)' \"Kurdistan Workers' Party (PKK)\"\n",
      " 'Kyongbuk University Dental College Students' 'Lashkar-e-Islam (Pakistan)'\n",
      " 'Lashkar-e-Jhangvi' 'Lashkar-e-Taiba (LeT)' 'League of Communists'\n",
      " 'Liberation Army for Presevo, Medvedja and Bujanovac (UCPMB)'\n",
      " 'Liberation Tigers of Tamil Eelam (LTTE)' \"Lord's Resistance Army (LRA)\"\n",
      " 'Lorenzo Zelaya Revolutionary Front (LZRF)' 'Lufa Tribesmen'\n",
      " 'M-19 (Movement of April 19)' 'Macheteros' 'Makhachkala Gang'\n",
      " 'Mano Blanca' 'Manuel Rodriguez Patriotic Front (FPMR)'\n",
      " 'Maoist Communist Center (MCC)' 'Maruseido (Marxist Youth League)'\n",
      " 'Maximiliano Gomez Revolutionary Brigade'\n",
      " 'Maximiliano Hernandez Martinez Brigade' 'Mayi Mayi'\n",
      " 'Militant Peasants (NFI)' 'Miskito Indian Organization'\n",
      " 'Misurasata Indian Organization' 'Montoneros (Argentina)'\n",
      " 'Moro Islamic Liberation Front (MILF)'\n",
      " 'Moro National Liberation Front (MNLF)'\n",
      " 'Movement for Oneness and Jihad in West Africa (MUJAO)'\n",
      " 'Movement for Triqui Unification and Struggle'\n",
      " 'Movement for the Emancipation of the Niger Delta (MEND)'\n",
      " 'Movement of Democratic Forces of Casamance'\n",
      " 'Movement of the Revolutionary Left (MIR) (Chile)'\n",
      " 'Movement of the Revolutionary Left (MIR) (Peru)'\n",
      " 'Mozambique National Resistance Movement (MNR)' 'Mujahedin-e Khalq (MEK)'\n",
      " 'Mujahidin Indonesia Timur (MIT)' 'Muslim Brotherhood'\n",
      " 'Muttahida Qami Movement (MQM)' 'NVF' 'Namchong-Nyon Students'\n",
      " 'Nara Red Army' 'National Anti Communist Commando'\n",
      " 'National Army for the Liberation of Uganda (NALU)'\n",
      " 'National Committee Against Independence (CNCI)'\n",
      " 'National Defense Youth Corps'\n",
      " 'National Democratic Front of Bodoland (NDFB)'\n",
      " 'National League for Democracy' 'National Liberation Army (Ecuador)'\n",
      " 'National Liberation Army (NLA) (Macedonia)'\n",
      " 'National Liberation Army of Colombia (ELN)'\n",
      " 'National Liberation Front (FNL) (Burundi)'\n",
      " 'National Liberation Front of Tripura (NLFT)'\n",
      " 'National Organization of Cypriot Fighters (EOKA)'\n",
      " 'National Resistance Movement (NRM)'\n",
      " 'National Socialist Civic Workers Movement'\n",
      " 'National Union for the Total Independence of Angola (UNITA)' 'Naxalites'\n",
      " 'New Order' \"New People's Army (NPA)\" 'New World Liberation Front (NWLF)'\n",
      " 'Nicaraguan Democratic Force (FDN)' 'Nicaraguan Resistance'\n",
      " 'North Korean involvement commandos'\n",
      " 'November 17 Revolutionary Organization (N17RO)'\n",
      " \"Odua Peoples' Congress (OPC)\" 'Official Irish Republican Army (OIRA)'\n",
      " 'Omega-7' 'Oromo Liberation Front' 'Pacific Popular Front'\n",
      " \"Pakistani People's Party (PPP)\" 'Palestine Liberation Organization (PLO)'\n",
      " 'Palestinian Islamic Jihad (PIJ)' 'Pan Africanist Congress (PAC)'\n",
      " \"Paraguayan People's Army (EPP)\"\n",
      " 'Party for the Liberation of the Hutu People (PALIPEHUTU)'\n",
      " 'Patriotic Morazanista Front (FPM)'\n",
      " 'Patriotic Resistance Front in Ituri (FRPI)'\n",
      " 'Pattani United Liberation Organization (PULO)' 'Paupa New Guinea Troops'\n",
      " 'Peasant Self-Defense Group (ACCU)' \"People's Democratic Army\"\n",
      " \"People's Democratic Party (PDP)\" \"People's Liberation Army (India)\"\n",
      " \"People's Liberation Forces (FPL)\" \"People's Liberation Front (JVP)\"\n",
      " \"People's Revolutionary Army (ERP) (El Salvador)\"\n",
      " \"People's Revolutionary Organization\" \"People's War Group (PWG)\"\n",
      " 'Popular Forces of April 25'\n",
      " 'Popular Front for the Liberation of Palestine (PFLP)'\n",
      " 'Popular Front for the Liberation of Palestine, Gen Cmd (PFLP-GC)'\n",
      " 'Popular Liberation Army (EPL)' 'Popular Militia (Colombia)'\n",
      " 'Popular Revolutionary Army (Mexico)' 'Popular Revolutionary Bloc (BPR)'\n",
      " 'Prima Linea' 'Pro Hartal Activists' 'Puerto Rican Nationalists'\n",
      " 'Real Irish Republican Army (RIRA)'\n",
      " 'Rebel Armed Forces of Guatemala (FAR)' 'Recontras'\n",
      " 'Red Army Faction (RAF)' 'Red Brigades' 'Red Flag (Venezuela)'\n",
      " 'Red Hand Commandos' 'Reform of the Armed Forces Movement'\n",
      " 'Republic of New Afrika' 'Republican Action Force'\n",
      " 'Revolutionary Armed Forces of Colombia (FARC)' 'Revolutionary Army'\n",
      " 'Revolutionary Cells' 'Revolutionary Cells Network (SRN)'\n",
      " 'Revolutionary Force'\n",
      " 'Revolutionary Front for Hatian Advancement and Progress (FRAPH)'\n",
      " 'Revolutionary Organization of People in Arms (ORPA)'\n",
      " 'Revolutionary Patriotic Anti-Fascist Front (FRAP)'\n",
      " \"Revolutionary People's Struggle (ELA)\" 'Revolutionary United Front (RUF)'\n",
      " 'Revolutionary Workers Party' \"Revolutionary Workers' Council (Kakurokyo)\"\n",
      " 'Ricardo Franco Front (Dissident FARC)'\n",
      " 'Riyadus-Salikhin Reconnaissance and Sabotage Battalion of Chechen Martyrs'\n",
      " 'Rizvon Sadirov Group' 'Rodrigo Franco Command'\n",
      " 'Runda Kumpulan Kecil (RKK)'\n",
      " 'Salafist Group for Preaching and Fighting (GSPC)'\n",
      " 'Sanaa Province of the Islamic State'\n",
      " 'Sandinista National Liberation Front (FSLN)' 'Sandval (union) Movement'\n",
      " 'Sayfullakh' 'Secret Anti-Communist Army (ESA)'\n",
      " 'Secret Organization of al-Qaida in Europe' 'Seiji Kesha Kokuyukai'\n",
      " 'Seikijuku' 'Sekihotai' 'Seleka' 'Senki (\"Battle Flag\")'\n",
      " 'September 11 Commandos' 'Shan State Army - North (SSA-N)'\n",
      " 'Shanti Bahini - Peace Force' 'Shining Path (SL)' 'Shonkonjuku Group'\n",
      " 'Simon Bolivar Guerrilla Coordinating Board (CGSB)'\n",
      " 'Sinai Province of the Islamic State' 'Soldiers of the Caliphate'\n",
      " 'South Ossetian Extremists' 'South Ossetian Separatists'\n",
      " \"South-West Africa People's Organization (SWAPO)\"\n",
      " 'Special Purpose Islamic Regiment (SPIR)' 'Sudan Liberation Movement'\n",
      " \"Sudan People's Liberation Army (SPLA)\"\n",
      " \"Sudan People's Liberation Movement - North\"\n",
      " \"Sudan People's Liberation Movement in Opposition (SPLM-IO)\"\n",
      " 'Supporters of Ex-President Gamsakhurdial'\n",
      " 'Syrian Social Nationalist Party' 'Taihikai (Great Sadness)'\n",
      " 'Taikosha, right wing group' 'Taliban' 'Tamil Nadu Liberation Army'\n",
      " 'Tawhid and Jihad' 'Tehrik-i-Taliban Pakistan (TTP)' 'Terra Lliure'\n",
      " 'Thai Islamic Militants' 'The Extraditables' 'The Justice Department'\n",
      " 'Tigray Peoples Liberation Front (TPLF)' 'Tolib Ayombekov loyalists'\n",
      " 'Tripoli Province of the Islamic State'\n",
      " 'Tupac Amaru Revolutionary Movement (MRTA)'\n",
      " 'Tupac Katari Guerrilla Army (EGTK)' 'Tupamaros (Uruguay)'\n",
      " 'Turkestan Islamic Party' 'Turkish Communist Party/Marxist (TKP-ML)'\n",
      " 'Uganda Freedom Movement (UFM)' 'Uighur Liberation Organization'\n",
      " 'Ukrainian Nationalist Group' 'Ulster Freedom Fighters (UFF)'\n",
      " 'Ulster Volunteer Force (UVF)' 'Union Guerrera Blanca (UGB)'\n",
      " 'Union of Congolese Patriots (UPC)' 'Union of the People (UDP)'\n",
      " 'United Baloch Army (UBA)' 'United Freedom Front (UFF)'\n",
      " 'United Front for Democracy Against Dictatorship'\n",
      " 'United Liberation Front of Assam (ULFA)'\n",
      " 'United Popular Action Front (FAPU)' 'United Popular Action Movement'\n",
      " 'United Self Defense Units of Colombia (AUC)' 'Vanuatu Mobile Force (VMF)'\n",
      " 'Vietnamese Organization to Exterminate Communists and Restore the Nation'\n",
      " 'Vigilante Group' 'Weather Underground, Weathermen'\n",
      " 'White Legion (Georgia)' \"Workers' Self-Defense Movement (MAO)\"\n",
      " 'Yamaguchi-Gumi Gang' 'Yekbun' 'Yokoku Seiwa-Kai'\n",
      " 'Zapatista National Liberation Army' 'Zebra killers'\n",
      " 'Zimbabwe African Nationalist Union (ZANU)' 'Zviadists']\n",
      "[   4   15   44   17   21   11   38  349   53  530  158   52  259    5    8\n",
      "  155   50  581  533  179 1360    4   11   25    1  248    5  120    4    3\n",
      "  113    1    2    7    1    2   30   12   37    9  212   30   20    3  176\n",
      "   23    1    7   26   18   51   10  117   73  238   68  147   10   59 1905\n",
      "    3   28   71    6   24   49    1 1700   21   32   27    3   25   39   13\n",
      "    2   30    1    1   60    1   18    2    4 1612    8   19   52   14  627\n",
      "  128    2   34    5    1  325   18    3    8    3   34   64   18    1   29\n",
      "   11  233   34    1   66    1   72   12    8   77    3   18   11    6 2129\n",
      "   15  197    2  105   47   29   43   12   14  117  136   17    1    1    1\n",
      "    2   21   96  124  313    1   64   14  253    1    2   30  105    1   19\n",
      "    2   39   30   14    3   55   91 1887   89    1    5    3    2    3  149\n",
      "  143 2381    3    1    8   60   10    2   72  167    1    1    1    8   73\n",
      "   19   82   27    1   31    1   44   17   24    4    5   84    3    2    4\n",
      "  148   63    1   41   20    5    4 1280    1   87   99  111    2    3 1087\n",
      "  256   36    1  436   31    3    5  799   33    2   14    7   28    2    3\n",
      "   14  102  315  166   33    1   77   61  305    7  212   93   15   93  144\n",
      "    4    1    1    3    2    2    1  157    2    3   34 1236   27   69    5\n",
      "    3    2  383   66    2 1508   85  317  118    1  106    3   19   54    8\n",
      "    1    8   78  169    5   52   36   24   26   47    1   21    4    4   44\n",
      "  153  377   63   14   91   46  134    7  215   15   13   36   58   91   23\n",
      "   39   26   56   53  212   21    9    8    2    6 2039    1   50    3    1\n",
      "    4   82   45   84   54   10   20   39   10    2   15  107  139   27  160\n",
      "    1    1   19    4    1    3    2   28    5    2    3   86 4135    1  166\n",
      "  123    2    1   10   55    1   12   38   39   24    7    5    1    1 4762\n",
      "    6   42  991   61   47  108   16   10    1  128  522   22   40    2   28\n",
      "   18    1    5  231  241   14    2   21   70   22   23  292   13  108   64\n",
      "    2    3   25   42    3   15    1    1    1   23   20   21    1]\n"
     ]
    }
   ],
   "source": [
    "print(unique_groups)\n",
    "print(group_counts)"
   ]
  },
  {
   "cell_type": "code",
   "execution_count": 9,
   "metadata": {
    "collapsed": false
   },
   "outputs": [
    {
     "name": "stdout",
     "output_type": "stream",
     "text": [
      "[[ 0.          0.          0.0952381  ...,  0.          0.          0.        ]\n",
      " [ 0.          0.          0.         ...,  0.          0.          0.        ]\n",
      " [ 0.          0.          0.5        ...,  0.          0.          0.        ]\n",
      " ..., \n",
      " [ 0.          0.          0.11111111 ...,  0.          0.          0.        ]\n",
      " [ 0.          0.          0.4        ...,  0.2         0.          0.        ]\n",
      " [ 0.          0.          0.66666667 ...,  0.          0.          0.        ]]\n"
     ]
    },
    {
     "name": "stderr",
     "output_type": "stream",
     "text": [
      "D:\\Users\\Avradip\\Anaconda3\\lib\\site-packages\\ipykernel\\__main__.py:3: FutureWarning: comparison to `None` will result in an elementwise object comparison in the future.\n",
      "  app.launch_new_instance()\n"
     ]
    },
    {
     "name": "stdout",
     "output_type": "stream",
     "text": [
      "[[-0.06590225 -0.11484096 -0.9574063  ..., -0.29484637 -0.1652587\n",
      "  -0.07788089]\n",
      " [-0.06590225 -0.11484096 -1.23704901 ..., -0.29484637 -0.1652587\n",
      "  -0.07788089]\n",
      " [-0.06590225 -0.11484096  0.23107519 ..., -0.29484637 -0.1652587\n",
      "  -0.07788089]\n",
      " ..., \n",
      " [-0.06590225 -0.11484096 -0.91079919 ..., -0.29484637 -0.1652587\n",
      "  -0.07788089]\n",
      " [-0.06590225 -0.11484096 -0.06254965 ...,  1.20607428 -0.1652587\n",
      "  -0.07788089]\n",
      " [-0.06590225 -0.11484096  0.72044992 ..., -0.29484637 -0.1652587\n",
      "  -0.07788089]]\n"
     ]
    }
   ],
   "source": [
    "dimension_arr = None # This should be a NumPy array \n",
    "for key_tup in group_dict:\n",
    "    if dimension_arr == None:\n",
    "        dimension_arr = np.asarray(group_dict[key_tup]) # First iteration, create the array\n",
    "    else:\n",
    "        dimension_arr = np.vstack((dimension_arr, group_dict[key_tup]))\n",
    "\n",
    "print(dimension_arr)\n",
    "from sklearn import preprocessing\n",
    "dim_arr_scaled = preprocessing.scale(dimension_arr)\n",
    "print(dim_arr_scaled)"
   ]
  },
  {
   "cell_type": "code",
   "execution_count": 10,
   "metadata": {
    "collapsed": false
   },
   "outputs": [
    {
     "name": "stdout",
     "output_type": "stream",
     "text": [
      "403\n",
      "403\n",
      "403\n"
     ]
    }
   ],
   "source": [
    "from sklearn.cluster import KMeans\n",
    "import numpy as np\n",
    "k = 3\n",
    "kmeans = KMeans(n_clusters=k,random_state=0).fit(dimension_arr)\n",
    "\n",
    "print(len(group_dict))\n",
    "print(len(group_dict.keys()))\n",
    "print(len(kmeans.labels_))\n",
    "#rint(group_dict.keys())\n",
    "#rint(kmeans.labels_)\n",
    "#i = 0\n",
    "#for key_tup in group_dict:\n",
    "#    group_dict[(key_tup[0],kmeans.labels_[i])] = group_dict.pop(key_tup) \n",
    "#    i += 1\n",
    "\n",
    "#rint(group_dict)"
   ]
  },
  {
   "cell_type": "code",
   "execution_count": 11,
   "metadata": {
    "collapsed": false
   },
   "outputs": [
    {
     "name": "stdout",
     "output_type": "stream",
     "text": [
      "403\n",
      "403\n",
      "(403, 9)\n"
     ]
    }
   ],
   "source": [
    "print(len(group_dict))\n",
    "print(len(kmeans.labels_))\n",
    "print(dim_arr_scaled.shape)\n",
    "\n",
    "result_dict = {}\n",
    "for i in range(k):\n",
    "    result_dict[i] = []\n",
    "\n",
    "i = 0\n",
    "\n",
    "for key_tup in group_dict:\n",
    "    if i == 403:\n",
    "        print(\"Wtf!\" + str(group_dict[key_tup]))\n",
    "        break\n",
    "    #print(key_tup)\n",
    "    #print(i)\n",
    "    #print(group_dict[key_tup])\n",
    "    #print(kmeans.labels_[i])\n",
    "    result_dict[kmeans.labels_[i]].append(key_tup[0]) \n",
    "    i += 1\n",
    "    "
   ]
  },
  {
   "cell_type": "code",
   "execution_count": 12,
   "metadata": {
    "collapsed": false
   },
   "outputs": [
    {
     "name": "stdout",
     "output_type": "stream",
     "text": [
      "{0: ['Kanak Separatists', 'Free Papua Movement (OPM-Organisasi Papua Merdeka)', 'Guadalcanal Liberation Army', 'Paupa New Guinea Troops', 'Zapatista National Liberation Army', 'Nicaraguan Democratic Force (FDN)', \"People's Liberation Forces (FPL)\", 'Guerrilla Army of the Poor (EGP)', 'Nicaraguan Resistance', 'Death Squad', 'Revolutionary Organization of People in Arms (ORPA)', 'Armed Forces of National Resistance (FARN)', 'Popular Revolutionary Bloc (BPR)', 'Democratic Revolutionary Alliance (ARDE)', 'Rebel Armed Forces of Guatemala (FAR)', 'Guatemalan Labor Party (PGT)', 'Recontras', 'Secret Anti-Communist Army (ESA)', 'February 28 Popular League (El Salvador)', 'Misurasata Indian Organization', 'Union Guerrera Blanca (UGB)', 'United Popular Action Front (FAPU)', \"People's Democratic Army\", 'Rizvon Sadirov Group', 'South Ossetian Extremists', 'Uighur Liberation Organization', 'Zviadists', 'Seikijuku', 'Great Japan Patriotic Party', 'Hotaru (Firefly)', 'Japanese Independence Patriotic Party', 'Korean Youth League', 'Seiji Kesha Kokuyukai', 'Taihikai (Great Sadness)', 'Yokoku Seiwa-Kai', 'Kosovo Liberation Army (KLA)', 'National Liberation Army (NLA) (Macedonia)', 'Armed Forces of the Chechen Republic of Ichkeria', 'Albanian National Army (ANA)', 'Armenian Nationalists', 'Black Berets', 'Liberation Army for Presevo, Medvedja and Bujanovac (UCPMB)', 'Makhachkala Gang', \"Kurdistan Workers' Party (PKK)\", 'Al-Qaida in the Arabian Peninsula (AQAP)', \"Al-Gama'at al-Islamiyya (IG)\", 'Armed Islamic Group (GIA)', 'Islamic Salvation Front (FIS)', 'Salafist Group for Preaching and Fighting (GSPC)', '23rd of September Communist League', 'Black Liberation Army', 'Ku Klux Klan', 'Zebra killers', 'M-19 (Movement of April 19)', 'Popular Liberation Army (EPL)', 'United Self Defense Units of Colombia (AUC)', \"Paraguayan People's Army (EPP)\", 'Brunswijk Jungle Commando', 'Alfaro Vive', 'Peasant Self-Defense Group (ACCU)', 'Death to Kidnappers (MAS)', \"Workers' Self-Defense Movement (MAO)\", 'Communist Party of India - Maoist (CPI-Maoist)', 'Liberation Tigers of Tamil Eelam (LTTE)', \"People's Liberation Front (JVP)\", 'National Democratic Front of Bodoland (NDFB)', 'Garo National Liberation Army', 'Lashkar-e-Taiba (LeT)', 'Hizbul Mujahideen (HM)', 'Lashkar-e-Jhangvi', 'Shanti Bahini - Peace Force', 'Baloch Liberation Front (BLF)', 'Janatantrik Terai Mukti Morcha- Jwala Singh (JTMM-J)', 'National Liberation Front of Tripura (NLFT)', 'Naxalites', \"New People's Army (NPA)\", 'Thai Islamic Militants', 'Democratic Karen Buddhist Army (DKBA)', 'Mujahidin Indonesia Timur (MIT)', 'Alex Boncayao Brigade (ABB)', 'Barisan Revolusi Nasional (BRN)', 'Boko Haram', \"Lord's Resistance Army (LRA)\", 'Mozambique National Resistance Movement (MNR)', 'Janjaweed', 'Allied Democratic Forces (ADF)', 'Democratic Front for the Liberation of Rwanda (FDLR)', 'Movement of Democratic Forces of Casamance', 'Revolutionary United Front (RUF)', \"Sudan People's Liberation Army (SPLA)\", 'Party for the Liberation of the Hutu People (PALIPEHUTU)', 'Inkatha Freedom Party (IFP)', 'Mayi Mayi', 'Seleka', 'Patriotic Resistance Front in Ituri (FRPI)', 'Azawad National Liberation Movement (MNLA)', 'Ulster Volunteer Force (UVF)', 'Ulster Freedom Fighters (UFF)', 'Red Brigades', 'Irish National Liberation Army (INLA)', 'Irish Republican Extremists', 'Prima Linea', 'Ex-Somoza National Guard', 'Bloque Anti-Guerrillero de Oriente (BAGO)', 'Chechen Lone Wolf Group', 'Sayfullakh', 'Institutional Revolutionary Party (PRI)', 'Popular Revolutionary Army (Mexico)', 'Vietnamese Organization to Exterminate Communists and Restore the Nation', 'Militant Peasants (NFI)', 'Republic of New Afrika', 'Jonathan Jackson Brigade', 'Justice Army for Defenseless Peoples', 'Movement for Triqui Unification and Struggle', 'America Battalion', 'Commandos for A Popular alternative', 'Death to Rustlers', 'Maoist Communist Center (MCC)', 'Vigilante Group', 'Deccan Mujahideen', 'Justice and Equality Movement (JEM)', 'Dissident Military Mmbrs of Northern Tribal Group', 'Armed Revolutionary Nuclei (NAR)', 'Official Irish Republican Army (OIRA)', 'Abu Nidal Organization (ANO)', 'Republican Action Force', 'Miskito Indian Organization', 'National Anti Communist Commando', 'Guatemalan Communist Party', 'Jamaica Labor Party', \"Kata'ib al-Khoul\", 'Al-Fatah', 'Movement of the Revolutionary Left (MIR) (Peru)', 'National Liberation Army (Ecuador)', 'Awami League', 'Jamaat-E-Islami (India/Pakistan)', \"Pakistani People's Party (PPP)\", 'Kuki Tribal Militants', 'Karenni National Progressive Party', 'Shan State Army - North (SSA-N)', 'Front for the Liberation of the Enclave of Cabinda (FLEC)', 'Sudan Liberation Movement', 'Pan Africanist Congress (PAC)', \"People's Democratic Party (PDP)\", \"Odua Peoples' Congress (OPC)\", 'Union of Congolese Patriots (UPC)', 'Red Hand Commandos'], 1: ['September 11 Commandos', 'Croatian Nationalists', 'Informal Anarchist Federation', 'National Committee Against Independence (CNCI)', 'Combat 18', 'Greek Bulgarian Armenian Front', 'Lufa Tribesmen', 'Palestine Liberation Organization (PLO)', 'Farabundo Marti National Liberation Front (FMLN)', 'Guatemalan National Revolutionary Unity (URNG)', \"People's Revolutionary Army (ERP) (El Salvador)\", 'Lorenzo Zelaya Revolutionary Front (LZRF)', 'Patriotic Morazanista Front (FPM)', 'Caribbean Revolutionary Alliance (ARC)', 'Cinchoneros Popular Liberation Movement', \"31 January People's Front (FP-31)\", '20 December Movement (M-20)', 'Maximiliano Gomez Revolutionary Brigade', 'South Ossetian Separatists', 'Supporters of Ex-President Gamsakhurdial', 'Islamic Jihad Group (IJG)', 'White Legion (Georgia)', 'Forest Brothers', 'Islamic Jihad Union (Uzbekistan)', 'Soldiers of the Caliphate', 'Algeisk Wolves', 'Hizb al-Tahrir al-Islami (HT)', 'Islamic Movement of Uzbekistan (IMU)', 'East Asia Anti Japanese Armed Front', 'Sekihotai', 'Turkestan Islamic Party', 'Anti-Narita Extremists', 'Chukakuha Revolutionary Army', 'Japanese Red Army (JRA)', 'Revolutionary Force', 'Caucasus Emirate', 'Riyadus-Salikhin Reconnaissance and Sabotage Battalion of Chechen Martyrs', \"Dagestani Shari'ah Jamaat\", 'Islambouli Brigades of al-Qaida', 'NVF', 'Ukrainian Nationalist Group', 'December 13 Independent Group', 'Islamic State of Iraq and the Levant (ISIL)', 'Al-Qaida in Iraq', 'Hamas (Islamic Resistance Movement)', 'Algerian Islamic Extremists', 'Hezbollah', 'Dev Sol', 'Palestinian Islamic Jihad (PIJ)', 'Al-Aqsa Martyrs Brigade', 'Al-Nusrah Front', 'Islamic State of Iraq (ISI)', 'Al-Qaida in the Islamic Maghreb (AQIM)', 'Tripoli Province of the Islamic State', 'Sinai Province of the Islamic State', 'Popular Front for the Liberation of Palestine (PFLP)', 'Muslim Brotherhood', 'Mujahedin-e Khalq (MEK)', 'Barqa Province of the Islamic State', 'Fuerzas Armadas de Liberacion Nacional (FALN)', 'New World Liberation Front (NWLF)', 'Jewish Defense League (JDL)', 'Black Nationalists', 'Omega-7', 'Weather Underground, Weathermen', 'Macheteros', 'Armed Revolutionary Independence Movement (MIRA)', 'Chicano Liberation Front', 'Black Panthers', 'Army of God', 'Puerto Rican Nationalists', 'United Freedom Front (UFF)', 'Union of the People (UDP)', 'George Jackson Brigade', 'Jewish Armed Resistance', 'Shining Path (SL)', 'Revolutionary Armed Forces of Colombia (FARC)', 'National Liberation Army of Colombia (ELN)', 'Manuel Rodriguez Patriotic Front (FPMR)', 'Tupac Amaru Revolutionary Movement (MRTA)', 'Movement of the Revolutionary Left (MIR) (Chile)', 'Simon Bolivar Guerrilla Coordinating Board (CGSB)', 'The Extraditables', 'United Popular Action Movement', 'Montoneros (Argentina)', 'Ejercito Revolucionaria del Pueblo (ERP) (Argentina)', 'Ricardo Franco Front (Dissident FARC)', 'Tupac Katari Guerrilla Army (EGTK)', 'Red Flag (Venezuela)', 'Popular Militia (Colombia)', 'Rodrigo Franco Command', \"People's Revolutionary Organization\", 'Taliban', 'Tehrik-i-Taliban Pakistan (TTP)', 'United Liberation Front of Assam (ULFA)', 'Baloch Republican Army (BRA)', 'Baloch Liberation Army (BLA)', \"People's War Group (PWG)\", 'Pro Hartal Activists', 'Lashkar-e-Islam (Pakistan)', 'United Baloch Army (UBA)', 'Bangladesh Nationalist Party (BNP)', 'Haqqani Network', 'Abu Sayyaf Group (ASG)', 'Moro Islamic Liberation Front (MILF)', 'Moro National Liberation Front (MNLF)', 'Khmer Rouge', 'Bangsamoro Islamic Freedom Movement (BIFM)', 'Runda Kumpulan Kecil (RKK)', 'Free Aceh Movement (GAM)', 'Karen National Union', 'Jemaah Islamiya (JI)', 'Pattani United Liberation Organization (PULO)', 'April 6th Liberation Movement', 'Kachin Independence Army (KIA)', 'Al-Khobar', 'Jamaah Ansharut Tauhid (JAT)', 'Reform of the Armed Forces Movement', 'Al-Shabaab', 'African National Congress (South Africa)', 'National Union for the Total Independence of Angola (UNITA)', 'Movement for the Emancipation of the Niger Delta (MEND)', \"South-West Africa People's Organization (SWAPO)\", \"Sudan People's Liberation Movement - North\", 'Movement for Oneness and Jihad in West Africa (MUJAO)', 'National Liberation Front (FNL) (Burundi)', 'Uganda Freedom Movement (UFM)', 'Basque Fatherland and Freedom (ETA)', 'Irish Republican Army (IRA)', 'Corsican National Liberation Front (FLNC)', 'First of October Antifascist Resistance Group (GRAPO)', 'Corsican National Liberation Front- Historic Channel', 'Armenian Secret Army for the Liberation of Armenia', 'November 17 Revolutionary Organization (N17RO)', \"Revolutionary People's Struggle (ELA)\", 'Dissident Republicans', 'Terra Lliure', 'Iparretarrak (IK)', 'Action Directe', 'Conspiracy of Cells of Fire', 'Revolutionary Cells', \"Free Galician People's Guerrilla Army\", 'Popular Forces of April 25', 'Real Irish Republican Army (RIRA)', 'Coordination of the United Revolutionary Organization (CORU)', 'Maximiliano Hernandez Martinez Brigade', 'Ansar Allah', 'Justice Commandos for the Armenian Genocide', 'Special Purpose Islamic Regiment (SPIR)', 'Free Syrian Army', 'Tawhid and Jihad', 'Sanaa Province of the Islamic State', 'Abdullah Azzam Brigades', 'Front for the Liberation of Lebanon from Foreigners', 'Armed Commandos of Liberation', 'Al-Qaida', 'National Socialist Civic Workers Movement', 'Khorasan Chapter of the Islamic State', 'Communist Party of Nepal- Maoist (CPN-M)', 'Jundallah', 'Harkatul Jihad-e-Islami', \"Cambodian People's Party (CPP)\", 'North Korean involvement commandos', 'National Resistance Movement (NRM)', 'Black September', 'Abu Hafs al-Masri Brigades', 'Black Order', 'Secret Organization of al-Qaida in Europe', 'Popular Front for the Liberation of Palestine, Gen Cmd (PFLP-GC)', 'New Order', 'Mano Blanca', 'Revolutionary Workers Party', 'Cossack Separatists', 'Devrimici Halk Kurtulus Cephesi (DHKP/C)', 'Democratic Front for the Liberation of Palestine (DFLP)', 'Turkish Communist Party/Marxist (TKP-ML)', 'Syrian Social Nationalist Party', 'Kurdish Democratic Party-Iraq (KDP)', 'Islamic Unification Movement', 'Che Guevara Brigade', 'Ejercito de Liberacion Nacional (Bolivia)', \"People's Liberation Army (India)\", 'Hizb-I-Islami', 'Babbar Khalsa International (BKI)', 'Communist Party of India- Marxist', 'Tamil Nadu Liberation Army', \"All Burma Students' Democratic Front (ABSDF)\", 'National League for Democracy', 'Oromo Liberation Front', 'Al-Ittihaad al-Islami (AIAI)', 'National Army for the Liberation of Uganda (NALU)', 'Breton Liberation Front (FLB)', 'National Organization of Cypriot Fighters (EOKA)', 'Angry Brigade'], 2: ['Bougainville Revolutionary Army (BRA)', 'Kanak Socialist National Liberation Front', 'Animal Liberation Front (ALF)', 'Anti-Government Rebels', 'Vanuatu Mobile Force (VMF)', 'Isatabu Freedom Movement (IFM)', 'Pacific Popular Front', 'Sandinista National Liberation Front (FSLN)', 'Sandval (union) Movement', 'Tolib Ayombekov loyalists', 'Yekbun', 'Chukakuha (Middle Core Faction)', \"Revolutionary Workers' Council (Kakurokyo)\", 'Eastern Turkistan Islamic Movement (ETIM)', 'Aum Shinri Kyo', 'Senki (\"Battle Flag\")', '14 K Triad', 'League of Communists', 'Maruseido (Marxist Youth League)', 'Anti-Imperialist Students Council', 'Association for the Enhancement of the Justice of the Great Japan', 'Chondaehyop (Radical Student Coalition)', 'Chonson Univ. students', 'Dainihon Yokuko Doshikai', 'Democratic Progressive Party', 'Do-or-Die Corps for the Abolition of Anti-Public Taxation Systems', 'Hanchongryun', 'Hiroyuki Jo', 'Issui Kai', 'Japan National Youth Alliance', \"Japan Socialist Youth League of the Revolutionary Workers' Association\", 'Kyongbuk University Dental College Students', 'Namchong-Nyon Students', 'Nara Red Army', 'National Defense Youth Corps', 'Revolutionary Army', 'Shonkonjuku Group', 'Taikosha, right wing group', 'Yamaguchi-Gumi Gang', 'Extraparliamentary Opposition (APO)', 'Internationalist Cells', 'Red Army Faction (RAF)', 'Revolutionary Cells Network (SRN)', 'Earth Liberation Front (ELF)', 'Independent Armed Revolutionary Commandos (CRIA)', 'Tupamaros (Uruguay)', 'Muttahida Qami Movement (MQM)', 'United Front for Democracy Against Dictatorship', \"Sudan People's Liberation Movement in Opposition (SPLM-IO)\", 'Zimbabwe African Nationalist Union (ZANU)', 'Baader-Meinhof Group', 'Revolutionary Patriotic Anti-Fascist Front (FRAP)', 'Revolutionary Front for Hatian Advancement and Progress (FRAPH)', 'Ansar al-Din Front', 'Democratic Revolutionary Party', 'Individuals Tending Toward Savagery', 'Tigray Peoples Liberation Front (TPLF)', 'Jewish Extremists', 'The Justice Department', 'Jamaat-E-Islami (Bangladesh)', 'Khasi Students Union', 'Eritrean Liberation Front']}\n"
     ]
    }
   ],
   "source": [
    "print(result_dict)"
   ]
  },
  {
   "cell_type": "code",
   "execution_count": 13,
   "metadata": {
    "collapsed": false
   },
   "outputs": [
    {
     "name": "stdout",
     "output_type": "stream",
     "text": [
      "[[  2.16840434e-19   3.26889365e-03   1.68359850e-01   4.89404395e-05\n",
      "    7.17938687e-01   5.45400024e-02   4.42960649e-02   9.66772269e-04\n",
      "    2.27731670e-04]\n",
      " [  2.52802314e-06   1.66664601e-03   7.19530974e-01   2.92877226e-04\n",
      "    1.88442113e-01   5.41667140e-02   1.34661115e-02   1.13314874e-03\n",
      "    6.44230155e-04]\n",
      " [  3.31221198e-03   8.06324171e-03   8.78553385e-02   2.58961706e-03\n",
      "    7.97238882e-02   4.38062868e-01   1.08216343e-01   3.00377454e-03\n",
      "    2.41935484e-02]]\n"
     ]
    }
   ],
   "source": [
    "print(kmeans.cluster_centers_)"
   ]
  },
  {
   "cell_type": "code",
   "execution_count": 14,
   "metadata": {
    "collapsed": false
   },
   "outputs": [
    {
     "name": "stdout",
     "output_type": "stream",
     "text": [
      "['weaptype1_txt_Biological', 'weaptype1_txt_Chemical', 'weaptype1_txt_Explosives/Bombs/Dynamite', 'weaptype1_txt_Fake Weapons', 'weaptype1_txt_Firearms', 'weaptype1_txt_Incendiary', 'weaptype1_txt_Melee', 'weaptype1_txt_Sabotage Equipment', 'weaptype1_txt_Vehicle (not to include vehicle-borne explosives, i.e., car or truck bombs)']\n"
     ]
    }
   ],
   "source": [
    "print(dimensions)"
   ]
  },
  {
   "cell_type": "code",
   "execution_count": 17,
   "metadata": {
    "collapsed": false
   },
   "outputs": [
    {
     "name": "stdout",
     "output_type": "stream",
     "text": [
      "[('Boko Haram', 1700), ('Communist Party of India - Maoist (CPI-Maoist)', 1612), (\"New People's Army (NPA)\", 1508), (\"Kurdistan Workers' Party (PKK)\", 1280), ('Liberation Tigers of Tamil Eelam (LTTE)', 1087)]\n",
      "[('Taliban', 4762), ('Shining Path (SL)', 4135), ('Islamic State of Iraq and the Levant (ISIL)', 2381), ('Farabundo Marti National Liberation Front (FMLN)', 2129), ('Revolutionary Armed Forces of Colombia (FARC)', 2039)]\n",
      "[('Sandinista National Liberation Front (FSLN)', 160), ('Muttahida Qami Movement (MQM)', 144), ('Animal Liberation Front (ALF)', 113), ('Earth Liberation Front (ELF)', 72), ('Jamaat-E-Islami (Bangladesh)', 60)]\n"
     ]
    }
   ],
   "source": [
    "import operator\n",
    "def print_largest_n(result, n):\n",
    "    nevent_dict = {}\n",
    "    for i in range(len(result)):\n",
    "        index = get_index(unique_groups,result[i])\n",
    "        nevents = group_counts[index]\n",
    "        nevent_dict[result[i]] = nevents\n",
    "    \n",
    "    sorted_nevents_dict = sorted(nevent_dict.items(), key=operator.itemgetter(1),reverse=True)\n",
    "    print(sorted_nevents_dict[:n])\n",
    "    \n",
    "for key in result_dict:\n",
    "    print_largest_n(result_dict[key],5)"
   ]
  },
  {
   "cell_type": "code",
   "execution_count": null,
   "metadata": {
    "collapsed": true
   },
   "outputs": [],
   "source": [
    " "
   ]
  }
 ],
 "metadata": {
  "anaconda-cloud": {},
  "kernelspec": {
   "display_name": "Python [conda root]",
   "language": "python",
   "name": "conda-root-py"
  },
  "language_info": {
   "codemirror_mode": {
    "name": "ipython",
    "version": 3
   },
   "file_extension": ".py",
   "mimetype": "text/x-python",
   "name": "python",
   "nbconvert_exporter": "python",
   "pygments_lexer": "ipython3",
   "version": "3.5.2"
  }
 },
 "nbformat": 4,
 "nbformat_minor": 1
}
