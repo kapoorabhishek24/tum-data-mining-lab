{
 "cells": [
  {
   "cell_type": "code",
   "execution_count": 14,
   "metadata": {
    "collapsed": false
   },
   "outputs": [
    {
     "name": "stdout",
     "output_type": "stream",
     "text": [
      "Loading DB...\n",
      "DB Read...\n"
     ]
    }
   ],
   "source": [
    "# Input the DB to Memory\n",
    "import pandas as pd\n",
    "import numpy as np\n",
    "print(\"Loading DB...\")\n",
    "dfs = pd.read_csv(\"terrorism_red_cat.csv\")\n",
    "print(\"DB Read...\")\n",
    "#print(data_file.sheet_names)\n",
    "#dfs = data_file.parse(data_file.sheet_names[0])\n",
    "#print(\"DB Parsed...\")\n",
    "del(dfs['Unnamed: 0'])"
   ]
  },
  {
   "cell_type": "code",
   "execution_count": 15,
   "metadata": {
    "collapsed": false
   },
   "outputs": [
    {
     "name": "stdout",
     "output_type": "stream",
     "text": [
      "Index(['extended', 'multiple', 'suicide', 'gname', 'ishostkid'], dtype='object')\n",
      "['extended', 'multiple', 'suicide', 'ishostkid']\n"
     ]
    }
   ],
   "source": [
    "dimensions = ['extended', 'multiple', 'suicide', 'ishostkid']\n",
    "\n",
    "columns = dfs.columns\n",
    "\n",
    "for cols in columns:\n",
    "    if cols == 'gname':\n",
    "        continue\n",
    "    if cols not in dimensions:\n",
    "        del(dfs[cols])\n",
    "\n",
    "columns = dfs.columns\n",
    "print(columns)\n",
    "print(dimensions)"
   ]
  },
  {
   "cell_type": "code",
   "execution_count": 16,
   "metadata": {
    "collapsed": false
   },
   "outputs": [
    {
     "name": "stdout",
     "output_type": "stream",
     "text": [
      "Loading DB...\n",
      "DB Read...\n",
      "<class 'pandas.core.series.Series'>\n"
     ]
    }
   ],
   "source": [
    "print(\"Loading DB...\")\n",
    "dfs_names = pd.read_csv(\"final_names.csv\")\n",
    "print(\"DB Read...\")\n",
    "#print(data_file.sheet_names)\n",
    "#dfs = data_file.parse(data_file.sheet_names[0])\n",
    "#print(\"DB Parsed...\")\n",
    "print(type(dfs_names['group']))"
   ]
  },
  {
   "cell_type": "code",
   "execution_count": 17,
   "metadata": {
    "collapsed": false
   },
   "outputs": [
    {
     "name": "stdout",
     "output_type": "stream",
     "text": [
      "OrderedDict([(('Bougainville Revolutionary Army (BRA)', -1), [0, 0, 0, 0]), (('Kanak Socialist National Liberation Front', -1), [0, 0, 0, 0]), (('September 11 Commandos', -1), [0, 0, 0, 0]), (('Kanak Separatists', -1), [0, 0, 0, 0]), (('Animal Liberation Front (ALF)', -1), [0, 0, 0, 0]), (('Anti-Government Rebels', -1), [0, 0, 0, 0]), (('Croatian Nationalists', -1), [0, 0, 0, 0]), (('Free Papua Movement (OPM-Organisasi Papua Merdeka)', -1), [0, 0, 0, 0]), (('Informal Anarchist Federation', -1), [0, 0, 0, 0]), (('National Committee Against Independence (CNCI)', -1), [0, 0, 0, 0]), (('Vanuatu Mobile Force (VMF)', -1), [0, 0, 0, 0]), (('Combat 18', -1), [0, 0, 0, 0]), (('Greek Bulgarian Armenian Front', -1), [0, 0, 0, 0]), (('Guadalcanal Liberation Army', -1), [0, 0, 0, 0]), (('Isatabu Freedom Movement (IFM)', -1), [0, 0, 0, 0]), (('Lufa Tribesmen', -1), [0, 0, 0, 0]), (('Pacific Popular Front', -1), [0, 0, 0, 0]), (('Palestine Liberation Organization (PLO)', -1), [0, 0, 0, 0]), (('Paupa New Guinea Troops', -1), [0, 0, 0, 0]), (('Zapatista National Liberation Army', -1), [0, 0, 0, 0]), (('Farabundo Marti National Liberation Front (FMLN)', -1), [0, 0, 0, 0]), (('Nicaraguan Democratic Force (FDN)', -1), [0, 0, 0, 0]), (('Sandinista National Liberation Front (FSLN)', -1), [0, 0, 0, 0]), ((\"People's Liberation Forces (FPL)\", -1), [0, 0, 0, 0]), (('Guerrilla Army of the Poor (EGP)', -1), [0, 0, 0, 0]), (('Nicaraguan Resistance', -1), [0, 0, 0, 0]), (('Guatemalan National Revolutionary Unity (URNG)', -1), [0, 0, 0, 0]), (('Death Squad', -1), [0, 0, 0, 0]), (('Revolutionary Organization of People in Arms (ORPA)', -1), [0, 0, 0, 0]), ((\"People's Revolutionary Army (ERP) (El Salvador)\", -1), [0, 0, 0, 0]), (('Armed Forces of National Resistance (FARN)', -1), [0, 0, 0, 0]), (('Lorenzo Zelaya Revolutionary Front (LZRF)', -1), [0, 0, 0, 0]), (('Popular Revolutionary Bloc (BPR)', -1), [0, 0, 0, 0]), (('Democratic Revolutionary Alliance (ARDE)', -1), [0, 0, 0, 0]), (('Rebel Armed Forces of Guatemala (FAR)', -1), [0, 0, 0, 0]), (('Patriotic Morazanista Front (FPM)', -1), [0, 0, 0, 0]), (('Caribbean Revolutionary Alliance (ARC)', -1), [0, 0, 0, 0]), (('Guatemalan Labor Party (PGT)', -1), [0, 0, 0, 0]), (('Recontras', -1), [0, 0, 0, 0]), (('Secret Anti-Communist Army (ESA)', -1), [0, 0, 0, 0]), (('Cinchoneros Popular Liberation Movement', -1), [0, 0, 0, 0]), ((\"31 January People's Front (FP-31)\", -1), [0, 0, 0, 0]), (('20 December Movement (M-20)', -1), [0, 0, 0, 0]), (('February 28 Popular League (El Salvador)', -1), [0, 0, 0, 0]), (('Maximiliano Gomez Revolutionary Brigade', -1), [0, 0, 0, 0]), (('Misurasata Indian Organization', -1), [0, 0, 0, 0]), (('Union Guerrera Blanca (UGB)', -1), [0, 0, 0, 0]), (('United Popular Action Front (FAPU)', -1), [0, 0, 0, 0]), (('South Ossetian Separatists', -1), [0, 0, 0, 0]), ((\"People's Democratic Army\", -1), [0, 0, 0, 0]), (('Supporters of Ex-President Gamsakhurdial', -1), [0, 0, 0, 0]), (('Islamic Jihad Group (IJG)', -1), [0, 0, 0, 0]), (('White Legion (Georgia)', -1), [0, 0, 0, 0]), (('Forest Brothers', -1), [0, 0, 0, 0]), (('Islamic Jihad Union (Uzbekistan)', -1), [0, 0, 0, 0]), (('Rizvon Sadirov Group', -1), [0, 0, 0, 0]), (('Soldiers of the Caliphate', -1), [0, 0, 0, 0]), (('Algeisk Wolves', -1), [0, 0, 0, 0]), (('Hizb al-Tahrir al-Islami (HT)', -1), [0, 0, 0, 0]), (('Islamic Movement of Uzbekistan (IMU)', -1), [0, 0, 0, 0]), (('Sandval (union) Movement', -1), [0, 0, 0, 0]), (('South Ossetian Extremists', -1), [0, 0, 0, 0]), (('Tolib Ayombekov loyalists', -1), [0, 0, 0, 0]), (('Uighur Liberation Organization', -1), [0, 0, 0, 0]), (('Yekbun', -1), [0, 0, 0, 0]), (('Zviadists', -1), [0, 0, 0, 0]), (('Chukakuha (Middle Core Faction)', -1), [0, 0, 0, 0]), ((\"Revolutionary Workers' Council (Kakurokyo)\", -1), [0, 0, 0, 0]), (('East Asia Anti Japanese Armed Front', -1), [0, 0, 0, 0]), (('Eastern Turkistan Islamic Movement (ETIM)', -1), [0, 0, 0, 0]), (('Aum Shinri Kyo', -1), [0, 0, 0, 0]), (('Senki (\"Battle Flag\")', -1), [0, 0, 0, 0]), (('14 K Triad', -1), [0, 0, 0, 0]), (('Seikijuku', -1), [0, 0, 0, 0]), (('League of Communists', -1), [0, 0, 0, 0]), (('Maruseido (Marxist Youth League)', -1), [0, 0, 0, 0]), (('Sekihotai', -1), [0, 0, 0, 0]), (('Turkestan Islamic Party', -1), [0, 0, 0, 0]), (('Anti-Imperialist Students Council', -1), [0, 0, 0, 0]), (('Anti-Narita Extremists', -1), [0, 0, 0, 0]), (('Association for the Enhancement of the Justice of the Great Japan', -1), [0, 0, 0, 0]), (('Chondaehyop (Radical Student Coalition)', -1), [0, 0, 0, 0]), (('Chonson Univ. students', -1), [0, 0, 0, 0]), (('Chukakuha Revolutionary Army', -1), [0, 0, 0, 0]), (('Dainihon Yokuko Doshikai', -1), [0, 0, 0, 0]), (('Democratic Progressive Party', -1), [0, 0, 0, 0]), (('Do-or-Die Corps for the Abolition of Anti-Public Taxation Systems', -1), [0, 0, 0, 0]), (('Great Japan Patriotic Party', -1), [0, 0, 0, 0]), (('Hanchongryun', -1), [0, 0, 0, 0]), (('Hiroyuki Jo', -1), [0, 0, 0, 0]), (('Hotaru (Firefly)', -1), [0, 0, 0, 0]), (('Issui Kai', -1), [0, 0, 0, 0]), (('Japan National Youth Alliance', -1), [0, 0, 0, 0]), ((\"Japan Socialist Youth League of the Revolutionary Workers' Association\", -1), [0, 0, 0, 0]), (('Japanese Independence Patriotic Party', -1), [0, 0, 0, 0]), (('Japanese Red Army (JRA)', -1), [0, 0, 0, 0]), (('Korean Youth League', -1), [0, 0, 0, 0]), (('Kyongbuk University Dental College Students', -1), [0, 0, 0, 0]), (('Namchong-Nyon Students', -1), [0, 0, 0, 0]), (('Nara Red Army', -1), [0, 0, 0, 0]), (('National Defense Youth Corps', -1), [0, 0, 0, 0]), (('Revolutionary Army', -1), [0, 0, 0, 0]), (('Revolutionary Force', -1), [0, 0, 0, 0]), (('Seiji Kesha Kokuyukai', -1), [0, 0, 0, 0]), (('Shonkonjuku Group', -1), [0, 0, 0, 0]), (('Taihikai (Great Sadness)', -1), [0, 0, 0, 0]), (('Taikosha, right wing group', -1), [0, 0, 0, 0]), (('Yamaguchi-Gumi Gang', -1), [0, 0, 0, 0]), (('Yokoku Seiwa-Kai', -1), [0, 0, 0, 0]), (('Kosovo Liberation Army (KLA)', -1), [0, 0, 0, 0]), (('Caucasus Emirate', -1), [0, 0, 0, 0]), (('National Liberation Army (NLA) (Macedonia)', -1), [0, 0, 0, 0]), (('Riyadus-Salikhin Reconnaissance and Sabotage Battalion of Chechen Martyrs', -1), [0, 0, 0, 0]), (('Armed Forces of the Chechen Republic of Ichkeria', -1), [0, 0, 0, 0]), ((\"Dagestani Shari'ah Jamaat\", -1), [0, 0, 0, 0]), (('Albanian National Army (ANA)', -1), [0, 0, 0, 0]), (('Islambouli Brigades of al-Qaida', -1), [0, 0, 0, 0]), (('NVF', -1), [0, 0, 0, 0]), (('Ukrainian Nationalist Group', -1), [0, 0, 0, 0]), (('Armenian Nationalists', -1), [0, 0, 0, 0]), (('Black Berets', -1), [0, 0, 0, 0]), (('December 13 Independent Group', -1), [0, 0, 0, 0]), (('Extraparliamentary Opposition (APO)', -1), [0, 0, 0, 0]), (('Internationalist Cells', -1), [0, 0, 0, 0]), (('Liberation Army for Presevo, Medvedja and Bujanovac (UCPMB)', -1), [0, 0, 0, 0]), (('Makhachkala Gang', -1), [0, 0, 0, 0]), (('Red Army Faction (RAF)', -1), [0, 0, 0, 0]), (('Revolutionary Cells Network (SRN)', -1), [0, 0, 0, 0]), (('Islamic State of Iraq and the Levant (ISIL)', -1), [0, 0, 0, 0]), ((\"Kurdistan Workers' Party (PKK)\", -1), [0, 0, 0, 0]), (('Al-Qaida in Iraq', -1), [0, 0, 0, 0]), (('Al-Qaida in the Arabian Peninsula (AQAP)', -1), [0, 0, 0, 0]), (('Hamas (Islamic Resistance Movement)', -1), [0, 0, 0, 0]), ((\"Al-Gama'at al-Islamiyya (IG)\", -1), [0, 0, 0, 0]), (('Algerian Islamic Extremists', -1), [0, 0, 0, 0]), (('Hezbollah', -1), [0, 0, 0, 0]), (('Dev Sol', -1), [0, 0, 0, 0]), (('Armed Islamic Group (GIA)', -1), [0, 0, 0, 0]), (('Palestinian Islamic Jihad (PIJ)', -1), [0, 0, 0, 0]), (('Al-Aqsa Martyrs Brigade', -1), [0, 0, 0, 0]), (('Al-Nusrah Front', -1), [0, 0, 0, 0]), (('Islamic Salvation Front (FIS)', -1), [0, 0, 0, 0]), (('Islamic State of Iraq (ISI)', -1), [0, 0, 0, 0]), (('Salafist Group for Preaching and Fighting (GSPC)', -1), [0, 0, 0, 0]), (('Al-Qaida in the Islamic Maghreb (AQIM)', -1), [0, 0, 0, 0]), (('Tripoli Province of the Islamic State', -1), [0, 0, 0, 0]), (('Sinai Province of the Islamic State', -1), [0, 0, 0, 0]), (('Popular Front for the Liberation of Palestine (PFLP)', -1), [0, 0, 0, 0]), (('Muslim Brotherhood', -1), [0, 0, 0, 0]), (('Mujahedin-e Khalq (MEK)', -1), [0, 0, 0, 0]), (('Barqa Province of the Islamic State', -1), [0, 0, 0, 0]), (('Fuerzas Armadas de Liberacion Nacional (FALN)', -1), [0, 0, 0, 0]), (('New World Liberation Front (NWLF)', -1), [0, 0, 0, 0]), (('Jewish Defense League (JDL)', -1), [0, 0, 0, 0]), (('Earth Liberation Front (ELF)', -1), [0, 0, 0, 0]), (('Black Nationalists', -1), [0, 0, 0, 0]), (('Omega-7', -1), [0, 0, 0, 0]), (('23rd of September Communist League', -1), [0, 0, 0, 0]), (('Weather Underground, Weathermen', -1), [0, 0, 0, 0]), (('Macheteros', -1), [0, 0, 0, 0]), (('Armed Revolutionary Independence Movement (MIRA)', -1), [0, 0, 0, 0]), (('Chicano Liberation Front', -1), [0, 0, 0, 0]), (('Black Liberation Army', -1), [0, 0, 0, 0]), (('Black Panthers', -1), [0, 0, 0, 0]), (('Army of God', -1), [0, 0, 0, 0]), (('Puerto Rican Nationalists', -1), [0, 0, 0, 0]), (('United Freedom Front (UFF)', -1), [0, 0, 0, 0]), (('Union of the People (UDP)', -1), [0, 0, 0, 0]), (('Ku Klux Klan', -1), [0, 0, 0, 0]), (('Zebra killers', -1), [0, 0, 0, 0]), (('Independent Armed Revolutionary Commandos (CRIA)', -1), [0, 0, 0, 0]), (('George Jackson Brigade', -1), [0, 0, 0, 0]), (('Jewish Armed Resistance', -1), [0, 0, 0, 0]), (('Shining Path (SL)', -1), [0, 0, 0, 0]), (('Revolutionary Armed Forces of Colombia (FARC)', -1), [0, 0, 0, 0]), (('National Liberation Army of Colombia (ELN)', -1), [0, 0, 0, 0]), (('Manuel Rodriguez Patriotic Front (FPMR)', -1), [0, 0, 0, 0]), (('Tupac Amaru Revolutionary Movement (MRTA)', -1), [0, 0, 0, 0]), (('M-19 (Movement of April 19)', -1), [0, 0, 0, 0]), (('Movement of the Revolutionary Left (MIR) (Chile)', -1), [0, 0, 0, 0]), (('Popular Liberation Army (EPL)', -1), [0, 0, 0, 0]), (('Simon Bolivar Guerrilla Coordinating Board (CGSB)', -1), [0, 0, 0, 0]), (('The Extraditables', -1), [0, 0, 0, 0]), (('United Popular Action Movement', -1), [0, 0, 0, 0]), (('Montoneros (Argentina)', -1), [0, 0, 0, 0]), (('Ejercito Revolucionaria del Pueblo (ERP) (Argentina)', -1), [0, 0, 0, 0]), (('United Self Defense Units of Colombia (AUC)', -1), [0, 0, 0, 0]), ((\"Paraguayan People's Army (EPP)\", -1), [0, 0, 0, 0]), (('Tupamaros (Uruguay)', -1), [0, 0, 0, 0]), (('Ricardo Franco Front (Dissident FARC)', -1), [0, 0, 0, 0]), (('Brunswijk Jungle Commando', -1), [0, 0, 0, 0]), (('Alfaro Vive', -1), [0, 0, 0, 0]), (('Tupac Katari Guerrilla Army (EGTK)', -1), [0, 0, 0, 0]), (('Red Flag (Venezuela)', -1), [0, 0, 0, 0]), (('Peasant Self-Defense Group (ACCU)', -1), [0, 0, 0, 0]), (('Death to Kidnappers (MAS)', -1), [0, 0, 0, 0]), (('Popular Militia (Colombia)', -1), [0, 0, 0, 0]), (('Rodrigo Franco Command', -1), [0, 0, 0, 0]), ((\"Workers' Self-Defense Movement (MAO)\", -1), [0, 0, 0, 0]), ((\"People's Revolutionary Organization\", -1), [0, 0, 0, 0]), (('Taliban', -1), [0, 0, 0, 0]), (('Communist Party of India - Maoist (CPI-Maoist)', -1), [0, 0, 0, 0]), (('Liberation Tigers of Tamil Eelam (LTTE)', -1), [0, 0, 0, 0]), (('Tehrik-i-Taliban Pakistan (TTP)', -1), [0, 0, 0, 0]), ((\"People's Liberation Front (JVP)\", -1), [0, 0, 0, 0]), (('United Liberation Front of Assam (ULFA)', -1), [0, 0, 0, 0]), (('Baloch Republican Army (BRA)', -1), [0, 0, 0, 0]), (('National Democratic Front of Bodoland (NDFB)', -1), [0, 0, 0, 0]), (('Muttahida Qami Movement (MQM)', -1), [0, 0, 0, 0]), (('Garo National Liberation Army', -1), [0, 0, 0, 0]), (('Baloch Liberation Army (BLA)', -1), [0, 0, 0, 0]), (('Lashkar-e-Taiba (LeT)', -1), [0, 0, 0, 0]), (('Hizbul Mujahideen (HM)', -1), [0, 0, 0, 0]), (('Lashkar-e-Jhangvi', -1), [0, 0, 0, 0]), ((\"People's War Group (PWG)\", -1), [0, 0, 0, 0]), (('Pro Hartal Activists', -1), [0, 0, 0, 0]), (('Lashkar-e-Islam (Pakistan)', -1), [0, 0, 0, 0]), (('Shanti Bahini - Peace Force', -1), [0, 0, 0, 0]), (('Baloch Liberation Front (BLF)', -1), [0, 0, 0, 0]), (('Janatantrik Terai Mukti Morcha- Jwala Singh (JTMM-J)', -1), [0, 0, 0, 0]), (('United Baloch Army (UBA)', -1), [0, 0, 0, 0]), (('National Liberation Front of Tripura (NLFT)', -1), [0, 0, 0, 0]), (('Bangladesh Nationalist Party (BNP)', -1), [0, 0, 0, 0]), (('Naxalites', -1), [0, 0, 0, 0]), (('Haqqani Network', -1), [0, 0, 0, 0]), ((\"New People's Army (NPA)\", -1), [0, 0, 0, 0]), (('Abu Sayyaf Group (ASG)', -1), [0, 0, 0, 0]), (('Moro Islamic Liberation Front (MILF)', -1), [0, 0, 0, 0]), (('Moro National Liberation Front (MNLF)', -1), [0, 0, 0, 0]), (('Khmer Rouge', -1), [0, 0, 0, 0]), (('Bangsamoro Islamic Freedom Movement (BIFM)', -1), [0, 0, 0, 0]), (('Runda Kumpulan Kecil (RKK)', -1), [0, 0, 0, 0]), (('Free Aceh Movement (GAM)', -1), [0, 0, 0, 0]), (('Karen National Union', -1), [0, 0, 0, 0]), (('Jemaah Islamiya (JI)', -1), [0, 0, 0, 0]), (('Pattani United Liberation Organization (PULO)', -1), [0, 0, 0, 0]), (('Thai Islamic Militants', -1), [0, 0, 0, 0]), (('April 6th Liberation Movement', -1), [0, 0, 0, 0]), (('Kachin Independence Army (KIA)', -1), [0, 0, 0, 0]), (('United Front for Democracy Against Dictatorship', -1), [0, 0, 0, 0]), (('Democratic Karen Buddhist Army (DKBA)', -1), [0, 0, 0, 0]), (('Mujahidin Indonesia Timur (MIT)', -1), [0, 0, 0, 0]), (('Alex Boncayao Brigade (ABB)', -1), [0, 0, 0, 0]), (('Barisan Revolusi Nasional (BRN)', -1), [0, 0, 0, 0]), (('Al-Khobar', -1), [0, 0, 0, 0]), (('Jamaah Ansharut Tauhid (JAT)', -1), [0, 0, 0, 0]), (('Reform of the Armed Forces Movement', -1), [0, 0, 0, 0]), (('Boko Haram', -1), [0, 0, 0, 0]), (('Al-Shabaab', -1), [0, 0, 0, 0]), (('African National Congress (South Africa)', -1), [0, 0, 0, 0]), (('National Union for the Total Independence of Angola (UNITA)', -1), [0, 0, 0, 0]), ((\"Lord's Resistance Army (LRA)\", -1), [0, 0, 0, 0]), (('Mozambique National Resistance Movement (MNR)', -1), [0, 0, 0, 0]), (('Janjaweed', -1), [0, 0, 0, 0]), (('Allied Democratic Forces (ADF)', -1), [0, 0, 0, 0]), (('Movement for the Emancipation of the Niger Delta (MEND)', -1), [0, 0, 0, 0]), (('Democratic Front for the Liberation of Rwanda (FDLR)', -1), [0, 0, 0, 0]), (('Movement of Democratic Forces of Casamance', -1), [0, 0, 0, 0]), ((\"South-West Africa People's Organization (SWAPO)\", -1), [0, 0, 0, 0]), (('Revolutionary United Front (RUF)', -1), [0, 0, 0, 0]), ((\"Sudan People's Liberation Movement - North\", -1), [0, 0, 0, 0]), ((\"Sudan People's Liberation Army (SPLA)\", -1), [0, 0, 0, 0]), (('Party for the Liberation of the Hutu People (PALIPEHUTU)', -1), [0, 0, 0, 0]), (('Inkatha Freedom Party (IFP)', -1), [0, 0, 0, 0]), (('Movement for Oneness and Jihad in West Africa (MUJAO)', -1), [0, 0, 0, 0]), (('Mayi Mayi', -1), [0, 0, 0, 0]), (('Seleka', -1), [0, 0, 0, 0]), (('National Liberation Front (FNL) (Burundi)', -1), [0, 0, 0, 0]), (('Patriotic Resistance Front in Ituri (FRPI)', -1), [0, 0, 0, 0]), ((\"Sudan People's Liberation Movement in Opposition (SPLM-IO)\", -1), [0, 0, 0, 0]), (('Zimbabwe African Nationalist Union (ZANU)', -1), [0, 0, 0, 0]), (('Azawad National Liberation Movement (MNLA)', -1), [0, 0, 0, 0]), (('Uganda Freedom Movement (UFM)', -1), [0, 0, 0, 0]), (('Basque Fatherland and Freedom (ETA)', -1), [0, 0, 0, 0]), (('Irish Republican Army (IRA)', -1), [0, 0, 0, 0]), (('Corsican National Liberation Front (FLNC)', -1), [0, 0, 0, 0]), (('Ulster Volunteer Force (UVF)', -1), [0, 0, 0, 0]), (('Ulster Freedom Fighters (UFF)', -1), [0, 0, 0, 0]), (('Red Brigades', -1), [0, 0, 0, 0]), (('First of October Antifascist Resistance Group (GRAPO)', -1), [0, 0, 0, 0]), (('Corsican National Liberation Front- Historic Channel', -1), [0, 0, 0, 0]), (('Armenian Secret Army for the Liberation of Armenia', -1), [0, 0, 0, 0]), (('November 17 Revolutionary Organization (N17RO)', -1), [0, 0, 0, 0]), (('Irish National Liberation Army (INLA)', -1), [0, 0, 0, 0]), ((\"Revolutionary People's Struggle (ELA)\", -1), [0, 0, 0, 0]), (('Irish Republican Extremists', -1), [0, 0, 0, 0]), (('Dissident Republicans', -1), [0, 0, 0, 0]), (('Terra Lliure', -1), [0, 0, 0, 0]), (('Prima Linea', -1), [0, 0, 0, 0]), (('Iparretarrak (IK)', -1), [0, 0, 0, 0]), (('Action Directe', -1), [0, 0, 0, 0]), (('Baader-Meinhof Group', -1), [0, 0, 0, 0]), (('Conspiracy of Cells of Fire', -1), [0, 0, 0, 0]), (('Revolutionary Cells', -1), [0, 0, 0, 0]), ((\"Free Galician People's Guerrilla Army\", -1), [0, 0, 0, 0]), (('Popular Forces of April 25', -1), [0, 0, 0, 0]), (('Revolutionary Patriotic Anti-Fascist Front (FRAP)', -1), [0, 0, 0, 0]), (('Real Irish Republican Army (RIRA)', -1), [0, 0, 0, 0]), (('Ex-Somoza National Guard', -1), [0, 0, 0, 0]), (('Coordination of the United Revolutionary Organization (CORU)', -1), [0, 0, 0, 0]), (('Maximiliano Hernandez Martinez Brigade', -1), [0, 0, 0, 0]), (('Revolutionary Front for Hatian Advancement and Progress (FRAPH)', -1), [0, 0, 0, 0]), (('Ansar Allah', -1), [0, 0, 0, 0]), (('Bloque Anti-Guerrillero de Oriente (BAGO)', -1), [0, 0, 0, 0]), (('Chechen Lone Wolf Group', -1), [0, 0, 0, 0]), (('Justice Commandos for the Armenian Genocide', -1), [0, 0, 0, 0]), (('Sayfullakh', -1), [0, 0, 0, 0]), (('Special Purpose Islamic Regiment (SPIR)', -1), [0, 0, 0, 0]), (('Free Syrian Army', -1), [0, 0, 0, 0]), (('Tawhid and Jihad', -1), [0, 0, 0, 0]), (('Sanaa Province of the Islamic State', -1), [0, 0, 0, 0]), (('Abdullah Azzam Brigades', -1), [0, 0, 0, 0]), (('Front for the Liberation of Lebanon from Foreigners', -1), [0, 0, 0, 0]), (('Ansar al-Din Front', -1), [0, 0, 0, 0]), (('Institutional Revolutionary Party (PRI)', -1), [0, 0, 0, 0]), (('Popular Revolutionary Army (Mexico)', -1), [0, 0, 0, 0]), (('Armed Commandos of Liberation', -1), [0, 0, 0, 0]), (('Democratic Revolutionary Party', -1), [0, 0, 0, 0]), (('Al-Qaida', -1), [0, 0, 0, 0]), (('Vietnamese Organization to Exterminate Communists and Restore the Nation', -1), [0, 0, 0, 0]), (('Individuals Tending Toward Savagery', -1), [0, 0, 0, 0]), (('Militant Peasants (NFI)', -1), [0, 0, 0, 0]), (('Republic of New Afrika', -1), [0, 0, 0, 0]), (('Jonathan Jackson Brigade', -1), [0, 0, 0, 0]), (('Justice Army for Defenseless Peoples', -1), [0, 0, 0, 0]), (('Movement for Triqui Unification and Struggle', -1), [0, 0, 0, 0]), (('America Battalion', -1), [0, 0, 0, 0]), (('Commandos for A Popular alternative', -1), [0, 0, 0, 0]), (('Death to Rustlers', -1), [0, 0, 0, 0]), (('National Socialist Civic Workers Movement', -1), [0, 0, 0, 0]), (('Khorasan Chapter of the Islamic State', -1), [0, 0, 0, 0]), (('Maoist Communist Center (MCC)', -1), [0, 0, 0, 0]), (('Communist Party of Nepal- Maoist (CPN-M)', -1), [0, 0, 0, 0]), (('Jundallah', -1), [0, 0, 0, 0]), (('Harkatul Jihad-e-Islami', -1), [0, 0, 0, 0]), (('Vigilante Group', -1), [0, 0, 0, 0]), (('Deccan Mujahideen', -1), [0, 0, 0, 0]), ((\"Cambodian People's Party (CPP)\", -1), [0, 0, 0, 0]), (('North Korean involvement commandos', -1), [0, 0, 0, 0]), (('Justice and Equality Movement (JEM)', -1), [0, 0, 0, 0]), (('Tigray Peoples Liberation Front (TPLF)', -1), [0, 0, 0, 0]), (('National Resistance Movement (NRM)', -1), [0, 0, 0, 0]), (('Dissident Military Mmbrs of Northern Tribal Group', -1), [0, 0, 0, 0]), (('Black September', -1), [0, 0, 0, 0]), (('Armed Revolutionary Nuclei (NAR)', -1), [0, 0, 0, 0]), (('Official Irish Republican Army (OIRA)', -1), [0, 0, 0, 0]), (('Abu Nidal Organization (ANO)', -1), [0, 0, 0, 0]), (('Abu Hafs al-Masri Brigades', -1), [0, 0, 0, 0]), (('Black Order', -1), [0, 0, 0, 0]), (('Republican Action Force', -1), [0, 0, 0, 0]), (('Secret Organization of al-Qaida in Europe', -1), [0, 0, 0, 0]), (('Popular Front for the Liberation of Palestine, Gen Cmd (PFLP-GC)', -1), [0, 0, 0, 0]), (('New Order', -1), [0, 0, 0, 0]), (('Mano Blanca', -1), [0, 0, 0, 0]), (('Miskito Indian Organization', -1), [0, 0, 0, 0]), (('National Anti Communist Commando', -1), [0, 0, 0, 0]), (('Revolutionary Workers Party', -1), [0, 0, 0, 0]), (('Guatemalan Communist Party', -1), [0, 0, 0, 0]), (('Jamaica Labor Party', -1), [0, 0, 0, 0]), (('Cossack Separatists', -1), [0, 0, 0, 0]), ((\"Kata'ib al-Khoul\", -1), [0, 0, 0, 0]), (('Al-Fatah', -1), [0, 0, 0, 0]), (('Devrimici Halk Kurtulus Cephesi (DHKP/C)', -1), [0, 0, 0, 0]), (('Democratic Front for the Liberation of Palestine (DFLP)', -1), [0, 0, 0, 0]), (('Turkish Communist Party/Marxist (TKP-ML)', -1), [0, 0, 0, 0]), (('Jewish Extremists', -1), [0, 0, 0, 0]), (('Syrian Social Nationalist Party', -1), [0, 0, 0, 0]), (('Kurdish Democratic Party-Iraq (KDP)', -1), [0, 0, 0, 0]), (('Islamic Unification Movement', -1), [0, 0, 0, 0]), (('The Justice Department', -1), [0, 0, 0, 0]), (('Che Guevara Brigade', -1), [0, 0, 0, 0]), (('Movement of the Revolutionary Left (MIR) (Peru)', -1), [0, 0, 0, 0]), (('Ejercito de Liberacion Nacional (Bolivia)', -1), [0, 0, 0, 0]), (('National Liberation Army (Ecuador)', -1), [0, 0, 0, 0]), (('Jamaat-E-Islami (Bangladesh)', -1), [0, 0, 0, 0]), ((\"People's Liberation Army (India)\", -1), [0, 0, 0, 0]), (('Hizb-I-Islami', -1), [0, 0, 0, 0]), (('Awami League', -1), [0, 0, 0, 0]), (('Jamaat-E-Islami (India/Pakistan)', -1), [0, 0, 0, 0]), (('Babbar Khalsa International (BKI)', -1), [0, 0, 0, 0]), (('Communist Party of India- Marxist', -1), [0, 0, 0, 0]), ((\"Pakistani People's Party (PPP)\", -1), [0, 0, 0, 0]), (('Tamil Nadu Liberation Army', -1), [0, 0, 0, 0]), (('Kuki Tribal Militants', -1), [0, 0, 0, 0]), (('Khasi Students Union', -1), [0, 0, 0, 0]), ((\"All Burma Students' Democratic Front (ABSDF)\", -1), [0, 0, 0, 0]), (('Karenni National Progressive Party', -1), [0, 0, 0, 0]), (('Shan State Army - North (SSA-N)', -1), [0, 0, 0, 0]), (('National League for Democracy', -1), [0, 0, 0, 0]), (('Eritrean Liberation Front', -1), [0, 0, 0, 0]), (('Front for the Liberation of the Enclave of Cabinda (FLEC)', -1), [0, 0, 0, 0]), (('Sudan Liberation Movement', -1), [0, 0, 0, 0]), (('Oromo Liberation Front', -1), [0, 0, 0, 0]), (('Al-Ittihaad al-Islami (AIAI)', -1), [0, 0, 0, 0]), (('Pan Africanist Congress (PAC)', -1), [0, 0, 0, 0]), ((\"People's Democratic Party (PDP)\", -1), [0, 0, 0, 0]), ((\"Odua Peoples' Congress (OPC)\", -1), [0, 0, 0, 0]), (('National Army for the Liberation of Uganda (NALU)', -1), [0, 0, 0, 0]), (('Union of Congolese Patriots (UPC)', -1), [0, 0, 0, 0]), (('Breton Liberation Front (FLB)', -1), [0, 0, 0, 0]), (('Red Hand Commandos', -1), [0, 0, 0, 0]), (('National Organization of Cypriot Fighters (EOKA)', -1), [0, 0, 0, 0]), (('Angry Brigade', -1), [0, 0, 0, 0])])\n"
     ]
    }
   ],
   "source": [
    "import collections\n",
    "group_dict = collections.OrderedDict()\n",
    "for name in dfs_names['group']:\n",
    "    group_dict[(name,-1)] = []\n",
    "    for index in range(len(dimensions)):\n",
    "        group_dict[(name,-1)].append(0)\n",
    "print(group_dict)"
   ]
  },
  {
   "cell_type": "code",
   "execution_count": 18,
   "metadata": {
    "collapsed": false
   },
   "outputs": [],
   "source": [
    "for index, gname in enumerate(dfs['gname']):\n",
    "    for i in range(len(dimensions)):\n",
    "        #if dimensions[i] == 'nkill':\n",
    "        #   print(str(dfs[dimensions[i]][index]))\n",
    "        if str(dfs[dimensions[i]][index]) == 'nan' or dfs[dimensions[i]][index] < 0 :\n",
    "            continue\n",
    "        group_dict[(gname,-1)][i] += dfs[dimensions[i]][index] "
   ]
  },
  {
   "cell_type": "code",
   "execution_count": 19,
   "metadata": {
    "collapsed": false
   },
   "outputs": [
    {
     "name": "stdout",
     "output_type": "stream",
     "text": [
      "OrderedDict([(('Bougainville Revolutionary Army (BRA)', -1), [0.095238095238095233, 0.14285714285714285, 0.0, 0.19047619047619047]), (('Kanak Socialist National Liberation Front', -1), [0.0, 0.0, 0.0, 0.40000000000000002]), (('September 11 Commandos', -1), [0.0, 0.0, 0.0, 0.5]), (('Kanak Separatists', -1), [0.0, 0.0, 0.0, 0.0]), (('Animal Liberation Front (ALF)', -1), [0.0088495575221238937, 0.079646017699115043, 0.0, 0.0]), (('Anti-Government Rebels', -1), [0.42857142857142855, 0.2857142857142857, 0.0, 0.42857142857142855]), (('Croatian Nationalists', -1), [0.0, 0.088235294117647065, 0.0, 0.11764705882352941]), (('Free Papua Movement (OPM-Organisasi Papua Merdeka)', -1), [0.17241379310344829, 0.10344827586206896, 0.0, 0.2413793103448276]), (('Informal Anarchist Federation', -1), [0.0, 0.30769230769230771, 0.0, 0.0]), (('National Committee Against Independence (CNCI)', -1), [0.0, 0.0, 0.0, 0.0]), (('Vanuatu Mobile Force (VMF)', -1), [0.0, 0.0, 0.0, 1.0]), (('Combat 18', -1), [0.0, 0.0, 0.0, 0.0]), (('Greek Bulgarian Armenian Front', -1), [0.0, 0.0, 0.0, 0.0]), (('Guadalcanal Liberation Army', -1), [0.0, 0.0, 0.0, 0.0]), (('Isatabu Freedom Movement (IFM)', -1), [1.0, 0.0, 0.0, 1.0]), (('Lufa Tribesmen', -1), [0.0, 0.0, 0.0, 0.0]), (('Pacific Popular Front', -1), [0.0, 0.0, 0.0, 0.0]), (('Palestine Liberation Organization (PLO)', -1), [0.01282051282051282, 0.0, 0.02564102564102564, 0.064102564102564097]), (('Paupa New Guinea Troops', -1), [0.0, 0.0, 0.0, 0.0]), (('Zapatista National Liberation Army', -1), [0.043478260869565216, 0.086956521739130432, 0.0, 0.086956521739130432]), (('Farabundo Marti National Liberation Front (FMLN)', -1), [0.0056364490371066224, 0.41897604509159231, 0.0, 0.071864725223109438]), (('Nicaraguan Democratic Force (FDN)', -1), [0.0063091482649842269, 0.097791798107255523, 0.0, 0.066246056782334389]), (('Sandinista National Liberation Front (FSLN)', -1), [0.012500000000000001, 0.13750000000000001, 0.0, 0.14999999999999999]), ((\"People's Liberation Forces (FPL)\", -1), [0.0, 0.039215686274509803, 0.0, 0.06535947712418301]), (('Guerrilla Army of the Poor (EGP)', -1), [0.016129032258064516, 0.0, 0.0, 0.16935483870967741]), (('Nicaraguan Resistance', -1), [0.016949152542372881, 0.13559322033898305, 0.0, 0.067796610169491525]), (('Guatemalan National Revolutionary Unity (URNG)', -1), [0.010416666666666666, 0.41666666666666669, 0.0, 0.041666666666666664]), (('Death Squad', -1), [0.046153846153846156, 0.17846153846153845, 0.0, 0.058461538461538461]), (('Revolutionary Organization of People in Arms (ORPA)', -1), [0.036585365853658534, 0.0, 0.0, 0.17073170731707318]), ((\"People's Revolutionary Army (ERP) (El Salvador)\", -1), [0.031746031746031744, 0.079365079365079361, 0.0, 0.22222222222222221]), (('Armed Forces of National Resistance (FARN)', -1), [0.054054054054054057, 0.27027027027027029, 0.0, 0.64864864864864868]), (('Lorenzo Zelaya Revolutionary Front (LZRF)', -1), [0.027777777777777776, 0.083333333333333329, 0.0, 0.083333333333333329]), (('Popular Revolutionary Bloc (BPR)', -1), [0.055555555555555552, 0.0, 0.0, 0.33333333333333331]), (('Democratic Revolutionary Alliance (ARDE)', -1), [0.0, 0.0, 0.0, 0.17241379310344829]), (('Rebel Armed Forces of Guatemala (FAR)', -1), [0.15384615384615385, 0.11538461538461539, 0.0, 0.19230769230769232]), (('Patriotic Morazanista Front (FPM)', -1), [0.0, 0.125, 0.0, 0.0]), (('Caribbean Revolutionary Alliance (ARC)', -1), [0.0, 0.0, 0.0, 0.0]), (('Guatemalan Labor Party (PGT)', -1), [0.047619047619047616, 0.095238095238095233, 0.0, 0.23809523809523808]), (('Recontras', -1), [0.071428571428571425, 0.0, 0.0, 0.25]), (('Secret Anti-Communist Army (ESA)', -1), [0.0, 0.0, 0.0, 0.21052631578947367]), (('Cinchoneros Popular Liberation Movement', -1), [0.055555555555555552, 0.0, 0.0, 0.16666666666666666]), ((\"31 January People's Front (FP-31)\", -1), [0.0, 0.58823529411764708, 0.0, 0.11764705882352941]), (('20 December Movement (M-20)', -1), [0.0, 0.0, 0.0, 0.0]), (('February 28 Popular League (El Salvador)', -1), [0.066666666666666666, 0.0, 0.0, 0.59999999999999998]), (('Maximiliano Gomez Revolutionary Brigade', -1), [0.0, 0.7857142857142857, 0.0, 0.0]), (('Misurasata Indian Organization', -1), [0.071428571428571425, 0.0, 0.0, 0.21428571428571427]), (('Union Guerrera Blanca (UGB)', -1), [0.0, 0.0, 0.0, 0.0]), (('United Popular Action Front (FAPU)', -1), [0.076923076923076927, 0.0, 0.0, 0.15384615384615385]), (('South Ossetian Separatists', -1), [0.5, 0.59999999999999998, 0.0, 0.10000000000000001]), ((\"People's Democratic Army\", -1), [0.0, 0.0, 0.0, 0.0]), (('Supporters of Ex-President Gamsakhurdial', -1), [0.14285714285714285, 0.2857142857142857, 0.0, 0.2857142857142857]), (('Islamic Jihad Group (IJG)', -1), [0.0, 1.0, 1.0, 0.0]), (('White Legion (Georgia)', -1), [0.33333333333333331, 0.0, 0.0, 0.33333333333333331]), (('Forest Brothers', -1), [0.0, 0.0, 0.0, 0.0]), (('Islamic Jihad Union (Uzbekistan)', -1), [0.0, 0.0, 0.5, 0.0]), (('Rizvon Sadirov Group', -1), [1.0, 0.0, 0.0, 1.0]), (('Soldiers of the Caliphate', -1), [0.0, 0.0, 0.0, 0.0]), (('Algeisk Wolves', -1), [0.0, 0.0, 0.0, 0.0]), (('Hizb al-Tahrir al-Islami (HT)', -1), [0.0, 0.0, 0.0, 0.0]), (('Islamic Movement of Uzbekistan (IMU)', -1), [0.33333333333333331, 0.0, 0.66666666666666663, 0.33333333333333331]), (('Sandval (union) Movement', -1), [0.0, 0.0, 0.0, 0.0]), (('South Ossetian Extremists', -1), [0.0, 0.0, 0.0, 1.0]), (('Tolib Ayombekov loyalists', -1), [0.0, 0.0, 0.0, 0.0]), (('Uighur Liberation Organization', -1), [0.0, 0.0, 0.0, 0.0]), (('Yekbun', -1), [0.0, 0.0, 0.0, 0.0]), (('Zviadists', -1), [1.0, 0.0, 0.0, 1.0]), (('Chukakuha (Middle Core Faction)', -1), [0.0, 0.26666666666666666, 0.0, 0.0]), ((\"Revolutionary Workers' Council (Kakurokyo)\", -1), [0.0, 0.0, 0.0, 0.0]), (('East Asia Anti Japanese Armed Front', -1), [0.0, 0.0, 0.0, 0.0]), (('Eastern Turkistan Islamic Movement (ETIM)', -1), [0.0, 0.25, 0.25, 0.0]), (('Aum Shinri Kyo', -1), [0.0, 0.0, 0.0, 0.0]), (('Senki (\"Battle Flag\")', -1), [0.0, 0.0, 0.0, 0.0]), (('14 K Triad', -1), [0.0, 0.75, 0.0, 0.0]), (('Seikijuku', -1), [0.0, 0.0, 0.0, 0.0]), (('League of Communists', -1), [0.0, 0.0, 0.0, 0.0]), (('Maruseido (Marxist Youth League)', -1), [0.0, 0.0, 0.0, 0.0]), (('Sekihotai', -1), [0.0, 0.0, 0.0, 0.0]), (('Turkestan Islamic Party', -1), [0.0, 1.0, 0.0, 0.0]), (('Anti-Imperialist Students Council', -1), [0.0, 0.0, 0.0, 0.0]), (('Anti-Narita Extremists', -1), [0.0, 0.0, 0.0, 0.0]), (('Association for the Enhancement of the Justice of the Great Japan', -1), [0.0, 0.0, 0.0, 0.0]), (('Chondaehyop (Radical Student Coalition)', -1), [0.0, 0.0, 0.0, 0.0]), (('Chonson Univ. students', -1), [0.0, 0.0, 0.0, 0.0]), (('Chukakuha Revolutionary Army', -1), [0.0, 0.0, 0.0, 0.0]), (('Dainihon Yokuko Doshikai', -1), [0.0, 0.0, 0.0, 0.0]), (('Democratic Progressive Party', -1), [0.0, 0.0, 0.0, 0.0]), (('Do-or-Die Corps for the Abolition of Anti-Public Taxation Systems', -1), [0.0, 0.0, 0.0, 0.0]), (('Great Japan Patriotic Party', -1), [0.0, 0.0, 0.0, 0.0]), (('Hanchongryun', -1), [0.0, 0.0, 0.0, 0.0]), (('Hiroyuki Jo', -1), [0.0, 0.0, 0.0, 0.0]), (('Hotaru (Firefly)', -1), [0.0, 0.0, 0.0, 0.0]), (('Issui Kai', -1), [0.0, 0.0, 0.0, 0.0]), (('Japan National Youth Alliance', -1), [0.0, 0.0, 0.0, 0.0]), ((\"Japan Socialist Youth League of the Revolutionary Workers' Association\", -1), [0.0, 0.0, 0.0, 0.0]), (('Japanese Independence Patriotic Party', -1), [0.0, 0.0, 0.0, 0.0]), (('Japanese Red Army (JRA)', -1), [0.375, 0.0, 0.0, 0.75]), (('Korean Youth League', -1), [0.0, 0.0, 0.0, 0.0]), (('Kyongbuk University Dental College Students', -1), [0.0, 0.0, 0.0, 0.0]), (('Namchong-Nyon Students', -1), [0.0, 0.0, 0.0, 0.0]), (('Nara Red Army', -1), [0.0, 0.0, 0.0, 0.0]), (('National Defense Youth Corps', -1), [0.0, 0.0, 0.0, 0.0]), (('Revolutionary Army', -1), [0.0, 0.0, 0.0, 0.0]), (('Revolutionary Force', -1), [0.0, 0.0, 0.0, 0.0]), (('Seiji Kesha Kokuyukai', -1), [0.0, 0.0, 0.0, 0.0]), (('Shonkonjuku Group', -1), [0.0, 0.0, 0.0, 0.0]), (('Taihikai (Great Sadness)', -1), [0.0, 0.0, 0.0, 1.0]), (('Taikosha, right wing group', -1), [0.0, 0.0, 0.0, 0.0]), (('Yamaguchi-Gumi Gang', -1), [0.0, 0.0, 0.0, 0.0]), (('Yokoku Seiwa-Kai', -1), [0.0, 0.0, 0.0, 0.0]), (('Kosovo Liberation Army (KLA)', -1), [0.04878048780487805, 0.12195121951219512, 0.0, 0.073170731707317069]), (('Caucasus Emirate', -1), [0.0, 0.33333333333333331, 0.20512820512820512, 0.02564102564102564]), (('National Liberation Army (NLA) (Macedonia)', -1), [0.088235294117647065, 0.35294117647058826, 0.0, 0.088235294117647065]), (('Riyadus-Salikhin Reconnaissance and Sabotage Battalion of Chechen Martyrs', -1), [0.10000000000000001, 0.0, 0.5, 0.10000000000000001]), (('Armed Forces of the Chechen Republic of Ichkeria', -1), [0.88888888888888884, 0.88888888888888884, 0.0, 0.1111111111111111]), ((\"Dagestani Shari'ah Jamaat\", -1), [0.0, 0.0, 0.0, 0.0]), (('Albanian National Army (ANA)', -1), [0.0, 0.0, 0.0, 0.0]), (('Islambouli Brigades of al-Qaida', -1), [0.0, 0.40000000000000002, 1.0, 0.40000000000000002]), (('NVF', -1), [0.25, 0.0, 0.25, 0.25]), (('Ukrainian Nationalist Group', -1), [0.0, 0.0, 0.0, 0.0]), (('Armenian Nationalists', -1), [0.0, 0.0, 0.0, 0.0]), (('Black Berets', -1), [0.0, 0.0, 0.0, 0.0]), (('December 13 Independent Group', -1), [0.0, 0.0, 0.0, 0.0]), (('Extraparliamentary Opposition (APO)', -1), [0.0, 0.0, 0.0, 0.0]), (('Internationalist Cells', -1), [0.0, 0.0, 0.0, 0.0]), (('Liberation Army for Presevo, Medvedja and Bujanovac (UCPMB)', -1), [0.0, 0.0, 0.0, 0.0]), (('Makhachkala Gang', -1), [0.0, 0.0, 0.0, 0.0]), (('Red Army Faction (RAF)', -1), [0.0, 0.037735849056603772, 0.0, 0.037735849056603772]), (('Revolutionary Cells Network (SRN)', -1), [0.0, 0.0, 0.0, 0.0]), (('Islamic State of Iraq and the Levant (ISIL)', -1), [0.097018059638807219, 0.41705165896682067, 0.17219655606887863, 0.13523729525409492]), ((\"Kurdistan Workers' Party (PKK)\", -1), [0.05859375, 0.13984374999999999, 0.01171875, 0.098437499999999997]), (('Al-Qaida in Iraq', -1), [0.03098106712564544, 0.6402753872633391, 0.18760757314974183, 0.043029259896729774]), (('Al-Qaida in the Arabian Peninsula (AQAP)', -1), [0.054409005628517824, 0.14821763602251406, 0.11632270168855535, 0.084427767354596617]), (('Hamas (Islamic Resistance Movement)', -1), [0.0095846645367412137, 0.14057507987220447, 0.19169329073482427, 0.031948881789137379]), ((\"Al-Gama'at al-Islamiyya (IG)\", -1), [0.0, 0.019305019305019305, 0.0038610038610038611, 0.0]), (('Algerian Islamic Extremists', -1), [0.0080645161290322578, 0.048387096774193547, 0.0040322580645161289, 0.036290322580645164]), (('Hezbollah', -1), [0.094861660079051377, 0.094861660079051377, 0.035573122529644272, 0.14229249011857709]), (('Dev Sol', -1), [0.0, 0.15021459227467812, 0.0, 0.017167381974248927]), (('Armed Islamic Group (GIA)', -1), [0.028301886792452831, 0.094339622641509441, 0.0047169811320754715, 0.070754716981132074]), (('Palestinian Islamic Jihad (PIJ)', -1), [0.0059171597633136093, 0.071005917159763315, 0.20710059171597633, 0.0059171597633136093]), (('Al-Aqsa Martyrs Brigade', -1), [0.025316455696202531, 0.050632911392405063, 0.22151898734177214, 0.056962025316455694]), (('Al-Nusrah Front', -1), [0.22580645161290322, 0.38064516129032255, 0.29032258064516131, 0.25806451612903225]), (('Islamic Salvation Front (FIS)', -1), [0.0067114093959731542, 0.040268456375838924, 0.0, 0.013422818791946308]), (('Islamic State of Iraq (ISI)', -1), [0.034965034965034968, 0.17482517482517482, 0.22377622377622378, 0.062937062937062943]), (('Salafist Group for Preaching and Fighting (GSPC)', -1), [0.1079136690647482, 0.050359712230215826, 0.0, 0.15107913669064749]), (('Al-Qaida in the Islamic Maghreb (AQIM)', -1), [0.13407821229050279, 0.15642458100558659, 0.13407821229050279, 0.16759776536312848]), (('Tripoli Province of the Islamic State', -1), [0.234375, 0.3046875, 0.0546875, 0.359375]), (('Sinai Province of the Islamic State', -1), [0.13008130081300814, 0.21138211382113822, 0.081300813008130079, 0.15447154471544716]), (('Popular Front for the Liberation of Palestine (PFLP)', -1), [0.059701492537313432, 0.067164179104477612, 0.052238805970149252, 0.11194029850746269]), (('Muslim Brotherhood', -1), [0.010752688172043012, 0.10752688172043011, 0.0, 0.010752688172043012]), (('Mujahedin-e Khalq (MEK)', -1), [0.0, 0.075268817204301078, 0.0, 0.064516129032258063]), (('Barqa Province of the Islamic State', -1), [0.11864406779661017, 0.2711864406779661, 0.25423728813559321, 0.15254237288135594]), (('Fuerzas Armadas de Liberacion Nacional (FALN)', -1), [0.0, 0.3504273504273504, 0.0, 0.017094017094017096]), (('New World Liberation Front (NWLF)', -1), [0.0, 0.023529411764705882, 0.0, 0.0]), (('Jewish Defense League (JDL)', -1), [0.0, 0.04878048780487805, 0.0, 0.036585365853658534]), (('Earth Liberation Front (ELF)', -1), [0.0, 0.16666666666666666, 0.0, 0.0]), (('Black Nationalists', -1), [0.0, 0.098591549295774641, 0.0, 0.0]), (('Omega-7', -1), [0.0, 0.018518518518518517, 0.0, 0.0]), (('23rd of September Communist League', -1), [0.13636363636363635, 0.0, 0.0, 0.27272727272727271]), (('Weather Underground, Weathermen', -1), [0.0, 0.095238095238095233, 0.0, 0.0]), (('Macheteros', -1), [0.0, 0.22580645161290322, 0.0, 0.064516129032258063]), (('Armed Revolutionary Independence Movement (MIRA)', -1), [0.0, 0.36666666666666664, 0.0, 0.0]), (('Chicano Liberation Front', -1), [0.0, 0.23333333333333334, 0.0, 0.0]), (('Black Liberation Army', -1), [0.0, 0.0, 0.0, 0.071428571428571425]), (('Black Panthers', -1), [0.0, 0.16666666666666666, 0.0, 0.041666666666666664]), (('Army of God', -1), [0.043478260869565216, 0.17391304347826086, 0.0, 0.043478260869565216]), (('Puerto Rican Nationalists', -1), [0.0, 0.65217391304347827, 0.0, 0.0]), (('United Freedom Front (UFF)', -1), [0.0, 0.090909090909090912, 0.0, 0.0]), (('Union of the People (UDP)', -1), [0.0, 0.5714285714285714, 0.0, 0.0]), (('Ku Klux Klan', -1), [0.0, 0.0, 0.0, 0.14999999999999999]), (('Zebra killers', -1), [0.0, 1.0, 0.0, 0.14999999999999999]), (('Independent Armed Revolutionary Commandos (CRIA)', -1), [0.0, 0.21052631578947367, 0.0, 0.0]), (('George Jackson Brigade', -1), [0.0, 0.11764705882352941, 0.0, 0.0]), (('Jewish Armed Resistance', -1), [0.0, 0.0, 0.0, 0.0]), (('Shining Path (SL)', -1), [0.0077388149939540511, 0.22200725513905684, 0.0, 0.037243047158403868]), (('Revolutionary Armed Forces of Colombia (FARC)', -1), [0.1049534085335949, 0.12947523295733201, 0.0, 0.17900931829328101]), (('National Liberation Army of Colombia (ELN)', -1), [0.14724919093851133, 0.18932038834951456, 0.0, 0.27022653721682849]), (('Manuel Rodriguez Patriotic Front (FPMR)', -1), [0.012515644555694618, 0.28410513141426785, 0.0, 0.030037546933667083]), (('Tupac Amaru Revolutionary Movement (MRTA)', -1), [0.01532567049808429, 0.35440613026819923, 0.0, 0.057471264367816091]), (('M-19 (Movement of April 19)', -1), [0.038990825688073397, 0.087155963302752298, 0.0, 0.27293577981651373]), (('Movement of the Revolutionary Left (MIR) (Chile)', -1), [0.0, 0.11147540983606558, 0.0, 0.013114754098360656]), (('Popular Liberation Army (EPL)', -1), [0.069767441860465115, 0.018604651162790697, 0.0, 0.36744186046511629]), (('Simon Bolivar Guerrilla Coordinating Board (CGSB)', -1), [0.048192771084337352, 0.23493975903614459, 0.0, 0.13855421686746988]), (('The Extraditables', -1), [0.055555555555555552, 0.30555555555555558, 0.0, 0.083333333333333329]), (('United Popular Action Movement', -1), [0.0092592592592592587, 0.0, 0.0, 0.037037037037037035]), (('Montoneros (Argentina)', -1), [0.039215686274509803, 0.0, 0.0, 0.078431372549019607]), (('Ejercito Revolucionaria del Pueblo (ERP) (Argentina)', -1), [0.15584415584415584, 0.0, 0.0, 0.2857142857142857]), (('United Self Defense Units of Colombia (AUC)', -1), [0.203125, 0.15625, 0.0, 0.296875]), ((\"Paraguayan People's Army (EPP)\", -1), [0.076923076923076927, 0.23076923076923078, 0.0, 0.25]), (('Tupamaros (Uruguay)', -1), [0.125, 0.0, 0.0, 0.27500000000000002]), (('Ricardo Franco Front (Dissident FARC)', -1), [0.076923076923076927, 0.25641025641025639, 0.0, 0.12820512820512819]), (('Brunswijk Jungle Commando', -1), [0.037037037037037035, 0.1111111111111111, 0.0, 0.18518518518518517]), (('Alfaro Vive', -1), [0.080000000000000002, 0.16, 0.0, 0.28000000000000003]), (('Tupac Katari Guerrilla Army (EGTK)', -1), [0.0, 0.18181818181818182, 0.0, 0.0]), (('Red Flag (Venezuela)', -1), [0.19047619047619047, 0.14285714285714285, 0.0, 0.47619047619047616]), (('Peasant Self-Defense Group (ACCU)', -1), [0.047619047619047616, 0.33333333333333331, 0.0, 0.095238095238095233]), (('Death to Kidnappers (MAS)', -1), [0.0, 0.0, 0.0, 0.055555555555555552]), (('Popular Militia (Colombia)', -1), [0.0, 0.66666666666666663, 0.0, 0.0]), (('Rodrigo Franco Command', -1), [0.0, 0.0, 0.0, 0.0]), ((\"Workers' Self-Defense Movement (MAO)\", -1), [0.0, 0.0, 0.0, 0.40000000000000002]), ((\"People's Revolutionary Organization\", -1), [0.0, 0.0, 0.0, 0.0]), (('Taliban', -1), [0.095128097438051243, 0.14846703065938682, 0.10352792944141118, 0.11906761864762705]), (('Communist Party of India - Maoist (CPI-Maoist)', -1), [0.10545905707196029, 0.13275434243176179, 0.0, 0.19106699751861042]), (('Liberation Tigers of Tamil Eelam (LTTE)', -1), [0.014719411223551058, 0.058877644894204231, 0.060717571297148117, 0.044158233670653177]), (('Tehrik-i-Taliban Pakistan (TTP)', -1), [0.11200807265388496, 0.16649848637739656, 0.12411705348133199, 0.14026236125126135]), ((\"People's Liberation Front (JVP)\", -1), [0.0026525198938992041, 0.11140583554376658, 0.0, 0.0053050397877984082]), (('United Liberation Front of Assam (ULFA)', -1), [0.030821917808219176, 0.28424657534246578, 0.010273972602739725, 0.075342465753424653]), (('Baloch Republican Army (BRA)', -1), [0.01680672268907563, 0.23529411764705882, 0.0, 0.01680672268907563]), (('National Democratic Front of Bodoland (NDFB)', -1), [0.10191082802547771, 0.17197452229299362, 0.0, 0.14012738853503184]), (('Muttahida Qami Movement (MQM)', -1), [0.0, 0.70833333333333337, 0.0, 0.0069444444444444441]), (('Garo National Liberation Army', -1), [0.25, 0.080882352941176475, 0.0, 0.27205882352941174]), (('Baloch Liberation Army (BLA)', -1), [0.059829059829059832, 0.076923076923076927, 0.0085470085470085479, 0.068376068376068383]), (('Lashkar-e-Taiba (LeT)', -1), [0.063063063063063057, 0.1981981981981982, 0.072072072072072071, 0.14414414414414414]), (('Hizbul Mujahideen (HM)', -1), [0.047619047619047616, 0.13333333333333333, 0.019047619047619049, 0.076190476190476197]), (('Lashkar-e-Jhangvi', -1), [0.020202020202020204, 0.25252525252525254, 0.24242424242424243, 0.030303030303030304]), ((\"People's War Group (PWG)\", -1), [0.065934065934065936, 0.076923076923076927, 0.0, 0.10989010989010989]), (('Pro Hartal Activists', -1), [0.0, 0.065934065934065936, 0.0, 0.0]), (('Lashkar-e-Islam (Pakistan)', -1), [0.18390804597701149, 0.14942528735632185, 0.022988505747126436, 0.2413793103448276]), (('Shanti Bahini - Peace Force', -1), [0.034883720930232558, 0.058139534883720929, 0.0, 0.11627906976744186]), (('Baloch Liberation Front (BLF)', -1), [0.17808219178082191, 0.054794520547945202, 0.0, 0.21917808219178081]), (('Janatantrik Terai Mukti Morcha- Jwala Singh (JTMM-J)', -1), [0.1388888888888889, 0.055555555555555552, 0.0, 0.47222222222222221]), (('United Baloch Army (UBA)', -1), [0.028571428571428571, 0.45714285714285713, 0.0, 0.042857142857142858]), (('National Liberation Front of Tripura (NLFT)', -1), [0.42028985507246375, 0.17391304347826086, 0.0, 0.50724637681159424]), (('Bangladesh Nationalist Party (BNP)', -1), [0.0, 0.33823529411764708, 0.0, 0.0]), (('Naxalites', -1), [0.07575757575757576, 0.060606060606060608, 0.0, 0.19696969696969696]), (('Haqqani Network', -1), [0.046875, 0.46875, 0.59375, 0.078125]), ((\"New People's Army (NPA)\", -1), [0.051061007957559683, 0.11007957559681697, 0.0, 0.13196286472148541]), (('Abu Sayyaf Group (ASG)', -1), [0.33524355300859598, 0.094555873925501438, 0.0085959885386819486, 0.37822349570200575]), (('Moro Islamic Liberation Front (MILF)', -1), [0.069841269841269843, 0.22857142857142856, 0.0095238095238095247, 0.12698412698412698]), (('Moro National Liberation Front (MNLF)', -1), [0.12048192771084337, 0.048192771084337352, 0.0, 0.21686746987951808]), (('Khmer Rouge', -1), [0.040540540540540543, 0.35810810810810811, 0.0, 0.21621621621621623]), (('Bangsamoro Islamic Freedom Movement (BIFM)', -1), [0.040816326530612242, 0.25850340136054423, 0.0, 0.047619047619047616]), (('Runda Kumpulan Kecil (RKK)', -1), [0.0, 0.67289719626168221, 0.0, 0.0]), (('Free Aceh Movement (GAM)', -1), [0.085714285714285715, 0.27619047619047621, 0.0, 0.085714285714285715]), (('Karen National Union', -1), [0.0, 0.21428571428571427, 0.0, 0.011904761904761904]), (('Jemaah Islamiya (JI)', -1), [0.0, 0.83561643835616439, 0.1095890410958904, 0.0]), (('Pattani United Liberation Organization (PULO)', -1), [0.0, 0.38297872340425532, 0.0, 0.021276595744680851]), (('Thai Islamic Militants', -1), [0.021276595744680851, 0.14893617021276595, 0.0, 0.0]), (('April 6th Liberation Movement', -1), [0.0, 0.0, 0.0, 0.0]), (('Kachin Independence Army (KIA)', -1), [0.083333333333333329, 0.20833333333333334, 0.0, 0.125]), (('United Front for Democracy Against Dictatorship', -1), [0.0, 0.73913043478260865, 0.0, 0.0]), (('Democratic Karen Buddhist Army (DKBA)', -1), [0.0, 0.16666666666666666, 0.0, 0.1111111111111111]), (('Mujahidin Indonesia Timur (MIT)', -1), [0.13333333333333333, 0.0, 0.066666666666666666, 0.26666666666666666]), (('Alex Boncayao Brigade (ABB)', -1), [0.0, 0.18181818181818182, 0.0, 0.0]), (('Barisan Revolusi Nasional (BRN)', -1), [0.0, 0.29999999999999999, 0.0, 0.0]), (('Al-Khobar', -1), [0.0, 0.0, 0.0, 0.0]), (('Jamaah Ansharut Tauhid (JAT)', -1), [0.0, 0.25, 0.25, 0.0]), (('Reform of the Armed Forces Movement', -1), [0.0, 0.0, 0.0, 0.0]), (('Boko Haram', -1), [0.065882352941176475, 0.45117647058823529, 0.12470588235294118, 0.074705882352941178]), (('Al-Shabaab', -1), [0.10735294117647058, 0.13970588235294118, 0.0625, 0.16617647058823529]), (('African National Congress (South Africa)', -1), [0.0, 0.033962264150943396, 0.0018867924528301887, 0.0018867924528301887]), (('National Union for the Total Independence of Angola (UNITA)', -1), [0.057441253263707574, 0.4516971279373368, 0.0, 0.091383812010443863]), ((\"Lord's Resistance Army (LRA)\", -1), [0.35546875, 0.140625, 0.0, 0.4453125]), (('Mozambique National Resistance Movement (MNR)', -1), [0.037735849056603772, 0.061320754716981132, 0.0, 0.12264150943396226]), (('Janjaweed', -1), [0.38323353293413176, 0.38323353293413176, 0.0, 0.44311377245508982]), (('Allied Democratic Forces (ADF)', -1), [0.25, 0.40833333333333333, 0.0, 0.29166666666666669]), (('Movement for the Emancipation of the Niger Delta (MEND)', -1), [0.20779220779220781, 0.1038961038961039, 0.0, 0.31168831168831168]), (('Democratic Front for the Liberation of Rwanda (FDLR)', -1), [0.25, 0.1875, 0.0, 0.328125]), (('Movement of Democratic Forces of Casamance', -1), [0.081967213114754092, 0.098360655737704916, 0.0, 0.081967213114754092]), ((\"South-West Africa People's Organization (SWAPO)\", -1), [0.0, 0.0, 0.0, 0.10909090909090909]), (('Revolutionary United Front (RUF)', -1), [0.16666666666666666, 0.12962962962962962, 0.0, 0.31481481481481483]), ((\"Sudan People's Liberation Movement - North\", -1), [0.076923076923076927, 0.53846153846153844, 0.0, 0.076923076923076927]), ((\"Sudan People's Liberation Army (SPLA)\", -1), [0.15789473684210525, 0.0, 0.0, 0.26315789473684209]), (('Party for the Liberation of the Hutu People (PALIPEHUTU)', -1), [0.055555555555555552, 0.27777777777777779, 0.0, 0.083333333333333329]), (('Inkatha Freedom Party (IFP)', -1), [0.0, 0.0, 0.0, 0.0]), (('Movement for Oneness and Jihad in West Africa (MUJAO)', -1), [0.21212121212121213, 0.18181818181818182, 0.15151515151515152, 0.21212121212121213]), (('Mayi Mayi', -1), [0.42857142857142855, 0.32142857142857145, 0.0, 0.4642857142857143]), (('Seleka', -1), [0.2857142857142857, 0.071428571428571425, 0.0, 0.39285714285714285]), (('National Liberation Front (FNL) (Burundi)', -1), [0.0, 0.59259259259259256, 0.0, 0.0]), (('Patriotic Resistance Front in Ituri (FRPI)', -1), [0.30769230769230771, 0.23076923076923078, 0.0, 0.53846153846153844]), ((\"Sudan People's Liberation Movement in Opposition (SPLM-IO)\", -1), [0.083333333333333329, 0.41666666666666669, 0.0, 0.25]), (('Zimbabwe African Nationalist Union (ZANU)', -1), [0.0, 0.0, 0.0, 0.2857142857142857]), (('Azawad National Liberation Movement (MNLA)', -1), [0.1111111111111111, 0.1111111111111111, 0.0, 0.27777777777777779]), (('Uganda Freedom Movement (UFM)', -1), [0.0, 0.0, 0.0, 0.055555555555555552]), (('Basque Fatherland and Freedom (ETA)', -1), [0.01942257217847769, 0.10078740157480315, 0.0, 0.045669291338582677]), (('Irish Republican Army (IRA)', -1), [0.0058293587705352413, 0.118706942236354, 0.0, 0.024377318494965553]), (('Corsican National Liberation Front (FLNC)', -1), [0.001594896331738437, 0.45135566188197768, 0.0, 0.017543859649122806]), (('Ulster Volunteer Force (UVF)', -1), [0.0, 0.0, 0.0, 0.0041493775933609959]), (('Ulster Freedom Fighters (UFF)', -1), [0.0, 0.13852813852813853, 0.0, 0.004329004329004329]), (('Red Brigades', -1), [0.009433962264150943, 0.0, 0.0, 0.084905660377358486]), (('First of October Antifascist Resistance Group (GRAPO)', -1), [0.01015228426395939, 0.071065989847715741, 0.0, 0.050761421319796954]), (('Corsican National Liberation Front- Historic Channel', -1), [0.0, 0.7890625, 0.0, 0.0]), (('Armenian Secret Army for the Liberation of Armenia', -1), [0.0, 0.028409090909090908, 0.0, 0.011363636363636364]), (('November 17 Revolutionary Organization (N17RO)', -1), [0.0, 0.29245283018867924, 0.0, 0.0]), (('Irish National Liberation Army (INLA)', -1), [0.01098901098901099, 0.054945054945054944, 0.0, 0.054945054945054944]), ((\"Revolutionary People's Struggle (ELA)\", -1), [0.0, 0.047619047619047616, 0.0, 0.0]), (('Irish Republican Extremists', -1), [0.0, 0.0, 0.0, 0.011235955056179775]), (('Dissident Republicans', -1), [0.0, 0.19696969696969696, 0.0, 0.030303030303030304]), (('Terra Lliure', -1), [0.0, 0.065573770491803282, 0.0, 0.0]), (('Prima Linea', -1), [0.0, 0.0, 0.0, 0.15517241379310345]), (('Iparretarrak (IK)', -1), [0.0, 0.090909090909090912, 0.0, 0.018181818181818181]), (('Action Directe', -1), [0.018867924528301886, 0.094339622641509441, 0.0, 0.018867924528301886]), (('Baader-Meinhof Group', -1), [0.019607843137254902, 0.33333333333333331, 0.0, 0.058823529411764705]), (('Conspiracy of Cells of Fire', -1), [0.0, 0.5, 0.0, 0.0]), (('Revolutionary Cells', -1), [0.0, 0.0, 0.0, 0.0]), ((\"Free Galician People's Guerrilla Army\", -1), [0.0, 0.1702127659574468, 0.0, 0.0]), (('Popular Forces of April 25', -1), [0.0, 0.30434782608695654, 0.0, 0.021739130434782608]), (('Revolutionary Patriotic Anti-Fascist Front (FRAP)', -1), [0.0, 0.0, 0.0, 0.0]), (('Real Irish Republican Army (RIRA)', -1), [0.0, 0.05128205128205128, 0.0, 0.02564102564102564]), (('Ex-Somoza National Guard', -1), [0.0, 0.0, 0.0, 0.090909090909090912]), (('Coordination of the United Revolutionary Organization (CORU)', -1), [0.0, 0.0, 0.0, 0.0]), (('Maximiliano Hernandez Martinez Brigade', -1), [0.14285714285714285, 0.0, 0.0, 0.14285714285714285]), (('Revolutionary Front for Hatian Advancement and Progress (FRAPH)', -1), [0.0, 0.0, 0.0, 0.0]), (('Ansar Allah', -1), [0.0, 0.0, 1.0, 0.0]), (('Bloque Anti-Guerrillero de Oriente (BAGO)', -1), [0.0, 0.0, 0.0, 0.0]), (('Chechen Lone Wolf Group', -1), [1.0, 0.0, 0.0, 1.0]), (('Justice Commandos for the Armenian Genocide', -1), [0.0, 0.0, 0.0, 0.022727272727272728]), (('Sayfullakh', -1), [0.0, 0.0, 0.0, 0.0]), (('Special Purpose Islamic Regiment (SPIR)', -1), [1.0, 0.0, 0.0, 1.0]), (('Free Syrian Army', -1), [0.18604651162790697, 0.2558139534883721, 0.046511627906976744, 0.18604651162790697]), (('Tawhid and Jihad', -1), [0.19047619047619047, 0.23809523809523808, 0.42857142857142855, 0.23809523809523808]), (('Sanaa Province of the Islamic State', -1), [0.0, 0.48148148148148145, 0.48148148148148145, 0.0]), (('Abdullah Azzam Brigades', -1), [0.0, 0.47619047619047616, 0.33333333333333331, 0.0]), (('Front for the Liberation of Lebanon from Foreigners', -1), [0.0, 0.0, 0.0, 0.0]), (('Ansar al-Din Front', -1), [1.0, 0.5, 0.0, 1.0]), (('Institutional Revolutionary Party (PRI)', -1), [0.0, 0.6428571428571429, 0.0, 0.14285714285714285]), (('Popular Revolutionary Army (Mexico)', -1), [0.0, 0.15384615384615385, 0.0, 0.076923076923076927]), (('Armed Commandos of Liberation', -1), [0.0, 0.33333333333333331, 0.0, 0.0]), (('Democratic Revolutionary Party', -1), [0.0, 0.45454545454545453, 0.0, 0.18181818181818182]), (('Al-Qaida', -1), [0.040000000000000001, 0.20000000000000001, 0.40000000000000002, 0.12]), (('Vietnamese Organization to Exterminate Communists and Restore the Nation', -1), [0.0, 0.0, 0.0, 0.0]), (('Individuals Tending Toward Savagery', -1), [0.0, 0.0, 0.0, 0.0]), (('Militant Peasants (NFI)', -1), [0.0, 0.0, 0.0, 0.0]), (('Republic of New Afrika', -1), [0.0, 0.0, 0.0, 0.0]), (('Jonathan Jackson Brigade', -1), [0.0, 0.0, 0.0, 1.0]), (('Justice Army for Defenseless Peoples', -1), [0.0, 0.0, 0.0, 0.0]), (('Movement for Triqui Unification and Struggle', -1), [0.0, 0.0, 0.0, 0.0]), (('America Battalion', -1), [0.0, 0.0, 0.0, 0.5]), (('Commandos for A Popular alternative', -1), [0.0, 0.0, 0.0, 0.0]), (('Death to Rustlers', -1), [0.0, 1.0, 0.0, 0.0]), (('National Socialist Civic Workers Movement', -1), [0.0, 0.0, 0.0, 0.0]), (('Khorasan Chapter of the Islamic State', -1), [0.12698412698412698, 0.22222222222222221, 0.015873015873015872, 0.20634920634920634]), (('Maoist Communist Center (MCC)', -1), [0.030303030303030304, 0.33333333333333331, 0.0, 0.060606060606060608]), (('Communist Party of Nepal- Maoist (CPN-M)', -1), [0.10526315789473684, 0.052631578947368418, 0.0, 0.15789473684210525]), (('Jundallah', -1), [0.064516129032258063, 0.064516129032258063, 0.32258064516129031, 0.16129032258064516]), (('Harkatul Jihad-e-Islami', -1), [0.0, 0.35714285714285715, 0.071428571428571425, 0.0]), (('Vigilante Group', -1), [0.040000000000000001, 0.0, 0.0, 0.040000000000000001]), (('Deccan Mujahideen', -1), [1.0, 1.0, 0.0, 0.5]), ((\"Cambodian People's Party (CPP)\", -1), [0.0, 0.66666666666666663, 0.0, 0.0]), (('North Korean involvement commandos', -1), [0.0, 0.0, 0.0, 0.0]), (('Justice and Equality Movement (JEM)', -1), [0.29411764705882354, 0.0, 0.0, 0.29411764705882354]), (('Tigray Peoples Liberation Front (TPLF)', -1), [0.5, 0.0, 0.0, 0.80000000000000004]), (('National Resistance Movement (NRM)', -1), [0.0, 0.0, 0.0, 0.33333333333333331]), (('Dissident Military Mmbrs of Northern Tribal Group', -1), [0.0, 0.0, 0.0, 0.0]), (('Black September', -1), [0.081632653061224483, 0.061224489795918366, 0.0, 0.16326530612244897]), (('Armed Revolutionary Nuclei (NAR)', -1), [0.0, 0.0, 0.0, 0.10000000000000001]), (('Official Irish Republican Army (OIRA)', -1), [0.0, 0.0, 0.0, 0.0]), (('Abu Nidal Organization (ANO)', -1), [0.026315789473684209, 0.0, 0.0, 0.18421052631578946]), (('Abu Hafs al-Masri Brigades', -1), [0.0, 0.90909090909090906, 0.090909090909090912, 0.0]), (('Black Order', -1), [0.0, 0.0, 0.0, 0.0]), (('Republican Action Force', -1), [0.0, 0.0, 0.0, 0.0]), (('Secret Organization of al-Qaida in Europe', -1), [0.0, 1.0, 1.0, 0.0]), (('Popular Front for the Liberation of Palestine, Gen Cmd (PFLP-GC)', -1), [0.0, 0.0, 0.0, 0.14285714285714285]), (('New Order', -1), [0.0, 0.0, 0.0, 0.0]), (('Mano Blanca', -1), [0.0, 0.0, 0.0, 0.40000000000000002]), (('Miskito Indian Organization', -1), [0.33333333333333331, 0.0, 0.0, 0.66666666666666663]), (('National Anti Communist Commando', -1), [0.0, 0.0, 0.0, 0.0]), (('Revolutionary Workers Party', -1), [0.0, 0.40000000000000002, 0.0, 0.0]), (('Guatemalan Communist Party', -1), [0.0, 0.0, 0.0, 0.0]), (('Jamaica Labor Party', -1), [0.0, 0.0, 0.0, 0.0]), (('Cossack Separatists', -1), [0.0, 0.0, 0.0, 0.0]), ((\"Kata'ib al-Khoul\", -1), [0.0, 0.0, 0.0, 0.0]), (('Al-Fatah', -1), [0.038461538461538464, 0.096153846153846159, 0.0, 0.21153846153846154]), (('Devrimici Halk Kurtulus Cephesi (DHKP/C)', -1), [0.0, 0.17647058823529413, 0.23529411764705882, 0.029411764705882353]), (('Democratic Front for the Liberation of Palestine (DFLP)', -1), [0.0, 0.11764705882352941, 0.0, 0.088235294117647065]), (('Turkish Communist Party/Marxist (TKP-ML)', -1), [0.071428571428571425, 0.21428571428571427, 0.035714285714285712, 0.10714285714285714]), (('Jewish Extremists', -1), [0.0, 0.07407407407407407, 0.0, 0.0]), (('Syrian Social Nationalist Party', -1), [0.0, 0.0, 0.59999999999999998, 0.0]), (('Kurdish Democratic Party-Iraq (KDP)', -1), [0.25, 0.0, 0.0, 0.5]), (('Islamic Unification Movement', -1), [0.0, 0.66666666666666663, 0.0, 0.0]), (('The Justice Department', -1), [0.0, 0.8125, 0.0, 0.0]), (('Che Guevara Brigade', -1), [0.0, 0.0, 0.0, 0.0]), (('Movement of the Revolutionary Left (MIR) (Peru)', -1), [0.0, 0.0, 0.0, 0.0]), (('Ejercito de Liberacion Nacional (Bolivia)', -1), [0.33333333333333331, 0.0, 0.0, 0.66666666666666663]), (('National Liberation Army (Ecuador)', -1), [0.66666666666666663, 0.0, 0.0, 0.66666666666666663]), (('Jamaat-E-Islami (Bangladesh)', -1), [0.0, 0.18333333333333332, 0.016666666666666666, 0.0]), ((\"People's Liberation Army (India)\", -1), [0.022727272727272728, 0.29545454545454547, 0.0, 0.022727272727272728]), (('Hizb-I-Islami', -1), [0.066666666666666666, 0.23333333333333334, 0.066666666666666666, 0.10000000000000001]), (('Awami League', -1), [0.0, 0.0, 0.0, 0.038461538461538464]), (('Jamaat-E-Islami (India/Pakistan)', -1), [0.0, 0.10000000000000001, 0.0, 0.0]), (('Babbar Khalsa International (BKI)', -1), [0.10000000000000001, 0.0, 0.0, 0.10000000000000001]), (('Communist Party of India- Marxist', -1), [0.0, 0.0, 0.0, 0.0]), ((\"Pakistani People's Party (PPP)\", -1), [0.0, 0.0, 0.0, 0.0]), (('Tamil Nadu Liberation Army', -1), [0.0, 0.33333333333333331, 0.0, 0.0]), (('Kuki Tribal Militants', -1), [0.59999999999999998, 0.0, 0.0, 0.59999999999999998]), (('Khasi Students Union', -1), [0.0, 0.0, 0.0, 0.0]), ((\"All Burma Students' Democratic Front (ABSDF)\", -1), [0.0, 0.59999999999999998, 0.0, 0.0]), (('Karenni National Progressive Party', -1), [0.0, 0.0, 0.0, 0.0]), (('Shan State Army - North (SSA-N)', -1), [0.0, 0.33333333333333331, 0.0, 0.0]), (('National League for Democracy', -1), [0.0, 0.0, 0.0, 0.0]), (('Eritrean Liberation Front', -1), [0.5, 0.0, 0.0, 0.77777777777777779]), (('Front for the Liberation of the Enclave of Cabinda (FLEC)', -1), [0.071428571428571425, 0.0, 0.0, 0.5]), (('Sudan Liberation Movement', -1), [0.33333333333333331, 0.0, 0.0, 0.5]), (('Oromo Liberation Front', -1), [0.0, 0.0, 0.0, 0.0]), (('Al-Ittihaad al-Islami (AIAI)', -1), [0.0, 0.0, 0.0, 0.0]), (('Pan Africanist Congress (PAC)', -1), [0.0, 0.0, 0.0, 0.0]), ((\"People's Democratic Party (PDP)\", -1), [0.75, 0.5, 0.0, 0.5]), ((\"Odua Peoples' Congress (OPC)\", -1), [0.0, 0.0, 0.0, 0.33333333333333331]), (('National Army for the Liberation of Uganda (NALU)', -1), [0.5, 0.0, 0.0, 0.5]), (('Union of Congolese Patriots (UPC)', -1), [0.0, 0.0, 0.0, 0.0]), (('Breton Liberation Front (FLB)', -1), [0.0, 0.15625, 0.0, 0.0]), (('Red Hand Commandos', -1), [0.0, 0.0, 0.0, 0.0]), (('National Organization of Cypriot Fighters (EOKA)', -1), [0.20000000000000001, 0.0, 0.0, 0.40000000000000002]), (('Angry Brigade', -1), [0.0, 0.0, 0.0, 0.0])])\n",
      "<class 'numpy.int64'>\n",
      "3\n"
     ]
    }
   ],
   "source": [
    "def get_index(groups, name):\n",
    "    for i in range(len(groups)):\n",
    "        if groups[i] == name:\n",
    "            return i\n",
    "    return -1\n",
    "\n",
    "unique_groups, group_counts = np.unique(dfs['gname'], return_counts=True)\n",
    "for gname, c_id in group_dict:\n",
    "    index = get_index(unique_groups,gname)\n",
    "    if index == -1:\n",
    "        print(\"WTF. \" + gname)\n",
    "    nevents = group_counts[index]\n",
    "    #print(nevents)\n",
    "    #nevents = nevents[0]\n",
    "    for i in range(len(group_dict[(gname,c_id)])):\n",
    "        group_dict[(gname,c_id)][i] = group_dict[(gname,c_id)][i]/nevents\n",
    "    #group_dict[(gname,c_id)].append(nevents)\n",
    "\n",
    "print(group_dict)\n",
    "print(type(nevents))\n",
    "print(nevents)"
   ]
  },
  {
   "cell_type": "code",
   "execution_count": 20,
   "metadata": {
    "collapsed": false
   },
   "outputs": [
    {
     "name": "stdout",
     "output_type": "stream",
     "text": [
      "['14 K Triad' '20 December Movement (M-20)'\n",
      " '23rd of September Communist League' \"31 January People's Front (FP-31)\"\n",
      " 'Abdullah Azzam Brigades' 'Abu Hafs al-Masri Brigades'\n",
      " 'Abu Nidal Organization (ANO)' 'Abu Sayyaf Group (ASG)' 'Action Directe'\n",
      " 'African National Congress (South Africa)' 'Al-Aqsa Martyrs Brigade'\n",
      " 'Al-Fatah' \"Al-Gama'at al-Islamiyya (IG)\" 'Al-Ittihaad al-Islami (AIAI)'\n",
      " 'Al-Khobar' 'Al-Nusrah Front' 'Al-Qaida' 'Al-Qaida in Iraq'\n",
      " 'Al-Qaida in the Arabian Peninsula (AQAP)'\n",
      " 'Al-Qaida in the Islamic Maghreb (AQIM)' 'Al-Shabaab'\n",
      " 'Albanian National Army (ANA)' 'Alex Boncayao Brigade (ABB)' 'Alfaro Vive'\n",
      " 'Algeisk Wolves' 'Algerian Islamic Extremists'\n",
      " \"All Burma Students' Democratic Front (ABSDF)\"\n",
      " 'Allied Democratic Forces (ADF)' 'America Battalion' 'Angry Brigade'\n",
      " 'Animal Liberation Front (ALF)' 'Ansar Allah' 'Ansar al-Din Front'\n",
      " 'Anti-Government Rebels' 'Anti-Imperialist Students Council'\n",
      " 'Anti-Narita Extremists' 'April 6th Liberation Movement'\n",
      " 'Armed Commandos of Liberation'\n",
      " 'Armed Forces of National Resistance (FARN)'\n",
      " 'Armed Forces of the Chechen Republic of Ichkeria'\n",
      " 'Armed Islamic Group (GIA)'\n",
      " 'Armed Revolutionary Independence Movement (MIRA)'\n",
      " 'Armed Revolutionary Nuclei (NAR)' 'Armenian Nationalists'\n",
      " 'Armenian Secret Army for the Liberation of Armenia' 'Army of God'\n",
      " 'Association for the Enhancement of the Justice of the Great Japan'\n",
      " 'Aum Shinri Kyo' 'Awami League'\n",
      " 'Azawad National Liberation Movement (MNLA)' 'Baader-Meinhof Group'\n",
      " 'Babbar Khalsa International (BKI)' 'Baloch Liberation Army (BLA)'\n",
      " 'Baloch Liberation Front (BLF)' 'Baloch Republican Army (BRA)'\n",
      " 'Bangladesh Nationalist Party (BNP)'\n",
      " 'Bangsamoro Islamic Freedom Movement (BIFM)'\n",
      " 'Barisan Revolusi Nasional (BRN)' 'Barqa Province of the Islamic State'\n",
      " 'Basque Fatherland and Freedom (ETA)' 'Black Berets'\n",
      " 'Black Liberation Army' 'Black Nationalists' 'Black Order'\n",
      " 'Black Panthers' 'Black September'\n",
      " 'Bloque Anti-Guerrillero de Oriente (BAGO)' 'Boko Haram'\n",
      " 'Bougainville Revolutionary Army (BRA)' 'Breton Liberation Front (FLB)'\n",
      " 'Brunswijk Jungle Commando' \"Cambodian People's Party (CPP)\"\n",
      " 'Caribbean Revolutionary Alliance (ARC)' 'Caucasus Emirate'\n",
      " 'Che Guevara Brigade' 'Chechen Lone Wolf Group' 'Chicano Liberation Front'\n",
      " 'Chondaehyop (Radical Student Coalition)' 'Chonson Univ. students'\n",
      " 'Chukakuha (Middle Core Faction)' 'Chukakuha Revolutionary Army'\n",
      " 'Cinchoneros Popular Liberation Movement' 'Combat 18'\n",
      " 'Commandos for A Popular alternative'\n",
      " 'Communist Party of India - Maoist (CPI-Maoist)'\n",
      " 'Communist Party of India- Marxist'\n",
      " 'Communist Party of Nepal- Maoist (CPN-M)' 'Conspiracy of Cells of Fire'\n",
      " 'Coordination of the United Revolutionary Organization (CORU)'\n",
      " 'Corsican National Liberation Front (FLNC)'\n",
      " 'Corsican National Liberation Front- Historic Channel'\n",
      " 'Cossack Separatists' 'Croatian Nationalists' \"Dagestani Shari'ah Jamaat\"\n",
      " 'Dainihon Yokuko Doshikai' 'Death Squad' 'Death to Kidnappers (MAS)'\n",
      " 'Death to Rustlers' 'Deccan Mujahideen' 'December 13 Independent Group'\n",
      " 'Democratic Front for the Liberation of Palestine (DFLP)'\n",
      " 'Democratic Front for the Liberation of Rwanda (FDLR)'\n",
      " 'Democratic Karen Buddhist Army (DKBA)' 'Democratic Progressive Party'\n",
      " 'Democratic Revolutionary Alliance (ARDE)'\n",
      " 'Democratic Revolutionary Party' 'Dev Sol'\n",
      " 'Devrimici Halk Kurtulus Cephesi (DHKP/C)'\n",
      " 'Dissident Military Mmbrs of Northern Tribal Group'\n",
      " 'Dissident Republicans'\n",
      " 'Do-or-Die Corps for the Abolition of Anti-Public Taxation Systems'\n",
      " 'Earth Liberation Front (ELF)' 'East Asia Anti Japanese Armed Front'\n",
      " 'Eastern Turkistan Islamic Movement (ETIM)'\n",
      " 'Ejercito Revolucionaria del Pueblo (ERP) (Argentina)'\n",
      " 'Ejercito de Liberacion Nacional (Bolivia)' 'Eritrean Liberation Front'\n",
      " 'Ex-Somoza National Guard' 'Extraparliamentary Opposition (APO)'\n",
      " 'Farabundo Marti National Liberation Front (FMLN)'\n",
      " 'February 28 Popular League (El Salvador)'\n",
      " 'First of October Antifascist Resistance Group (GRAPO)' 'Forest Brothers'\n",
      " 'Free Aceh Movement (GAM)' \"Free Galician People's Guerrilla Army\"\n",
      " 'Free Papua Movement (OPM-Organisasi Papua Merdeka)' 'Free Syrian Army'\n",
      " 'Front for the Liberation of Lebanon from Foreigners'\n",
      " 'Front for the Liberation of the Enclave of Cabinda (FLEC)'\n",
      " 'Fuerzas Armadas de Liberacion Nacional (FALN)'\n",
      " 'Garo National Liberation Army' 'George Jackson Brigade'\n",
      " 'Great Japan Patriotic Party' 'Greek Bulgarian Armenian Front'\n",
      " 'Guadalcanal Liberation Army' 'Guatemalan Communist Party'\n",
      " 'Guatemalan Labor Party (PGT)'\n",
      " 'Guatemalan National Revolutionary Unity (URNG)'\n",
      " 'Guerrilla Army of the Poor (EGP)' 'Hamas (Islamic Resistance Movement)'\n",
      " 'Hanchongryun' 'Haqqani Network' 'Harkatul Jihad-e-Islami' 'Hezbollah'\n",
      " 'Hiroyuki Jo' 'Hizb al-Tahrir al-Islami (HT)' 'Hizb-I-Islami'\n",
      " 'Hizbul Mujahideen (HM)' 'Hotaru (Firefly)'\n",
      " 'Independent Armed Revolutionary Commandos (CRIA)'\n",
      " 'Individuals Tending Toward Savagery' 'Informal Anarchist Federation'\n",
      " 'Inkatha Freedom Party (IFP)' 'Institutional Revolutionary Party (PRI)'\n",
      " 'Internationalist Cells' 'Iparretarrak (IK)'\n",
      " 'Irish National Liberation Army (INLA)' 'Irish Republican Army (IRA)'\n",
      " 'Irish Republican Extremists' 'Isatabu Freedom Movement (IFM)'\n",
      " 'Islambouli Brigades of al-Qaida' 'Islamic Jihad Group (IJG)'\n",
      " 'Islamic Jihad Union (Uzbekistan)' 'Islamic Movement of Uzbekistan (IMU)'\n",
      " 'Islamic Salvation Front (FIS)' 'Islamic State of Iraq (ISI)'\n",
      " 'Islamic State of Iraq and the Levant (ISIL)'\n",
      " 'Islamic Unification Movement' 'Issui Kai' 'Jamaah Ansharut Tauhid (JAT)'\n",
      " 'Jamaat-E-Islami (Bangladesh)' 'Jamaat-E-Islami (India/Pakistan)'\n",
      " 'Jamaica Labor Party'\n",
      " 'Janatantrik Terai Mukti Morcha- Jwala Singh (JTMM-J)' 'Janjaweed'\n",
      " 'Japan National Youth Alliance'\n",
      " \"Japan Socialist Youth League of the Revolutionary Workers' Association\"\n",
      " 'Japanese Independence Patriotic Party' 'Japanese Red Army (JRA)'\n",
      " 'Jemaah Islamiya (JI)' 'Jewish Armed Resistance'\n",
      " 'Jewish Defense League (JDL)' 'Jewish Extremists'\n",
      " 'Jonathan Jackson Brigade' 'Jundallah'\n",
      " 'Justice Army for Defenseless Peoples'\n",
      " 'Justice Commandos for the Armenian Genocide'\n",
      " 'Justice and Equality Movement (JEM)' 'Kachin Independence Army (KIA)'\n",
      " 'Kanak Separatists' 'Kanak Socialist National Liberation Front'\n",
      " 'Karen National Union' 'Karenni National Progressive Party'\n",
      " \"Kata'ib al-Khoul\" 'Khasi Students Union' 'Khmer Rouge'\n",
      " 'Khorasan Chapter of the Islamic State' 'Korean Youth League'\n",
      " 'Kosovo Liberation Army (KLA)' 'Ku Klux Klan' 'Kuki Tribal Militants'\n",
      " 'Kurdish Democratic Party-Iraq (KDP)' \"Kurdistan Workers' Party (PKK)\"\n",
      " 'Kyongbuk University Dental College Students' 'Lashkar-e-Islam (Pakistan)'\n",
      " 'Lashkar-e-Jhangvi' 'Lashkar-e-Taiba (LeT)' 'League of Communists'\n",
      " 'Liberation Army for Presevo, Medvedja and Bujanovac (UCPMB)'\n",
      " 'Liberation Tigers of Tamil Eelam (LTTE)' \"Lord's Resistance Army (LRA)\"\n",
      " 'Lorenzo Zelaya Revolutionary Front (LZRF)' 'Lufa Tribesmen'\n",
      " 'M-19 (Movement of April 19)' 'Macheteros' 'Makhachkala Gang'\n",
      " 'Mano Blanca' 'Manuel Rodriguez Patriotic Front (FPMR)'\n",
      " 'Maoist Communist Center (MCC)' 'Maruseido (Marxist Youth League)'\n",
      " 'Maximiliano Gomez Revolutionary Brigade'\n",
      " 'Maximiliano Hernandez Martinez Brigade' 'Mayi Mayi'\n",
      " 'Militant Peasants (NFI)' 'Miskito Indian Organization'\n",
      " 'Misurasata Indian Organization' 'Montoneros (Argentina)'\n",
      " 'Moro Islamic Liberation Front (MILF)'\n",
      " 'Moro National Liberation Front (MNLF)'\n",
      " 'Movement for Oneness and Jihad in West Africa (MUJAO)'\n",
      " 'Movement for Triqui Unification and Struggle'\n",
      " 'Movement for the Emancipation of the Niger Delta (MEND)'\n",
      " 'Movement of Democratic Forces of Casamance'\n",
      " 'Movement of the Revolutionary Left (MIR) (Chile)'\n",
      " 'Movement of the Revolutionary Left (MIR) (Peru)'\n",
      " 'Mozambique National Resistance Movement (MNR)' 'Mujahedin-e Khalq (MEK)'\n",
      " 'Mujahidin Indonesia Timur (MIT)' 'Muslim Brotherhood'\n",
      " 'Muttahida Qami Movement (MQM)' 'NVF' 'Namchong-Nyon Students'\n",
      " 'Nara Red Army' 'National Anti Communist Commando'\n",
      " 'National Army for the Liberation of Uganda (NALU)'\n",
      " 'National Committee Against Independence (CNCI)'\n",
      " 'National Defense Youth Corps'\n",
      " 'National Democratic Front of Bodoland (NDFB)'\n",
      " 'National League for Democracy' 'National Liberation Army (Ecuador)'\n",
      " 'National Liberation Army (NLA) (Macedonia)'\n",
      " 'National Liberation Army of Colombia (ELN)'\n",
      " 'National Liberation Front (FNL) (Burundi)'\n",
      " 'National Liberation Front of Tripura (NLFT)'\n",
      " 'National Organization of Cypriot Fighters (EOKA)'\n",
      " 'National Resistance Movement (NRM)'\n",
      " 'National Socialist Civic Workers Movement'\n",
      " 'National Union for the Total Independence of Angola (UNITA)' 'Naxalites'\n",
      " 'New Order' \"New People's Army (NPA)\" 'New World Liberation Front (NWLF)'\n",
      " 'Nicaraguan Democratic Force (FDN)' 'Nicaraguan Resistance'\n",
      " 'North Korean involvement commandos'\n",
      " 'November 17 Revolutionary Organization (N17RO)'\n",
      " \"Odua Peoples' Congress (OPC)\" 'Official Irish Republican Army (OIRA)'\n",
      " 'Omega-7' 'Oromo Liberation Front' 'Pacific Popular Front'\n",
      " \"Pakistani People's Party (PPP)\" 'Palestine Liberation Organization (PLO)'\n",
      " 'Palestinian Islamic Jihad (PIJ)' 'Pan Africanist Congress (PAC)'\n",
      " \"Paraguayan People's Army (EPP)\"\n",
      " 'Party for the Liberation of the Hutu People (PALIPEHUTU)'\n",
      " 'Patriotic Morazanista Front (FPM)'\n",
      " 'Patriotic Resistance Front in Ituri (FRPI)'\n",
      " 'Pattani United Liberation Organization (PULO)' 'Paupa New Guinea Troops'\n",
      " 'Peasant Self-Defense Group (ACCU)' \"People's Democratic Army\"\n",
      " \"People's Democratic Party (PDP)\" \"People's Liberation Army (India)\"\n",
      " \"People's Liberation Forces (FPL)\" \"People's Liberation Front (JVP)\"\n",
      " \"People's Revolutionary Army (ERP) (El Salvador)\"\n",
      " \"People's Revolutionary Organization\" \"People's War Group (PWG)\"\n",
      " 'Popular Forces of April 25'\n",
      " 'Popular Front for the Liberation of Palestine (PFLP)'\n",
      " 'Popular Front for the Liberation of Palestine, Gen Cmd (PFLP-GC)'\n",
      " 'Popular Liberation Army (EPL)' 'Popular Militia (Colombia)'\n",
      " 'Popular Revolutionary Army (Mexico)' 'Popular Revolutionary Bloc (BPR)'\n",
      " 'Prima Linea' 'Pro Hartal Activists' 'Puerto Rican Nationalists'\n",
      " 'Real Irish Republican Army (RIRA)'\n",
      " 'Rebel Armed Forces of Guatemala (FAR)' 'Recontras'\n",
      " 'Red Army Faction (RAF)' 'Red Brigades' 'Red Flag (Venezuela)'\n",
      " 'Red Hand Commandos' 'Reform of the Armed Forces Movement'\n",
      " 'Republic of New Afrika' 'Republican Action Force'\n",
      " 'Revolutionary Armed Forces of Colombia (FARC)' 'Revolutionary Army'\n",
      " 'Revolutionary Cells' 'Revolutionary Cells Network (SRN)'\n",
      " 'Revolutionary Force'\n",
      " 'Revolutionary Front for Hatian Advancement and Progress (FRAPH)'\n",
      " 'Revolutionary Organization of People in Arms (ORPA)'\n",
      " 'Revolutionary Patriotic Anti-Fascist Front (FRAP)'\n",
      " \"Revolutionary People's Struggle (ELA)\" 'Revolutionary United Front (RUF)'\n",
      " 'Revolutionary Workers Party' \"Revolutionary Workers' Council (Kakurokyo)\"\n",
      " 'Ricardo Franco Front (Dissident FARC)'\n",
      " 'Riyadus-Salikhin Reconnaissance and Sabotage Battalion of Chechen Martyrs'\n",
      " 'Rizvon Sadirov Group' 'Rodrigo Franco Command'\n",
      " 'Runda Kumpulan Kecil (RKK)'\n",
      " 'Salafist Group for Preaching and Fighting (GSPC)'\n",
      " 'Sanaa Province of the Islamic State'\n",
      " 'Sandinista National Liberation Front (FSLN)' 'Sandval (union) Movement'\n",
      " 'Sayfullakh' 'Secret Anti-Communist Army (ESA)'\n",
      " 'Secret Organization of al-Qaida in Europe' 'Seiji Kesha Kokuyukai'\n",
      " 'Seikijuku' 'Sekihotai' 'Seleka' 'Senki (\"Battle Flag\")'\n",
      " 'September 11 Commandos' 'Shan State Army - North (SSA-N)'\n",
      " 'Shanti Bahini - Peace Force' 'Shining Path (SL)' 'Shonkonjuku Group'\n",
      " 'Simon Bolivar Guerrilla Coordinating Board (CGSB)'\n",
      " 'Sinai Province of the Islamic State' 'Soldiers of the Caliphate'\n",
      " 'South Ossetian Extremists' 'South Ossetian Separatists'\n",
      " \"South-West Africa People's Organization (SWAPO)\"\n",
      " 'Special Purpose Islamic Regiment (SPIR)' 'Sudan Liberation Movement'\n",
      " \"Sudan People's Liberation Army (SPLA)\"\n",
      " \"Sudan People's Liberation Movement - North\"\n",
      " \"Sudan People's Liberation Movement in Opposition (SPLM-IO)\"\n",
      " 'Supporters of Ex-President Gamsakhurdial'\n",
      " 'Syrian Social Nationalist Party' 'Taihikai (Great Sadness)'\n",
      " 'Taikosha, right wing group' 'Taliban' 'Tamil Nadu Liberation Army'\n",
      " 'Tawhid and Jihad' 'Tehrik-i-Taliban Pakistan (TTP)' 'Terra Lliure'\n",
      " 'Thai Islamic Militants' 'The Extraditables' 'The Justice Department'\n",
      " 'Tigray Peoples Liberation Front (TPLF)' 'Tolib Ayombekov loyalists'\n",
      " 'Tripoli Province of the Islamic State'\n",
      " 'Tupac Amaru Revolutionary Movement (MRTA)'\n",
      " 'Tupac Katari Guerrilla Army (EGTK)' 'Tupamaros (Uruguay)'\n",
      " 'Turkestan Islamic Party' 'Turkish Communist Party/Marxist (TKP-ML)'\n",
      " 'Uganda Freedom Movement (UFM)' 'Uighur Liberation Organization'\n",
      " 'Ukrainian Nationalist Group' 'Ulster Freedom Fighters (UFF)'\n",
      " 'Ulster Volunteer Force (UVF)' 'Union Guerrera Blanca (UGB)'\n",
      " 'Union of Congolese Patriots (UPC)' 'Union of the People (UDP)'\n",
      " 'United Baloch Army (UBA)' 'United Freedom Front (UFF)'\n",
      " 'United Front for Democracy Against Dictatorship'\n",
      " 'United Liberation Front of Assam (ULFA)'\n",
      " 'United Popular Action Front (FAPU)' 'United Popular Action Movement'\n",
      " 'United Self Defense Units of Colombia (AUC)' 'Vanuatu Mobile Force (VMF)'\n",
      " 'Vietnamese Organization to Exterminate Communists and Restore the Nation'\n",
      " 'Vigilante Group' 'Weather Underground, Weathermen'\n",
      " 'White Legion (Georgia)' \"Workers' Self-Defense Movement (MAO)\"\n",
      " 'Yamaguchi-Gumi Gang' 'Yekbun' 'Yokoku Seiwa-Kai'\n",
      " 'Zapatista National Liberation Army' 'Zebra killers'\n",
      " 'Zimbabwe African Nationalist Union (ZANU)' 'Zviadists']\n",
      "[   4   15   44   17   21   11   38  349   53  530  158   52  259    5    8\n",
      "  155   50  581  533  179 1360    4   11   25    1  248    5  120    4    3\n",
      "  113    1    2    7    1    2   30   12   37    9  212   30   20    3  176\n",
      "   23    1    7   26   18   51   10  117   73  238   68  147   10   59 1905\n",
      "    3   28   71    6   24   49    1 1700   21   32   27    3   25   39   13\n",
      "    2   30    1    1   60    1   18    2    4 1612    8   19   52   14  627\n",
      "  128    2   34    5    1  325   18    3    8    3   34   64   18    1   29\n",
      "   11  233   34    1   66    1   72   12    8   77    3   18   11    6 2129\n",
      "   15  197    2  105   47   29   43   12   14  117  136   17    1    1    1\n",
      "    2   21   96  124  313    1   64   14  253    1    2   30  105    1   19\n",
      "    2   39   30   14    3   55   91 1887   89    1    5    3    2    3  149\n",
      "  143 2381    3    1    8   60   10    2   72  167    1    1    1    8   73\n",
      "   19   82   27    1   31    1   44   17   24    4    5   84    3    2    4\n",
      "  148   63    1   41   20    5    4 1280    1   87   99  111    2    3 1087\n",
      "  256   36    1  436   31    3    5  799   33    2   14    7   28    2    3\n",
      "   14  102  315  166   33    1   77   61  305    7  212   93   15   93  144\n",
      "    4    1    1    3    2    2    1  157    2    3   34 1236   27   69    5\n",
      "    3    2  383   66    2 1508   85  317  118    1  106    3   19   54    8\n",
      "    1    8   78  169    5   52   36   24   26   47    1   21    4    4   44\n",
      "  153  377   63   14   91   46  134    7  215   15   13   36   58   91   23\n",
      "   39   26   56   53  212   21    9    8    2    6 2039    1   50    3    1\n",
      "    4   82   45   84   54   10   20   39   10    2   15  107  139   27  160\n",
      "    1    1   19    4    1    3    2   28    5    2    3   86 4135    1  166\n",
      "  123    2    1   10   55    1   12   38   39   24    7    5    1    1 4762\n",
      "    6   42  991   61   47  108   16   10    1  128  522   22   40    2   28\n",
      "   18    1    5  231  241   14    2   21   70   22   23  292   13  108   64\n",
      "    2    3   25   42    3   15    1    1    1   23   20   21    1]\n"
     ]
    }
   ],
   "source": [
    "print(unique_groups)\n",
    "print(group_counts)"
   ]
  },
  {
   "cell_type": "code",
   "execution_count": 21,
   "metadata": {
    "collapsed": false
   },
   "outputs": [
    {
     "name": "stdout",
     "output_type": "stream",
     "text": [
      "[[ 0.0952381   0.14285714  0.          0.19047619]\n",
      " [ 0.          0.          0.          0.4       ]\n",
      " [ 0.          0.          0.          0.5       ]\n",
      " ..., \n",
      " [ 0.          0.          0.          0.        ]\n",
      " [ 0.2         0.          0.          0.4       ]\n",
      " [ 0.          0.          0.          0.        ]]\n",
      "[[  1.46484127e-01  -1.61596277e-03  -2.62837449e-01   3.10350341e-01]\n",
      " [ -4.16922431e-01  -6.66835455e-01  -2.62837449e-01   1.31512654e+00]\n",
      " [ -4.16922431e-01  -6.66835455e-01  -2.62837449e-01   1.79467882e+00]\n",
      " ..., \n",
      " [ -4.16922431e-01  -6.66835455e-01  -2.62837449e-01  -6.03082569e-01]\n",
      " [  7.66231341e-01  -6.66835455e-01  -2.62837449e-01   1.31512654e+00]\n",
      " [ -4.16922431e-01  -6.66835455e-01  -2.62837449e-01  -6.03082569e-01]]\n"
     ]
    },
    {
     "name": "stderr",
     "output_type": "stream",
     "text": [
      "D:\\Users\\Avradip\\Anaconda3\\lib\\site-packages\\ipykernel\\__main__.py:3: FutureWarning: comparison to `None` will result in an elementwise object comparison in the future.\n",
      "  app.launch_new_instance()\n"
     ]
    }
   ],
   "source": [
    "dimension_arr = None # This should be a NumPy array \n",
    "for key_tup in group_dict:\n",
    "    if dimension_arr == None:\n",
    "        dimension_arr = np.asarray(group_dict[key_tup]) # First iteration, create the array\n",
    "    else:\n",
    "        dimension_arr = np.vstack((dimension_arr, group_dict[key_tup]))\n",
    "\n",
    "print(dimension_arr)\n",
    "from sklearn import preprocessing\n",
    "dim_arr_scaled = preprocessing.scale(dimension_arr)\n",
    "print(dim_arr_scaled)"
   ]
  },
  {
   "cell_type": "code",
   "execution_count": 22,
   "metadata": {
    "collapsed": false
   },
   "outputs": [
    {
     "name": "stdout",
     "output_type": "stream",
     "text": [
      "403\n",
      "403\n",
      "403\n"
     ]
    }
   ],
   "source": [
    "from sklearn.cluster import KMeans\n",
    "import numpy as np\n",
    "k=5\n",
    "kmeans = KMeans(n_clusters=k,random_state=0).fit(dimension_arr)\n",
    "\n",
    "print(len(group_dict))\n",
    "print(len(group_dict.keys()))\n",
    "print(len(kmeans.labels_))\n",
    "#rint(group_dict.keys())\n",
    "#rint(kmeans.labels_)\n",
    "#i = 0\n",
    "#for key_tup in group_dict:\n",
    "#    group_dict[(key_tup[0],kmeans.labels_[i])] = group_dict.pop(key_tup) \n",
    "#    i += 1\n",
    "\n",
    "#rint(group_dict)"
   ]
  },
  {
   "cell_type": "code",
   "execution_count": 23,
   "metadata": {
    "collapsed": false
   },
   "outputs": [
    {
     "name": "stdout",
     "output_type": "stream",
     "text": [
      "403\n",
      "403\n",
      "(403, 4)\n"
     ]
    }
   ],
   "source": [
    "\n",
    "print(len(group_dict))\n",
    "print(len(kmeans.labels_))\n",
    "print(dim_arr_scaled.shape)\n",
    "\n",
    "result_dict = {}\n",
    "for i in range(k):\n",
    "    result_dict[i] = []\n",
    "\n",
    "i = 0\n",
    "for key_tup in group_dict:\n",
    "    if i == 403:\n",
    "        print(\"Wtf!\" + str(group_dict[key_tup]))\n",
    "        break\n",
    "    #print(key_tup)\n",
    "    #print(i)\n",
    "    #print(group_dict[key_tup])\n",
    "    #print(kmeans.labels_[i])\n",
    "    result_dict[kmeans.labels_[i]].append(key_tup[0]) \n",
    "    i += 1\n",
    "    "
   ]
  },
  {
   "cell_type": "code",
   "execution_count": 24,
   "metadata": {
    "collapsed": false
   },
   "outputs": [
    {
     "name": "stdout",
     "output_type": "stream",
     "text": [
      "{0: ['Bougainville Revolutionary Army (BRA)', 'Kanak Separatists', 'Animal Liberation Front (ALF)', 'Croatian Nationalists', 'Free Papua Movement (OPM-Organisasi Papua Merdeka)', 'National Committee Against Independence (CNCI)', 'Combat 18', 'Greek Bulgarian Armenian Front', 'Guadalcanal Liberation Army', 'Lufa Tribesmen', 'Pacific Popular Front', 'Palestine Liberation Organization (PLO)', 'Paupa New Guinea Troops', 'Zapatista National Liberation Army', 'Nicaraguan Democratic Force (FDN)', 'Sandinista National Liberation Front (FSLN)', \"People's Liberation Forces (FPL)\", 'Guerrilla Army of the Poor (EGP)', 'Nicaraguan Resistance', 'Death Squad', 'Revolutionary Organization of People in Arms (ORPA)', \"People's Revolutionary Army (ERP) (El Salvador)\", 'Lorenzo Zelaya Revolutionary Front (LZRF)', 'Democratic Revolutionary Alliance (ARDE)', 'Rebel Armed Forces of Guatemala (FAR)', 'Patriotic Morazanista Front (FPM)', 'Caribbean Revolutionary Alliance (ARC)', 'Guatemalan Labor Party (PGT)', 'Recontras', 'Secret Anti-Communist Army (ESA)', 'Cinchoneros Popular Liberation Movement', '20 December Movement (M-20)', 'Misurasata Indian Organization', 'Union Guerrera Blanca (UGB)', 'United Popular Action Front (FAPU)', \"People's Democratic Army\", 'Forest Brothers', 'Soldiers of the Caliphate', 'Algeisk Wolves', 'Hizb al-Tahrir al-Islami (HT)', 'Sandval (union) Movement', 'Tolib Ayombekov loyalists', 'Uighur Liberation Organization', 'Yekbun', 'Chukakuha (Middle Core Faction)', \"Revolutionary Workers' Council (Kakurokyo)\", 'East Asia Anti Japanese Armed Front', 'Eastern Turkistan Islamic Movement (ETIM)', 'Aum Shinri Kyo', 'Senki (\"Battle Flag\")', 'Seikijuku', 'League of Communists', 'Maruseido (Marxist Youth League)', 'Sekihotai', 'Anti-Imperialist Students Council', 'Anti-Narita Extremists', 'Association for the Enhancement of the Justice of the Great Japan', 'Chondaehyop (Radical Student Coalition)', 'Chonson Univ. students', 'Chukakuha Revolutionary Army', 'Dainihon Yokuko Doshikai', 'Democratic Progressive Party', 'Do-or-Die Corps for the Abolition of Anti-Public Taxation Systems', 'Great Japan Patriotic Party', 'Hanchongryun', 'Hiroyuki Jo', 'Hotaru (Firefly)', 'Issui Kai', 'Japan National Youth Alliance', \"Japan Socialist Youth League of the Revolutionary Workers' Association\", 'Japanese Independence Patriotic Party', 'Korean Youth League', 'Kyongbuk University Dental College Students', 'Namchong-Nyon Students', 'Nara Red Army', 'National Defense Youth Corps', 'Revolutionary Army', 'Revolutionary Force', 'Seiji Kesha Kokuyukai', 'Shonkonjuku Group', 'Taikosha, right wing group', 'Yamaguchi-Gumi Gang', 'Yokoku Seiwa-Kai', 'Kosovo Liberation Army (KLA)', \"Dagestani Shari'ah Jamaat\", 'Albanian National Army (ANA)', 'Ukrainian Nationalist Group', 'Armenian Nationalists', 'Black Berets', 'December 13 Independent Group', 'Extraparliamentary Opposition (APO)', 'Internationalist Cells', 'Liberation Army for Presevo, Medvedja and Bujanovac (UCPMB)', 'Makhachkala Gang', 'Red Army Faction (RAF)', 'Revolutionary Cells Network (SRN)', \"Kurdistan Workers' Party (PKK)\", 'Al-Qaida in the Arabian Peninsula (AQAP)', 'Hamas (Islamic Resistance Movement)', \"Al-Gama'at al-Islamiyya (IG)\", 'Algerian Islamic Extremists', 'Hezbollah', 'Dev Sol', 'Armed Islamic Group (GIA)', 'Palestinian Islamic Jihad (PIJ)', 'Al-Aqsa Martyrs Brigade', 'Islamic Salvation Front (FIS)', 'Islamic State of Iraq (ISI)', 'Salafist Group for Preaching and Fighting (GSPC)', 'Al-Qaida in the Islamic Maghreb (AQIM)', 'Sinai Province of the Islamic State', 'Popular Front for the Liberation of Palestine (PFLP)', 'Muslim Brotherhood', 'Mujahedin-e Khalq (MEK)', 'Barqa Province of the Islamic State', 'New World Liberation Front (NWLF)', 'Jewish Defense League (JDL)', 'Earth Liberation Front (ELF)', 'Black Nationalists', 'Omega-7', '23rd of September Communist League', 'Weather Underground, Weathermen', 'Macheteros', 'Chicano Liberation Front', 'Black Liberation Army', 'Black Panthers', 'Army of God', 'United Freedom Front (UFF)', 'Ku Klux Klan', 'Independent Armed Revolutionary Commandos (CRIA)', 'George Jackson Brigade', 'Jewish Armed Resistance', 'Shining Path (SL)', 'Revolutionary Armed Forces of Colombia (FARC)', 'Manuel Rodriguez Patriotic Front (FPMR)', 'M-19 (Movement of April 19)', 'Movement of the Revolutionary Left (MIR) (Chile)', 'Simon Bolivar Guerrilla Coordinating Board (CGSB)', 'United Popular Action Movement', 'Montoneros (Argentina)', \"Paraguayan People's Army (EPP)\", 'Tupamaros (Uruguay)', 'Ricardo Franco Front (Dissident FARC)', 'Brunswijk Jungle Commando', 'Alfaro Vive', 'Tupac Katari Guerrilla Army (EGTK)', 'Death to Kidnappers (MAS)', 'Rodrigo Franco Command', \"People's Revolutionary Organization\", 'Taliban', 'Communist Party of India - Maoist (CPI-Maoist)', 'Liberation Tigers of Tamil Eelam (LTTE)', 'Tehrik-i-Taliban Pakistan (TTP)', \"People's Liberation Front (JVP)\", 'United Liberation Front of Assam (ULFA)', 'Baloch Republican Army (BRA)', 'National Democratic Front of Bodoland (NDFB)', 'Baloch Liberation Army (BLA)', 'Lashkar-e-Taiba (LeT)', 'Hizbul Mujahideen (HM)', 'Lashkar-e-Jhangvi', \"People's War Group (PWG)\", 'Pro Hartal Activists', 'Lashkar-e-Islam (Pakistan)', 'Shanti Bahini - Peace Force', 'Baloch Liberation Front (BLF)', 'Naxalites', \"New People's Army (NPA)\", 'Moro Islamic Liberation Front (MILF)', 'Moro National Liberation Front (MNLF)', 'Bangsamoro Islamic Freedom Movement (BIFM)', 'Free Aceh Movement (GAM)', 'Karen National Union', 'Thai Islamic Militants', 'April 6th Liberation Movement', 'Kachin Independence Army (KIA)', 'Democratic Karen Buddhist Army (DKBA)', 'Mujahidin Indonesia Timur (MIT)', 'Alex Boncayao Brigade (ABB)', 'Al-Khobar', 'Jamaah Ansharut Tauhid (JAT)', 'Reform of the Armed Forces Movement', 'Al-Shabaab', 'African National Congress (South Africa)', 'Mozambique National Resistance Movement (MNR)', 'Movement of Democratic Forces of Casamance', \"South-West Africa People's Organization (SWAPO)\", \"Sudan People's Liberation Army (SPLA)\", 'Party for the Liberation of the Hutu People (PALIPEHUTU)', 'Inkatha Freedom Party (IFP)', 'Movement for Oneness and Jihad in West Africa (MUJAO)', 'Zimbabwe African Nationalist Union (ZANU)', 'Azawad National Liberation Movement (MNLA)', 'Uganda Freedom Movement (UFM)', 'Basque Fatherland and Freedom (ETA)', 'Irish Republican Army (IRA)', 'Ulster Volunteer Force (UVF)', 'Ulster Freedom Fighters (UFF)', 'Red Brigades', 'First of October Antifascist Resistance Group (GRAPO)', 'Armenian Secret Army for the Liberation of Armenia', 'November 17 Revolutionary Organization (N17RO)', 'Irish National Liberation Army (INLA)', \"Revolutionary People's Struggle (ELA)\", 'Irish Republican Extremists', 'Dissident Republicans', 'Terra Lliure', 'Prima Linea', 'Iparretarrak (IK)', 'Action Directe', 'Revolutionary Cells', \"Free Galician People's Guerrilla Army\", 'Revolutionary Patriotic Anti-Fascist Front (FRAP)', 'Real Irish Republican Army (RIRA)', 'Ex-Somoza National Guard', 'Coordination of the United Revolutionary Organization (CORU)', 'Maximiliano Hernandez Martinez Brigade', 'Revolutionary Front for Hatian Advancement and Progress (FRAPH)', 'Bloque Anti-Guerrillero de Oriente (BAGO)', 'Justice Commandos for the Armenian Genocide', 'Sayfullakh', 'Free Syrian Army', 'Front for the Liberation of Lebanon from Foreigners', 'Popular Revolutionary Army (Mexico)', 'Vietnamese Organization to Exterminate Communists and Restore the Nation', 'Individuals Tending Toward Savagery', 'Militant Peasants (NFI)', 'Republic of New Afrika', 'Justice Army for Defenseless Peoples', 'Movement for Triqui Unification and Struggle', 'Commandos for A Popular alternative', 'National Socialist Civic Workers Movement', 'Khorasan Chapter of the Islamic State', 'Communist Party of Nepal- Maoist (CPN-M)', 'Jundallah', 'Vigilante Group', 'North Korean involvement commandos', 'National Resistance Movement (NRM)', 'Dissident Military Mmbrs of Northern Tribal Group', 'Black September', 'Armed Revolutionary Nuclei (NAR)', 'Official Irish Republican Army (OIRA)', 'Abu Nidal Organization (ANO)', 'Black Order', 'Republican Action Force', 'Popular Front for the Liberation of Palestine, Gen Cmd (PFLP-GC)', 'New Order', 'National Anti Communist Commando', 'Guatemalan Communist Party', 'Jamaica Labor Party', 'Cossack Separatists', \"Kata'ib al-Khoul\", 'Al-Fatah', 'Devrimici Halk Kurtulus Cephesi (DHKP/C)', 'Democratic Front for the Liberation of Palestine (DFLP)', 'Turkish Communist Party/Marxist (TKP-ML)', 'Jewish Extremists', 'Che Guevara Brigade', 'Movement of the Revolutionary Left (MIR) (Peru)', 'Jamaat-E-Islami (Bangladesh)', 'Hizb-I-Islami', 'Awami League', 'Jamaat-E-Islami (India/Pakistan)', 'Babbar Khalsa International (BKI)', 'Communist Party of India- Marxist', \"Pakistani People's Party (PPP)\", 'Khasi Students Union', 'Karenni National Progressive Party', 'National League for Democracy', 'Oromo Liberation Front', 'Al-Ittihaad al-Islami (AIAI)', 'Pan Africanist Congress (PAC)', \"Odua Peoples' Congress (OPC)\", 'Union of Congolese Patriots (UPC)', 'Breton Liberation Front (FLB)', 'Red Hand Commandos', 'Angry Brigade'], 1: ['Kanak Socialist National Liberation Front', 'September 11 Commandos', 'Anti-Government Rebels', 'Vanuatu Mobile Force (VMF)', 'Armed Forces of National Resistance (FARN)', 'Popular Revolutionary Bloc (BPR)', 'February 28 Popular League (El Salvador)', 'Supporters of Ex-President Gamsakhurdial', 'White Legion (Georgia)', 'South Ossetian Extremists', 'Japanese Red Army (JRA)', 'Taihikai (Great Sadness)', 'NVF', 'Tripoli Province of the Islamic State', 'National Liberation Army of Colombia (ELN)', 'Popular Liberation Army (EPL)', 'Ejercito Revolucionaria del Pueblo (ERP) (Argentina)', 'United Self Defense Units of Colombia (AUC)', 'Red Flag (Venezuela)', \"Workers' Self-Defense Movement (MAO)\", 'Garo National Liberation Army', 'Janatantrik Terai Mukti Morcha- Jwala Singh (JTMM-J)', 'National Liberation Front of Tripura (NLFT)', 'Abu Sayyaf Group (ASG)', \"Lord's Resistance Army (LRA)\", 'Janjaweed', 'Movement for the Emancipation of the Niger Delta (MEND)', 'Democratic Front for the Liberation of Rwanda (FDLR)', 'Revolutionary United Front (RUF)', 'Mayi Mayi', 'Seleka', 'Patriotic Resistance Front in Ituri (FRPI)', 'Jonathan Jackson Brigade', 'America Battalion', 'Justice and Equality Movement (JEM)', 'Tigray Peoples Liberation Front (TPLF)', 'Mano Blanca', 'Miskito Indian Organization', 'Kurdish Democratic Party-Iraq (KDP)', 'Ejercito de Liberacion Nacional (Bolivia)', 'Kuki Tribal Militants', 'Eritrean Liberation Front', 'Front for the Liberation of the Enclave of Cabinda (FLEC)', 'Sudan Liberation Movement', 'National Army for the Liberation of Uganda (NALU)', 'National Organization of Cypriot Fighters (EOKA)'], 2: ['Isatabu Freedom Movement (IFM)', 'Rizvon Sadirov Group', 'Zviadists', 'Chechen Lone Wolf Group', 'Special Purpose Islamic Regiment (SPIR)', 'Ansar al-Din Front', 'Deccan Mujahideen', 'National Liberation Army (Ecuador)', \"People's Democratic Party (PDP)\"], 3: ['Islamic Jihad Group (IJG)', 'Islamic Jihad Union (Uzbekistan)', 'Islamic Movement of Uzbekistan (IMU)', 'Riyadus-Salikhin Reconnaissance and Sabotage Battalion of Chechen Martyrs', 'Islambouli Brigades of al-Qaida', 'Haqqani Network', 'Ansar Allah', 'Tawhid and Jihad', 'Sanaa Province of the Islamic State', 'Al-Qaida', 'Secret Organization of al-Qaida in Europe', 'Syrian Social Nationalist Party'], 4: ['Informal Anarchist Federation', 'Farabundo Marti National Liberation Front (FMLN)', 'Guatemalan National Revolutionary Unity (URNG)', \"31 January People's Front (FP-31)\", 'Maximiliano Gomez Revolutionary Brigade', 'South Ossetian Separatists', '14 K Triad', 'Turkestan Islamic Party', 'Caucasus Emirate', 'National Liberation Army (NLA) (Macedonia)', 'Armed Forces of the Chechen Republic of Ichkeria', 'Islamic State of Iraq and the Levant (ISIL)', 'Al-Qaida in Iraq', 'Al-Nusrah Front', 'Fuerzas Armadas de Liberacion Nacional (FALN)', 'Armed Revolutionary Independence Movement (MIRA)', 'Puerto Rican Nationalists', 'Union of the People (UDP)', 'Zebra killers', 'Tupac Amaru Revolutionary Movement (MRTA)', 'The Extraditables', 'Peasant Self-Defense Group (ACCU)', 'Popular Militia (Colombia)', 'Muttahida Qami Movement (MQM)', 'United Baloch Army (UBA)', 'Bangladesh Nationalist Party (BNP)', 'Khmer Rouge', 'Runda Kumpulan Kecil (RKK)', 'Jemaah Islamiya (JI)', 'Pattani United Liberation Organization (PULO)', 'United Front for Democracy Against Dictatorship', 'Barisan Revolusi Nasional (BRN)', 'Boko Haram', 'National Union for the Total Independence of Angola (UNITA)', 'Allied Democratic Forces (ADF)', \"Sudan People's Liberation Movement - North\", 'National Liberation Front (FNL) (Burundi)', \"Sudan People's Liberation Movement in Opposition (SPLM-IO)\", 'Corsican National Liberation Front (FLNC)', 'Corsican National Liberation Front- Historic Channel', 'Baader-Meinhof Group', 'Conspiracy of Cells of Fire', 'Popular Forces of April 25', 'Abdullah Azzam Brigades', 'Institutional Revolutionary Party (PRI)', 'Armed Commandos of Liberation', 'Democratic Revolutionary Party', 'Death to Rustlers', 'Maoist Communist Center (MCC)', 'Harkatul Jihad-e-Islami', \"Cambodian People's Party (CPP)\", 'Abu Hafs al-Masri Brigades', 'Revolutionary Workers Party', 'Islamic Unification Movement', 'The Justice Department', \"People's Liberation Army (India)\", 'Tamil Nadu Liberation Army', \"All Burma Students' Democratic Front (ABSDF)\", 'Shan State Army - North (SSA-N)']}\n"
     ]
    }
   ],
   "source": [
    "print(result_dict)"
   ]
  },
  {
   "cell_type": "code",
   "execution_count": 25,
   "metadata": {
    "collapsed": false
   },
   "outputs": [
    {
     "name": "stdout",
     "output_type": "stream",
     "text": [
      "[[  2.33944766e-02   6.19896155e-02   1.35845685e-02   5.70833026e-02]\n",
      " [  2.20695279e-01   7.88442607e-02   6.81051062e-03   4.99110058e-01]\n",
      " [  9.35185185e-01   2.22222222e-01   6.93889390e-18   8.51851852e-01]\n",
      " [  5.92237103e-02   3.15693893e-01   6.80872465e-01   1.05796131e-01]\n",
      " [  4.47865793e-02   5.27542303e-01   2.68681497e-02   5.04020793e-02]]\n"
     ]
    }
   ],
   "source": [
    "print(kmeans.cluster_centers_)"
   ]
  },
  {
   "cell_type": "code",
   "execution_count": 26,
   "metadata": {
    "collapsed": false
   },
   "outputs": [
    {
     "name": "stdout",
     "output_type": "stream",
     "text": [
      "['extended', 'multiple', 'suicide', 'ishostkid']\n"
     ]
    }
   ],
   "source": [
    "print(dimensions)"
   ]
  },
  {
   "cell_type": "code",
   "execution_count": null,
   "metadata": {
    "collapsed": true
   },
   "outputs": [],
   "source": []
  }
 ],
 "metadata": {
  "anaconda-cloud": {},
  "kernelspec": {
   "display_name": "Python [conda root]",
   "language": "python",
   "name": "conda-root-py"
  },
  "language_info": {
   "codemirror_mode": {
    "name": "ipython",
    "version": 3
   },
   "file_extension": ".py",
   "mimetype": "text/x-python",
   "name": "python",
   "nbconvert_exporter": "python",
   "pygments_lexer": "ipython3",
   "version": "3.5.2"
  }
 },
 "nbformat": 4,
 "nbformat_minor": 1
}
