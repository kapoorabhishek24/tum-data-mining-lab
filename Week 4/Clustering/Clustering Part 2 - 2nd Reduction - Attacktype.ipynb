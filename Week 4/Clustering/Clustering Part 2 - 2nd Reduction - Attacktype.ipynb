{
 "cells": [
  {
   "cell_type": "code",
   "execution_count": 1,
   "metadata": {
    "collapsed": false
   },
   "outputs": [
    {
     "name": "stdout",
     "output_type": "stream",
     "text": [
      "Loading DB...\n",
      "DB Read...\n"
     ]
    }
   ],
   "source": [
    "# Input the DB to Memory\n",
    "import pandas as pd\n",
    "import numpy as np\n",
    "print(\"Loading DB...\")\n",
    "dfs = pd.read_csv(\"terrorism_red_cat.csv\")\n",
    "print(\"DB Read...\")\n",
    "#print(data_file.sheet_names)\n",
    "#dfs = data_file.parse(data_file.sheet_names[0])\n",
    "#print(\"DB Parsed...\")\n",
    "del(dfs['Unnamed: 0'])"
   ]
  },
  {
   "cell_type": "markdown",
   "metadata": {},
   "source": [
    " ['weaptype1_txt_Biological', 'weaptype1_txt_Chemical', 'weaptype1_txt_Explosives/Bombs/Dynamite', 'weaptype1_txt_Fake Weapons', \n",
    "    'weaptype1_txt_Firearms', 'weaptype1_txt_Incendiary', 'weaptype1_txt_Melee', 'weaptype1_txt_Sabotage Equipment', \n",
    "    'weaptype1_txt_Vehicle (not to include vehicle-borne explosives, i.e., car or truck bombs)', 'attacktype1_txt_Armed Assault',\n",
    "    'attacktype1_txt_Assassination', 'attacktype1_txt_Bombing/Explosion', 'attacktype1_txt_Facility/Infrastructure Attack', \n",
    "    'attacktype1_txt_Hijacking', 'attacktype1_txt_Hostage Taking (Barricade Incident)', \n",
    "    'attacktype1_txt_Hostage Taking (Kidnapping)', 'attacktype1_txt_Unarmed Assault', 'targtype1_txt_Abortion Related', \n",
    "    'targtype1_txt_Airports & Aircraft', 'targtype1_txt_Business', 'targtype1_txt_Educational Institution', \n",
    "    'targtype1_txt_Food or Water Supply', 'targtype1_txt_Government (Diplomatic)', 'targtype1_txt_Government (General)',\n",
    "    'targtype1_txt_Journalists & Media', 'targtype1_txt_Maritime', 'targtype1_txt_Military', 'targtype1_txt_NGO', \n",
    "    'targtype1_txt_Police', 'targtype1_txt_Private Citizens & Property', 'targtype1_txt_Religious Figures/Institutions', \n",
    "    'targtype1_txt_Telecommunication', 'targtype1_txt_Terrorists/Non-State Militia', 'targtype1_txt_Tourists', \n",
    "    'targtype1_txt_Transportation', 'targtype1_txt_Utilities', 'targtype1_txt_Violent Political Party']"
   ]
  },
  {
   "cell_type": "code",
   "execution_count": 2,
   "metadata": {
    "collapsed": false
   },
   "outputs": [
    {
     "name": "stdout",
     "output_type": "stream",
     "text": [
      "Index(['gname', 'attacktype1_txt_Armed Assault',\n",
      "       'attacktype1_txt_Assassination', 'attacktype1_txt_Bombing/Explosion',\n",
      "       'attacktype1_txt_Facility/Infrastructure Attack',\n",
      "       'attacktype1_txt_Hijacking',\n",
      "       'attacktype1_txt_Hostage Taking (Barricade Incident)',\n",
      "       'attacktype1_txt_Hostage Taking (Kidnapping)',\n",
      "       'attacktype1_txt_Unarmed Assault'],\n",
      "      dtype='object')\n",
      "['attacktype1_txt_Armed Assault', 'attacktype1_txt_Assassination', 'attacktype1_txt_Bombing/Explosion', 'attacktype1_txt_Facility/Infrastructure Attack', 'attacktype1_txt_Hijacking', 'attacktype1_txt_Hostage Taking (Barricade Incident)', 'attacktype1_txt_Hostage Taking (Kidnapping)', 'attacktype1_txt_Unarmed Assault']\n"
     ]
    }
   ],
   "source": [
    "dimensions = [ 'attacktype1_txt_Armed Assault', 'attacktype1_txt_Assassination', 'attacktype1_txt_Bombing/Explosion', \n",
    "              'attacktype1_txt_Facility/Infrastructure Attack', 'attacktype1_txt_Hijacking', \n",
    "              'attacktype1_txt_Hostage Taking (Barricade Incident)', 'attacktype1_txt_Hostage Taking (Kidnapping)', \n",
    "              'attacktype1_txt_Unarmed Assault']\n",
    "\n",
    "columns = dfs.columns\n",
    "\n",
    "for cols in columns:\n",
    "    if cols == 'gname':\n",
    "        continue\n",
    "    if cols not in dimensions:\n",
    "        del(dfs[cols])\n",
    "\n",
    "columns = dfs.columns\n",
    "print(columns)\n",
    "print(dimensions)"
   ]
  },
  {
   "cell_type": "code",
   "execution_count": 3,
   "metadata": {
    "collapsed": false
   },
   "outputs": [
    {
     "name": "stdout",
     "output_type": "stream",
     "text": [
      "Loading DB...\n",
      "DB Read...\n",
      "<class 'pandas.core.series.Series'>\n"
     ]
    }
   ],
   "source": [
    "print(\"Loading DB...\")\n",
    "dfs_names = pd.read_csv(\"final_names.csv\")\n",
    "print(\"DB Read...\")\n",
    "#print(data_file.sheet_names)\n",
    "#dfs = data_file.parse(data_file.sheet_names[0])\n",
    "#print(\"DB Parsed...\")\n",
    "print(type(dfs_names['group']))"
   ]
  },
  {
   "cell_type": "code",
   "execution_count": 4,
   "metadata": {
    "collapsed": false
   },
   "outputs": [
    {
     "name": "stdout",
     "output_type": "stream",
     "text": [
      "OrderedDict([(('Bougainville Revolutionary Army (BRA)', -1), [0, 0, 0, 0, 0, 0, 0, 0]), (('Kanak Socialist National Liberation Front', -1), [0, 0, 0, 0, 0, 0, 0, 0]), (('September 11 Commandos', -1), [0, 0, 0, 0, 0, 0, 0, 0]), (('Kanak Separatists', -1), [0, 0, 0, 0, 0, 0, 0, 0]), (('Animal Liberation Front (ALF)', -1), [0, 0, 0, 0, 0, 0, 0, 0]), (('Anti-Government Rebels', -1), [0, 0, 0, 0, 0, 0, 0, 0]), (('Croatian Nationalists', -1), [0, 0, 0, 0, 0, 0, 0, 0]), (('Free Papua Movement (OPM-Organisasi Papua Merdeka)', -1), [0, 0, 0, 0, 0, 0, 0, 0]), (('Informal Anarchist Federation', -1), [0, 0, 0, 0, 0, 0, 0, 0]), (('National Committee Against Independence (CNCI)', -1), [0, 0, 0, 0, 0, 0, 0, 0]), (('Vanuatu Mobile Force (VMF)', -1), [0, 0, 0, 0, 0, 0, 0, 0]), (('Combat 18', -1), [0, 0, 0, 0, 0, 0, 0, 0]), (('Greek Bulgarian Armenian Front', -1), [0, 0, 0, 0, 0, 0, 0, 0]), (('Guadalcanal Liberation Army', -1), [0, 0, 0, 0, 0, 0, 0, 0]), (('Isatabu Freedom Movement (IFM)', -1), [0, 0, 0, 0, 0, 0, 0, 0]), (('Lufa Tribesmen', -1), [0, 0, 0, 0, 0, 0, 0, 0]), (('Pacific Popular Front', -1), [0, 0, 0, 0, 0, 0, 0, 0]), (('Palestine Liberation Organization (PLO)', -1), [0, 0, 0, 0, 0, 0, 0, 0]), (('Paupa New Guinea Troops', -1), [0, 0, 0, 0, 0, 0, 0, 0]), (('Zapatista National Liberation Army', -1), [0, 0, 0, 0, 0, 0, 0, 0]), (('Farabundo Marti National Liberation Front (FMLN)', -1), [0, 0, 0, 0, 0, 0, 0, 0]), (('Nicaraguan Democratic Force (FDN)', -1), [0, 0, 0, 0, 0, 0, 0, 0]), (('Sandinista National Liberation Front (FSLN)', -1), [0, 0, 0, 0, 0, 0, 0, 0]), ((\"People's Liberation Forces (FPL)\", -1), [0, 0, 0, 0, 0, 0, 0, 0]), (('Guerrilla Army of the Poor (EGP)', -1), [0, 0, 0, 0, 0, 0, 0, 0]), (('Nicaraguan Resistance', -1), [0, 0, 0, 0, 0, 0, 0, 0]), (('Guatemalan National Revolutionary Unity (URNG)', -1), [0, 0, 0, 0, 0, 0, 0, 0]), (('Death Squad', -1), [0, 0, 0, 0, 0, 0, 0, 0]), (('Revolutionary Organization of People in Arms (ORPA)', -1), [0, 0, 0, 0, 0, 0, 0, 0]), ((\"People's Revolutionary Army (ERP) (El Salvador)\", -1), [0, 0, 0, 0, 0, 0, 0, 0]), (('Armed Forces of National Resistance (FARN)', -1), [0, 0, 0, 0, 0, 0, 0, 0]), (('Lorenzo Zelaya Revolutionary Front (LZRF)', -1), [0, 0, 0, 0, 0, 0, 0, 0]), (('Popular Revolutionary Bloc (BPR)', -1), [0, 0, 0, 0, 0, 0, 0, 0]), (('Democratic Revolutionary Alliance (ARDE)', -1), [0, 0, 0, 0, 0, 0, 0, 0]), (('Rebel Armed Forces of Guatemala (FAR)', -1), [0, 0, 0, 0, 0, 0, 0, 0]), (('Patriotic Morazanista Front (FPM)', -1), [0, 0, 0, 0, 0, 0, 0, 0]), (('Caribbean Revolutionary Alliance (ARC)', -1), [0, 0, 0, 0, 0, 0, 0, 0]), (('Guatemalan Labor Party (PGT)', -1), [0, 0, 0, 0, 0, 0, 0, 0]), (('Recontras', -1), [0, 0, 0, 0, 0, 0, 0, 0]), (('Secret Anti-Communist Army (ESA)', -1), [0, 0, 0, 0, 0, 0, 0, 0]), (('Cinchoneros Popular Liberation Movement', -1), [0, 0, 0, 0, 0, 0, 0, 0]), ((\"31 January People's Front (FP-31)\", -1), [0, 0, 0, 0, 0, 0, 0, 0]), (('20 December Movement (M-20)', -1), [0, 0, 0, 0, 0, 0, 0, 0]), (('February 28 Popular League (El Salvador)', -1), [0, 0, 0, 0, 0, 0, 0, 0]), (('Maximiliano Gomez Revolutionary Brigade', -1), [0, 0, 0, 0, 0, 0, 0, 0]), (('Misurasata Indian Organization', -1), [0, 0, 0, 0, 0, 0, 0, 0]), (('Union Guerrera Blanca (UGB)', -1), [0, 0, 0, 0, 0, 0, 0, 0]), (('United Popular Action Front (FAPU)', -1), [0, 0, 0, 0, 0, 0, 0, 0]), (('South Ossetian Separatists', -1), [0, 0, 0, 0, 0, 0, 0, 0]), ((\"People's Democratic Army\", -1), [0, 0, 0, 0, 0, 0, 0, 0]), (('Supporters of Ex-President Gamsakhurdial', -1), [0, 0, 0, 0, 0, 0, 0, 0]), (('Islamic Jihad Group (IJG)', -1), [0, 0, 0, 0, 0, 0, 0, 0]), (('White Legion (Georgia)', -1), [0, 0, 0, 0, 0, 0, 0, 0]), (('Forest Brothers', -1), [0, 0, 0, 0, 0, 0, 0, 0]), (('Islamic Jihad Union (Uzbekistan)', -1), [0, 0, 0, 0, 0, 0, 0, 0]), (('Rizvon Sadirov Group', -1), [0, 0, 0, 0, 0, 0, 0, 0]), (('Soldiers of the Caliphate', -1), [0, 0, 0, 0, 0, 0, 0, 0]), (('Algeisk Wolves', -1), [0, 0, 0, 0, 0, 0, 0, 0]), (('Hizb al-Tahrir al-Islami (HT)', -1), [0, 0, 0, 0, 0, 0, 0, 0]), (('Islamic Movement of Uzbekistan (IMU)', -1), [0, 0, 0, 0, 0, 0, 0, 0]), (('Sandval (union) Movement', -1), [0, 0, 0, 0, 0, 0, 0, 0]), (('South Ossetian Extremists', -1), [0, 0, 0, 0, 0, 0, 0, 0]), (('Tolib Ayombekov loyalists', -1), [0, 0, 0, 0, 0, 0, 0, 0]), (('Uighur Liberation Organization', -1), [0, 0, 0, 0, 0, 0, 0, 0]), (('Yekbun', -1), [0, 0, 0, 0, 0, 0, 0, 0]), (('Zviadists', -1), [0, 0, 0, 0, 0, 0, 0, 0]), (('Chukakuha (Middle Core Faction)', -1), [0, 0, 0, 0, 0, 0, 0, 0]), ((\"Revolutionary Workers' Council (Kakurokyo)\", -1), [0, 0, 0, 0, 0, 0, 0, 0]), (('East Asia Anti Japanese Armed Front', -1), [0, 0, 0, 0, 0, 0, 0, 0]), (('Eastern Turkistan Islamic Movement (ETIM)', -1), [0, 0, 0, 0, 0, 0, 0, 0]), (('Aum Shinri Kyo', -1), [0, 0, 0, 0, 0, 0, 0, 0]), (('Senki (\"Battle Flag\")', -1), [0, 0, 0, 0, 0, 0, 0, 0]), (('14 K Triad', -1), [0, 0, 0, 0, 0, 0, 0, 0]), (('Seikijuku', -1), [0, 0, 0, 0, 0, 0, 0, 0]), (('League of Communists', -1), [0, 0, 0, 0, 0, 0, 0, 0]), (('Maruseido (Marxist Youth League)', -1), [0, 0, 0, 0, 0, 0, 0, 0]), (('Sekihotai', -1), [0, 0, 0, 0, 0, 0, 0, 0]), (('Turkestan Islamic Party', -1), [0, 0, 0, 0, 0, 0, 0, 0]), (('Anti-Imperialist Students Council', -1), [0, 0, 0, 0, 0, 0, 0, 0]), (('Anti-Narita Extremists', -1), [0, 0, 0, 0, 0, 0, 0, 0]), (('Association for the Enhancement of the Justice of the Great Japan', -1), [0, 0, 0, 0, 0, 0, 0, 0]), (('Chondaehyop (Radical Student Coalition)', -1), [0, 0, 0, 0, 0, 0, 0, 0]), (('Chonson Univ. students', -1), [0, 0, 0, 0, 0, 0, 0, 0]), (('Chukakuha Revolutionary Army', -1), [0, 0, 0, 0, 0, 0, 0, 0]), (('Dainihon Yokuko Doshikai', -1), [0, 0, 0, 0, 0, 0, 0, 0]), (('Democratic Progressive Party', -1), [0, 0, 0, 0, 0, 0, 0, 0]), (('Do-or-Die Corps for the Abolition of Anti-Public Taxation Systems', -1), [0, 0, 0, 0, 0, 0, 0, 0]), (('Great Japan Patriotic Party', -1), [0, 0, 0, 0, 0, 0, 0, 0]), (('Hanchongryun', -1), [0, 0, 0, 0, 0, 0, 0, 0]), (('Hiroyuki Jo', -1), [0, 0, 0, 0, 0, 0, 0, 0]), (('Hotaru (Firefly)', -1), [0, 0, 0, 0, 0, 0, 0, 0]), (('Issui Kai', -1), [0, 0, 0, 0, 0, 0, 0, 0]), (('Japan National Youth Alliance', -1), [0, 0, 0, 0, 0, 0, 0, 0]), ((\"Japan Socialist Youth League of the Revolutionary Workers' Association\", -1), [0, 0, 0, 0, 0, 0, 0, 0]), (('Japanese Independence Patriotic Party', -1), [0, 0, 0, 0, 0, 0, 0, 0]), (('Japanese Red Army (JRA)', -1), [0, 0, 0, 0, 0, 0, 0, 0]), (('Korean Youth League', -1), [0, 0, 0, 0, 0, 0, 0, 0]), (('Kyongbuk University Dental College Students', -1), [0, 0, 0, 0, 0, 0, 0, 0]), (('Namchong-Nyon Students', -1), [0, 0, 0, 0, 0, 0, 0, 0]), (('Nara Red Army', -1), [0, 0, 0, 0, 0, 0, 0, 0]), (('National Defense Youth Corps', -1), [0, 0, 0, 0, 0, 0, 0, 0]), (('Revolutionary Army', -1), [0, 0, 0, 0, 0, 0, 0, 0]), (('Revolutionary Force', -1), [0, 0, 0, 0, 0, 0, 0, 0]), (('Seiji Kesha Kokuyukai', -1), [0, 0, 0, 0, 0, 0, 0, 0]), (('Shonkonjuku Group', -1), [0, 0, 0, 0, 0, 0, 0, 0]), (('Taihikai (Great Sadness)', -1), [0, 0, 0, 0, 0, 0, 0, 0]), (('Taikosha, right wing group', -1), [0, 0, 0, 0, 0, 0, 0, 0]), (('Yamaguchi-Gumi Gang', -1), [0, 0, 0, 0, 0, 0, 0, 0]), (('Yokoku Seiwa-Kai', -1), [0, 0, 0, 0, 0, 0, 0, 0]), (('Kosovo Liberation Army (KLA)', -1), [0, 0, 0, 0, 0, 0, 0, 0]), (('Caucasus Emirate', -1), [0, 0, 0, 0, 0, 0, 0, 0]), (('National Liberation Army (NLA) (Macedonia)', -1), [0, 0, 0, 0, 0, 0, 0, 0]), (('Riyadus-Salikhin Reconnaissance and Sabotage Battalion of Chechen Martyrs', -1), [0, 0, 0, 0, 0, 0, 0, 0]), (('Armed Forces of the Chechen Republic of Ichkeria', -1), [0, 0, 0, 0, 0, 0, 0, 0]), ((\"Dagestani Shari'ah Jamaat\", -1), [0, 0, 0, 0, 0, 0, 0, 0]), (('Albanian National Army (ANA)', -1), [0, 0, 0, 0, 0, 0, 0, 0]), (('Islambouli Brigades of al-Qaida', -1), [0, 0, 0, 0, 0, 0, 0, 0]), (('NVF', -1), [0, 0, 0, 0, 0, 0, 0, 0]), (('Ukrainian Nationalist Group', -1), [0, 0, 0, 0, 0, 0, 0, 0]), (('Armenian Nationalists', -1), [0, 0, 0, 0, 0, 0, 0, 0]), (('Black Berets', -1), [0, 0, 0, 0, 0, 0, 0, 0]), (('December 13 Independent Group', -1), [0, 0, 0, 0, 0, 0, 0, 0]), (('Extraparliamentary Opposition (APO)', -1), [0, 0, 0, 0, 0, 0, 0, 0]), (('Internationalist Cells', -1), [0, 0, 0, 0, 0, 0, 0, 0]), (('Liberation Army for Presevo, Medvedja and Bujanovac (UCPMB)', -1), [0, 0, 0, 0, 0, 0, 0, 0]), (('Makhachkala Gang', -1), [0, 0, 0, 0, 0, 0, 0, 0]), (('Red Army Faction (RAF)', -1), [0, 0, 0, 0, 0, 0, 0, 0]), (('Revolutionary Cells Network (SRN)', -1), [0, 0, 0, 0, 0, 0, 0, 0]), (('Islamic State of Iraq and the Levant (ISIL)', -1), [0, 0, 0, 0, 0, 0, 0, 0]), ((\"Kurdistan Workers' Party (PKK)\", -1), [0, 0, 0, 0, 0, 0, 0, 0]), (('Al-Qaida in Iraq', -1), [0, 0, 0, 0, 0, 0, 0, 0]), (('Al-Qaida in the Arabian Peninsula (AQAP)', -1), [0, 0, 0, 0, 0, 0, 0, 0]), (('Hamas (Islamic Resistance Movement)', -1), [0, 0, 0, 0, 0, 0, 0, 0]), ((\"Al-Gama'at al-Islamiyya (IG)\", -1), [0, 0, 0, 0, 0, 0, 0, 0]), (('Algerian Islamic Extremists', -1), [0, 0, 0, 0, 0, 0, 0, 0]), (('Hezbollah', -1), [0, 0, 0, 0, 0, 0, 0, 0]), (('Dev Sol', -1), [0, 0, 0, 0, 0, 0, 0, 0]), (('Armed Islamic Group (GIA)', -1), [0, 0, 0, 0, 0, 0, 0, 0]), (('Palestinian Islamic Jihad (PIJ)', -1), [0, 0, 0, 0, 0, 0, 0, 0]), (('Al-Aqsa Martyrs Brigade', -1), [0, 0, 0, 0, 0, 0, 0, 0]), (('Al-Nusrah Front', -1), [0, 0, 0, 0, 0, 0, 0, 0]), (('Islamic Salvation Front (FIS)', -1), [0, 0, 0, 0, 0, 0, 0, 0]), (('Islamic State of Iraq (ISI)', -1), [0, 0, 0, 0, 0, 0, 0, 0]), (('Salafist Group for Preaching and Fighting (GSPC)', -1), [0, 0, 0, 0, 0, 0, 0, 0]), (('Al-Qaida in the Islamic Maghreb (AQIM)', -1), [0, 0, 0, 0, 0, 0, 0, 0]), (('Tripoli Province of the Islamic State', -1), [0, 0, 0, 0, 0, 0, 0, 0]), (('Sinai Province of the Islamic State', -1), [0, 0, 0, 0, 0, 0, 0, 0]), (('Popular Front for the Liberation of Palestine (PFLP)', -1), [0, 0, 0, 0, 0, 0, 0, 0]), (('Muslim Brotherhood', -1), [0, 0, 0, 0, 0, 0, 0, 0]), (('Mujahedin-e Khalq (MEK)', -1), [0, 0, 0, 0, 0, 0, 0, 0]), (('Barqa Province of the Islamic State', -1), [0, 0, 0, 0, 0, 0, 0, 0]), (('Fuerzas Armadas de Liberacion Nacional (FALN)', -1), [0, 0, 0, 0, 0, 0, 0, 0]), (('New World Liberation Front (NWLF)', -1), [0, 0, 0, 0, 0, 0, 0, 0]), (('Jewish Defense League (JDL)', -1), [0, 0, 0, 0, 0, 0, 0, 0]), (('Earth Liberation Front (ELF)', -1), [0, 0, 0, 0, 0, 0, 0, 0]), (('Black Nationalists', -1), [0, 0, 0, 0, 0, 0, 0, 0]), (('Omega-7', -1), [0, 0, 0, 0, 0, 0, 0, 0]), (('23rd of September Communist League', -1), [0, 0, 0, 0, 0, 0, 0, 0]), (('Weather Underground, Weathermen', -1), [0, 0, 0, 0, 0, 0, 0, 0]), (('Macheteros', -1), [0, 0, 0, 0, 0, 0, 0, 0]), (('Armed Revolutionary Independence Movement (MIRA)', -1), [0, 0, 0, 0, 0, 0, 0, 0]), (('Chicano Liberation Front', -1), [0, 0, 0, 0, 0, 0, 0, 0]), (('Black Liberation Army', -1), [0, 0, 0, 0, 0, 0, 0, 0]), (('Black Panthers', -1), [0, 0, 0, 0, 0, 0, 0, 0]), (('Army of God', -1), [0, 0, 0, 0, 0, 0, 0, 0]), (('Puerto Rican Nationalists', -1), [0, 0, 0, 0, 0, 0, 0, 0]), (('United Freedom Front (UFF)', -1), [0, 0, 0, 0, 0, 0, 0, 0]), (('Union of the People (UDP)', -1), [0, 0, 0, 0, 0, 0, 0, 0]), (('Ku Klux Klan', -1), [0, 0, 0, 0, 0, 0, 0, 0]), (('Zebra killers', -1), [0, 0, 0, 0, 0, 0, 0, 0]), (('Independent Armed Revolutionary Commandos (CRIA)', -1), [0, 0, 0, 0, 0, 0, 0, 0]), (('George Jackson Brigade', -1), [0, 0, 0, 0, 0, 0, 0, 0]), (('Jewish Armed Resistance', -1), [0, 0, 0, 0, 0, 0, 0, 0]), (('Shining Path (SL)', -1), [0, 0, 0, 0, 0, 0, 0, 0]), (('Revolutionary Armed Forces of Colombia (FARC)', -1), [0, 0, 0, 0, 0, 0, 0, 0]), (('National Liberation Army of Colombia (ELN)', -1), [0, 0, 0, 0, 0, 0, 0, 0]), (('Manuel Rodriguez Patriotic Front (FPMR)', -1), [0, 0, 0, 0, 0, 0, 0, 0]), (('Tupac Amaru Revolutionary Movement (MRTA)', -1), [0, 0, 0, 0, 0, 0, 0, 0]), (('M-19 (Movement of April 19)', -1), [0, 0, 0, 0, 0, 0, 0, 0]), (('Movement of the Revolutionary Left (MIR) (Chile)', -1), [0, 0, 0, 0, 0, 0, 0, 0]), (('Popular Liberation Army (EPL)', -1), [0, 0, 0, 0, 0, 0, 0, 0]), (('Simon Bolivar Guerrilla Coordinating Board (CGSB)', -1), [0, 0, 0, 0, 0, 0, 0, 0]), (('The Extraditables', -1), [0, 0, 0, 0, 0, 0, 0, 0]), (('United Popular Action Movement', -1), [0, 0, 0, 0, 0, 0, 0, 0]), (('Montoneros (Argentina)', -1), [0, 0, 0, 0, 0, 0, 0, 0]), (('Ejercito Revolucionaria del Pueblo (ERP) (Argentina)', -1), [0, 0, 0, 0, 0, 0, 0, 0]), (('United Self Defense Units of Colombia (AUC)', -1), [0, 0, 0, 0, 0, 0, 0, 0]), ((\"Paraguayan People's Army (EPP)\", -1), [0, 0, 0, 0, 0, 0, 0, 0]), (('Tupamaros (Uruguay)', -1), [0, 0, 0, 0, 0, 0, 0, 0]), (('Ricardo Franco Front (Dissident FARC)', -1), [0, 0, 0, 0, 0, 0, 0, 0]), (('Brunswijk Jungle Commando', -1), [0, 0, 0, 0, 0, 0, 0, 0]), (('Alfaro Vive', -1), [0, 0, 0, 0, 0, 0, 0, 0]), (('Tupac Katari Guerrilla Army (EGTK)', -1), [0, 0, 0, 0, 0, 0, 0, 0]), (('Red Flag (Venezuela)', -1), [0, 0, 0, 0, 0, 0, 0, 0]), (('Peasant Self-Defense Group (ACCU)', -1), [0, 0, 0, 0, 0, 0, 0, 0]), (('Death to Kidnappers (MAS)', -1), [0, 0, 0, 0, 0, 0, 0, 0]), (('Popular Militia (Colombia)', -1), [0, 0, 0, 0, 0, 0, 0, 0]), (('Rodrigo Franco Command', -1), [0, 0, 0, 0, 0, 0, 0, 0]), ((\"Workers' Self-Defense Movement (MAO)\", -1), [0, 0, 0, 0, 0, 0, 0, 0]), ((\"People's Revolutionary Organization\", -1), [0, 0, 0, 0, 0, 0, 0, 0]), (('Taliban', -1), [0, 0, 0, 0, 0, 0, 0, 0]), (('Communist Party of India - Maoist (CPI-Maoist)', -1), [0, 0, 0, 0, 0, 0, 0, 0]), (('Liberation Tigers of Tamil Eelam (LTTE)', -1), [0, 0, 0, 0, 0, 0, 0, 0]), (('Tehrik-i-Taliban Pakistan (TTP)', -1), [0, 0, 0, 0, 0, 0, 0, 0]), ((\"People's Liberation Front (JVP)\", -1), [0, 0, 0, 0, 0, 0, 0, 0]), (('United Liberation Front of Assam (ULFA)', -1), [0, 0, 0, 0, 0, 0, 0, 0]), (('Baloch Republican Army (BRA)', -1), [0, 0, 0, 0, 0, 0, 0, 0]), (('National Democratic Front of Bodoland (NDFB)', -1), [0, 0, 0, 0, 0, 0, 0, 0]), (('Muttahida Qami Movement (MQM)', -1), [0, 0, 0, 0, 0, 0, 0, 0]), (('Garo National Liberation Army', -1), [0, 0, 0, 0, 0, 0, 0, 0]), (('Baloch Liberation Army (BLA)', -1), [0, 0, 0, 0, 0, 0, 0, 0]), (('Lashkar-e-Taiba (LeT)', -1), [0, 0, 0, 0, 0, 0, 0, 0]), (('Hizbul Mujahideen (HM)', -1), [0, 0, 0, 0, 0, 0, 0, 0]), (('Lashkar-e-Jhangvi', -1), [0, 0, 0, 0, 0, 0, 0, 0]), ((\"People's War Group (PWG)\", -1), [0, 0, 0, 0, 0, 0, 0, 0]), (('Pro Hartal Activists', -1), [0, 0, 0, 0, 0, 0, 0, 0]), (('Lashkar-e-Islam (Pakistan)', -1), [0, 0, 0, 0, 0, 0, 0, 0]), (('Shanti Bahini - Peace Force', -1), [0, 0, 0, 0, 0, 0, 0, 0]), (('Baloch Liberation Front (BLF)', -1), [0, 0, 0, 0, 0, 0, 0, 0]), (('Janatantrik Terai Mukti Morcha- Jwala Singh (JTMM-J)', -1), [0, 0, 0, 0, 0, 0, 0, 0]), (('United Baloch Army (UBA)', -1), [0, 0, 0, 0, 0, 0, 0, 0]), (('National Liberation Front of Tripura (NLFT)', -1), [0, 0, 0, 0, 0, 0, 0, 0]), (('Bangladesh Nationalist Party (BNP)', -1), [0, 0, 0, 0, 0, 0, 0, 0]), (('Naxalites', -1), [0, 0, 0, 0, 0, 0, 0, 0]), (('Haqqani Network', -1), [0, 0, 0, 0, 0, 0, 0, 0]), ((\"New People's Army (NPA)\", -1), [0, 0, 0, 0, 0, 0, 0, 0]), (('Abu Sayyaf Group (ASG)', -1), [0, 0, 0, 0, 0, 0, 0, 0]), (('Moro Islamic Liberation Front (MILF)', -1), [0, 0, 0, 0, 0, 0, 0, 0]), (('Moro National Liberation Front (MNLF)', -1), [0, 0, 0, 0, 0, 0, 0, 0]), (('Khmer Rouge', -1), [0, 0, 0, 0, 0, 0, 0, 0]), (('Bangsamoro Islamic Freedom Movement (BIFM)', -1), [0, 0, 0, 0, 0, 0, 0, 0]), (('Runda Kumpulan Kecil (RKK)', -1), [0, 0, 0, 0, 0, 0, 0, 0]), (('Free Aceh Movement (GAM)', -1), [0, 0, 0, 0, 0, 0, 0, 0]), (('Karen National Union', -1), [0, 0, 0, 0, 0, 0, 0, 0]), (('Jemaah Islamiya (JI)', -1), [0, 0, 0, 0, 0, 0, 0, 0]), (('Pattani United Liberation Organization (PULO)', -1), [0, 0, 0, 0, 0, 0, 0, 0]), (('Thai Islamic Militants', -1), [0, 0, 0, 0, 0, 0, 0, 0]), (('April 6th Liberation Movement', -1), [0, 0, 0, 0, 0, 0, 0, 0]), (('Kachin Independence Army (KIA)', -1), [0, 0, 0, 0, 0, 0, 0, 0]), (('United Front for Democracy Against Dictatorship', -1), [0, 0, 0, 0, 0, 0, 0, 0]), (('Democratic Karen Buddhist Army (DKBA)', -1), [0, 0, 0, 0, 0, 0, 0, 0]), (('Mujahidin Indonesia Timur (MIT)', -1), [0, 0, 0, 0, 0, 0, 0, 0]), (('Alex Boncayao Brigade (ABB)', -1), [0, 0, 0, 0, 0, 0, 0, 0]), (('Barisan Revolusi Nasional (BRN)', -1), [0, 0, 0, 0, 0, 0, 0, 0]), (('Al-Khobar', -1), [0, 0, 0, 0, 0, 0, 0, 0]), (('Jamaah Ansharut Tauhid (JAT)', -1), [0, 0, 0, 0, 0, 0, 0, 0]), (('Reform of the Armed Forces Movement', -1), [0, 0, 0, 0, 0, 0, 0, 0]), (('Boko Haram', -1), [0, 0, 0, 0, 0, 0, 0, 0]), (('Al-Shabaab', -1), [0, 0, 0, 0, 0, 0, 0, 0]), (('African National Congress (South Africa)', -1), [0, 0, 0, 0, 0, 0, 0, 0]), (('National Union for the Total Independence of Angola (UNITA)', -1), [0, 0, 0, 0, 0, 0, 0, 0]), ((\"Lord's Resistance Army (LRA)\", -1), [0, 0, 0, 0, 0, 0, 0, 0]), (('Mozambique National Resistance Movement (MNR)', -1), [0, 0, 0, 0, 0, 0, 0, 0]), (('Janjaweed', -1), [0, 0, 0, 0, 0, 0, 0, 0]), (('Allied Democratic Forces (ADF)', -1), [0, 0, 0, 0, 0, 0, 0, 0]), (('Movement for the Emancipation of the Niger Delta (MEND)', -1), [0, 0, 0, 0, 0, 0, 0, 0]), (('Democratic Front for the Liberation of Rwanda (FDLR)', -1), [0, 0, 0, 0, 0, 0, 0, 0]), (('Movement of Democratic Forces of Casamance', -1), [0, 0, 0, 0, 0, 0, 0, 0]), ((\"South-West Africa People's Organization (SWAPO)\", -1), [0, 0, 0, 0, 0, 0, 0, 0]), (('Revolutionary United Front (RUF)', -1), [0, 0, 0, 0, 0, 0, 0, 0]), ((\"Sudan People's Liberation Movement - North\", -1), [0, 0, 0, 0, 0, 0, 0, 0]), ((\"Sudan People's Liberation Army (SPLA)\", -1), [0, 0, 0, 0, 0, 0, 0, 0]), (('Party for the Liberation of the Hutu People (PALIPEHUTU)', -1), [0, 0, 0, 0, 0, 0, 0, 0]), (('Inkatha Freedom Party (IFP)', -1), [0, 0, 0, 0, 0, 0, 0, 0]), (('Movement for Oneness and Jihad in West Africa (MUJAO)', -1), [0, 0, 0, 0, 0, 0, 0, 0]), (('Mayi Mayi', -1), [0, 0, 0, 0, 0, 0, 0, 0]), (('Seleka', -1), [0, 0, 0, 0, 0, 0, 0, 0]), (('National Liberation Front (FNL) (Burundi)', -1), [0, 0, 0, 0, 0, 0, 0, 0]), (('Patriotic Resistance Front in Ituri (FRPI)', -1), [0, 0, 0, 0, 0, 0, 0, 0]), ((\"Sudan People's Liberation Movement in Opposition (SPLM-IO)\", -1), [0, 0, 0, 0, 0, 0, 0, 0]), (('Zimbabwe African Nationalist Union (ZANU)', -1), [0, 0, 0, 0, 0, 0, 0, 0]), (('Azawad National Liberation Movement (MNLA)', -1), [0, 0, 0, 0, 0, 0, 0, 0]), (('Uganda Freedom Movement (UFM)', -1), [0, 0, 0, 0, 0, 0, 0, 0]), (('Basque Fatherland and Freedom (ETA)', -1), [0, 0, 0, 0, 0, 0, 0, 0]), (('Irish Republican Army (IRA)', -1), [0, 0, 0, 0, 0, 0, 0, 0]), (('Corsican National Liberation Front (FLNC)', -1), [0, 0, 0, 0, 0, 0, 0, 0]), (('Ulster Volunteer Force (UVF)', -1), [0, 0, 0, 0, 0, 0, 0, 0]), (('Ulster Freedom Fighters (UFF)', -1), [0, 0, 0, 0, 0, 0, 0, 0]), (('Red Brigades', -1), [0, 0, 0, 0, 0, 0, 0, 0]), (('First of October Antifascist Resistance Group (GRAPO)', -1), [0, 0, 0, 0, 0, 0, 0, 0]), (('Corsican National Liberation Front- Historic Channel', -1), [0, 0, 0, 0, 0, 0, 0, 0]), (('Armenian Secret Army for the Liberation of Armenia', -1), [0, 0, 0, 0, 0, 0, 0, 0]), (('November 17 Revolutionary Organization (N17RO)', -1), [0, 0, 0, 0, 0, 0, 0, 0]), (('Irish National Liberation Army (INLA)', -1), [0, 0, 0, 0, 0, 0, 0, 0]), ((\"Revolutionary People's Struggle (ELA)\", -1), [0, 0, 0, 0, 0, 0, 0, 0]), (('Irish Republican Extremists', -1), [0, 0, 0, 0, 0, 0, 0, 0]), (('Dissident Republicans', -1), [0, 0, 0, 0, 0, 0, 0, 0]), (('Terra Lliure', -1), [0, 0, 0, 0, 0, 0, 0, 0]), (('Prima Linea', -1), [0, 0, 0, 0, 0, 0, 0, 0]), (('Iparretarrak (IK)', -1), [0, 0, 0, 0, 0, 0, 0, 0]), (('Action Directe', -1), [0, 0, 0, 0, 0, 0, 0, 0]), (('Baader-Meinhof Group', -1), [0, 0, 0, 0, 0, 0, 0, 0]), (('Conspiracy of Cells of Fire', -1), [0, 0, 0, 0, 0, 0, 0, 0]), (('Revolutionary Cells', -1), [0, 0, 0, 0, 0, 0, 0, 0]), ((\"Free Galician People's Guerrilla Army\", -1), [0, 0, 0, 0, 0, 0, 0, 0]), (('Popular Forces of April 25', -1), [0, 0, 0, 0, 0, 0, 0, 0]), (('Revolutionary Patriotic Anti-Fascist Front (FRAP)', -1), [0, 0, 0, 0, 0, 0, 0, 0]), (('Real Irish Republican Army (RIRA)', -1), [0, 0, 0, 0, 0, 0, 0, 0]), (('Ex-Somoza National Guard', -1), [0, 0, 0, 0, 0, 0, 0, 0]), (('Coordination of the United Revolutionary Organization (CORU)', -1), [0, 0, 0, 0, 0, 0, 0, 0]), (('Maximiliano Hernandez Martinez Brigade', -1), [0, 0, 0, 0, 0, 0, 0, 0]), (('Revolutionary Front for Hatian Advancement and Progress (FRAPH)', -1), [0, 0, 0, 0, 0, 0, 0, 0]), (('Ansar Allah', -1), [0, 0, 0, 0, 0, 0, 0, 0]), (('Bloque Anti-Guerrillero de Oriente (BAGO)', -1), [0, 0, 0, 0, 0, 0, 0, 0]), (('Chechen Lone Wolf Group', -1), [0, 0, 0, 0, 0, 0, 0, 0]), (('Justice Commandos for the Armenian Genocide', -1), [0, 0, 0, 0, 0, 0, 0, 0]), (('Sayfullakh', -1), [0, 0, 0, 0, 0, 0, 0, 0]), (('Special Purpose Islamic Regiment (SPIR)', -1), [0, 0, 0, 0, 0, 0, 0, 0]), (('Free Syrian Army', -1), [0, 0, 0, 0, 0, 0, 0, 0]), (('Tawhid and Jihad', -1), [0, 0, 0, 0, 0, 0, 0, 0]), (('Sanaa Province of the Islamic State', -1), [0, 0, 0, 0, 0, 0, 0, 0]), (('Abdullah Azzam Brigades', -1), [0, 0, 0, 0, 0, 0, 0, 0]), (('Front for the Liberation of Lebanon from Foreigners', -1), [0, 0, 0, 0, 0, 0, 0, 0]), (('Ansar al-Din Front', -1), [0, 0, 0, 0, 0, 0, 0, 0]), (('Institutional Revolutionary Party (PRI)', -1), [0, 0, 0, 0, 0, 0, 0, 0]), (('Popular Revolutionary Army (Mexico)', -1), [0, 0, 0, 0, 0, 0, 0, 0]), (('Armed Commandos of Liberation', -1), [0, 0, 0, 0, 0, 0, 0, 0]), (('Democratic Revolutionary Party', -1), [0, 0, 0, 0, 0, 0, 0, 0]), (('Al-Qaida', -1), [0, 0, 0, 0, 0, 0, 0, 0]), (('Vietnamese Organization to Exterminate Communists and Restore the Nation', -1), [0, 0, 0, 0, 0, 0, 0, 0]), (('Individuals Tending Toward Savagery', -1), [0, 0, 0, 0, 0, 0, 0, 0]), (('Militant Peasants (NFI)', -1), [0, 0, 0, 0, 0, 0, 0, 0]), (('Republic of New Afrika', -1), [0, 0, 0, 0, 0, 0, 0, 0]), (('Jonathan Jackson Brigade', -1), [0, 0, 0, 0, 0, 0, 0, 0]), (('Justice Army for Defenseless Peoples', -1), [0, 0, 0, 0, 0, 0, 0, 0]), (('Movement for Triqui Unification and Struggle', -1), [0, 0, 0, 0, 0, 0, 0, 0]), (('America Battalion', -1), [0, 0, 0, 0, 0, 0, 0, 0]), (('Commandos for A Popular alternative', -1), [0, 0, 0, 0, 0, 0, 0, 0]), (('Death to Rustlers', -1), [0, 0, 0, 0, 0, 0, 0, 0]), (('National Socialist Civic Workers Movement', -1), [0, 0, 0, 0, 0, 0, 0, 0]), (('Khorasan Chapter of the Islamic State', -1), [0, 0, 0, 0, 0, 0, 0, 0]), (('Maoist Communist Center (MCC)', -1), [0, 0, 0, 0, 0, 0, 0, 0]), (('Communist Party of Nepal- Maoist (CPN-M)', -1), [0, 0, 0, 0, 0, 0, 0, 0]), (('Jundallah', -1), [0, 0, 0, 0, 0, 0, 0, 0]), (('Harkatul Jihad-e-Islami', -1), [0, 0, 0, 0, 0, 0, 0, 0]), (('Vigilante Group', -1), [0, 0, 0, 0, 0, 0, 0, 0]), (('Deccan Mujahideen', -1), [0, 0, 0, 0, 0, 0, 0, 0]), ((\"Cambodian People's Party (CPP)\", -1), [0, 0, 0, 0, 0, 0, 0, 0]), (('North Korean involvement commandos', -1), [0, 0, 0, 0, 0, 0, 0, 0]), (('Justice and Equality Movement (JEM)', -1), [0, 0, 0, 0, 0, 0, 0, 0]), (('Tigray Peoples Liberation Front (TPLF)', -1), [0, 0, 0, 0, 0, 0, 0, 0]), (('National Resistance Movement (NRM)', -1), [0, 0, 0, 0, 0, 0, 0, 0]), (('Dissident Military Mmbrs of Northern Tribal Group', -1), [0, 0, 0, 0, 0, 0, 0, 0]), (('Black September', -1), [0, 0, 0, 0, 0, 0, 0, 0]), (('Armed Revolutionary Nuclei (NAR)', -1), [0, 0, 0, 0, 0, 0, 0, 0]), (('Official Irish Republican Army (OIRA)', -1), [0, 0, 0, 0, 0, 0, 0, 0]), (('Abu Nidal Organization (ANO)', -1), [0, 0, 0, 0, 0, 0, 0, 0]), (('Abu Hafs al-Masri Brigades', -1), [0, 0, 0, 0, 0, 0, 0, 0]), (('Black Order', -1), [0, 0, 0, 0, 0, 0, 0, 0]), (('Republican Action Force', -1), [0, 0, 0, 0, 0, 0, 0, 0]), (('Secret Organization of al-Qaida in Europe', -1), [0, 0, 0, 0, 0, 0, 0, 0]), (('Popular Front for the Liberation of Palestine, Gen Cmd (PFLP-GC)', -1), [0, 0, 0, 0, 0, 0, 0, 0]), (('New Order', -1), [0, 0, 0, 0, 0, 0, 0, 0]), (('Mano Blanca', -1), [0, 0, 0, 0, 0, 0, 0, 0]), (('Miskito Indian Organization', -1), [0, 0, 0, 0, 0, 0, 0, 0]), (('National Anti Communist Commando', -1), [0, 0, 0, 0, 0, 0, 0, 0]), (('Revolutionary Workers Party', -1), [0, 0, 0, 0, 0, 0, 0, 0]), (('Guatemalan Communist Party', -1), [0, 0, 0, 0, 0, 0, 0, 0]), (('Jamaica Labor Party', -1), [0, 0, 0, 0, 0, 0, 0, 0]), (('Cossack Separatists', -1), [0, 0, 0, 0, 0, 0, 0, 0]), ((\"Kata'ib al-Khoul\", -1), [0, 0, 0, 0, 0, 0, 0, 0]), (('Al-Fatah', -1), [0, 0, 0, 0, 0, 0, 0, 0]), (('Devrimici Halk Kurtulus Cephesi (DHKP/C)', -1), [0, 0, 0, 0, 0, 0, 0, 0]), (('Democratic Front for the Liberation of Palestine (DFLP)', -1), [0, 0, 0, 0, 0, 0, 0, 0]), (('Turkish Communist Party/Marxist (TKP-ML)', -1), [0, 0, 0, 0, 0, 0, 0, 0]), (('Jewish Extremists', -1), [0, 0, 0, 0, 0, 0, 0, 0]), (('Syrian Social Nationalist Party', -1), [0, 0, 0, 0, 0, 0, 0, 0]), (('Kurdish Democratic Party-Iraq (KDP)', -1), [0, 0, 0, 0, 0, 0, 0, 0]), (('Islamic Unification Movement', -1), [0, 0, 0, 0, 0, 0, 0, 0]), (('The Justice Department', -1), [0, 0, 0, 0, 0, 0, 0, 0]), (('Che Guevara Brigade', -1), [0, 0, 0, 0, 0, 0, 0, 0]), (('Movement of the Revolutionary Left (MIR) (Peru)', -1), [0, 0, 0, 0, 0, 0, 0, 0]), (('Ejercito de Liberacion Nacional (Bolivia)', -1), [0, 0, 0, 0, 0, 0, 0, 0]), (('National Liberation Army (Ecuador)', -1), [0, 0, 0, 0, 0, 0, 0, 0]), (('Jamaat-E-Islami (Bangladesh)', -1), [0, 0, 0, 0, 0, 0, 0, 0]), ((\"People's Liberation Army (India)\", -1), [0, 0, 0, 0, 0, 0, 0, 0]), (('Hizb-I-Islami', -1), [0, 0, 0, 0, 0, 0, 0, 0]), (('Awami League', -1), [0, 0, 0, 0, 0, 0, 0, 0]), (('Jamaat-E-Islami (India/Pakistan)', -1), [0, 0, 0, 0, 0, 0, 0, 0]), (('Babbar Khalsa International (BKI)', -1), [0, 0, 0, 0, 0, 0, 0, 0]), (('Communist Party of India- Marxist', -1), [0, 0, 0, 0, 0, 0, 0, 0]), ((\"Pakistani People's Party (PPP)\", -1), [0, 0, 0, 0, 0, 0, 0, 0]), (('Tamil Nadu Liberation Army', -1), [0, 0, 0, 0, 0, 0, 0, 0]), (('Kuki Tribal Militants', -1), [0, 0, 0, 0, 0, 0, 0, 0]), (('Khasi Students Union', -1), [0, 0, 0, 0, 0, 0, 0, 0]), ((\"All Burma Students' Democratic Front (ABSDF)\", -1), [0, 0, 0, 0, 0, 0, 0, 0]), (('Karenni National Progressive Party', -1), [0, 0, 0, 0, 0, 0, 0, 0]), (('Shan State Army - North (SSA-N)', -1), [0, 0, 0, 0, 0, 0, 0, 0]), (('National League for Democracy', -1), [0, 0, 0, 0, 0, 0, 0, 0]), (('Eritrean Liberation Front', -1), [0, 0, 0, 0, 0, 0, 0, 0]), (('Front for the Liberation of the Enclave of Cabinda (FLEC)', -1), [0, 0, 0, 0, 0, 0, 0, 0]), (('Sudan Liberation Movement', -1), [0, 0, 0, 0, 0, 0, 0, 0]), (('Oromo Liberation Front', -1), [0, 0, 0, 0, 0, 0, 0, 0]), (('Al-Ittihaad al-Islami (AIAI)', -1), [0, 0, 0, 0, 0, 0, 0, 0]), (('Pan Africanist Congress (PAC)', -1), [0, 0, 0, 0, 0, 0, 0, 0]), ((\"People's Democratic Party (PDP)\", -1), [0, 0, 0, 0, 0, 0, 0, 0]), ((\"Odua Peoples' Congress (OPC)\", -1), [0, 0, 0, 0, 0, 0, 0, 0]), (('National Army for the Liberation of Uganda (NALU)', -1), [0, 0, 0, 0, 0, 0, 0, 0]), (('Union of Congolese Patriots (UPC)', -1), [0, 0, 0, 0, 0, 0, 0, 0]), (('Breton Liberation Front (FLB)', -1), [0, 0, 0, 0, 0, 0, 0, 0]), (('Red Hand Commandos', -1), [0, 0, 0, 0, 0, 0, 0, 0]), (('National Organization of Cypriot Fighters (EOKA)', -1), [0, 0, 0, 0, 0, 0, 0, 0]), (('Angry Brigade', -1), [0, 0, 0, 0, 0, 0, 0, 0])])\n"
     ]
    }
   ],
   "source": [
    "import collections\n",
    "group_dict = collections.OrderedDict()\n",
    "for name in dfs_names['group']:\n",
    "    group_dict[(name,-1)] = []\n",
    "    for index in range(len(dimensions)):\n",
    "        group_dict[(name,-1)].append(0)\n",
    "print(group_dict)"
   ]
  },
  {
   "cell_type": "code",
   "execution_count": 5,
   "metadata": {
    "collapsed": false
   },
   "outputs": [],
   "source": [
    "for index, gname in enumerate(dfs['gname']):\n",
    "    for i in range(len(dimensions)):\n",
    "        #if dimensions[i] == 'nkill':\n",
    "        #   print(str(dfs[dimensions[i]][index]))\n",
    "        if str(dfs[dimensions[i]][index]) == 'nan' or dfs[dimensions[i]][index] < 0 :\n",
    "            continue\n",
    "        group_dict[(gname,-1)][i] += dfs[dimensions[i]][index] "
   ]
  },
  {
   "cell_type": "code",
   "execution_count": 6,
   "metadata": {
    "collapsed": false
   },
   "outputs": [
    {
     "name": "stdout",
     "output_type": "stream",
     "text": [
      "OrderedDict([(('Bougainville Revolutionary Army (BRA)', -1), [0.23809523809523808, 0.095238095238095233, 0.095238095238095233, 0.19047619047619047, 0.047619047619047616, 0.0, 0.14285714285714285, 0.0]), (('Kanak Socialist National Liberation Front', -1), [0.20000000000000001, 0.20000000000000001, 0.0, 0.40000000000000002, 0.0, 0.0, 0.20000000000000001, 0.0]), (('September 11 Commandos', -1), [0.0, 0.0, 0.5, 0.0, 0.0, 0.0, 0.5, 0.0]), (('Kanak Separatists', -1), [0.25, 0.5, 0.0, 0.25, 0.0, 0.0, 0.0, 0.0]), (('Animal Liberation Front (ALF)', -1), [0.0, 0.035398230088495575, 0.15044247787610621, 0.80530973451327437, 0.0, 0.0, 0.0, 0.0088495575221238937]), (('Anti-Government Rebels', -1), [0.0, 0.42857142857142855, 0.14285714285714285, 0.0, 0.0, 0.0, 0.42857142857142855, 0.0]), (('Croatian Nationalists', -1), [0.058823529411764705, 0.20588235294117646, 0.6470588235294118, 0.029411764705882353, 0.029411764705882353, 0.029411764705882353, 0.0, 0.0]), (('Free Papua Movement (OPM-Organisasi Papua Merdeka)', -1), [0.62068965517241381, 0.0, 0.034482758620689655, 0.13793103448275862, 0.0, 0.0, 0.2413793103448276, 0.034482758620689655]), (('Informal Anarchist Federation', -1), [0.0, 0.02564102564102564, 0.66666666666666663, 0.30769230769230771, 0.0, 0.0, 0.0, 0.0]), (('National Committee Against Independence (CNCI)', -1), [0.0, 0.5, 0.5, 0.0, 0.0, 0.0, 0.0, 0.0]), (('Vanuatu Mobile Force (VMF)', -1), [0.0, 0.0, 0.0, 0.0, 0.0, 0.5, 0.5, 0.0]), (('Combat 18', -1), [0.5, 0.0, 0.5, 0.0, 0.0, 0.0, 0.0, 0.0]), (('Greek Bulgarian Armenian Front', -1), [0.0, 0.0, 1.0, 0.0, 0.0, 0.0, 0.0, 0.0]), (('Guadalcanal Liberation Army', -1), [1.0, 0.0, 0.0, 0.0, 0.0, 0.0, 0.0, 0.0]), (('Isatabu Freedom Movement (IFM)', -1), [0.0, 0.0, 0.0, 0.0, 1.0, 0.0, 0.0, 0.0]), (('Lufa Tribesmen', -1), [0.0, 0.0, 1.0, 0.0, 0.0, 0.0, 0.0, 0.0]), (('Pacific Popular Front', -1), [0.0, 0.0, 0.0, 1.0, 0.0, 0.0, 0.0, 0.0]), (('Palestine Liberation Organization (PLO)', -1), [0.089743589743589744, 0.23076923076923078, 0.55128205128205132, 0.076923076923076927, 0.01282051282051282, 0.0, 0.05128205128205128, 0.0]), (('Paupa New Guinea Troops', -1), [1.0, 0.0, 0.0, 0.0, 0.0, 0.0, 0.0, 0.0]), (('Zapatista National Liberation Army', -1), [0.43478260869565216, 0.0, 0.2608695652173913, 0.086956521739130432, 0.0, 0.043478260869565216, 0.043478260869565216, 0.0]), (('Farabundo Marti National Liberation Front (FMLN)', -1), [0.24800375763269139, 0.047440112728980743, 0.60732738374823858, 0.043212775951150778, 0.0, 0.02489431658055425, 0.023485204321277594, 0.0]), (('Nicaraguan Democratic Force (FDN)', -1), [0.57728706624605675, 0.012618296529968454, 0.28391167192429023, 0.082018927444794956, 0.0, 0.0031545741324921135, 0.041009463722397478, 0.0]), (('Sandinista National Liberation Front (FSLN)', -1), [0.14999999999999999, 0.1875, 0.14999999999999999, 0.0625, 0.0, 0.0625, 0.068750000000000006, 0.0062500000000000003]), ((\"People's Liberation Forces (FPL)\", -1), [0.21568627450980393, 0.28104575163398693, 0.33986928104575165, 0.071895424836601302, 0.0, 0.052287581699346407, 0.026143790849673203, 0.0]), (('Guerrilla Army of the Poor (EGP)', -1), [0.29838709677419356, 0.14516129032258066, 0.30645161290322581, 0.064516129032258063, 0.0, 0.048387096774193547, 0.064516129032258063, 0.0]), (('Nicaraguan Resistance', -1), [0.5423728813559322, 0.0084745762711864406, 0.3728813559322034, 0.0084745762711864406, 0.0, 0.016949152542372881, 0.033898305084745763, 0.0]), (('Guatemalan National Revolutionary Unity (URNG)', -1), [0.27083333333333331, 0.010416666666666666, 0.5, 0.0, 0.0, 0.0, 0.041666666666666664, 0.0]), (('Death Squad', -1), [0.11692307692307692, 0.78769230769230769, 0.033846153846153845, 0.0, 0.0, 0.0, 0.055384615384615386, 0.0]), (('Revolutionary Organization of People in Arms (ORPA)', -1), [0.36585365853658536, 0.06097560975609756, 0.28048780487804881, 0.073170731707317069, 0.0, 0.085365853658536592, 0.073170731707317069, 0.0]), ((\"People's Revolutionary Army (ERP) (El Salvador)\", -1), [0.12698412698412698, 0.1111111111111111, 0.34920634920634919, 0.063492063492063489, 0.0, 0.14285714285714285, 0.079365079365079361, 0.0]), (('Armed Forces of National Resistance (FARN)', -1), [0.16216216216216217, 0.054054054054054057, 0.027027027027027029, 0.0, 0.0, 0.56756756756756754, 0.10810810810810811, 0.0]), (('Lorenzo Zelaya Revolutionary Front (LZRF)', -1), [0.083333333333333329, 0.027777777777777776, 0.72222222222222221, 0.027777777777777776, 0.027777777777777776, 0.027777777777777776, 0.0, 0.0]), (('Popular Revolutionary Bloc (BPR)', -1), [0.3888888888888889, 0.0, 0.083333333333333329, 0.25, 0.0, 0.055555555555555552, 0.1388888888888889, 0.0]), (('Democratic Revolutionary Alliance (ARDE)', -1), [0.55172413793103448, 0.034482758620689655, 0.31034482758620691, 0.0, 0.034482758620689655, 0.0, 0.068965517241379309, 0.0]), (('Rebel Armed Forces of Guatemala (FAR)', -1), [0.30769230769230771, 0.11538461538461539, 0.038461538461538464, 0.11538461538461539, 0.0, 0.11538461538461539, 0.19230769230769232, 0.0]), (('Patriotic Morazanista Front (FPM)', -1), [0.041666666666666664, 0.25, 0.66666666666666663, 0.041666666666666664, 0.0, 0.0, 0.0, 0.0]), (('Caribbean Revolutionary Alliance (ARC)', -1), [0.040000000000000001, 0.0, 0.95999999999999996, 0.0, 0.0, 0.0, 0.0, 0.0]), (('Guatemalan Labor Party (PGT)', -1), [0.14285714285714285, 0.38095238095238093, 0.33333333333333331, 0.047619047619047616, 0.0, 0.0, 0.095238095238095233, 0.0]), (('Recontras', -1), [0.48214285714285715, 0.053571428571428568, 0.071428571428571425, 0.035714285714285712, 0.0, 0.071428571428571425, 0.17857142857142858, 0.0]), (('Secret Anti-Communist Army (ESA)', -1), [0.052631578947368418, 0.52631578947368418, 0.26315789473684209, 0.0, 0.0, 0.0, 0.15789473684210525, 0.0]), (('Cinchoneros Popular Liberation Movement', -1), [0.0, 0.0, 0.66666666666666663, 0.1111111111111111, 0.055555555555555552, 0.055555555555555552, 0.1111111111111111, 0.0]), ((\"31 January People's Front (FP-31)\", -1), [0.058823529411764705, 0.0, 0.70588235294117652, 0.11764705882352941, 0.0, 0.0, 0.11764705882352941, 0.0]), (('20 December Movement (M-20)', -1), [0.0, 0.066666666666666666, 0.80000000000000004, 0.13333333333333333, 0.0, 0.0, 0.0, 0.0]), (('February 28 Popular League (El Salvador)', -1), [0.33333333333333331, 0.0, 0.0, 0.066666666666666666, 0.0, 0.40000000000000002, 0.13333333333333333, 0.0]), (('Maximiliano Gomez Revolutionary Brigade', -1), [0.0, 0.0, 1.0, 0.0, 0.0, 0.0, 0.0, 0.0]), (('Misurasata Indian Organization', -1), [0.5714285714285714, 0.0, 0.35714285714285715, 0.0, 0.0, 0.0, 0.071428571428571425, 0.0]), (('Union Guerrera Blanca (UGB)', -1), [0.14285714285714285, 0.2857142857142857, 0.14285714285714285, 0.0, 0.0, 0.0, 0.0, 0.0]), (('United Popular Action Front (FAPU)', -1), [0.46153846153846156, 0.0, 0.076923076923076927, 0.0, 0.0, 0.15384615384615385, 0.0, 0.0]), (('South Ossetian Separatists', -1), [0.5, 0.0, 0.69999999999999996, 0.0, 0.0, 0.0, 0.10000000000000001, 0.0]), ((\"People's Democratic Army\", -1), [1.0, 0.0, 0.0, 0.0, 0.0, 0.0, 0.0, 0.0]), (('Supporters of Ex-President Gamsakhurdial', -1), [0.0, 0.0, 0.5714285714285714, 0.14285714285714285, 0.0, 0.0, 0.2857142857142857, 0.0]), (('Islamic Jihad Group (IJG)', -1), [0.0, 0.0, 1.0, 0.0, 0.0, 0.0, 0.0, 0.0]), (('White Legion (Georgia)', -1), [0.0, 0.0, 0.33333333333333331, 0.0, 0.0, 0.0, 0.33333333333333331, 0.0]), (('Forest Brothers', -1), [0.5, 0.0, 1.0, 0.0, 0.0, 0.0, 0.0, 0.0]), (('Islamic Jihad Union (Uzbekistan)', -1), [0.5, 0.0, 1.0, 0.0, 0.0, 0.0, 0.0, 0.0]), (('Rizvon Sadirov Group', -1), [0.0, 0.0, 0.0, 0.0, 0.0, 0.0, 1.0, 0.0]), (('Soldiers of the Caliphate', -1), [0.0, 0.0, 1.0, 0.0, 0.0, 0.0, 0.0, 0.0]), (('Algeisk Wolves', -1), [0.0, 0.0, 1.0, 0.0, 0.0, 0.0, 0.0, 0.0]), (('Hizb al-Tahrir al-Islami (HT)', -1), [0.0, 0.0, 1.0, 0.0, 0.0, 0.0, 0.0, 0.0]), (('Islamic Movement of Uzbekistan (IMU)', -1), [0.0, 0.0, 0.66666666666666663, 0.0, 0.0, 0.0, 0.33333333333333331, 0.0]), (('Sandval (union) Movement', -1), [0.0, 0.0, 0.0, 0.0, 0.0, 0.0, 0.0, 0.0]), (('South Ossetian Extremists', -1), [0.0, 0.0, 0.0, 0.0, 0.0, 0.0, 1.0, 0.0]), (('Tolib Ayombekov loyalists', -1), [0.0, 1.0, 0.0, 0.0, 0.0, 0.0, 0.0, 0.0]), (('Uighur Liberation Organization', -1), [1.0, 0.0, 0.0, 0.0, 0.0, 0.0, 0.0, 0.0]), (('Yekbun', -1), [0.0, 0.0, 0.0, 1.0, 0.0, 0.0, 0.0, 0.0]), (('Zviadists', -1), [0.0, 0.0, 0.0, 0.0, 0.0, 0.0, 1.0, 0.0]), (('Chukakuha (Middle Core Faction)', -1), [0.23333333333333334, 0.0, 0.31666666666666665, 0.45000000000000001, 0.0, 0.0, 0.0, 0.0]), ((\"Revolutionary Workers' Council (Kakurokyo)\", -1), [0.050000000000000003, 0.10000000000000001, 0.5, 0.29999999999999999, 0.0, 0.0, 0.0, 0.050000000000000003]), (('East Asia Anti Japanese Armed Front', -1), [0.0, 0.0, 1.0, 0.0, 0.0, 0.0, 0.0, 0.0]), (('Eastern Turkistan Islamic Movement (ETIM)', -1), [0.5, 0.0, 0.25, 0.125, 0.0, 0.0, 0.0, 0.125]), (('Aum Shinri Kyo', -1), [0.0, 0.2857142857142857, 0.14285714285714285, 0.14285714285714285, 0.0, 0.0, 0.0, 0.42857142857142855]), (('Senki (\"Battle Flag\")', -1), [0.0, 0.0, 0.20000000000000001, 0.80000000000000004, 0.0, 0.0, 0.0, 0.0]), (('14 K Triad', -1), [0.0, 0.0, 1.0, 0.0, 0.0, 0.0, 0.0, 0.0]), (('Seikijuku', -1), [0.66666666666666663, 0.33333333333333331, 0.0, 0.0, 0.0, 0.0, 0.0, 0.0]), (('League of Communists', -1), [0.0, 0.0, 0.0, 1.0, 0.0, 0.0, 0.0, 0.0]), (('Maruseido (Marxist Youth League)', -1), [0.0, 0.0, 0.0, 1.0, 0.0, 0.0, 0.0, 0.0]), (('Sekihotai', -1), [0.0, 0.0, 0.5, 0.0, 0.0, 0.0, 0.0, 0.0]), (('Turkestan Islamic Party', -1), [0.0, 0.0, 1.0, 0.0, 0.0, 0.0, 0.0, 0.0]), (('Anti-Imperialist Students Council', -1), [0.0, 0.0, 0.0, 1.0, 0.0, 0.0, 0.0, 0.0]), (('Anti-Narita Extremists', -1), [0.0, 0.0, 1.0, 0.0, 0.0, 0.0, 0.0, 0.0]), (('Association for the Enhancement of the Justice of the Great Japan', -1), [0.0, 0.0, 0.0, 0.0, 0.0, 0.0, 0.0, 0.0]), (('Chondaehyop (Radical Student Coalition)', -1), [0.0, 0.0, 0.0, 0.0, 0.0, 0.0, 0.0, 0.0]), (('Chonson Univ. students', -1), [0.0, 0.0, 0.0, 1.0, 0.0, 0.0, 0.0, 0.0]), (('Chukakuha Revolutionary Army', -1), [0.0, 0.0, 1.0, 0.0, 0.0, 0.0, 0.0, 0.0]), (('Dainihon Yokuko Doshikai', -1), [0.0, 1.0, 0.0, 0.0, 0.0, 0.0, 0.0, 0.0]), (('Democratic Progressive Party', -1), [0.0, 0.0, 0.0, 0.0, 0.0, 0.0, 0.0, 0.0]), (('Do-or-Die Corps for the Abolition of Anti-Public Taxation Systems', -1), [0.0, 0.0, 0.0, 1.0, 0.0, 0.0, 0.0, 0.0]), (('Great Japan Patriotic Party', -1), [1.0, 0.0, 0.0, 0.0, 0.0, 0.0, 0.0, 0.0]), (('Hanchongryun', -1), [0.0, 0.0, 0.0, 0.0, 0.0, 0.0, 0.0, 1.0]), (('Hiroyuki Jo', -1), [0.0, 1.0, 0.0, 0.0, 0.0, 0.0, 0.0, 0.0]), (('Hotaru (Firefly)', -1), [0.0, 1.0, 0.0, 0.0, 0.0, 0.0, 0.0, 0.0]), (('Issui Kai', -1), [0.0, 0.0, 0.0, 1.0, 0.0, 0.0, 0.0, 0.0]), (('Japan National Youth Alliance', -1), [0.0, 0.0, 0.0, 1.0, 0.0, 0.0, 0.0, 0.0]), ((\"Japan Socialist Youth League of the Revolutionary Workers' Association\", -1), [0.0, 0.0, 0.0, 1.0, 0.0, 0.0, 0.0, 0.0]), (('Japanese Independence Patriotic Party', -1), [0.0, 1.0, 0.0, 0.0, 0.0, 0.0, 0.0, 0.0]), (('Japanese Red Army (JRA)', -1), [0.0, 0.0, 0.125, 0.0, 0.25, 0.25, 0.25, 0.0]), (('Korean Youth League', -1), [0.0, 1.0, 0.0, 0.0, 0.0, 0.0, 0.0, 0.0]), (('Kyongbuk University Dental College Students', -1), [0.0, 0.0, 0.0, 1.0, 0.0, 0.0, 0.0, 0.0]), (('Namchong-Nyon Students', -1), [0.0, 0.0, 0.0, 0.0, 0.0, 0.0, 0.0, 0.0]), (('Nara Red Army', -1), [0.0, 0.0, 0.0, 1.0, 0.0, 0.0, 0.0, 0.0]), (('National Defense Youth Corps', -1), [0.0, 1.0, 0.0, 0.0, 0.0, 0.0, 0.0, 0.0]), (('Revolutionary Army', -1), [0.0, 0.0, 0.0, 1.0, 0.0, 0.0, 0.0, 0.0]), (('Revolutionary Force', -1), [0.0, 0.0, 1.0, 0.0, 0.0, 0.0, 0.0, 0.0]), (('Seiji Kesha Kokuyukai', -1), [1.0, 0.0, 0.0, 0.0, 0.0, 0.0, 0.0, 0.0]), (('Shonkonjuku Group', -1), [0.0, 0.0, 0.0, 0.0, 0.0, 0.0, 0.0, 0.0]), (('Taihikai (Great Sadness)', -1), [0.0, 0.0, 0.0, 0.0, 0.0, 1.0, 0.0, 0.0]), (('Taikosha, right wing group', -1), [0.0, 0.0, 0.0, 1.0, 0.0, 0.0, 0.0, 0.0]), (('Yamaguchi-Gumi Gang', -1), [0.0, 0.0, 0.0, 1.0, 0.0, 0.0, 0.0, 0.0]), (('Yokoku Seiwa-Kai', -1), [0.0, 1.0, 0.0, 0.0, 0.0, 0.0, 0.0, 0.0]), (('Kosovo Liberation Army (KLA)', -1), [0.43902439024390244, 0.024390243902439025, 0.43902439024390244, 0.0, 0.0, 0.024390243902439025, 0.04878048780487805, 0.0]), (('Caucasus Emirate', -1), [0.35897435897435898, 0.076923076923076927, 0.5641025641025641, 0.076923076923076927, 0.0, 0.0, 0.02564102564102564, 0.0]), (('National Liberation Army (NLA) (Macedonia)', -1), [0.41176470588235292, 0.0, 0.23529411764705882, 0.20588235294117646, 0.0, 0.0, 0.088235294117647065, 0.0]), (('Riyadus-Salikhin Reconnaissance and Sabotage Battalion of Chechen Martyrs', -1), [0.20000000000000001, 0.29999999999999999, 0.5, 0.0, 0.0, 0.10000000000000001, 0.0, 0.0]), (('Armed Forces of the Chechen Republic of Ichkeria', -1), [1.0, 0.0, 0.0, 0.0, 0.0, 0.1111111111111111, 0.0, 0.0]), ((\"Dagestani Shari'ah Jamaat\", -1), [0.20000000000000001, 0.20000000000000001, 0.59999999999999998, 0.0, 0.0, 0.0, 0.0, 0.0]), (('Albanian National Army (ANA)', -1), [0.75, 0.0, 0.25, 0.0, 0.0, 0.0, 0.0, 0.0]), (('Islambouli Brigades of al-Qaida', -1), [0.0, 0.0, 0.80000000000000004, 0.0, 0.20000000000000001, 0.0, 0.0, 0.0]), (('NVF', -1), [0.5, 0.0, 0.5, 0.0, 0.0, 0.0, 0.25, 0.0]), (('Ukrainian Nationalist Group', -1), [0.20000000000000001, 0.0, 0.59999999999999998, 0.20000000000000001, 0.0, 0.0, 0.0, 0.20000000000000001]), (('Armenian Nationalists', -1), [1.0, 0.0, 0.0, 0.0, 0.0, 0.0, 0.0, 0.0]), (('Black Berets', -1), [0.33333333333333331, 0.0, 0.66666666666666663, 0.0, 0.0, 0.0, 0.0, 0.0]), (('December 13 Independent Group', -1), [0.0, 0.0, 1.0, 0.0, 0.0, 0.0, 0.0, 0.0]), (('Extraparliamentary Opposition (APO)', -1), [0.33333333333333331, 0.0, 0.16666666666666666, 0.5, 0.0, 0.0, 0.0, 0.0]), (('Internationalist Cells', -1), [0.0, 0.0, 0.0, 1.0, 0.0, 0.0, 0.0, 0.0]), (('Liberation Army for Presevo, Medvedja and Bujanovac (UCPMB)', -1), [0.66666666666666663, 0.33333333333333331, 0.33333333333333331, 0.0, 0.0, 0.0, 0.0, 0.0]), (('Makhachkala Gang', -1), [0.66666666666666663, 0.33333333333333331, 0.0, 0.0, 0.0, 0.0, 0.0, 0.0]), (('Red Army Faction (RAF)', -1), [0.037735849056603772, 0.15094339622641509, 0.39622641509433965, 0.32075471698113206, 0.018867924528301886, 0.0, 0.0, 0.018867924528301886]), (('Revolutionary Cells Network (SRN)', -1), [0.0, 0.0, 0.0, 1.0, 0.0, 0.0, 0.0, 0.0]), (('Islamic State of Iraq and the Levant (ISIL)', -1), [0.099118017639647213, 0.02645947081058379, 0.68794624107517854, 0.019739605207895843, 0.00125997480050399, 0.0041999160016799666, 0.12725745485090298, 0.00041999160016799666]), ((\"Kurdistan Workers' Party (PKK)\", -1), [0.33203125, 0.080468750000000006, 0.27734375, 0.20000000000000001, 0.0031250000000000002, 0.0046874999999999998, 0.0859375, 0.0078125]), (('Al-Qaida in Iraq', -1), [0.12736660929432014, 0.043029259896729774, 0.80206540447504304, 0.0086058519793459545, 0.0, 0.0, 0.043029259896729774, 0.0]), (('Al-Qaida in the Arabian Peninsula (AQAP)', -1), [0.31707317073170732, 0.19699812382739212, 0.38649155722326456, 0.028142589118198873, 0.001876172607879925, 0.0056285178236397749, 0.082551594746716694, 0.001876172607879925]), (('Hamas (Islamic Resistance Movement)', -1), [0.21405750798722045, 0.06070287539936102, 0.71565495207667729, 0.0031948881789137379, 0.0, 0.0, 0.031948881789137379, 0.0095846645367412137]), ((\"Al-Gama'at al-Islamiyya (IG)\", -1), [0.41312741312741313, 0.4826254826254826, 0.054054054054054057, 0.038610038610038609, 0.0, 0.0, 0.0, 0.0]), (('Algerian Islamic Extremists', -1), [0.42741935483870969, 0.048387096774193547, 0.53629032258064513, 0.028225806451612902, 0.0, 0.0040322580645161289, 0.032258064516129031, 0.0]), (('Hezbollah', -1), [0.094861660079051377, 0.083003952569169967, 0.69169960474308301, 0.011857707509881422, 0.015810276679841896, 0.0, 0.12648221343873517, 0.0]), (('Dev Sol', -1), [0.11587982832618025, 0.15879828326180256, 0.50643776824034337, 0.18884120171673821, 0.0042918454935622317, 0.012875536480686695, 0.0042918454935622317, 0.0]), (('Armed Islamic Group (GIA)', -1), [0.39622641509433965, 0.21698113207547171, 0.25943396226415094, 0.061320754716981132, 0.0047169811320754715, 0.0, 0.066037735849056603, 0.0]), (('Palestinian Islamic Jihad (PIJ)', -1), [0.13017751479289941, 0.059171597633136092, 0.83431952662721898, 0.0059171597633136093, 0.0, 0.0059171597633136093, 0.0, 0.0]), (('Al-Aqsa Martyrs Brigade', -1), [0.41139240506329117, 0.031645569620253167, 0.55063291139240511, 0.025316455696202531, 0.0, 0.012658227848101266, 0.050632911392405063, 0.0]), (('Al-Nusrah Front', -1), [0.14193548387096774, 0.025806451612903226, 0.58064516129032262, 0.012903225806451613, 0.0, 0.012903225806451613, 0.24516129032258063, 0.0]), (('Islamic Salvation Front (FIS)', -1), [0.26174496644295303, 0.46308724832214765, 0.14093959731543623, 0.10738255033557047, 0.0, 0.0, 0.013422818791946308, 0.0]), (('Islamic State of Iraq (ISI)', -1), [0.1888111888111888, 0.11188811188811189, 0.67132867132867136, 0.02097902097902098, 0.0, 0.006993006993006993, 0.055944055944055944, 0.0]), (('Salafist Group for Preaching and Fighting (GSPC)', -1), [0.59712230215827333, 0.11510791366906475, 0.38848920863309355, 0.028776978417266189, 0.0, 0.0, 0.093525179856115109, 0.0]), (('Al-Qaida in the Islamic Maghreb (AQIM)', -1), [0.27932960893854747, 0.061452513966480445, 0.55307262569832405, 0.016759776536312849, 0.0055865921787709499, 0.0111731843575419, 0.15642458100558659, 0.0]), (('Tripoli Province of the Islamic State', -1), [0.1328125, 0.0234375, 0.328125, 0.046875, 0.0390625, 0.015625, 0.3046875, 0.0]), (('Sinai Province of the Islamic State', -1), [0.24390243902439024, 0.056910569105691054, 0.57723577235772361, 0.016260162601626018, 0.016260162601626018, 0.0, 0.15447154471544716, 0.0]), (('Popular Front for the Liberation of Palestine (PFLP)', -1), [0.13432835820895522, 0.11194029850746269, 0.60447761194029848, 0.037313432835820892, 0.037313432835820892, 0.044776119402985072, 0.037313432835820892, 0.0]), (('Muslim Brotherhood', -1), [0.15053763440860216, 0.31182795698924731, 0.43010752688172044, 0.043010752688172046, 0.0, 0.0, 0.021505376344086023, 0.0]), (('Mujahedin-e Khalq (MEK)', -1), [0.086021505376344093, 0.20430107526881722, 0.54838709677419351, 0.096774193548387094, 0.021505376344086023, 0.032258064516129031, 0.0, 0.010752688172043012]), (('Barqa Province of the Islamic State', -1), [0.13559322033898305, 0.033898305084745763, 0.6271186440677966, 0.016949152542372881, 0.0, 0.0, 0.15254237288135594, 0.0]), (('Fuerzas Armadas de Liberacion Nacional (FALN)', -1), [0.0085470085470085479, 0.0, 0.94017094017094016, 0.034188034188034191, 0.0, 0.0, 0.017094017094017096, 0.0]), (('New World Liberation Front (NWLF)', -1), [0.011764705882352941, 0.047058823529411764, 0.90588235294117647, 0.035294117647058823, 0.0, 0.0, 0.0, 0.0]), (('Jewish Defense League (JDL)', -1), [0.15853658536585366, 0.036585365853658534, 0.51219512195121952, 0.2073170731707317, 0.012195121951219513, 0.0, 0.024390243902439025, 0.04878048780487805]), (('Earth Liberation Front (ELF)', -1), [0.0, 0.0, 0.097222222222222224, 0.90277777777777779, 0.0, 0.0, 0.0, 0.0]), (('Black Nationalists', -1), [0.26760563380281688, 0.028169014084507043, 0.49295774647887325, 0.23943661971830985, 0.0, 0.0, 0.0, 0.014084507042253521]), (('Omega-7', -1), [0.018518518518518517, 0.055555555555555552, 0.85185185185185186, 0.092592592592592587, 0.0, 0.0, 0.0, 0.0]), (('23rd of September Communist League', -1), [0.56818181818181823, 0.090909090909090912, 0.045454545454545456, 0.0, 0.0, 0.0, 0.27272727272727271, 0.0]), (('Weather Underground, Weathermen', -1), [0.023809523809523808, 0.0, 0.9285714285714286, 0.047619047619047616, 0.0, 0.0, 0.0, 0.0]), (('Macheteros', -1), [0.096774193548387094, 0.064516129032258063, 0.61290322580645162, 0.096774193548387094, 0.0, 0.096774193548387094, 0.0, 0.0]), (('Armed Revolutionary Independence Movement (MIRA)', -1), [0.0, 0.0, 0.59999999999999998, 0.40000000000000002, 0.0, 0.0, 0.0, 0.0]), (('Chicano Liberation Front', -1), [0.033333333333333333, 0.0, 0.73333333333333328, 0.23333333333333334, 0.0, 0.0, 0.0, 0.0]), (('Black Liberation Army', -1), [0.6785714285714286, 0.071428571428571425, 0.10714285714285714, 0.0, 0.10714285714285714, 0.0, 0.0, 0.0]), (('Black Panthers', -1), [0.33333333333333331, 0.041666666666666664, 0.58333333333333337, 0.0, 0.083333333333333329, 0.0, 0.0, 0.0]), (('Army of God', -1), [0.0, 0.17391304347826086, 0.56521739130434778, 0.21739130434782608, 0.0, 0.0, 0.043478260869565216, 0.0]), (('Puerto Rican Nationalists', -1), [0.0, 0.0, 0.86956521739130432, 0.13043478260869565, 0.0, 0.0, 0.0, 0.0]), (('United Freedom Front (UFF)', -1), [0.0, 0.0, 0.86363636363636365, 0.0, 0.0, 0.13636363636363635, 0.0, 0.0]), (('Union of the People (UDP)', -1), [0.0, 0.047619047619047616, 0.95238095238095233, 0.0, 0.0, 0.0, 0.0, 0.0]), (('Ku Klux Klan', -1), [0.34999999999999998, 0.050000000000000003, 0.25, 0.25, 0.0, 0.0, 0.20000000000000001, 0.0]), (('Zebra killers', -1), [1.0, 0.0, 0.0, 0.0, 0.0, 0.0, 0.14999999999999999, 0.0]), (('Independent Armed Revolutionary Commandos (CRIA)', -1), [0.0, 0.15789473684210525, 0.0, 0.84210526315789469, 0.0, 0.0, 0.0, 0.0]), (('George Jackson Brigade', -1), [0.058823529411764705, 0.0, 0.88235294117647056, 0.058823529411764705, 0.0, 0.0, 0.0, 0.0]), (('Jewish Armed Resistance', -1), [0.10526315789473684, 0.10526315789473684, 0.63157894736842102, 0.15789473684210525, 0.0, 0.0, 0.0, 0.0]), (('Shining Path (SL)', -1), [0.21039903264812576, 0.19274486094316809, 0.5044740024183797, 0.041112454655380895, 0.00048367593712212819, 0.0060459492140266021, 0.012333736396614269, 0.0002418379685610641]), (('Revolutionary Armed Forces of Colombia (FARC)', -1), [0.2574791564492398, 0.091221186856302108, 0.41049534085335948, 0.068661108386463957, 0.0053948013732221679, 0.0034330554193231977, 0.15890142226581658, 0.0019617459538989702]), (('National Liberation Army of Colombia (ELN)', -1), [0.17718446601941748, 0.067961165048543687, 0.44579288025889968, 0.034789644012944987, 0.0088996763754045308, 0.011326860841423949, 0.2459546925566343, 0.0]), (('Manuel Rodriguez Patriotic Front (FPMR)', -1), [0.11639549436795996, 0.021276595744680851, 0.77471839799749687, 0.04005006257822278, 0.0012515644555694619, 0.031289111389236547, 0.0037546933667083854, 0.0]), (('Tupac Amaru Revolutionary Movement (MRTA)', -1), [0.091954022988505746, 0.034482758620689655, 0.6954022988505747, 0.022988505747126436, 0.0038314176245210726, 0.070881226053639848, 0.024904214559386972, 0.0]), (('M-19 (Movement of April 19)', -1), [0.34633027522935778, 0.052752293577981654, 0.27522935779816515, 0.066513761467889912, 0.0091743119266055051, 0.09862385321100918, 0.11238532110091744, 0.0]), (('Movement of the Revolutionary Left (MIR) (Chile)', -1), [0.13114754098360656, 0.042622950819672129, 0.72786885245901645, 0.068852459016393447, 0.0, 0.0032786885245901639, 0.0065573770491803279, 0.0]), (('Popular Liberation Army (EPL)', -1), [0.2930232558139535, 0.15348837209302327, 0.12558139534883722, 0.03255813953488372, 0.0, 0.07441860465116279, 0.24186046511627907, 0.0]), (('Simon Bolivar Guerrilla Coordinating Board (CGSB)', -1), [0.24096385542168675, 0.060240963855421686, 0.56024096385542166, 0.012048192771084338, 0.0, 0.012048192771084338, 0.096385542168674704, 0.0]), (('The Extraditables', -1), [0.14814814814814814, 0.1111111111111111, 0.61111111111111116, 0.046296296296296294, 0.0, 0.0, 0.083333333333333329, 0.0]), (('United Popular Action Movement', -1), [0.25925925925925924, 0.12037037037037036, 0.46296296296296297, 0.10185185185185185, 0.018518518518518517, 0.018518518518518517, 0.0092592592592592587, 0.0]), (('Montoneros (Argentina)', -1), [0.11764705882352941, 0.3235294117647059, 0.43137254901960786, 0.049019607843137254, 0.0, 0.019607843137254902, 0.058823529411764705, 0.0]), (('Ejercito Revolucionaria del Pueblo (ERP) (Argentina)', -1), [0.12987012987012986, 0.16883116883116883, 0.44155844155844154, 0.025974025974025976, 0.0, 0.012987012987012988, 0.22077922077922077, 0.0]), (('United Self Defense Units of Colombia (AUC)', -1), [0.640625, 0.0625, 0.0, 0.015625, 0.0, 0.0, 0.296875, 0.015625]), ((\"Paraguayan People's Army (EPP)\", -1), [0.34615384615384615, 0.038461538461538464, 0.19230769230769232, 0.23076923076923078, 0.0, 0.057692307692307696, 0.23076923076923078, 0.0]), (('Tupamaros (Uruguay)', -1), [0.17499999999999999, 0.125, 0.17499999999999999, 0.25, 0.0, 0.025000000000000001, 0.22500000000000001, 0.0]), (('Ricardo Franco Front (Dissident FARC)', -1), [0.10256410256410256, 0.15384615384615385, 0.51282051282051277, 0.076923076923076927, 0.0, 0.02564102564102564, 0.076923076923076927, 0.0]), (('Brunswijk Jungle Commando', -1), [0.33333333333333331, 0.0, 0.18518518518518517, 0.25925925925925924, 0.07407407407407407, 0.037037037037037035, 0.037037037037037035, 0.0]), (('Alfaro Vive', -1), [0.40000000000000002, 0.0, 0.12, 0.0, 0.0, 0.28000000000000003, 0.080000000000000002, 0.0]), (('Tupac Katari Guerrilla Army (EGTK)', -1), [0.0, 0.045454545454545456, 0.90909090909090906, 0.0, 0.0, 0.045454545454545456, 0.0, 0.0]), (('Red Flag (Venezuela)', -1), [0.095238095238095233, 0.047619047619047616, 0.14285714285714285, 0.14285714285714285, 0.14285714285714285, 0.047619047619047616, 0.2857142857142857, 0.0]), (('Peasant Self-Defense Group (ACCU)', -1), [0.61904761904761907, 0.19047619047619047, 0.0, 0.0, 0.0, 0.0, 0.095238095238095233, 0.0]), (('Death to Kidnappers (MAS)', -1), [0.0, 0.83333333333333337, 0.1111111111111111, 0.0, 0.0, 0.0, 0.055555555555555552, 0.0]), (('Popular Militia (Colombia)', -1), [0.0, 0.066666666666666666, 0.93333333333333335, 0.0, 0.0, 0.0, 0.0, 0.0]), (('Rodrigo Franco Command', -1), [0.0, 0.46666666666666667, 0.53333333333333333, 0.0, 0.0, 0.0, 0.0, 0.0]), ((\"Workers' Self-Defense Movement (MAO)\", -1), [0.59999999999999998, 0.0, 0.26666666666666666, 0.0, 0.0, 0.0, 0.0, 0.0]), ((\"People's Revolutionary Organization\", -1), [0.071428571428571425, 0.071428571428571425, 0.7857142857142857, 0.0, 0.0, 0.0, 0.0, 0.071428571428571425]), (('Taliban', -1), [0.33368332633347331, 0.082108357832843343, 0.41495170096598066, 0.048299034019319613, 0.0023099538009239817, 0.003149937001259975, 0.11402771944561109, 0.0065098698026039483]), (('Communist Party of India - Maoist (CPI-Maoist)', -1), [0.44106699751861045, 0.024813895781637719, 0.30459057071960299, 0.1966501240694789, 0.0043424317617866007, 0.0018610421836228288, 0.18486352357320099, 0.0086848635235732014]), (('Liberation Tigers of Tamil Eelam (LTTE)', -1), [0.36062557497700093, 0.10947562097516099, 0.43054277828886844, 0.011039558417663294, 0.0082796688132474698, 0.0, 0.046918123275068994, 0.0018399264029438822]), (('Tehrik-i-Taliban Pakistan (TTP)', -1), [0.29465186680121092, 0.10090817356205853, 0.49949545913218973, 0.04843592330978809, 0.0030272452068617556, 0.010090817356205853, 0.12714429868819374, 0.0040363269424823411]), ((\"People's Liberation Front (JVP)\", -1), [0.29442970822281167, 0.34217506631299732, 0.1883289124668435, 0.16710875331564987, 0.0, 0.0, 0.0053050397877984082, 0.0]), (('United Liberation Front of Assam (ULFA)', -1), [0.16438356164383561, 0.027397260273972601, 0.7226027397260274, 0.010273972602739725, 0.0, 0.0, 0.078767123287671229, 0.0]), (('Baloch Republican Army (BRA)', -1), [0.096638655462184878, 0.012605042016806723, 0.87815126050420167, 0.012605042016806723, 0.0042016806722689074, 0.0, 0.012605042016806723, 0.0]), (('National Democratic Front of Bodoland (NDFB)', -1), [0.45859872611464969, 0.019108280254777069, 0.32484076433121017, 0.012738853503184714, 0.0, 0.0, 0.1464968152866242, 0.031847133757961783]), (('Muttahida Qami Movement (MQM)', -1), [0.44444444444444442, 0.125, 0.041666666666666664, 0.020833333333333332, 0.0, 0.0, 0.0069444444444444441, 0.34722222222222221]), (('Garo National Liberation Army', -1), [0.47794117647058826, 0.022058823529411766, 0.21323529411764705, 0.036764705882352942, 0.0, 0.0, 0.26470588235294118, 0.0073529411764705881]), (('Baloch Liberation Army (BLA)', -1), [0.27350427350427353, 0.11965811965811966, 0.53846153846153844, 0.017094017094017096, 0.0, 0.0, 0.068376068376068383, 0.0]), (('Lashkar-e-Taiba (LeT)', -1), [0.57657657657657657, 0.036036036036036036, 0.44144144144144143, 0.054054054054054057, 0.027027027027027029, 0.036036036036036036, 0.11711711711711711, 0.0]), (('Hizbul Mujahideen (HM)', -1), [0.44761904761904764, 0.14285714285714285, 0.3619047619047619, 0.0095238095238095247, 0.0, 0.0, 0.076190476190476197, 0.0]), (('Lashkar-e-Jhangvi', -1), [0.51515151515151514, 0.10101010101010101, 0.39393939393939392, 0.0, 0.0, 0.010101010101010102, 0.020202020202020204, 0.020202020202020204]), ((\"People's War Group (PWG)\", -1), [0.18681318681318682, 0.087912087912087919, 0.59340659340659341, 0.076923076923076927, 0.01098901098901099, 0.0, 0.10989010989010989, 0.0]), (('Pro Hartal Activists', -1), [0.0, 0.032967032967032968, 0.69230769230769229, 0.30769230769230771, 0.0, 0.0, 0.0, 0.0]), (('Lashkar-e-Islam (Pakistan)', -1), [0.25287356321839083, 0.0, 0.48275862068965519, 0.045977011494252873, 0.011494252873563218, 0.0, 0.25287356321839083, 0.0]), (('Shanti Bahini - Peace Force', -1), [0.51162790697674421, 0.27906976744186046, 0.069767441860465115, 0.011627906976744186, 0.0, 0.0, 0.10465116279069768, 0.0]), (('Baloch Liberation Front (BLF)', -1), [0.47945205479452052, 0.068493150684931503, 0.24657534246575341, 0.095890410958904104, 0.013698630136986301, 0.041095890410958902, 0.17808219178082191, 0.0]), (('Janatantrik Terai Mukti Morcha- Jwala Singh (JTMM-J)', -1), [0.31944444444444442, 0.0, 0.19444444444444445, 0.097222222222222224, 0.0, 0.0, 0.47222222222222221, 0.0]), (('United Baloch Army (UBA)', -1), [0.10000000000000001, 0.028571428571428571, 0.82857142857142863, 0.014285714285714285, 0.014285714285714285, 0.0, 0.028571428571428571, 0.0]), (('National Liberation Front of Tripura (NLFT)', -1), [0.44927536231884058, 0.014492753623188406, 0.10144927536231885, 0.0, 0.0, 0.0, 0.50724637681159424, 0.0]), (('Bangladesh Nationalist Party (BNP)', -1), [0.073529411764705885, 0.10294117647058823, 0.51470588235294112, 0.22058823529411764, 0.0, 0.0, 0.0, 0.0]), (('Naxalites', -1), [0.42424242424242425, 0.030303030303030304, 0.36363636363636365, 0.015151515151515152, 0.0, 0.0, 0.19696969696969696, 0.0]), (('Haqqani Network', -1), [0.234375, 0.078125, 0.734375, 0.0, 0.0, 0.015625, 0.0625, 0.015625]), ((\"New People's Army (NPA)\", -1), [0.32427055702917773, 0.20225464190981432, 0.17241379310344829, 0.18766578249336871, 0.0053050397877984082, 0.015915119363395226, 0.10676392572944297, 0.00066312997347480103]), (('Abu Sayyaf Group (ASG)', -1), [0.15472779369627507, 0.034383954154727794, 0.44985673352435529, 0.02865329512893983, 0.0, 0.0057306590257879654, 0.38108882521489973, 0.0]), (('Moro Islamic Liberation Front (MILF)', -1), [0.29206349206349208, 0.0095238095238095247, 0.53015873015873016, 0.076190476190476197, 0.0031746031746031746, 0.0063492063492063492, 0.12063492063492064, 0.0]), (('Moro National Liberation Front (MNLF)', -1), [0.25903614457831325, 0.048192771084337352, 0.40963855421686746, 0.030120481927710843, 0.006024096385542169, 0.0, 0.18674698795180722, 0.0]), (('Khmer Rouge', -1), [0.25, 0.0067567567567567571, 0.48648648648648651, 0.013513513513513514, 0.0, 0.013513513513513514, 0.0945945945945946, 0.0]), (('Bangsamoro Islamic Freedom Movement (BIFM)', -1), [0.19047619047619047, 0.027210884353741496, 0.7142857142857143, 0.020408163265306121, 0.0, 0.0, 0.047619047619047616, 0.0]), (('Runda Kumpulan Kecil (RKK)', -1), [0.14018691588785046, 0.0093457943925233638, 0.80373831775700932, 0.10280373831775701, 0.0, 0.0, 0.0, 0.0]), (('Free Aceh Movement (GAM)', -1), [0.35238095238095241, 0.076190476190476197, 0.41904761904761906, 0.12380952380952381, 0.0, 0.0, 0.085714285714285715, 0.0]), (('Karen National Union', -1), [0.26190476190476192, 0.0, 0.65476190476190477, 0.035714285714285712, 0.011904761904761904, 0.0, 0.011904761904761904, 0.011904761904761904]), (('Jemaah Islamiya (JI)', -1), [0.013698630136986301, 0.0, 0.98630136986301364, 0.0, 0.0, 0.0, 0.0, 0.0]), (('Pattani United Liberation Organization (PULO)', -1), [0.14893617021276595, 0.042553191489361701, 0.82978723404255317, 0.021276595744680851, 0.0, 0.0, 0.0, 0.0]), (('Thai Islamic Militants', -1), [0.46808510638297873, 0.085106382978723402, 0.48936170212765956, 0.0, 0.0, 0.0, 0.0, 0.0]), (('April 6th Liberation Movement', -1), [0.0, 0.0, 0.8666666666666667, 0.10000000000000001, 0.0, 0.0, 0.0, 0.0]), (('Kachin Independence Army (KIA)', -1), [0.16666666666666666, 0.0, 0.45833333333333331, 0.29166666666666669, 0.0, 0.0, 0.125, 0.0]), (('United Front for Democracy Against Dictatorship', -1), [0.043478260869565216, 0.0, 0.34782608695652173, 0.60869565217391308, 0.0, 0.0, 0.0, 0.0]), (('Democratic Karen Buddhist Army (DKBA)', -1), [0.5, 0.055555555555555552, 0.1111111111111111, 0.16666666666666666, 0.055555555555555552, 0.0, 0.055555555555555552, 0.0]), (('Mujahidin Indonesia Timur (MIT)', -1), [0.73333333333333328, 0.0, 0.066666666666666666, 0.0, 0.0, 0.0, 0.13333333333333333, 0.0]), (('Alex Boncayao Brigade (ABB)', -1), [0.45454545454545453, 0.18181818181818182, 0.36363636363636365, 0.090909090909090912, 0.0, 0.0, 0.0, 0.0]), (('Barisan Revolusi Nasional (BRN)', -1), [0.59999999999999998, 0.0, 0.40000000000000002, 0.0, 0.0, 0.0, 0.0, 0.0]), (('Al-Khobar', -1), [0.0, 0.0, 1.0, 0.0, 0.0, 0.0, 0.0, 0.0]), (('Jamaah Ansharut Tauhid (JAT)', -1), [0.125, 0.125, 0.625, 0.125, 0.0, 0.0, 0.0, 0.0]), (('Reform of the Armed Forces Movement', -1), [0.0, 0.0, 1.0, 0.0, 0.0, 0.0, 0.0, 0.0]), (('Boko Haram', -1), [0.56058823529411761, 0.029411764705882353, 0.31058823529411766, 0.21823529411764706, 0.0017647058823529412, 0.0052941176470588233, 0.0688235294117647, 0.0]), (('Al-Shabaab', -1), [0.31323529411764706, 0.10661764705882353, 0.37573529411764706, 0.035294117647058823, 0.011764705882352941, 0.0095588235294117654, 0.14632352941176471, 0.0051470588235294117]), (('African National Congress (South Africa)', -1), [0.073584905660377356, 0.13018867924528302, 0.64905660377358487, 0.0018867924528301887, 0.0, 0.0, 0.0, 0.0018867924528301887]), (('National Union for the Total Independence of Angola (UNITA)', -1), [0.25587467362924282, 0.007832898172323759, 0.61096605744125332, 0.041775456919060053, 0.0, 0.0026109660574412533, 0.075718015665796348, 0.0]), ((\"Lord's Resistance Army (LRA)\", -1), [0.51953125, 0.01953125, 0.03125, 0.1484375, 0.0, 0.0, 0.4375, 0.0078125]), (('Mozambique National Resistance Movement (MNR)', -1), [0.589622641509434, 0.033018867924528301, 0.17924528301886791, 0.061320754716981132, 0.0047169811320754715, 0.02358490566037736, 0.084905660377358486, 0.0047169811320754715]), (('Janjaweed', -1), [0.43712574850299402, 0.0059880239520958087, 0.0, 0.22155688622754491, 0.041916167664670656, 0.0059880239520958087, 0.43113772455089822, 0.11976047904191617]), (('Allied Democratic Forces (ADF)', -1), [0.69166666666666665, 0.033333333333333333, 0.10833333333333334, 0.083333333333333329, 0.0, 0.0083333333333333332, 0.27500000000000002, 0.0]), (('Movement for the Emancipation of the Niger Delta (MEND)', -1), [0.20779220779220781, 0.0, 0.53246753246753242, 0.1038961038961039, 0.012987012987012988, 0.012987012987012988, 0.29870129870129869, 0.0]), (('Democratic Front for the Liberation of Rwanda (FDLR)', -1), [0.546875, 0.015625, 0.0625, 0.171875, 0.0, 0.0, 0.3125, 0.0]), (('Movement of Democratic Forces of Casamance', -1), [0.57377049180327866, 0.049180327868852458, 0.19672131147540983, 0.032786885245901641, 0.032786885245901641, 0.0, 0.081967213114754092, 0.016393442622950821]), ((\"South-West Africa People's Organization (SWAPO)\", -1), [0.14545454545454545, 0.25454545454545452, 0.45454545454545453, 0.0, 0.0, 0.0, 0.10909090909090909, 0.0]), (('Revolutionary United Front (RUF)', -1), [0.57407407407407407, 0.0, 0.07407407407407407, 0.037037037037037035, 0.0, 0.018518518518518517, 0.29629629629629628, 0.018518518518518517]), ((\"Sudan People's Liberation Movement - North\", -1), [0.15384615384615385, 0.0, 0.48717948717948717, 0.23076923076923078, 0.0, 0.0, 0.076923076923076927, 0.0]), ((\"Sudan People's Liberation Army (SPLA)\", -1), [0.23684210526315788, 0.13157894736842105, 0.18421052631578946, 0.052631578947368418, 0.026315789473684209, 0.0, 0.23684210526315788, 0.0]), (('Party for the Liberation of the Hutu People (PALIPEHUTU)', -1), [0.52777777777777779, 0.027777777777777776, 0.25, 0.1111111111111111, 0.0, 0.0, 0.083333333333333329, 0.0]), (('Inkatha Freedom Party (IFP)', -1), [0.59999999999999998, 0.40000000000000002, 0.0, 0.0, 0.0, 0.0, 0.0, 0.0]), (('Movement for Oneness and Jihad in West Africa (MUJAO)', -1), [0.18181818181818182, 0.030303030303030304, 0.51515151515151514, 0.030303030303030304, 0.0, 0.0, 0.21212121212121213, 0.0]), (('Mayi Mayi', -1), [0.75, 0.0, 0.0, 0.10714285714285714, 0.0, 0.0, 0.4642857142857143, 0.0]), (('Seleka', -1), [0.6428571428571429, 0.071428571428571425, 0.071428571428571425, 0.14285714285714285, 0.0, 0.035714285714285712, 0.32142857142857145, 0.0]), (('National Liberation Front (FNL) (Burundi)', -1), [0.14814814814814814, 0.0, 0.88888888888888884, 0.0, 0.0, 0.0, 0.0, 0.0]), (('Patriotic Resistance Front in Ituri (FRPI)', -1), [0.38461538461538464, 0.038461538461538464, 0.0, 0.038461538461538464, 0.0, 0.15384615384615385, 0.38461538461538464, 0.0]), ((\"Sudan People's Liberation Movement in Opposition (SPLM-IO)\", -1), [0.33333333333333331, 0.0, 0.0, 0.20833333333333334, 0.0, 0.0, 0.25, 0.0]), (('Zimbabwe African Nationalist Union (ZANU)', -1), [0.095238095238095233, 0.14285714285714285, 0.2857142857142857, 0.095238095238095233, 0.0, 0.0, 0.19047619047619047, 0.047619047619047616]), (('Azawad National Liberation Movement (MNLA)', -1), [0.55555555555555558, 0.0, 0.0, 0.055555555555555552, 0.055555555555555552, 0.055555555555555552, 0.22222222222222221, 0.0]), (('Uganda Freedom Movement (UFM)', -1), [0.055555555555555552, 0.16666666666666666, 0.33333333333333331, 0.3888888888888889, 0.0, 0.0, 0.0, 0.0]), (('Basque Fatherland and Freedom (ETA)', -1), [0.083989501312335957, 0.2220472440944882, 0.60472440944881889, 0.045669291338582677, 0.0, 0.0020997375328083989, 0.039895013123359579, 0.0]), (('Irish Republican Army (IRA)', -1), [0.094329623741388452, 0.26921038685744569, 0.4573396926338103, 0.15315315315315314, 0.001589825119236884, 0.0026497085320614732, 0.01695813460519343, 0.0]), (('Corsican National Liberation Front (FLNC)', -1), [0.015948963317384369, 0.015948963317384369, 0.93301435406698563, 0.028708133971291867, 0.0, 0.0079744816586921844, 0.0047846889952153108, 0.0]), (('Ulster Volunteer Force (UVF)', -1), [0.16597510373443983, 0.57261410788381739, 0.23651452282157676, 0.0041493775933609959, 0.0, 0.0, 0.0082987551867219917, 0.016597510373443983]), (('Ulster Freedom Fighters (UFF)', -1), [0.095238095238095233, 0.61471861471861466, 0.12121212121212122, 0.16017316017316016, 0.0, 0.0, 0.0, 0.004329004329004329]), (('Red Brigades', -1), [0.34905660377358488, 0.28301886792452829, 0.17452830188679244, 0.089622641509433956, 0.0, 0.037735849056603772, 0.051886792452830191, 0.0047169811320754715]), (('First of October Antifascist Resistance Group (GRAPO)', -1), [0.116751269035533, 0.23857868020304568, 0.56852791878172593, 0.025380710659898477, 0.0, 0.02030456852791878, 0.030456852791878174, 0.0]), (('Corsican National Liberation Front- Historic Channel', -1), [0.0, 0.0, 0.9609375, 0.03125, 0.0, 0.0078125, 0.0, 0.0]), (('Armenian Secret Army for the Liberation of Armenia', -1), [0.011363636363636364, 0.125, 0.80681818181818177, 0.011363636363636364, 0.0, 0.011363636363636364, 0.005681818181818182, 0.0]), (('November 17 Revolutionary Organization (N17RO)', -1), [0.037735849056603772, 0.15094339622641509, 0.81132075471698117, 0.0, 0.0, 0.0, 0.0, 0.0]), (('Irish National Liberation Army (INLA)', -1), [0.054945054945054944, 0.50549450549450547, 0.25274725274725274, 0.13186813186813187, 0.0, 0.0, 0.054945054945054944, 0.0]), ((\"Revolutionary People's Struggle (ELA)\", -1), [0.035714285714285712, 0.047619047619047616, 0.88095238095238093, 0.035714285714285712, 0.0, 0.0, 0.0, 0.0]), (('Irish Republican Extremists', -1), [0.06741573033707865, 0.5842696629213483, 0.23595505617977527, 0.033707865168539325, 0.06741573033707865, 0.0, 0.011235955056179775, 0.011235955056179775]), (('Dissident Republicans', -1), [0.13636363636363635, 0.015151515151515152, 0.71212121212121215, 0.15151515151515152, 0.015151515151515152, 0.015151515151515152, 0.0, 0.0]), (('Terra Lliure', -1), [0.016393442622950821, 0.016393442622950821, 0.91803278688524592, 0.0, 0.0, 0.0, 0.0, 0.0]), (('Prima Linea', -1), [0.34482758620689657, 0.2413793103448276, 0.18965517241379309, 0.13793103448275862, 0.0, 0.051724137931034482, 0.0, 0.0]), (('Iparretarrak (IK)', -1), [0.036363636363636362, 0.018181818181818181, 0.90909090909090906, 0.018181818181818181, 0.0, 0.0, 0.0, 0.0]), (('Action Directe', -1), [0.037735849056603772, 0.056603773584905662, 0.83018867924528306, 0.018867924528301886, 0.0, 0.0, 0.018867924528301886, 0.0]), (('Baader-Meinhof Group', -1), [0.058823529411764705, 0.19607843137254902, 0.5490196078431373, 0.13725490196078433, 0.0, 0.019607843137254902, 0.039215686274509803, 0.0]), (('Conspiracy of Cells of Fire', -1), [0.0, 0.076923076923076927, 0.51923076923076927, 0.40384615384615385, 0.0, 0.0, 0.0, 0.0]), (('Revolutionary Cells', -1), [0.14000000000000001, 0.040000000000000001, 0.68000000000000005, 0.14000000000000001, 0.0, 0.0, 0.0, 0.0]), ((\"Free Galician People's Guerrilla Army\", -1), [0.021276595744680851, 0.0, 0.82978723404255317, 0.0, 0.0, 0.0, 0.0, 0.0]), (('Popular Forces of April 25', -1), [0.0, 0.15217391304347827, 0.78260869565217395, 0.021739130434782608, 0.0, 0.0, 0.021739130434782608, 0.0]), (('Revolutionary Patriotic Anti-Fascist Front (FRAP)', -1), [0.24444444444444444, 0.13333333333333333, 0.22222222222222221, 0.40000000000000002, 0.0, 0.0, 0.0, 0.0]), (('Real Irish Republican Army (RIRA)', -1), [0.10256410256410256, 0.0, 0.82051282051282048, 0.05128205128205128, 0.02564102564102564, 0.0, 0.02564102564102564, 0.0]), (('Ex-Somoza National Guard', -1), [0.63636363636363635, 0.090909090909090912, 0.18181818181818182, 0.0, 0.0, 0.0, 0.090909090909090912, 0.0]), (('Coordination of the United Revolutionary Organization (CORU)', -1), [0.0, 0.071428571428571425, 0.9285714285714286, 0.0, 0.0, 0.0, 0.0, 0.0]), (('Maximiliano Hernandez Martinez Brigade', -1), [0.2857142857142857, 0.0, 0.5714285714285714, 0.0, 0.0, 0.0, 0.14285714285714285, 0.0]), (('Revolutionary Front for Hatian Advancement and Progress (FRAPH)', -1), [0.25, 0.0, 0.0, 0.0, 0.0, 0.0, 0.0, 0.5]), (('Ansar Allah', -1), [0.0, 0.0, 1.0, 0.0, 0.0, 0.0, 0.0, 0.0]), (('Bloque Anti-Guerrillero de Oriente (BAGO)', -1), [1.0, 0.0, 0.0, 0.0, 0.0, 0.0, 0.0, 0.0]), (('Chechen Lone Wolf Group', -1), [0.5, 0.0, 0.0, 0.0, 0.0, 0.5, 0.0, 0.0]), (('Justice Commandos for the Armenian Genocide', -1), [0.0, 0.45454545454545453, 0.5, 0.045454545454545456, 0.0, 0.0, 0.0, 0.0]), (('Sayfullakh', -1), [1.0, 0.0, 0.0, 0.0, 0.0, 0.0, 0.0, 0.0]), (('Special Purpose Islamic Regiment (SPIR)', -1), [0.0, 0.0, 0.0, 0.0, 0.0, 1.0, 0.0, 0.0]), (('Free Syrian Army', -1), [0.046511627906976744, 0.046511627906976744, 0.72093023255813948, 0.0, 0.0, 0.0, 0.18604651162790697, 0.0]), (('Tawhid and Jihad', -1), [0.21428571428571427, 0.023809523809523808, 0.66666666666666663, 0.023809523809523808, 0.0, 0.0, 0.23809523809523808, 0.0]), (('Sanaa Province of the Islamic State', -1), [0.0, 0.1111111111111111, 0.88888888888888884, 0.0, 0.0, 0.0, 0.0, 0.0]), (('Abdullah Azzam Brigades', -1), [0.047619047619047616, 0.047619047619047616, 0.90476190476190477, 0.0, 0.0, 0.0, 0.0, 0.0]), (('Front for the Liberation of Lebanon from Foreigners', -1), [0.0, 0.083333333333333329, 0.91666666666666663, 0.0, 0.0, 0.0, 0.0, 0.0]), (('Ansar al-Din Front', -1), [0.0, 0.0, 0.0, 0.0, 0.0, 0.0, 1.0, 0.0]), (('Institutional Revolutionary Party (PRI)', -1), [0.7857142857142857, 0.071428571428571425, 0.0, 0.0, 0.0, 0.0, 0.14285714285714285, 0.0]), (('Popular Revolutionary Army (Mexico)', -1), [0.69230769230769229, 0.0, 0.23076923076923078, 0.0, 0.0, 0.0, 0.076923076923076927, 0.0]), (('Armed Commandos of Liberation', -1), [0.0, 0.083333333333333329, 0.91666666666666663, 0.0, 0.0, 0.0, 0.0, 0.0]), (('Democratic Revolutionary Party', -1), [0.72727272727272729, 0.0, 0.0, 0.0, 0.0, 0.0, 0.18181818181818182, 0.0]), (('Al-Qaida', -1), [0.10000000000000001, 0.10000000000000001, 0.78000000000000003, 0.0, 0.080000000000000002, 0.0, 0.040000000000000001, 0.02]), (('Vietnamese Organization to Exterminate Communists and Restore the Nation', -1), [0.0, 0.66666666666666663, 0.0, 0.33333333333333331, 0.0, 0.0, 0.0, 0.0]), (('Individuals Tending Toward Savagery', -1), [0.0, 0.0, 0.5, 0.5, 0.0, 0.0, 0.0, 0.0]), (('Militant Peasants (NFI)', -1), [1.0, 0.0, 0.0, 0.0, 0.0, 0.0, 0.0, 0.0]), (('Republic of New Afrika', -1), [1.0, 0.0, 0.0, 0.5, 0.0, 0.0, 0.0, 0.0]), (('Jonathan Jackson Brigade', -1), [0.0, 0.0, 0.0, 0.0, 0.0, 0.0, 1.0, 0.0]), (('Justice Army for Defenseless Peoples', -1), [1.0, 0.0, 0.0, 0.0, 0.0, 0.0, 0.0, 0.0]), (('Movement for Triqui Unification and Struggle', -1), [0.0, 1.0, 0.0, 0.0, 0.0, 0.0, 0.0, 0.0]), (('America Battalion', -1), [0.75, 0.0, 0.25, 0.0, 0.0, 0.0, 0.0, 0.0]), (('Commandos for A Popular alternative', -1), [1.0, 0.0, 0.0, 0.0, 0.0, 0.0, 0.0, 0.0]), (('Death to Rustlers', -1), [0.0, 1.0, 0.0, 0.0, 0.0, 0.0, 0.0, 0.0]), (('National Socialist Civic Workers Movement', -1), [0.5, 0.0, 0.5, 0.0, 0.0, 0.0, 0.0, 0.0]), (('Khorasan Chapter of the Islamic State', -1), [0.26984126984126983, 0.19047619047619047, 0.34920634920634919, 0.015873015873015872, 0.0, 0.0, 0.19047619047619047, 0.0]), (('Maoist Communist Center (MCC)', -1), [0.45454545454545453, 0.030303030303030304, 0.30303030303030304, 0.18181818181818182, 0.0, 0.0, 0.030303030303030304, 0.0]), (('Communist Party of Nepal- Maoist (CPN-M)', -1), [0.36842105263157893, 0.052631578947368418, 0.57894736842105265, 0.0, 0.0, 0.0, 0.15789473684210525, 0.0]), (('Jundallah', -1), [0.29032258064516131, 0.032258064516129031, 0.58064516129032262, 0.0, 0.0, 0.0, 0.12903225806451613, 0.0]), (('Harkatul Jihad-e-Islami', -1), [0.14285714285714285, 0.14285714285714285, 0.7857142857142857, 0.0, 0.0, 0.0, 0.0, 0.0]), (('Vigilante Group', -1), [0.47999999999999998, 0.47999999999999998, 0.0, 0.0, 0.0, 0.0, 0.040000000000000001, 0.0]), (('Deccan Mujahideen', -1), [0.875, 0.0, 0.375, 0.0, 0.25, 0.0, 0.5, 0.0]), ((\"Cambodian People's Party (CPP)\", -1), [0.33333333333333331, 0.0, 0.66666666666666663, 0.0, 0.0, 0.0, 0.0, 0.0]), (('North Korean involvement commandos', -1), [0.0, 0.0, 1.0, 0.0, 0.0, 0.0, 0.0, 0.0]), (('Justice and Equality Movement (JEM)', -1), [0.58823529411764708, 0.0, 0.058823529411764705, 0.058823529411764705, 0.0, 0.0, 0.29411764705882354, 0.0]), (('Tigray Peoples Liberation Front (TPLF)', -1), [0.20000000000000001, 0.0, 0.0, 0.0, 0.0, 0.10000000000000001, 0.59999999999999998, 0.0]), (('National Resistance Movement (NRM)', -1), [0.0, 0.0, 0.33333333333333331, 0.0, 0.33333333333333331, 0.0, 0.0, 0.0]), (('Dissident Military Mmbrs of Northern Tribal Group', -1), [1.0, 0.0, 0.0, 0.0, 0.0, 0.0, 0.0, 0.0]), (('Black September', -1), [0.10204081632653061, 0.18367346938775511, 0.55102040816326525, 0.020408163265306121, 0.020408163265306121, 0.081632653061224483, 0.040816326530612242, 0.0]), (('Armed Revolutionary Nuclei (NAR)', -1), [0.050000000000000003, 0.45000000000000001, 0.25, 0.20000000000000001, 0.0, 0.0, 0.050000000000000003, 0.0]), (('Official Irish Republican Army (OIRA)', -1), [0.15789473684210525, 0.73684210526315785, 0.052631578947368418, 0.0, 0.0, 0.0, 0.0, 0.052631578947368418]), (('Abu Nidal Organization (ANO)', -1), [0.0, 0.39473684210526316, 0.39473684210526316, 0.0, 0.078947368421052627, 0.052631578947368418, 0.078947368421052627, 0.0]), (('Abu Hafs al-Masri Brigades', -1), [0.0, 0.0, 1.0, 0.0, 0.0, 0.0, 0.0, 0.0]), (('Black Order', -1), [0.0, 0.0, 0.83333333333333337, 0.16666666666666666, 0.0, 0.0, 0.0, 0.0]), (('Republican Action Force', -1), [0.83333333333333337, 0.16666666666666666, 0.0, 0.0, 0.0, 0.0, 0.0, 0.0]), (('Secret Organization of al-Qaida in Europe', -1), [0.0, 0.0, 1.0, 0.0, 0.0, 0.0, 0.0, 0.0]), (('Popular Front for the Liberation of Palestine, Gen Cmd (PFLP-GC)', -1), [0.14285714285714285, 0.0, 0.7142857142857143, 0.0, 0.0, 0.14285714285714285, 0.0, 0.0]), (('New Order', -1), [0.0, 0.0, 1.0, 0.0, 0.0, 0.0, 0.0, 0.0]), (('Mano Blanca', -1), [0.0, 0.40000000000000002, 0.20000000000000001, 0.0, 0.0, 0.0, 0.40000000000000002, 0.0]), (('Miskito Indian Organization', -1), [0.33333333333333331, 0.0, 0.0, 0.0, 0.0, 0.33333333333333331, 0.33333333333333331, 0.0]), (('National Anti Communist Commando', -1), [0.33333333333333331, 0.66666666666666663, 0.0, 0.0, 0.0, 0.0, 0.0, 0.0]), (('Revolutionary Workers Party', -1), [0.0, 0.20000000000000001, 0.80000000000000004, 0.0, 0.0, 0.0, 0.0, 0.0]), (('Guatemalan Communist Party', -1), [0.5, 0.5, 0.0, 0.0, 0.0, 0.0, 0.0, 0.0]), (('Jamaica Labor Party', -1), [1.0, 0.0, 0.0, 0.0, 0.0, 0.0, 0.0, 0.0]), (('Cossack Separatists', -1), [0.0, 0.0, 1.0, 0.0, 0.0, 0.0, 0.0, 0.0]), ((\"Kata'ib al-Khoul\", -1), [0.5, 0.5, 0.0, 0.0, 0.0, 0.0, 0.0, 0.0]), (('Al-Fatah', -1), [0.40384615384615385, 0.096153846153846159, 0.28846153846153844, 0.038461538461538464, 0.038461538461538464, 0.019230769230769232, 0.15384615384615385, 0.0]), (('Devrimici Halk Kurtulus Cephesi (DHKP/C)', -1), [0.35294117647058826, 0.088235294117647065, 0.58823529411764708, 0.0, 0.0, 0.0, 0.0, 0.0]), (('Democratic Front for the Liberation of Palestine (DFLP)', -1), [0.11764705882352941, 0.088235294117647065, 0.67647058823529416, 0.058823529411764705, 0.0, 0.029411764705882353, 0.0, 0.0]), (('Turkish Communist Party/Marxist (TKP-ML)', -1), [0.17857142857142858, 0.10714285714285714, 0.42857142857142855, 0.14285714285714285, 0.0, 0.0, 0.10714285714285714, 0.0]), (('Jewish Extremists', -1), [0.29629629629629628, 0.1111111111111111, 0.1111111111111111, 0.22222222222222221, 0.0, 0.0, 0.0, 0.1111111111111111]), (('Syrian Social Nationalist Party', -1), [0.0, 0.0, 0.59999999999999998, 0.20000000000000001, 0.0, 0.0, 0.0, 0.0]), (('Kurdish Democratic Party-Iraq (KDP)', -1), [0.25, 0.0, 0.25, 0.0, 0.0, 0.0, 0.5, 0.0]), (('Islamic Unification Movement', -1), [0.0, 0.0, 1.0, 0.0, 0.0, 0.0, 0.0, 0.0]), (('The Justice Department', -1), [0.0, 0.0, 0.0, 0.0625, 0.0, 0.0, 0.0, 0.9375]), (('Che Guevara Brigade', -1), [0.0, 0.0, 1.0, 0.0, 0.0, 0.0, 0.0, 0.0]), (('Movement of the Revolutionary Left (MIR) (Peru)', -1), [0.42857142857142855, 0.2857142857142857, 0.14285714285714285, 0.0, 0.0, 0.14285714285714285, 0.0, 0.0]), (('Ejercito de Liberacion Nacional (Bolivia)', -1), [0.0, 0.0, 0.33333333333333331, 0.0, 0.0, 0.0, 0.66666666666666663, 0.0]), (('National Liberation Army (Ecuador)', -1), [0.0, 0.0, 0.33333333333333331, 0.0, 0.0, 0.0, 0.66666666666666663, 0.0]), (('Jamaat-E-Islami (Bangladesh)', -1), [0.26666666666666666, 0.066666666666666666, 0.40000000000000002, 0.25, 0.0, 0.0, 0.0, 0.050000000000000003]), ((\"People's Liberation Army (India)\", -1), [0.13636363636363635, 0.022727272727272728, 0.84090909090909094, 0.0, 0.0, 0.0, 0.022727272727272728, 0.0]), (('Hizb-I-Islami', -1), [0.033333333333333333, 0.066666666666666666, 0.66666666666666663, 0.066666666666666666, 0.0, 0.0, 0.10000000000000001, 0.033333333333333333]), (('Awami League', -1), [0.5, 0.076923076923076927, 0.15384615384615385, 0.19230769230769232, 0.0, 0.0, 0.038461538461538464, 0.038461538461538464]), (('Jamaat-E-Islami (India/Pakistan)', -1), [0.40000000000000002, 0.0, 0.10000000000000001, 0.20000000000000001, 0.0, 0.0, 0.0, 0.20000000000000001]), (('Babbar Khalsa International (BKI)', -1), [0.0, 0.20000000000000001, 0.69999999999999996, 0.0, 0.0, 0.0, 0.10000000000000001, 0.0]), (('Communist Party of India- Marxist', -1), [0.25, 0.125, 0.375, 0.125, 0.0, 0.0, 0.0, 0.0]), ((\"Pakistani People's Party (PPP)\", -1), [0.375, 0.0, 0.25, 0.125, 0.0, 0.0, 0.0, 0.0]), (('Tamil Nadu Liberation Army', -1), [0.0, 0.0, 1.0, 0.0, 0.0, 0.0, 0.0, 0.0]), (('Kuki Tribal Militants', -1), [0.0, 0.0, 0.0, 0.0, 0.0, 0.0, 0.59999999999999998, 0.0]), (('Khasi Students Union', -1), [0.5, 0.25, 0.0, 0.0, 0.0, 0.0, 0.0, 0.25]), ((\"All Burma Students' Democratic Front (ABSDF)\", -1), [0.0, 0.0, 1.0, 0.0, 0.0, 0.0, 0.0, 0.0]), (('Karenni National Progressive Party', -1), [0.66666666666666663, 0.33333333333333331, 0.0, 0.0, 0.0, 0.0, 0.0, 0.0]), (('Shan State Army - North (SSA-N)', -1), [0.66666666666666663, 0.0, 0.33333333333333331, 0.0, 0.0, 0.0, 0.0, 0.0]), (('National League for Democracy', -1), [0.0, 0.0, 1.0, 0.0, 0.0, 0.0, 0.0, 0.0]), (('Eritrean Liberation Front', -1), [0.1111111111111111, 0.0, 0.16666666666666666, 0.0, 0.1111111111111111, 0.0, 0.61111111111111116, 0.0]), (('Front for the Liberation of the Enclave of Cabinda (FLEC)', -1), [0.35714285714285715, 0.0, 0.071428571428571425, 0.0, 0.0, 0.0, 0.5, 0.0]), (('Sudan Liberation Movement', -1), [0.66666666666666663, 0.0, 0.0, 0.0, 0.083333333333333329, 0.0, 0.33333333333333331, 0.083333333333333329]), (('Oromo Liberation Front', -1), [0.375, 0.0, 0.5, 0.0, 0.0, 0.0, 0.0, 0.0]), (('Al-Ittihaad al-Islami (AIAI)', -1), [0.20000000000000001, 0.40000000000000002, 0.40000000000000002, 0.0, 0.0, 0.0, 0.0, 0.0]), (('Pan Africanist Congress (PAC)', -1), [0.40000000000000002, 0.40000000000000002, 0.20000000000000001, 0.0, 0.0, 0.0, 0.0, 0.0]), ((\"People's Democratic Party (PDP)\", -1), [0.0, 0.5, 0.0, 0.0, 0.0, 0.0, 0.5, 0.0]), ((\"Odua Peoples' Congress (OPC)\", -1), [0.0, 0.33333333333333331, 0.0, 0.33333333333333331, 0.0, 0.0, 0.33333333333333331, 0.33333333333333331]), (('National Army for the Liberation of Uganda (NALU)', -1), [0.0, 0.0, 0.5, 0.0, 0.0, 0.0, 0.5, 0.0]), (('Union of Congolese Patriots (UPC)', -1), [1.0, 0.0, 0.0, 0.0, 0.0, 0.0, 0.0, 0.0]), (('Breton Liberation Front (FLB)', -1), [0.0, 0.0, 0.9375, 0.0625, 0.0, 0.0, 0.0, 0.0]), (('Red Hand Commandos', -1), [0.0, 0.88888888888888884, 0.1111111111111111, 0.0, 0.0, 0.0, 0.0, 0.0]), (('National Organization of Cypriot Fighters (EOKA)', -1), [0.40000000000000002, 0.20000000000000001, 0.20000000000000001, 0.0, 0.0, 0.0, 0.20000000000000001, 0.0]), (('Angry Brigade', -1), [0.0, 0.0, 0.66666666666666663, 0.33333333333333331, 0.0, 0.0, 0.0, 0.0])])\n",
      "<class 'numpy.int64'>\n",
      "3\n"
     ]
    }
   ],
   "source": [
    "def get_index(groups, name):\n",
    "    for i in range(len(groups)):\n",
    "        if groups[i] == name:\n",
    "            return i\n",
    "    return -1\n",
    "\n",
    "unique_groups, group_counts = np.unique(dfs['gname'], return_counts=True)\n",
    "for gname, c_id in group_dict:\n",
    "    index = get_index(unique_groups,gname)\n",
    "    if index == -1:\n",
    "        print(\"WTF. \" + gname)\n",
    "    nevents = group_counts[index]\n",
    "    #print(nevents)\n",
    "    #nevents = nevents[0]\n",
    "    for i in range(len(group_dict[(gname,c_id)])):\n",
    "        group_dict[(gname,c_id)][i] = group_dict[(gname,c_id)][i]/nevents\n",
    "    #group_dict[(gname,c_id)].append(nevents)\n",
    "\n",
    "print(group_dict)\n",
    "print(type(nevents))\n",
    "print(nevents)"
   ]
  },
  {
   "cell_type": "code",
   "execution_count": 7,
   "metadata": {
    "collapsed": false
   },
   "outputs": [
    {
     "name": "stdout",
     "output_type": "stream",
     "text": [
      "['14 K Triad' '20 December Movement (M-20)'\n",
      " '23rd of September Communist League' \"31 January People's Front (FP-31)\"\n",
      " 'Abdullah Azzam Brigades' 'Abu Hafs al-Masri Brigades'\n",
      " 'Abu Nidal Organization (ANO)' 'Abu Sayyaf Group (ASG)' 'Action Directe'\n",
      " 'African National Congress (South Africa)' 'Al-Aqsa Martyrs Brigade'\n",
      " 'Al-Fatah' \"Al-Gama'at al-Islamiyya (IG)\" 'Al-Ittihaad al-Islami (AIAI)'\n",
      " 'Al-Khobar' 'Al-Nusrah Front' 'Al-Qaida' 'Al-Qaida in Iraq'\n",
      " 'Al-Qaida in the Arabian Peninsula (AQAP)'\n",
      " 'Al-Qaida in the Islamic Maghreb (AQIM)' 'Al-Shabaab'\n",
      " 'Albanian National Army (ANA)' 'Alex Boncayao Brigade (ABB)' 'Alfaro Vive'\n",
      " 'Algeisk Wolves' 'Algerian Islamic Extremists'\n",
      " \"All Burma Students' Democratic Front (ABSDF)\"\n",
      " 'Allied Democratic Forces (ADF)' 'America Battalion' 'Angry Brigade'\n",
      " 'Animal Liberation Front (ALF)' 'Ansar Allah' 'Ansar al-Din Front'\n",
      " 'Anti-Government Rebels' 'Anti-Imperialist Students Council'\n",
      " 'Anti-Narita Extremists' 'April 6th Liberation Movement'\n",
      " 'Armed Commandos of Liberation'\n",
      " 'Armed Forces of National Resistance (FARN)'\n",
      " 'Armed Forces of the Chechen Republic of Ichkeria'\n",
      " 'Armed Islamic Group (GIA)'\n",
      " 'Armed Revolutionary Independence Movement (MIRA)'\n",
      " 'Armed Revolutionary Nuclei (NAR)' 'Armenian Nationalists'\n",
      " 'Armenian Secret Army for the Liberation of Armenia' 'Army of God'\n",
      " 'Association for the Enhancement of the Justice of the Great Japan'\n",
      " 'Aum Shinri Kyo' 'Awami League'\n",
      " 'Azawad National Liberation Movement (MNLA)' 'Baader-Meinhof Group'\n",
      " 'Babbar Khalsa International (BKI)' 'Baloch Liberation Army (BLA)'\n",
      " 'Baloch Liberation Front (BLF)' 'Baloch Republican Army (BRA)'\n",
      " 'Bangladesh Nationalist Party (BNP)'\n",
      " 'Bangsamoro Islamic Freedom Movement (BIFM)'\n",
      " 'Barisan Revolusi Nasional (BRN)' 'Barqa Province of the Islamic State'\n",
      " 'Basque Fatherland and Freedom (ETA)' 'Black Berets'\n",
      " 'Black Liberation Army' 'Black Nationalists' 'Black Order'\n",
      " 'Black Panthers' 'Black September'\n",
      " 'Bloque Anti-Guerrillero de Oriente (BAGO)' 'Boko Haram'\n",
      " 'Bougainville Revolutionary Army (BRA)' 'Breton Liberation Front (FLB)'\n",
      " 'Brunswijk Jungle Commando' \"Cambodian People's Party (CPP)\"\n",
      " 'Caribbean Revolutionary Alliance (ARC)' 'Caucasus Emirate'\n",
      " 'Che Guevara Brigade' 'Chechen Lone Wolf Group' 'Chicano Liberation Front'\n",
      " 'Chondaehyop (Radical Student Coalition)' 'Chonson Univ. students'\n",
      " 'Chukakuha (Middle Core Faction)' 'Chukakuha Revolutionary Army'\n",
      " 'Cinchoneros Popular Liberation Movement' 'Combat 18'\n",
      " 'Commandos for A Popular alternative'\n",
      " 'Communist Party of India - Maoist (CPI-Maoist)'\n",
      " 'Communist Party of India- Marxist'\n",
      " 'Communist Party of Nepal- Maoist (CPN-M)' 'Conspiracy of Cells of Fire'\n",
      " 'Coordination of the United Revolutionary Organization (CORU)'\n",
      " 'Corsican National Liberation Front (FLNC)'\n",
      " 'Corsican National Liberation Front- Historic Channel'\n",
      " 'Cossack Separatists' 'Croatian Nationalists' \"Dagestani Shari'ah Jamaat\"\n",
      " 'Dainihon Yokuko Doshikai' 'Death Squad' 'Death to Kidnappers (MAS)'\n",
      " 'Death to Rustlers' 'Deccan Mujahideen' 'December 13 Independent Group'\n",
      " 'Democratic Front for the Liberation of Palestine (DFLP)'\n",
      " 'Democratic Front for the Liberation of Rwanda (FDLR)'\n",
      " 'Democratic Karen Buddhist Army (DKBA)' 'Democratic Progressive Party'\n",
      " 'Democratic Revolutionary Alliance (ARDE)'\n",
      " 'Democratic Revolutionary Party' 'Dev Sol'\n",
      " 'Devrimici Halk Kurtulus Cephesi (DHKP/C)'\n",
      " 'Dissident Military Mmbrs of Northern Tribal Group'\n",
      " 'Dissident Republicans'\n",
      " 'Do-or-Die Corps for the Abolition of Anti-Public Taxation Systems'\n",
      " 'Earth Liberation Front (ELF)' 'East Asia Anti Japanese Armed Front'\n",
      " 'Eastern Turkistan Islamic Movement (ETIM)'\n",
      " 'Ejercito Revolucionaria del Pueblo (ERP) (Argentina)'\n",
      " 'Ejercito de Liberacion Nacional (Bolivia)' 'Eritrean Liberation Front'\n",
      " 'Ex-Somoza National Guard' 'Extraparliamentary Opposition (APO)'\n",
      " 'Farabundo Marti National Liberation Front (FMLN)'\n",
      " 'February 28 Popular League (El Salvador)'\n",
      " 'First of October Antifascist Resistance Group (GRAPO)' 'Forest Brothers'\n",
      " 'Free Aceh Movement (GAM)' \"Free Galician People's Guerrilla Army\"\n",
      " 'Free Papua Movement (OPM-Organisasi Papua Merdeka)' 'Free Syrian Army'\n",
      " 'Front for the Liberation of Lebanon from Foreigners'\n",
      " 'Front for the Liberation of the Enclave of Cabinda (FLEC)'\n",
      " 'Fuerzas Armadas de Liberacion Nacional (FALN)'\n",
      " 'Garo National Liberation Army' 'George Jackson Brigade'\n",
      " 'Great Japan Patriotic Party' 'Greek Bulgarian Armenian Front'\n",
      " 'Guadalcanal Liberation Army' 'Guatemalan Communist Party'\n",
      " 'Guatemalan Labor Party (PGT)'\n",
      " 'Guatemalan National Revolutionary Unity (URNG)'\n",
      " 'Guerrilla Army of the Poor (EGP)' 'Hamas (Islamic Resistance Movement)'\n",
      " 'Hanchongryun' 'Haqqani Network' 'Harkatul Jihad-e-Islami' 'Hezbollah'\n",
      " 'Hiroyuki Jo' 'Hizb al-Tahrir al-Islami (HT)' 'Hizb-I-Islami'\n",
      " 'Hizbul Mujahideen (HM)' 'Hotaru (Firefly)'\n",
      " 'Independent Armed Revolutionary Commandos (CRIA)'\n",
      " 'Individuals Tending Toward Savagery' 'Informal Anarchist Federation'\n",
      " 'Inkatha Freedom Party (IFP)' 'Institutional Revolutionary Party (PRI)'\n",
      " 'Internationalist Cells' 'Iparretarrak (IK)'\n",
      " 'Irish National Liberation Army (INLA)' 'Irish Republican Army (IRA)'\n",
      " 'Irish Republican Extremists' 'Isatabu Freedom Movement (IFM)'\n",
      " 'Islambouli Brigades of al-Qaida' 'Islamic Jihad Group (IJG)'\n",
      " 'Islamic Jihad Union (Uzbekistan)' 'Islamic Movement of Uzbekistan (IMU)'\n",
      " 'Islamic Salvation Front (FIS)' 'Islamic State of Iraq (ISI)'\n",
      " 'Islamic State of Iraq and the Levant (ISIL)'\n",
      " 'Islamic Unification Movement' 'Issui Kai' 'Jamaah Ansharut Tauhid (JAT)'\n",
      " 'Jamaat-E-Islami (Bangladesh)' 'Jamaat-E-Islami (India/Pakistan)'\n",
      " 'Jamaica Labor Party'\n",
      " 'Janatantrik Terai Mukti Morcha- Jwala Singh (JTMM-J)' 'Janjaweed'\n",
      " 'Japan National Youth Alliance'\n",
      " \"Japan Socialist Youth League of the Revolutionary Workers' Association\"\n",
      " 'Japanese Independence Patriotic Party' 'Japanese Red Army (JRA)'\n",
      " 'Jemaah Islamiya (JI)' 'Jewish Armed Resistance'\n",
      " 'Jewish Defense League (JDL)' 'Jewish Extremists'\n",
      " 'Jonathan Jackson Brigade' 'Jundallah'\n",
      " 'Justice Army for Defenseless Peoples'\n",
      " 'Justice Commandos for the Armenian Genocide'\n",
      " 'Justice and Equality Movement (JEM)' 'Kachin Independence Army (KIA)'\n",
      " 'Kanak Separatists' 'Kanak Socialist National Liberation Front'\n",
      " 'Karen National Union' 'Karenni National Progressive Party'\n",
      " \"Kata'ib al-Khoul\" 'Khasi Students Union' 'Khmer Rouge'\n",
      " 'Khorasan Chapter of the Islamic State' 'Korean Youth League'\n",
      " 'Kosovo Liberation Army (KLA)' 'Ku Klux Klan' 'Kuki Tribal Militants'\n",
      " 'Kurdish Democratic Party-Iraq (KDP)' \"Kurdistan Workers' Party (PKK)\"\n",
      " 'Kyongbuk University Dental College Students' 'Lashkar-e-Islam (Pakistan)'\n",
      " 'Lashkar-e-Jhangvi' 'Lashkar-e-Taiba (LeT)' 'League of Communists'\n",
      " 'Liberation Army for Presevo, Medvedja and Bujanovac (UCPMB)'\n",
      " 'Liberation Tigers of Tamil Eelam (LTTE)' \"Lord's Resistance Army (LRA)\"\n",
      " 'Lorenzo Zelaya Revolutionary Front (LZRF)' 'Lufa Tribesmen'\n",
      " 'M-19 (Movement of April 19)' 'Macheteros' 'Makhachkala Gang'\n",
      " 'Mano Blanca' 'Manuel Rodriguez Patriotic Front (FPMR)'\n",
      " 'Maoist Communist Center (MCC)' 'Maruseido (Marxist Youth League)'\n",
      " 'Maximiliano Gomez Revolutionary Brigade'\n",
      " 'Maximiliano Hernandez Martinez Brigade' 'Mayi Mayi'\n",
      " 'Militant Peasants (NFI)' 'Miskito Indian Organization'\n",
      " 'Misurasata Indian Organization' 'Montoneros (Argentina)'\n",
      " 'Moro Islamic Liberation Front (MILF)'\n",
      " 'Moro National Liberation Front (MNLF)'\n",
      " 'Movement for Oneness and Jihad in West Africa (MUJAO)'\n",
      " 'Movement for Triqui Unification and Struggle'\n",
      " 'Movement for the Emancipation of the Niger Delta (MEND)'\n",
      " 'Movement of Democratic Forces of Casamance'\n",
      " 'Movement of the Revolutionary Left (MIR) (Chile)'\n",
      " 'Movement of the Revolutionary Left (MIR) (Peru)'\n",
      " 'Mozambique National Resistance Movement (MNR)' 'Mujahedin-e Khalq (MEK)'\n",
      " 'Mujahidin Indonesia Timur (MIT)' 'Muslim Brotherhood'\n",
      " 'Muttahida Qami Movement (MQM)' 'NVF' 'Namchong-Nyon Students'\n",
      " 'Nara Red Army' 'National Anti Communist Commando'\n",
      " 'National Army for the Liberation of Uganda (NALU)'\n",
      " 'National Committee Against Independence (CNCI)'\n",
      " 'National Defense Youth Corps'\n",
      " 'National Democratic Front of Bodoland (NDFB)'\n",
      " 'National League for Democracy' 'National Liberation Army (Ecuador)'\n",
      " 'National Liberation Army (NLA) (Macedonia)'\n",
      " 'National Liberation Army of Colombia (ELN)'\n",
      " 'National Liberation Front (FNL) (Burundi)'\n",
      " 'National Liberation Front of Tripura (NLFT)'\n",
      " 'National Organization of Cypriot Fighters (EOKA)'\n",
      " 'National Resistance Movement (NRM)'\n",
      " 'National Socialist Civic Workers Movement'\n",
      " 'National Union for the Total Independence of Angola (UNITA)' 'Naxalites'\n",
      " 'New Order' \"New People's Army (NPA)\" 'New World Liberation Front (NWLF)'\n",
      " 'Nicaraguan Democratic Force (FDN)' 'Nicaraguan Resistance'\n",
      " 'North Korean involvement commandos'\n",
      " 'November 17 Revolutionary Organization (N17RO)'\n",
      " \"Odua Peoples' Congress (OPC)\" 'Official Irish Republican Army (OIRA)'\n",
      " 'Omega-7' 'Oromo Liberation Front' 'Pacific Popular Front'\n",
      " \"Pakistani People's Party (PPP)\" 'Palestine Liberation Organization (PLO)'\n",
      " 'Palestinian Islamic Jihad (PIJ)' 'Pan Africanist Congress (PAC)'\n",
      " \"Paraguayan People's Army (EPP)\"\n",
      " 'Party for the Liberation of the Hutu People (PALIPEHUTU)'\n",
      " 'Patriotic Morazanista Front (FPM)'\n",
      " 'Patriotic Resistance Front in Ituri (FRPI)'\n",
      " 'Pattani United Liberation Organization (PULO)' 'Paupa New Guinea Troops'\n",
      " 'Peasant Self-Defense Group (ACCU)' \"People's Democratic Army\"\n",
      " \"People's Democratic Party (PDP)\" \"People's Liberation Army (India)\"\n",
      " \"People's Liberation Forces (FPL)\" \"People's Liberation Front (JVP)\"\n",
      " \"People's Revolutionary Army (ERP) (El Salvador)\"\n",
      " \"People's Revolutionary Organization\" \"People's War Group (PWG)\"\n",
      " 'Popular Forces of April 25'\n",
      " 'Popular Front for the Liberation of Palestine (PFLP)'\n",
      " 'Popular Front for the Liberation of Palestine, Gen Cmd (PFLP-GC)'\n",
      " 'Popular Liberation Army (EPL)' 'Popular Militia (Colombia)'\n",
      " 'Popular Revolutionary Army (Mexico)' 'Popular Revolutionary Bloc (BPR)'\n",
      " 'Prima Linea' 'Pro Hartal Activists' 'Puerto Rican Nationalists'\n",
      " 'Real Irish Republican Army (RIRA)'\n",
      " 'Rebel Armed Forces of Guatemala (FAR)' 'Recontras'\n",
      " 'Red Army Faction (RAF)' 'Red Brigades' 'Red Flag (Venezuela)'\n",
      " 'Red Hand Commandos' 'Reform of the Armed Forces Movement'\n",
      " 'Republic of New Afrika' 'Republican Action Force'\n",
      " 'Revolutionary Armed Forces of Colombia (FARC)' 'Revolutionary Army'\n",
      " 'Revolutionary Cells' 'Revolutionary Cells Network (SRN)'\n",
      " 'Revolutionary Force'\n",
      " 'Revolutionary Front for Hatian Advancement and Progress (FRAPH)'\n",
      " 'Revolutionary Organization of People in Arms (ORPA)'\n",
      " 'Revolutionary Patriotic Anti-Fascist Front (FRAP)'\n",
      " \"Revolutionary People's Struggle (ELA)\" 'Revolutionary United Front (RUF)'\n",
      " 'Revolutionary Workers Party' \"Revolutionary Workers' Council (Kakurokyo)\"\n",
      " 'Ricardo Franco Front (Dissident FARC)'\n",
      " 'Riyadus-Salikhin Reconnaissance and Sabotage Battalion of Chechen Martyrs'\n",
      " 'Rizvon Sadirov Group' 'Rodrigo Franco Command'\n",
      " 'Runda Kumpulan Kecil (RKK)'\n",
      " 'Salafist Group for Preaching and Fighting (GSPC)'\n",
      " 'Sanaa Province of the Islamic State'\n",
      " 'Sandinista National Liberation Front (FSLN)' 'Sandval (union) Movement'\n",
      " 'Sayfullakh' 'Secret Anti-Communist Army (ESA)'\n",
      " 'Secret Organization of al-Qaida in Europe' 'Seiji Kesha Kokuyukai'\n",
      " 'Seikijuku' 'Sekihotai' 'Seleka' 'Senki (\"Battle Flag\")'\n",
      " 'September 11 Commandos' 'Shan State Army - North (SSA-N)'\n",
      " 'Shanti Bahini - Peace Force' 'Shining Path (SL)' 'Shonkonjuku Group'\n",
      " 'Simon Bolivar Guerrilla Coordinating Board (CGSB)'\n",
      " 'Sinai Province of the Islamic State' 'Soldiers of the Caliphate'\n",
      " 'South Ossetian Extremists' 'South Ossetian Separatists'\n",
      " \"South-West Africa People's Organization (SWAPO)\"\n",
      " 'Special Purpose Islamic Regiment (SPIR)' 'Sudan Liberation Movement'\n",
      " \"Sudan People's Liberation Army (SPLA)\"\n",
      " \"Sudan People's Liberation Movement - North\"\n",
      " \"Sudan People's Liberation Movement in Opposition (SPLM-IO)\"\n",
      " 'Supporters of Ex-President Gamsakhurdial'\n",
      " 'Syrian Social Nationalist Party' 'Taihikai (Great Sadness)'\n",
      " 'Taikosha, right wing group' 'Taliban' 'Tamil Nadu Liberation Army'\n",
      " 'Tawhid and Jihad' 'Tehrik-i-Taliban Pakistan (TTP)' 'Terra Lliure'\n",
      " 'Thai Islamic Militants' 'The Extraditables' 'The Justice Department'\n",
      " 'Tigray Peoples Liberation Front (TPLF)' 'Tolib Ayombekov loyalists'\n",
      " 'Tripoli Province of the Islamic State'\n",
      " 'Tupac Amaru Revolutionary Movement (MRTA)'\n",
      " 'Tupac Katari Guerrilla Army (EGTK)' 'Tupamaros (Uruguay)'\n",
      " 'Turkestan Islamic Party' 'Turkish Communist Party/Marxist (TKP-ML)'\n",
      " 'Uganda Freedom Movement (UFM)' 'Uighur Liberation Organization'\n",
      " 'Ukrainian Nationalist Group' 'Ulster Freedom Fighters (UFF)'\n",
      " 'Ulster Volunteer Force (UVF)' 'Union Guerrera Blanca (UGB)'\n",
      " 'Union of Congolese Patriots (UPC)' 'Union of the People (UDP)'\n",
      " 'United Baloch Army (UBA)' 'United Freedom Front (UFF)'\n",
      " 'United Front for Democracy Against Dictatorship'\n",
      " 'United Liberation Front of Assam (ULFA)'\n",
      " 'United Popular Action Front (FAPU)' 'United Popular Action Movement'\n",
      " 'United Self Defense Units of Colombia (AUC)' 'Vanuatu Mobile Force (VMF)'\n",
      " 'Vietnamese Organization to Exterminate Communists and Restore the Nation'\n",
      " 'Vigilante Group' 'Weather Underground, Weathermen'\n",
      " 'White Legion (Georgia)' \"Workers' Self-Defense Movement (MAO)\"\n",
      " 'Yamaguchi-Gumi Gang' 'Yekbun' 'Yokoku Seiwa-Kai'\n",
      " 'Zapatista National Liberation Army' 'Zebra killers'\n",
      " 'Zimbabwe African Nationalist Union (ZANU)' 'Zviadists']\n",
      "[   4   15   44   17   21   11   38  349   53  530  158   52  259    5    8\n",
      "  155   50  581  533  179 1360    4   11   25    1  248    5  120    4    3\n",
      "  113    1    2    7    1    2   30   12   37    9  212   30   20    3  176\n",
      "   23    1    7   26   18   51   10  117   73  238   68  147   10   59 1905\n",
      "    3   28   71    6   24   49    1 1700   21   32   27    3   25   39   13\n",
      "    2   30    1    1   60    1   18    2    4 1612    8   19   52   14  627\n",
      "  128    2   34    5    1  325   18    3    8    3   34   64   18    1   29\n",
      "   11  233   34    1   66    1   72   12    8   77    3   18   11    6 2129\n",
      "   15  197    2  105   47   29   43   12   14  117  136   17    1    1    1\n",
      "    2   21   96  124  313    1   64   14  253    1    2   30  105    1   19\n",
      "    2   39   30   14    3   55   91 1887   89    1    5    3    2    3  149\n",
      "  143 2381    3    1    8   60   10    2   72  167    1    1    1    8   73\n",
      "   19   82   27    1   31    1   44   17   24    4    5   84    3    2    4\n",
      "  148   63    1   41   20    5    4 1280    1   87   99  111    2    3 1087\n",
      "  256   36    1  436   31    3    5  799   33    2   14    7   28    2    3\n",
      "   14  102  315  166   33    1   77   61  305    7  212   93   15   93  144\n",
      "    4    1    1    3    2    2    1  157    2    3   34 1236   27   69    5\n",
      "    3    2  383   66    2 1508   85  317  118    1  106    3   19   54    8\n",
      "    1    8   78  169    5   52   36   24   26   47    1   21    4    4   44\n",
      "  153  377   63   14   91   46  134    7  215   15   13   36   58   91   23\n",
      "   39   26   56   53  212   21    9    8    2    6 2039    1   50    3    1\n",
      "    4   82   45   84   54   10   20   39   10    2   15  107  139   27  160\n",
      "    1    1   19    4    1    3    2   28    5    2    3   86 4135    1  166\n",
      "  123    2    1   10   55    1   12   38   39   24    7    5    1    1 4762\n",
      "    6   42  991   61   47  108   16   10    1  128  522   22   40    2   28\n",
      "   18    1    5  231  241   14    2   21   70   22   23  292   13  108   64\n",
      "    2    3   25   42    3   15    1    1    1   23   20   21    1]\n"
     ]
    }
   ],
   "source": [
    "print(unique_groups)\n",
    "print(group_counts)"
   ]
  },
  {
   "cell_type": "code",
   "execution_count": 8,
   "metadata": {
    "collapsed": false
   },
   "outputs": [
    {
     "name": "stdout",
     "output_type": "stream",
     "text": [
      "[[ 0.23809524  0.0952381   0.0952381  ...,  0.          0.14285714  0.        ]\n",
      " [ 0.2         0.2         0.         ...,  0.          0.2         0.        ]\n",
      " [ 0.          0.          0.5        ...,  0.          0.5         0.        ]\n",
      " ..., \n",
      " [ 0.          0.88888889  0.11111111 ...,  0.          0.          0.        ]\n",
      " [ 0.4         0.2         0.2        ...,  0.          0.2         0.        ]\n",
      " [ 0.          0.          0.66666667 ...,  0.          0.          0.        ]]\n"
     ]
    },
    {
     "name": "stderr",
     "output_type": "stream",
     "text": [
      "D:\\Users\\Avradip\\Anaconda3\\lib\\site-packages\\ipykernel\\__main__.py:3: FutureWarning: comparison to `None` will result in an elementwise object comparison in the future.\n",
      "  app.launch_new_instance()\n"
     ]
    },
    {
     "name": "stdout",
     "output_type": "stream",
     "text": [
      "[[ -1.87417967e-03  -9.29700865e-02  -8.94381001e-01 ...,  -2.26198939e-01\n",
      "    3.26769259e-01  -1.63359268e-01]\n",
      " [ -1.43475798e-01   4.15041331e-01  -1.17815505e+00 ...,  -2.26198939e-01\n",
      "    6.71680121e-01  -1.63359268e-01]\n",
      " [ -8.86884293e-01  -5.54798648e-01   3.11658708e-01 ...,  -2.26198939e-01\n",
      "    2.48246215e+00  -1.63359268e-01]\n",
      " ..., \n",
      " [ -8.86884293e-01   3.75560125e+00  -8.47085326e-01 ...,  -2.26198939e-01\n",
      "   -5.35507896e-01  -1.63359268e-01]\n",
      " [  5.99932698e-01   4.15041331e-01  -5.82229547e-01 ...,  -2.26198939e-01\n",
      "    6.71680121e-01  -1.63359268e-01]\n",
      " [ -8.86884293e-01  -5.54798648e-01   8.08263294e-01 ...,  -2.26198939e-01\n",
      "   -5.35507896e-01  -1.63359268e-01]]\n"
     ]
    }
   ],
   "source": [
    "dimension_arr = None # This should be a NumPy array \n",
    "for key_tup in group_dict:\n",
    "    if dimension_arr == None:\n",
    "        dimension_arr = np.asarray(group_dict[key_tup]) # First iteration, create the array\n",
    "    else:\n",
    "        dimension_arr = np.vstack((dimension_arr, group_dict[key_tup]))\n",
    "\n",
    "print(dimension_arr)\n",
    "from sklearn import preprocessing\n",
    "dim_arr_scaled = preprocessing.scale(dimension_arr)\n",
    "print(dim_arr_scaled)"
   ]
  },
  {
   "cell_type": "code",
   "execution_count": 9,
   "metadata": {
    "collapsed": false
   },
   "outputs": [
    {
     "name": "stdout",
     "output_type": "stream",
     "text": [
      "403\n",
      "403\n",
      "403\n"
     ]
    }
   ],
   "source": [
    "from sklearn.cluster import KMeans\n",
    "import numpy as np\n",
    "\n",
    "k=4\n",
    "\n",
    "kmeans = KMeans(n_clusters=k,random_state=0).fit(dimension_arr)\n",
    "\n",
    "print(len(group_dict))\n",
    "print(len(group_dict.keys()))\n",
    "print(len(kmeans.labels_))\n",
    "#rint(group_dict.keys())\n",
    "#rint(kmeans.labels_)\n",
    "#i = 0\n",
    "#for key_tup in group_dict:\n",
    "#    group_dict[(key_tup[0],kmeans.labels_[i])] = group_dict.pop(key_tup) \n",
    "#    i += 1\n",
    "\n",
    "#rint(group_dict)"
   ]
  },
  {
   "cell_type": "code",
   "execution_count": 10,
   "metadata": {
    "collapsed": false
   },
   "outputs": [
    {
     "name": "stdout",
     "output_type": "stream",
     "text": [
      "403\n",
      "403\n",
      "(403, 8)\n"
     ]
    }
   ],
   "source": [
    "\n",
    "print(len(group_dict))\n",
    "print(len(kmeans.labels_))\n",
    "print(dim_arr_scaled.shape)\n",
    "\n",
    "result_dict = {}\n",
    "for i in range(k):\n",
    "    result_dict[i] = []\n",
    "\n",
    "i = 0\n",
    "for key_tup in group_dict:\n",
    "    if i == 403:\n",
    "        print(\"Wtf!\" + str(key_tup) + \" : \" + str(group_dict[key_tup]))\n",
    "        break\n",
    "    #print(key_tup)\n",
    "    #print(i)\n",
    "    #print(group_dict[key_tup])\n",
    "    #print(kmeans.labels_[i])\n",
    "    result_dict[kmeans.labels_[i]].append(key_tup[0]) \n",
    "    i += 1\n",
    "    "
   ]
  },
  {
   "cell_type": "code",
   "execution_count": 11,
   "metadata": {
    "collapsed": false,
    "scrolled": true
   },
   "outputs": [
    {
     "name": "stdout",
     "output_type": "stream",
     "text": [
      "{0: ['September 11 Commandos', 'Croatian Nationalists', 'Informal Anarchist Federation', 'Greek Bulgarian Armenian Front', 'Lufa Tribesmen', 'Palestine Liberation Organization (PLO)', 'Farabundo Marti National Liberation Front (FMLN)', 'Guatemalan National Revolutionary Unity (URNG)', 'Lorenzo Zelaya Revolutionary Front (LZRF)', 'Patriotic Morazanista Front (FPM)', 'Caribbean Revolutionary Alliance (ARC)', 'Cinchoneros Popular Liberation Movement', \"31 January People's Front (FP-31)\", '20 December Movement (M-20)', 'Maximiliano Gomez Revolutionary Brigade', 'South Ossetian Separatists', 'Supporters of Ex-President Gamsakhurdial', 'Islamic Jihad Group (IJG)', 'Forest Brothers', 'Islamic Jihad Union (Uzbekistan)', 'Soldiers of the Caliphate', 'Algeisk Wolves', 'Hizb al-Tahrir al-Islami (HT)', 'Islamic Movement of Uzbekistan (IMU)', \"Revolutionary Workers' Council (Kakurokyo)\", 'East Asia Anti Japanese Armed Front', '14 K Triad', 'Sekihotai', 'Turkestan Islamic Party', 'Anti-Narita Extremists', 'Chukakuha Revolutionary Army', 'Revolutionary Force', 'Caucasus Emirate', 'Riyadus-Salikhin Reconnaissance and Sabotage Battalion of Chechen Martyrs', \"Dagestani Shari'ah Jamaat\", 'Islambouli Brigades of al-Qaida', 'Ukrainian Nationalist Group', 'Black Berets', 'December 13 Independent Group', 'Islamic State of Iraq and the Levant (ISIL)', 'Al-Qaida in Iraq', 'Hamas (Islamic Resistance Movement)', 'Algerian Islamic Extremists', 'Hezbollah', 'Dev Sol', 'Palestinian Islamic Jihad (PIJ)', 'Al-Aqsa Martyrs Brigade', 'Al-Nusrah Front', 'Islamic State of Iraq (ISI)', 'Al-Qaida in the Islamic Maghreb (AQIM)', 'Sinai Province of the Islamic State', 'Popular Front for the Liberation of Palestine (PFLP)', 'Mujahedin-e Khalq (MEK)', 'Barqa Province of the Islamic State', 'Fuerzas Armadas de Liberacion Nacional (FALN)', 'New World Liberation Front (NWLF)', 'Jewish Defense League (JDL)', 'Black Nationalists', 'Omega-7', 'Weather Underground, Weathermen', 'Macheteros', 'Armed Revolutionary Independence Movement (MIRA)', 'Chicano Liberation Front', 'Black Panthers', 'Army of God', 'Puerto Rican Nationalists', 'United Freedom Front (UFF)', 'Union of the People (UDP)', 'George Jackson Brigade', 'Jewish Armed Resistance', 'Shining Path (SL)', 'National Liberation Army of Colombia (ELN)', 'Manuel Rodriguez Patriotic Front (FPMR)', 'Tupac Amaru Revolutionary Movement (MRTA)', 'Movement of the Revolutionary Left (MIR) (Chile)', 'Simon Bolivar Guerrilla Coordinating Board (CGSB)', 'The Extraditables', 'United Popular Action Movement', 'Ricardo Franco Front (Dissident FARC)', 'Tupac Katari Guerrilla Army (EGTK)', 'Popular Militia (Colombia)', \"People's Revolutionary Organization\", 'Tehrik-i-Taliban Pakistan (TTP)', 'United Liberation Front of Assam (ULFA)', 'Baloch Republican Army (BRA)', 'Baloch Liberation Army (BLA)', \"People's War Group (PWG)\", 'Pro Hartal Activists', 'Lashkar-e-Islam (Pakistan)', 'United Baloch Army (UBA)', 'Bangladesh Nationalist Party (BNP)', 'Haqqani Network', 'Abu Sayyaf Group (ASG)', 'Moro Islamic Liberation Front (MILF)', 'Moro National Liberation Front (MNLF)', 'Khmer Rouge', 'Bangsamoro Islamic Freedom Movement (BIFM)', 'Runda Kumpulan Kecil (RKK)', 'Karen National Union', 'Jemaah Islamiya (JI)', 'Pattani United Liberation Organization (PULO)', 'April 6th Liberation Movement', 'Kachin Independence Army (KIA)', 'Al-Khobar', 'Jamaah Ansharut Tauhid (JAT)', 'Reform of the Armed Forces Movement', 'African National Congress (South Africa)', 'National Union for the Total Independence of Angola (UNITA)', 'Movement for the Emancipation of the Niger Delta (MEND)', \"Sudan People's Liberation Movement - North\", 'Movement for Oneness and Jihad in West Africa (MUJAO)', 'National Liberation Front (FNL) (Burundi)', 'Basque Fatherland and Freedom (ETA)', 'Corsican National Liberation Front (FLNC)', 'First of October Antifascist Resistance Group (GRAPO)', 'Corsican National Liberation Front- Historic Channel', 'Armenian Secret Army for the Liberation of Armenia', 'November 17 Revolutionary Organization (N17RO)', \"Revolutionary People's Struggle (ELA)\", 'Dissident Republicans', 'Terra Lliure', 'Iparretarrak (IK)', 'Action Directe', 'Baader-Meinhof Group', 'Conspiracy of Cells of Fire', 'Revolutionary Cells', \"Free Galician People's Guerrilla Army\", 'Popular Forces of April 25', 'Real Irish Republican Army (RIRA)', 'Coordination of the United Revolutionary Organization (CORU)', 'Maximiliano Hernandez Martinez Brigade', 'Ansar Allah', 'Free Syrian Army', 'Tawhid and Jihad', 'Sanaa Province of the Islamic State', 'Abdullah Azzam Brigades', 'Front for the Liberation of Lebanon from Foreigners', 'Armed Commandos of Liberation', 'Al-Qaida', 'Individuals Tending Toward Savagery', 'Communist Party of Nepal- Maoist (CPN-M)', 'Jundallah', 'Harkatul Jihad-e-Islami', \"Cambodian People's Party (CPP)\", 'North Korean involvement commandos', 'Black September', 'Abu Hafs al-Masri Brigades', 'Black Order', 'Secret Organization of al-Qaida in Europe', 'Popular Front for the Liberation of Palestine, Gen Cmd (PFLP-GC)', 'New Order', 'Revolutionary Workers Party', 'Cossack Separatists', 'Devrimici Halk Kurtulus Cephesi (DHKP/C)', 'Democratic Front for the Liberation of Palestine (DFLP)', 'Turkish Communist Party/Marxist (TKP-ML)', 'Syrian Social Nationalist Party', 'Islamic Unification Movement', 'Che Guevara Brigade', 'Jamaat-E-Islami (Bangladesh)', \"People's Liberation Army (India)\", 'Hizb-I-Islami', 'Babbar Khalsa International (BKI)', 'Tamil Nadu Liberation Army', \"All Burma Students' Democratic Front (ABSDF)\", 'National League for Democracy', 'Oromo Liberation Front', 'National Army for the Liberation of Uganda (NALU)', 'Breton Liberation Front (FLB)', 'Angry Brigade'], 1: ['Free Papua Movement (OPM-Organisasi Papua Merdeka)', 'Combat 18', 'Guadalcanal Liberation Army', 'Paupa New Guinea Troops', 'Zapatista National Liberation Army', 'Nicaraguan Democratic Force (FDN)', 'Nicaraguan Resistance', 'Revolutionary Organization of People in Arms (ORPA)', 'Popular Revolutionary Bloc (BPR)', 'Democratic Revolutionary Alliance (ARDE)', 'Recontras', 'February 28 Popular League (El Salvador)', 'Misurasata Indian Organization', 'United Popular Action Front (FAPU)', \"People's Democratic Army\", 'Uighur Liberation Organization', 'Eastern Turkistan Islamic Movement (ETIM)', 'Seikijuku', 'Great Japan Patriotic Party', 'Seiji Kesha Kokuyukai', 'Kosovo Liberation Army (KLA)', 'National Liberation Army (NLA) (Macedonia)', 'Armed Forces of the Chechen Republic of Ichkeria', 'Albanian National Army (ANA)', 'NVF', 'Armenian Nationalists', 'Extraparliamentary Opposition (APO)', 'Liberation Army for Presevo, Medvedja and Bujanovac (UCPMB)', 'Makhachkala Gang', \"Kurdistan Workers' Party (PKK)\", 'Armed Islamic Group (GIA)', 'Salafist Group for Preaching and Fighting (GSPC)', '23rd of September Communist League', 'Black Liberation Army', 'Ku Klux Klan', 'Zebra killers', 'M-19 (Movement of April 19)', 'United Self Defense Units of Colombia (AUC)', \"Paraguayan People's Army (EPP)\", 'Brunswijk Jungle Commando', 'Alfaro Vive', 'Peasant Self-Defense Group (ACCU)', \"Workers' Self-Defense Movement (MAO)\", 'Taliban', 'Communist Party of India - Maoist (CPI-Maoist)', 'Liberation Tigers of Tamil Eelam (LTTE)', 'National Democratic Front of Bodoland (NDFB)', 'Muttahida Qami Movement (MQM)', 'Garo National Liberation Army', 'Lashkar-e-Taiba (LeT)', 'Hizbul Mujahideen (HM)', 'Lashkar-e-Jhangvi', 'Shanti Bahini - Peace Force', 'Baloch Liberation Front (BLF)', 'Janatantrik Terai Mukti Morcha- Jwala Singh (JTMM-J)', 'National Liberation Front of Tripura (NLFT)', 'Naxalites', 'Free Aceh Movement (GAM)', 'Thai Islamic Militants', 'Democratic Karen Buddhist Army (DKBA)', 'Mujahidin Indonesia Timur (MIT)', 'Alex Boncayao Brigade (ABB)', 'Barisan Revolusi Nasional (BRN)', 'Boko Haram', \"Lord's Resistance Army (LRA)\", 'Mozambique National Resistance Movement (MNR)', 'Janjaweed', 'Allied Democratic Forces (ADF)', 'Democratic Front for the Liberation of Rwanda (FDLR)', 'Movement of Democratic Forces of Casamance', 'Revolutionary United Front (RUF)', 'Party for the Liberation of the Hutu People (PALIPEHUTU)', 'Inkatha Freedom Party (IFP)', 'Mayi Mayi', 'Seleka', 'Patriotic Resistance Front in Ituri (FRPI)', \"Sudan People's Liberation Movement in Opposition (SPLM-IO)\", 'Azawad National Liberation Movement (MNLA)', 'Ex-Somoza National Guard', 'Bloque Anti-Guerrillero de Oriente (BAGO)', 'Chechen Lone Wolf Group', 'Sayfullakh', 'Institutional Revolutionary Party (PRI)', 'Popular Revolutionary Army (Mexico)', 'Democratic Revolutionary Party', 'Militant Peasants (NFI)', 'Republic of New Afrika', 'Justice Army for Defenseless Peoples', 'America Battalion', 'Commandos for A Popular alternative', 'National Socialist Civic Workers Movement', 'Maoist Communist Center (MCC)', 'Deccan Mujahideen', 'Justice and Equality Movement (JEM)', 'Dissident Military Mmbrs of Northern Tribal Group', 'Republican Action Force', 'Miskito Indian Organization', 'Jamaica Labor Party', 'Al-Fatah', 'Movement of the Revolutionary Left (MIR) (Peru)', 'Awami League', 'Jamaat-E-Islami (India/Pakistan)', \"Pakistani People's Party (PPP)\", 'Khasi Students Union', 'Karenni National Progressive Party', 'Shan State Army - North (SSA-N)', 'Front for the Liberation of the Enclave of Cabinda (FLEC)', 'Sudan Liberation Movement', 'Union of Congolese Patriots (UPC)', 'National Organization of Cypriot Fighters (EOKA)'], 2: ['Bougainville Revolutionary Army (BRA)', 'Kanak Socialist National Liberation Front', 'Kanak Separatists', 'Anti-Government Rebels', 'National Committee Against Independence (CNCI)', 'Vanuatu Mobile Force (VMF)', 'Isatabu Freedom Movement (IFM)', 'Sandinista National Liberation Front (FSLN)', \"People's Liberation Forces (FPL)\", 'Guerrilla Army of the Poor (EGP)', 'Death Squad', \"People's Revolutionary Army (ERP) (El Salvador)\", 'Armed Forces of National Resistance (FARN)', 'Rebel Armed Forces of Guatemala (FAR)', 'Guatemalan Labor Party (PGT)', 'Secret Anti-Communist Army (ESA)', 'Union Guerrera Blanca (UGB)', 'White Legion (Georgia)', 'Rizvon Sadirov Group', 'Sandval (union) Movement', 'South Ossetian Extremists', 'Tolib Ayombekov loyalists', 'Zviadists', 'Chukakuha (Middle Core Faction)', 'Aum Shinri Kyo', 'Association for the Enhancement of the Justice of the Great Japan', 'Chondaehyop (Radical Student Coalition)', 'Dainihon Yokuko Doshikai', 'Democratic Progressive Party', 'Hanchongryun', 'Hiroyuki Jo', 'Hotaru (Firefly)', 'Japanese Independence Patriotic Party', 'Japanese Red Army (JRA)', 'Korean Youth League', 'Namchong-Nyon Students', 'National Defense Youth Corps', 'Shonkonjuku Group', 'Taihikai (Great Sadness)', 'Yokoku Seiwa-Kai', 'Red Army Faction (RAF)', 'Al-Qaida in the Arabian Peninsula (AQAP)', \"Al-Gama'at al-Islamiyya (IG)\", 'Islamic Salvation Front (FIS)', 'Tripoli Province of the Islamic State', 'Muslim Brotherhood', 'Revolutionary Armed Forces of Colombia (FARC)', 'Popular Liberation Army (EPL)', 'Montoneros (Argentina)', 'Ejercito Revolucionaria del Pueblo (ERP) (Argentina)', 'Tupamaros (Uruguay)', 'Red Flag (Venezuela)', 'Death to Kidnappers (MAS)', 'Rodrigo Franco Command', \"People's Liberation Front (JVP)\", \"New People's Army (NPA)\", 'Al-Shabaab', \"South-West Africa People's Organization (SWAPO)\", \"Sudan People's Liberation Army (SPLA)\", 'Zimbabwe African Nationalist Union (ZANU)', 'Uganda Freedom Movement (UFM)', 'Irish Republican Army (IRA)', 'Ulster Volunteer Force (UVF)', 'Ulster Freedom Fighters (UFF)', 'Red Brigades', 'Irish National Liberation Army (INLA)', 'Irish Republican Extremists', 'Prima Linea', 'Revolutionary Patriotic Anti-Fascist Front (FRAP)', 'Revolutionary Front for Hatian Advancement and Progress (FRAPH)', 'Justice Commandos for the Armenian Genocide', 'Special Purpose Islamic Regiment (SPIR)', 'Ansar al-Din Front', 'Vietnamese Organization to Exterminate Communists and Restore the Nation', 'Jonathan Jackson Brigade', 'Movement for Triqui Unification and Struggle', 'Death to Rustlers', 'Khorasan Chapter of the Islamic State', 'Vigilante Group', 'Tigray Peoples Liberation Front (TPLF)', 'National Resistance Movement (NRM)', 'Armed Revolutionary Nuclei (NAR)', 'Official Irish Republican Army (OIRA)', 'Abu Nidal Organization (ANO)', 'Mano Blanca', 'National Anti Communist Commando', 'Guatemalan Communist Party', \"Kata'ib al-Khoul\", 'Jewish Extremists', 'Kurdish Democratic Party-Iraq (KDP)', 'The Justice Department', 'Ejercito de Liberacion Nacional (Bolivia)', 'National Liberation Army (Ecuador)', 'Communist Party of India- Marxist', 'Kuki Tribal Militants', 'Eritrean Liberation Front', 'Al-Ittihaad al-Islami (AIAI)', 'Pan Africanist Congress (PAC)', \"People's Democratic Party (PDP)\", \"Odua Peoples' Congress (OPC)\", 'Red Hand Commandos'], 3: ['Animal Liberation Front (ALF)', 'Pacific Popular Front', 'Yekbun', 'Senki (\"Battle Flag\")', 'League of Communists', 'Maruseido (Marxist Youth League)', 'Anti-Imperialist Students Council', 'Chonson Univ. students', 'Do-or-Die Corps for the Abolition of Anti-Public Taxation Systems', 'Issui Kai', 'Japan National Youth Alliance', \"Japan Socialist Youth League of the Revolutionary Workers' Association\", 'Kyongbuk University Dental College Students', 'Nara Red Army', 'Revolutionary Army', 'Taikosha, right wing group', 'Yamaguchi-Gumi Gang', 'Internationalist Cells', 'Revolutionary Cells Network (SRN)', 'Earth Liberation Front (ELF)', 'Independent Armed Revolutionary Commandos (CRIA)', 'United Front for Democracy Against Dictatorship']}\n"
     ]
    }
   ],
   "source": [
    "print(result_dict)"
   ]
  },
  {
   "cell_type": "code",
   "execution_count": 12,
   "metadata": {
    "collapsed": false
   },
   "outputs": [
    {
     "name": "stdout",
     "output_type": "stream",
     "text": [
      "[[  1.07738383e-01   4.99983948e-02   7.34765144e-01   5.56935117e-02\n",
      "    4.56115096e-03   7.34218283e-03   4.57334233e-02   3.18869978e-03]\n",
      " [  5.96799471e-01   5.40207664e-02   1.60451782e-01   6.00883278e-02\n",
      "    7.74967652e-03   2.57983657e-02   1.13025737e-01   1.22325094e-02]\n",
      " [  1.20283501e-01   3.11604613e-01   1.58339958e-01   6.32449041e-02\n",
      "    2.12025791e-02   4.17180030e-02   1.53926729e-01   3.44793266e-02]\n",
      " [  1.97628458e-03   8.78604395e-03   3.61586721e-02   9.52676747e-01\n",
      "   -5.20417043e-18   0.00000000e+00   2.77555756e-17   4.02252615e-04]]\n"
     ]
    }
   ],
   "source": [
    "print(kmeans.cluster_centers_)"
   ]
  },
  {
   "cell_type": "code",
   "execution_count": 13,
   "metadata": {
    "collapsed": false
   },
   "outputs": [
    {
     "name": "stdout",
     "output_type": "stream",
     "text": [
      "['attacktype1_txt_Armed Assault', 'attacktype1_txt_Assassination', 'attacktype1_txt_Bombing/Explosion', 'attacktype1_txt_Facility/Infrastructure Attack', 'attacktype1_txt_Hijacking', 'attacktype1_txt_Hostage Taking (Barricade Incident)', 'attacktype1_txt_Hostage Taking (Kidnapping)', 'attacktype1_txt_Unarmed Assault']\n"
     ]
    }
   ],
   "source": [
    "print(dimensions)"
   ]
  },
  {
   "cell_type": "code",
   "execution_count": 14,
   "metadata": {
    "collapsed": false
   },
   "outputs": [
    {
     "name": "stdout",
     "output_type": "stream",
     "text": [
      "[('Shining Path (SL)', 4135), ('Islamic State of Iraq and the Levant (ISIL)', 2381), ('Farabundo Marti National Liberation Front (FMLN)', 2129), ('Basque Fatherland and Freedom (ETA)', 1905), ('National Liberation Army of Colombia (ELN)', 1236)]\n",
      "[('Taliban', 4762), ('Boko Haram', 1700), ('Communist Party of India - Maoist (CPI-Maoist)', 1612), (\"Kurdistan Workers' Party (PKK)\", 1280), ('Liberation Tigers of Tamil Eelam (LTTE)', 1087)]\n",
      "[('Revolutionary Armed Forces of Colombia (FARC)', 2039), ('Irish Republican Army (IRA)', 1887), (\"New People's Army (NPA)\", 1508), ('Al-Shabaab', 1360), ('Al-Qaida in the Arabian Peninsula (AQAP)', 533)]\n",
      "[('Animal Liberation Front (ALF)', 113), ('Earth Liberation Front (ELF)', 72), ('United Front for Democracy Against Dictatorship', 23), ('Independent Armed Revolutionary Commandos (CRIA)', 19), ('Senki (\"Battle Flag\")', 5)]\n"
     ]
    }
   ],
   "source": [
    "import operator\n",
    "def print_largest_n(result, n):\n",
    "    nevent_dict = {}\n",
    "    for i in range(len(result)):\n",
    "        index = get_index(unique_groups,result[i])\n",
    "        nevents = group_counts[index]\n",
    "        nevent_dict[result[i]] = nevents\n",
    "    \n",
    "    sorted_nevents_dict = sorted(nevent_dict.items(), key=operator.itemgetter(1),reverse=True)\n",
    "    print(sorted_nevents_dict[:n])\n",
    "    \n",
    "for key in result_dict:\n",
    "    print_largest_n(result_dict[key],5)"
   ]
  }
 ],
 "metadata": {
  "anaconda-cloud": {},
  "kernelspec": {
   "display_name": "Python [conda root]",
   "language": "python",
   "name": "conda-root-py"
  },
  "language_info": {
   "codemirror_mode": {
    "name": "ipython",
    "version": 3
   },
   "file_extension": ".py",
   "mimetype": "text/x-python",
   "name": "python",
   "nbconvert_exporter": "python",
   "pygments_lexer": "ipython3",
   "version": "3.5.2"
  }
 },
 "nbformat": 4,
 "nbformat_minor": 1
}
