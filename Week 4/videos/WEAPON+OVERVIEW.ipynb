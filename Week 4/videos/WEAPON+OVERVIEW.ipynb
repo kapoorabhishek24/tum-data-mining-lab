{
 "cells": [
  {
   "cell_type": "code",
   "execution_count": 1,
   "metadata": {
    "collapsed": false
   },
   "outputs": [
    {
     "name": "stderr",
     "output_type": "stream",
     "text": [
      "//anaconda/lib/python3.5/site-packages/matplotlib/pyplot.py:516: RuntimeWarning: More than 20 figures have been opened. Figures created through the pyplot interface (`matplotlib.pyplot.figure`) are retained until explicitly closed and may consume too much memory. (To control this warning, see the rcParam `figure.max_open_warning`).\n",
      "  max_open_warning, RuntimeWarning)\n"
     ]
    }
   ],
   "source": [
    "import csv\n",
    "from mpl_toolkits.basemap import Basemap\n",
    "import matplotlib.pyplot as plt\n",
    "import numpy as np\n",
    "\n",
    "# Created by Abhishek Kapoor\n",
    "# Book.csv, is a custom generated file with limited Columns\n",
    "filename = '/Users/abhishekkapoor/Desktop/week4.csv'\n",
    "\n",
    "# For Ploting, Empty lists for Latitudes and Longitudes\n",
    "ls, lsf, lo, lof = [], [], [], []\n",
    "years = []\n",
    "regions = []\n",
    "attacks = []\n",
    "targets = []\n",
    "weapons = []\n",
    "\n",
    "\n",
    "# Reading the file\n",
    "with open(filename) as f:\n",
    "    reader = csv.reader(f)\n",
    "    for row in reader:\n",
    "        ls.append(row[0])\n",
    "        lo.append(row[1])\n",
    "        years.append(row[2])\n",
    "        regions.append(row[3])\n",
    "        attacks.append(row[4])\n",
    "        targets.append(row[5])\n",
    "        weapons.append(row[6])\n",
    "        \n",
    "#Converting to Float        \n",
    "lsf = [float(x) for x in ls]\n",
    "lof = [float(x) for x in lo]\n",
    "\n",
    "for a,z in enumerate(weapons):\n",
    "    if z == 'Unknown' or z == 'Other':\n",
    "        weapons[a]= 'Unknown'\n",
    "    elif z == 'Biological' or z == 'Chemical' or z == 'Radiological' or z == 'Nuclear':\n",
    "        weapons[a]= 'Biological/Chemical'\n",
    "    elif z == 'Sabotage Equipment':\n",
    "        weapons[a]= 'Sabotage Equipment'\n",
    "    elif z == 'Melee':\n",
    "        weapons[a]= 'Melee'\n",
    "    elif z == 'Incendiary' or z == 'Firearms':\n",
    "        weapons[a]= 'Incendiary/Firearms'\n",
    "    elif z == 'Vehicle (not to include vehicle-borne explosives, i.e., car or truck bombs)':\n",
    "        weapons[a]= 'Vehicle'\n",
    "    elif z == 'Fake Weapons':\n",
    "        weapons[a]= 'Fake Weapons'\n",
    "    elif z == 'Explosives/Bombs/Dynamite':\n",
    "        weapons[a]= 'Explosives/Bombs/Dynamite'\n",
    "\n",
    "def mark_color(clr):\n",
    "    if clr == 'Biological/Chemical':\n",
    "        return ('ro')\n",
    "    elif clr == 'Sabotage Equipment':\n",
    "        return ('co')\n",
    "    elif clr == 'Melee':\n",
    "        return ('wo')\n",
    "    elif clr == 'Incendiary/Firearms':\n",
    "        return ('yo')\n",
    "    elif clr == 'Vehicle':\n",
    "        return ('bo')\n",
    "    elif clr == 'Fake Weapons':\n",
    "        return ('go')\n",
    "    elif clr == 'Explosives/Bombs/Dynamite':\n",
    "        return ('mo')\n",
    "\n",
    "a=0\n",
    "for ll in range(-180,180, 10):\n",
    "    plt.figure(figsize=(20,15))\n",
    "    bmap = Basemap(projection='ortho', lon_0=ll, lat_0=0, area_thresh = 1000.0, resolution='c')\n",
    "    bmap.bluemarble()\n",
    "    bmap.drawcoastlines()\n",
    "    bmap.drawcountries()\n",
    "    bmap.drawmapboundary()\n",
    "    plt.title(\"Type of Weapon used in Terroris attacks since 1970s\")\n",
    "    a=a+1\n",
    "    for long, lati, weap in zip(lof, lsf, weapons):\n",
    "        if weap == 'Unknown':\n",
    "            zz=0 # Do Nothing\n",
    "        else:\n",
    "            x, y = bmap(long, lati)\n",
    "            marker_color = mark_color(weap)\n",
    "            bmap.plot(x, y, marker_color, markersize=8)\n",
    "    bmap.plot(0, 0, 'ro', markersize=0.08, label = 'Biological/Chemical')\n",
    "    bmap.plot(0, 0, 'co', markersize=0.08, label = 'Sabotage Equipment')\n",
    "    bmap.plot(0, 0, 'wo', markersize=0.08, label = 'Melee')\n",
    "    bmap.plot(0, 0, 'yo', markersize=0.08, label = 'Incendiary/Firearms')\n",
    "    bmap.plot(0, 0, 'bo', markersize=0.08, label = 'Vehicle')\n",
    "    bmap.plot(0, 0, 'go', markersize=0.08, label = 'Fake Weapons')\n",
    "    bmap.plot(0, 0, 'mo', markersize=0.08, label = 'Explosives/Bombs/Dynamite')\n",
    "    plt.legend(fontsize=14, loc = 8, markerscale = 200, numpoints=1, title='Weapon Types')\n",
    "    plt.savefig(\"/Users/abhishekkapoor/Desktop/weapon/frame{0}\".format(str(a).rjust(3, \"0\")), pad_inches=0.5, bbox_inches='tight')\n",
    "    plt.clf()"
   ]
  },
  {
   "cell_type": "code",
   "execution_count": null,
   "metadata": {
    "collapsed": true
   },
   "outputs": [],
   "source": []
  }
 ],
 "metadata": {
  "anaconda-cloud": {},
  "kernelspec": {
   "display_name": "Python [default]",
   "language": "python",
   "name": "python3"
  },
  "language_info": {
   "codemirror_mode": {
    "name": "ipython",
    "version": 3
   },
   "file_extension": ".py",
   "mimetype": "text/x-python",
   "name": "python",
   "nbconvert_exporter": "python",
   "pygments_lexer": "ipython3",
   "version": "3.5.0rc4"
  }
 },
 "nbformat": 4,
 "nbformat_minor": 1
}
