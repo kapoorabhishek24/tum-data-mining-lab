{
 "cells": [
  {
   "cell_type": "code",
   "execution_count": 4,
   "metadata": {
    "collapsed": true
   },
   "outputs": [],
   "source": [
    "import csv\n",
    "from mpl_toolkits.basemap import Basemap\n",
    "import matplotlib.pyplot as plt\n",
    "import numpy as np\n",
    "\n",
    "# Created by Abhishek Kapoor\n",
    "# Book.csv, is a custom generated file with limited Columns\n",
    "filename = '/Users/abhishekkapoor/Desktop/gname.csv'\n",
    "\n",
    "# For Ploting, Empty lists for Latitudes and Longitudes\n",
    "ls, lsf, lo, lof = [], [], [], []\n",
    "years = []\n",
    "regions = []\n",
    "attacks = []\n",
    "targets = []\n",
    "weapons = []\n",
    "gnames = []\n",
    "\n",
    "# Reading the file\n",
    "with open(filename, encoding='utf-8', errors='ignore') as f:\n",
    "    reader = csv.reader(f)\n",
    "    for row in reader:\n",
    "        ls.append(row[0])\n",
    "        lo.append(row[1])\n",
    "        gnames.append(row[2])\n",
    "        \n",
    "#Converting to Float        \n",
    "lsf = [float(x) for x in ls]\n",
    "lof = [float(x) for x in lo]\n",
    "\n",
    "\n",
    "clus1=['September 11 Commandos', 'Croatian Nationalists', 'Informal Anarchist Federation', 'Greek Bulgarian Armenian Front', 'Lufa Tribesmen', 'Palestine Liberation Organization (PLO)', 'Farabundo Marti National Liberation Front (FMLN)', 'Guatemalan National Revolutionary Unity (URNG)', 'Lorenzo Zelaya Revolutionary Front (LZRF)', 'Patriotic Morazanista Front (FPM)', 'Caribbean Revolutionary Alliance (ARC)', 'Cinchoneros Popular Liberation Movement', \"31 January People's Front (FP-31)\", '20 December Movement (M-20)', 'Maximiliano Gomez Revolutionary Brigade', 'South Ossetian Separatists', 'Supporters of Ex-President Gamsakhurdial', 'Islamic Jihad Group (IJG)', 'Forest Brothers', 'Islamic Jihad Union (Uzbekistan)', 'Soldiers of the Caliphate', 'Algeisk Wolves', 'Hizb al-Tahrir al-Islami (HT)', 'Islamic Movement of Uzbekistan (IMU)', \"Revolutionary Workers' Council (Kakurokyo)\", 'East Asia Anti Japanese Armed Front', '14 K Triad', 'Sekihotai', 'Turkestan Islamic Party', 'Anti-Narita Extremists', 'Chukakuha Revolutionary Army', 'Revolutionary Force', 'Caucasus Emirate', 'Riyadus-Salikhin Reconnaissance and Sabotage Battalion of Chechen Martyrs', \"Dagestani Shari'ah Jamaat\", 'Islambouli Brigades of al-Qaida', 'Ukrainian Nationalist Group', 'Black Berets', 'December 13 Independent Group', 'Islamic State of Iraq and the Levant (ISIL)', 'Al-Qaida in Iraq', 'Hamas (Islamic Resistance Movement)', 'Algerian Islamic Extremists', 'Hezbollah', 'Dev Sol', 'Palestinian Islamic Jihad (PIJ)', 'Al-Aqsa Martyrs Brigade', 'Al-Nusrah Front', 'Islamic State of Iraq (ISI)', 'Al-Qaida in the Islamic Maghreb (AQIM)', 'Sinai Province of the Islamic State', 'Popular Front for the Liberation of Palestine (PFLP)', 'Mujahedin-e Khalq (MEK)', 'Barqa Province of the Islamic State', 'Fuerzas Armadas de Liberacion Nacional (FALN)', 'New World Liberation Front (NWLF)', 'Jewish Defense League (JDL)', 'Black Nationalists', 'Omega-7', 'Weather Underground, Weathermen', 'Macheteros', 'Armed Revolutionary Independence Movement (MIRA)', 'Chicano Liberation Front', 'Black Panthers', 'Army of God', 'Puerto Rican Nationalists', 'United Freedom Front (UFF)', 'Union of the People (UDP)', 'George Jackson Brigade', 'Jewish Armed Resistance', 'Shining Path (SL)', 'National Liberation Army of Colombia (ELN)', 'Manuel Rodriguez Patriotic Front (FPMR)', 'Tupac Amaru Revolutionary Movement (MRTA)', 'Movement of the Revolutionary Left (MIR) (Chile)', 'Simon Bolivar Guerrilla Coordinating Board (CGSB)', 'The Extraditables', 'United Popular Action Movement', 'Ricardo Franco Front (Dissident FARC)', 'Tupac Katari Guerrilla Army (EGTK)', 'Popular Militia (Colombia)', \"People's Revolutionary Organization\", 'Tehrik-i-Taliban Pakistan (TTP)', 'United Liberation Front of Assam (ULFA)', 'Baloch Republican Army (BRA)', 'Baloch Liberation Army (BLA)', \"People's War Group (PWG)\", 'Pro Hartal Activists', 'Lashkar-e-Islam (Pakistan)', 'United Baloch Army (UBA)', 'Bangladesh Nationalist Party (BNP)', 'Haqqani Network', 'Abu Sayyaf Group (ASG)', 'Moro Islamic Liberation Front (MILF)', 'Moro National Liberation Front (MNLF)', 'Khmer Rouge', 'Bangsamoro Islamic Freedom Movement (BIFM)', 'Runda Kumpulan Kecil (RKK)', 'Karen National Union', 'Jemaah Islamiya (JI)', 'Pattani United Liberation Organization (PULO)', 'April 6th Liberation Movement', 'Kachin Independence Army (KIA)', 'Al-Khobar', 'Jamaah Ansharut Tauhid (JAT)', 'Reform of the Armed Forces Movement', 'African National Congress (South Africa)', 'National Union for the Total Independence of Angola (UNITA)', 'Movement for the Emancipation of the Niger Delta (MEND)', \"Sudan People's Liberation Movement - North\", 'Movement for Oneness and Jihad in West Africa (MUJAO)', 'National Liberation Front (FNL) (Burundi)', 'Basque Fatherland and Freedom (ETA)', 'Corsican National Liberation Front (FLNC)', 'First of October Antifascist Resistance Group (GRAPO)', 'Corsican National Liberation Front- Historic Channel', 'Armenian Secret Army for the Liberation of Armenia', 'November 17 Revolutionary Organization (N17RO)', \"Revolutionary People's Struggle (ELA)\", 'Dissident Republicans', 'Terra Lliure', 'Iparretarrak (IK)', 'Action Directe', 'Baader-Meinhof Group', 'Conspiracy of Cells of Fire', 'Revolutionary Cells', \"Free Galician People's Guerrilla Army\", 'Popular Forces of April 25', 'Real Irish Republican Army (RIRA)', 'Coordination of the United Revolutionary Organization (CORU)', 'Maximiliano Hernandez Martinez Brigade', 'Ansar Allah', 'Free Syrian Army', 'Tawhid and Jihad', 'Sanaa Province of the Islamic State', 'Abdullah Azzam Brigades', 'Front for the Liberation of Lebanon from Foreigners', 'Armed Commandos of Liberation', 'Al-Qaida', 'Individuals Tending Toward Savagery', 'Communist Party of Nepal- Maoist (CPN-M)', 'Jundallah', 'Harkatul Jihad-e-Islami', \"Cambodian People's Party (CPP)\", 'North Korean involvement commandos', 'Black September', 'Abu Hafs al-Masri Brigades', 'Black Order', 'Secret Organization of al-Qaida in Europe', 'Popular Front for the Liberation of Palestine, Gen Cmd (PFLP-GC)', 'New Order', 'Revolutionary Workers Party', 'Cossack Separatists', 'Devrimici Halk Kurtulus Cephesi (DHKP/C)', 'Democratic Front for the Liberation of Palestine (DFLP)', 'Turkish Communist Party/Marxist (TKP-ML)', 'Syrian Social Nationalist Party', 'Islamic Unification Movement', 'Che Guevara Brigade', 'Jamaat-E-Islami (Bangladesh)', \"People's Liberation Army (India)\", 'Hizb-I-Islami', 'Babbar Khalsa International (BKI)', 'Tamil Nadu Liberation Army', \"All Burma Students' Democratic Front (ABSDF)\", 'National League for Democracy', 'Oromo Liberation Front', 'National Army for the Liberation of Uganda (NALU)', 'Breton Liberation Front (FLB)', 'Angry Brigade']\n",
    "clus2=['Free Papua Movement (OPM-Organisasi Papua Merdeka)', 'Combat 18', 'Guadalcanal Liberation Army', 'Paupa New Guinea Troops', 'Zapatista National Liberation Army', 'Nicaraguan Democratic Force (FDN)', 'Nicaraguan Resistance', 'Revolutionary Organization of People in Arms (ORPA)', 'Popular Revolutionary Bloc (BPR)', 'Democratic Revolutionary Alliance (ARDE)', 'Recontras', 'February 28 Popular League (El Salvador)', 'Misurasata Indian Organization', 'United Popular Action Front (FAPU)', \"People's Democratic Army\", 'Uighur Liberation Organization', 'Eastern Turkistan Islamic Movement (ETIM)', 'Seikijuku', 'Great Japan Patriotic Party', 'Seiji Kesha Kokuyukai', 'Kosovo Liberation Army (KLA)', 'National Liberation Army (NLA) (Macedonia)', 'Armed Forces of the Chechen Republic of Ichkeria', 'Albanian National Army (ANA)', 'NVF', 'Armenian Nationalists', 'Extraparliamentary Opposition (APO)', 'Liberation Army for Presevo, Medvedja and Bujanovac (UCPMB)', 'Makhachkala Gang', \"Kurdistan Workers' Party (PKK)\", 'Armed Islamic Group (GIA)', 'Salafist Group for Preaching and Fighting (GSPC)', '23rd of September Communist League', 'Black Liberation Army', 'Ku Klux Klan', 'Zebra killers', 'M-19 (Movement of April 19)', 'United Self Defense Units of Colombia (AUC)', \"Paraguayan People's Army (EPP)\", 'Brunswijk Jungle Commando', 'Alfaro Vive', 'Peasant Self-Defense Group (ACCU)', \"Workers' Self-Defense Movement (MAO)\", 'Taliban', 'Communist Party of India - Maoist (CPI-Maoist)', 'Liberation Tigers of Tamil Eelam (LTTE)', 'National Democratic Front of Bodoland (NDFB)', 'Muttahida Qami Movement (MQM)', 'Garo National Liberation Army', 'Lashkar-e-Taiba (LeT)', 'Hizbul Mujahideen (HM)', 'Lashkar-e-Jhangvi', 'Shanti Bahini - Peace Force', 'Baloch Liberation Front (BLF)', 'Janatantrik Terai Mukti Morcha- Jwala Singh (JTMM-J)', 'National Liberation Front of Tripura (NLFT)', 'Naxalites', 'Free Aceh Movement (GAM)', 'Thai Islamic Militants', 'Democratic Karen Buddhist Army (DKBA)', 'Mujahidin Indonesia Timur (MIT)', 'Alex Boncayao Brigade (ABB)', 'Barisan Revolusi Nasional (BRN)', 'Boko Haram', \"Lord's Resistance Army (LRA)\", 'Mozambique National Resistance Movement (MNR)', 'Janjaweed', 'Allied Democratic Forces (ADF)', 'Democratic Front for the Liberation of Rwanda (FDLR)', 'Movement of Democratic Forces of Casamance', 'Revolutionary United Front (RUF)', 'Party for the Liberation of the Hutu People (PALIPEHUTU)', 'Inkatha Freedom Party (IFP)', 'Mayi Mayi', 'Seleka', 'Patriotic Resistance Front in Ituri (FRPI)', \"Sudan People's Liberation Movement in Opposition (SPLM-IO)\", 'Azawad National Liberation Movement (MNLA)', 'Ex-Somoza National Guard', 'Bloque Anti-Guerrillero de Oriente (BAGO)', 'Chechen Lone Wolf Group', 'Sayfullakh', 'Institutional Revolutionary Party (PRI)', 'Popular Revolutionary Army (Mexico)', 'Democratic Revolutionary Party', 'Militant Peasants (NFI)', 'Republic of New Afrika', 'Justice Army for Defenseless Peoples', 'America Battalion', 'Commandos for A Popular alternative', 'National Socialist Civic Workers Movement', 'Maoist Communist Center (MCC)', 'Deccan Mujahideen', 'Justice and Equality Movement (JEM)', 'Dissident Military Mmbrs of Northern Tribal Group', 'Republican Action Force', 'Miskito Indian Organization', 'Jamaica Labor Party', 'Al-Fatah', 'Movement of the Revolutionary Left (MIR) (Peru)', 'Awami League', 'Jamaat-E-Islami (India/Pakistan)', \"Pakistani People's Party (PPP)\", 'Khasi Students Union', 'Karenni National Progressive Party', 'Shan State Army - North (SSA-N)', 'Front for the Liberation of the Enclave of Cabinda (FLEC)', 'Sudan Liberation Movement', 'Union of Congolese Patriots (UPC)', 'National Organization of Cypriot Fighters (EOKA)']\n",
    "clus3=['Bougainville Revolutionary Army (BRA)', 'Kanak Socialist National Liberation Front', 'Kanak Separatists', 'Anti-Government Rebels', 'National Committee Against Independence (CNCI)', 'Vanuatu Mobile Force (VMF)', 'Isatabu Freedom Movement (IFM)', 'Sandinista National Liberation Front (FSLN)', \"People's Liberation Forces (FPL)\", 'Guerrilla Army of the Poor (EGP)', 'Death Squad', \"People's Revolutionary Army (ERP) (El Salvador)\", 'Armed Forces of National Resistance (FARN)', 'Rebel Armed Forces of Guatemala (FAR)', 'Guatemalan Labor Party (PGT)', 'Secret Anti-Communist Army (ESA)', 'Union Guerrera Blanca (UGB)', 'White Legion (Georgia)', 'Rizvon Sadirov Group', 'Sandval (union) Movement', 'South Ossetian Extremists', 'Tolib Ayombekov loyalists', 'Zviadists', 'Chukakuha (Middle Core Faction)', 'Aum Shinri Kyo', 'Association for the Enhancement of the Justice of the Great Japan', 'Chondaehyop (Radical Student Coalition)', 'Dainihon Yokuko Doshikai', 'Democratic Progressive Party', 'Hanchongryun', 'Hiroyuki Jo', 'Hotaru (Firefly)', 'Japanese Independence Patriotic Party', 'Japanese Red Army (JRA)', 'Korean Youth League', 'Namchong-Nyon Students', 'National Defense Youth Corps', 'Shonkonjuku Group', 'Taihikai (Great Sadness)', 'Yokoku Seiwa-Kai', 'Red Army Faction (RAF)', 'Al-Qaida in the Arabian Peninsula (AQAP)', \"Al-Gama'at al-Islamiyya (IG)\", 'Islamic Salvation Front (FIS)', 'Tripoli Province of the Islamic State', 'Muslim Brotherhood', 'Revolutionary Armed Forces of Colombia (FARC)', 'Popular Liberation Army (EPL)', 'Montoneros (Argentina)', 'Ejercito Revolucionaria del Pueblo (ERP) (Argentina)', 'Tupamaros (Uruguay)', 'Red Flag (Venezuela)', 'Death to Kidnappers (MAS)', 'Rodrigo Franco Command', \"People's Liberation Front (JVP)\", \"New People's Army (NPA)\", 'Al-Shabaab', \"South-West Africa People's Organization (SWAPO)\", \"Sudan People's Liberation Army (SPLA)\", 'Zimbabwe African Nationalist Union (ZANU)', 'Uganda Freedom Movement (UFM)', 'Irish Republican Army (IRA)', 'Ulster Volunteer Force (UVF)', 'Ulster Freedom Fighters (UFF)', 'Red Brigades', 'Irish National Liberation Army (INLA)', 'Irish Republican Extremists', 'Prima Linea', 'Revolutionary Patriotic Anti-Fascist Front (FRAP)', 'Revolutionary Front for Hatian Advancement and Progress (FRAPH)', 'Justice Commandos for the Armenian Genocide', 'Special Purpose Islamic Regiment (SPIR)', 'Ansar al-Din Front', 'Vietnamese Organization to Exterminate Communists and Restore the Nation', 'Jonathan Jackson Brigade', 'Movement for Triqui Unification and Struggle', 'Death to Rustlers', 'Khorasan Chapter of the Islamic State', 'Vigilante Group', 'Tigray Peoples Liberation Front (TPLF)', 'National Resistance Movement (NRM)', 'Armed Revolutionary Nuclei (NAR)', 'Official Irish Republican Army (OIRA)', 'Abu Nidal Organization (ANO)', 'Mano Blanca', 'National Anti Communist Commando', 'Guatemalan Communist Party', \"Kata'ib al-Khoul\", 'Jewish Extremists', 'Kurdish Democratic Party-Iraq (KDP)', 'The Justice Department', 'Ejercito de Liberacion Nacional (Bolivia)', 'National Liberation Army (Ecuador)', 'Communist Party of India- Marxist', 'Kuki Tribal Militants', 'Eritrean Liberation Front', 'Al-Ittihaad al-Islami (AIAI)', 'Pan Africanist Congress (PAC)', \"People's Democratic Party (PDP)\", \"Odua Peoples' Congress (OPC)\", 'Red Hand Commandos']\n",
    "clus4=['Animal Liberation Front (ALF)', 'Pacific Popular Front', 'Yekbun', 'Senki (\"Battle Flag\")', 'League of Communists', 'Maruseido (Marxist Youth League)', 'Anti-Imperialist Students Council', 'Chonson Univ. students', 'Do-or-Die Corps for the Abolition of Anti-Public Taxation Systems', 'Issui Kai', 'Japan National Youth Alliance', \"Japan Socialist Youth League of the Revolutionary Workers' Association\", 'Kyongbuk University Dental College Students', 'Nara Red Army', 'Revolutionary Army', 'Taikosha, right wing group', 'Yamaguchi-Gumi Gang', 'Internationalist Cells', 'Revolutionary Cells Network (SRN)', 'Earth Liberation Front (ELF)', 'Independent Armed Revolutionary Commandos (CRIA)', 'United Front for Democracy Against Dictatorship']\n",
    "\n",
    "\n",
    "gname = np.unique(gnames)\n",
    "ls = []\n",
    "lo = []\n",
    "gnd = []\n",
    "\n",
    "a=4\n",
    "for gn, lon, lat in zip(gnames, lof, lsf):\n",
    "    if gn in clus4:\n",
    "        ls.append(lat)\n",
    "        lo.append(lon)\n",
    "        gnd.append(gn)\n",
    "plt.figure(figsize=(20,15))\n",
    "bmap = Basemap(projection='robin', resolution = 'c', area_thresh = 1000.0, lon_0=0)\n",
    "bmap.bluemarble()\n",
    "bmap.drawcoastlines()\n",
    "bmap.drawcountries()\n",
    "bmap.drawmapboundary()\n",
    "plt.title(\"Clustering of Terrorist Groups based on Attack Types\")\n",
    "x, y = bmap(lo, ls)\n",
    "bmap.plot(x, y, 'go', markersize=10, alpha = 0.7, label = 'Infrastructure/Facility Attackers')\n",
    "plt.legend(fontsize=24, loc = 8, markerscale = 2, numpoints=1, title='Attack Type')\n",
    "plt.savefig(\"/Users/abhishekkapoor/Desktop/attack/frame{0}\".format(str(a).rjust(3, \"0\")), pad_inches=0.5, bbox_inches='tight')\n",
    "plt.clf()"
   ]
  },
  {
   "cell_type": "code",
   "execution_count": null,
   "metadata": {
    "collapsed": true
   },
   "outputs": [],
   "source": []
  }
 ],
 "metadata": {
  "kernelspec": {
   "display_name": "Python [default]",
   "language": "python",
   "name": "python3"
  },
  "language_info": {
   "codemirror_mode": {
    "name": "ipython",
    "version": 3
   },
   "file_extension": ".py",
   "mimetype": "text/x-python",
   "name": "python",
   "nbconvert_exporter": "python",
   "pygments_lexer": "ipython3",
   "version": "3.5.0rc4"
  }
 },
 "nbformat": 4,
 "nbformat_minor": 1
}
