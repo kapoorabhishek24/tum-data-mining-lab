{
 "cells": [
  {
   "cell_type": "markdown",
   "metadata": {},
   "source": [
    "# Text Mining Terrorism Dataset"
   ]
  },
  {
   "cell_type": "markdown",
   "metadata": {},
   "source": [
    "## *Basic Descriptive Statistics*"
   ]
  },
  {
   "cell_type": "markdown",
   "metadata": {},
   "source": [
    "### 1 - Set environment"
   ]
  },
  {
   "cell_type": "code",
   "execution_count": null,
   "metadata": {
    "collapsed": false
   },
   "outputs": [],
   "source": [
    "setwd(\"~/tum-data-mining-lab\")\n",
    "\n",
    "library(wordcloud)\n",
    "library(tm)\n",
    "library(dplyr)\n",
    "library(openxlsx)\n",
    "\n",
    "mydf <- read.xlsx(\"globalterrorismdb_0616dist.xlsx\", sheet = 1, startRow = 1, colNames = TRUE)"
   ]
  },
  {
   "cell_type": "markdown",
   "metadata": {},
   "source": [
    "### 2 - Goal: analyse following columns"
   ]
  },
  {
   "cell_type": "code",
   "execution_count": null,
   "metadata": {
    "collapsed": false
   },
   "outputs": [],
   "source": [
    "# columns: summary\n",
    "#mydf$summary\n",
    "#mydf$alternative_txt\n",
    "#mydf$motive\n",
    "#mydf$weapdetail"
   ]
  },
  {
   "cell_type": "markdown",
   "metadata": {},
   "source": [
    "### 3 - Utils Functions"
   ]
  },
  {
   "cell_type": "markdown",
   "metadata": {},
   "source": [
    "#### Frequencies of missing values"
   ]
  },
  {
   "cell_type": "code",
   "execution_count": null,
   "metadata": {
    "collapsed": true
   },
   "outputs": [],
   "source": [
    "#frequencies of na (relative)\n",
    "relative_na_frequencies <- function(column_to_process)\n",
    "{\n",
    "  count_na <- sum(is.na(column_to_process))\n",
    "  count_not_na <- sum(!is.na(column_to_process))\n",
    "  value <- count_na/(count_na + count_not_na)\n",
    "  print(value)\n",
    "}"
   ]
  },
  {
   "cell_type": "markdown",
   "metadata": {},
   "source": [
    "#### Wordclouds"
   ]
  },
  {
   "cell_type": "code",
   "execution_count": null,
   "metadata": {
    "collapsed": true
   },
   "outputs": [],
   "source": [
    "generate.cloud <- function(column_to_process, output_filename)\n",
    "{\n",
    "  #remove punctuation\n",
    "  column_to_process <- gsub(\"[[:punct:]]\", \"\", column_to_process)\n",
    "  \n",
    "  # Create corpus\n",
    "  corpus=Corpus(VectorSource(column_to_process))\n",
    "  \n",
    "  # Convert to lower-case\n",
    "  corpus=tm_map(corpus,tolower)\n",
    "  \n",
    "  # Remove stopwords\n",
    "  corpus=tm_map(corpus,function(x) removeWords(x,stopwords()))\n",
    "  \n",
    "  # convert corpus to a Plain Text Document\n",
    "  corpus=tm_map(corpus,PlainTextDocument)\n",
    "  \n",
    "  col=brewer.pal(6,\"Dark2\")\n",
    "  wordcloud(corpus, min.freq=25, scale=c(5,2),rot.per = 0.25,\n",
    "            random.color=T, max.word=45, random.order=F,colors=col)\n",
    "}"
   ]
  },
  {
   "cell_type": "markdown",
   "metadata": {},
   "source": [
    "### 4 - Frequencies and wordclouds for terrorism dataset"
   ]
  },
  {
   "cell_type": "markdown",
   "metadata": {},
   "source": [
    "#### 4.1 - Variable summary"
   ]
  },
  {
   "cell_type": "code",
   "execution_count": null,
   "metadata": {
    "collapsed": false
   },
   "outputs": [],
   "source": [
    "relative_na_frequencies(mydf$summary)\n",
    "#na relative frequencies = 0.4218866\n",
    "\n",
    "generate.cloud(mydf$summary, \"summary\")"
   ]
  },
  {
   "cell_type": "markdown",
   "metadata": {},
   "source": [
    "#### 4.2 - Variable alternative_txt"
   ]
  },
  {
   "cell_type": "code",
   "execution_count": null,
   "metadata": {
    "collapsed": true
   },
   "outputs": [],
   "source": [
    "relative_na_frequencies(mydf$alternative_txt)\n",
    "#na relative frequencies = 0\n",
    "\n",
    "generate.cloud(mydf$alternative_txt, \"alternative_txt\")"
   ]
  },
  {
   "cell_type": "markdown",
   "metadata": {},
   "source": [
    "#### 4.3 - Variable motive"
   ]
  },
  {
   "cell_type": "code",
   "execution_count": null,
   "metadata": {
    "collapsed": true
   },
   "outputs": [],
   "source": [
    "relative_na_frequencies(mydf$motive)\n",
    "#na relative frequencies = 0.7028041\n",
    "\n",
    "generate.cloud(mydf$motive, \"motive\")"
   ]
  },
  {
   "cell_type": "markdown",
   "metadata": {},
   "source": [
    "#### 4.4 - Variable weapdetail"
   ]
  },
  {
   "cell_type": "code",
   "execution_count": null,
   "metadata": {
    "collapsed": true
   },
   "outputs": [],
   "source": [
    "relative_na_frequencies(mydf$weapdetail)\n",
    "#na relative frequencies = 0.3249177\n",
    "\n",
    "generate.cloud(mydf$weapdetail, \"weapdetail\")"
   ]
  },
  {
   "cell_type": "markdown",
   "metadata": {},
   "source": [
    "#### 4.5 - Variable propcomment"
   ]
  },
  {
   "cell_type": "code",
   "execution_count": null,
   "metadata": {
    "collapsed": true
   },
   "outputs": [],
   "source": [
    "relative_na_frequencies(mydf$propcomment)\n",
    "#na relative frequencies = 0.6847524\n",
    "\n",
    "generate.cloud(mydf$propcomment, \"propcomment\")"
   ]
  },
  {
   "cell_type": "markdown",
   "metadata": {},
   "source": [
    "#### 4.6 - Variable ransomnote "
   ]
  },
  {
   "cell_type": "code",
   "execution_count": null,
   "metadata": {
    "collapsed": true
   },
   "outputs": [],
   "source": [
    "relative_na_frequencies(mydf$ransomnote)\n",
    "#na relative frequencies = 0.9973146\n",
    "\n",
    "generate.cloud(mydf$ransomnote, \"ransomnote\")"
   ]
  },
  {
   "cell_type": "markdown",
   "metadata": {},
   "source": [
    "#### 4.7 - Variable addnotes"
   ]
  },
  {
   "cell_type": "code",
   "execution_count": null,
   "metadata": {
    "collapsed": true
   },
   "outputs": [],
   "source": [
    "relative_na_frequencies(mydf$addnotes)\n",
    "#na relative frequencies = 0.8601536\n",
    "\n",
    "generate.cloud(mydf$addnotes, \"addnotes\")"
   ]
  },
  {
   "cell_type": "markdown",
   "metadata": {},
   "source": [
    "#### 4.8 - Variable scite1 scite2 scite3"
   ]
  },
  {
   "cell_type": "code",
   "execution_count": null,
   "metadata": {
    "collapsed": true
   },
   "outputs": [],
   "source": [
    "relative_na_frequencies(mydf$scite1)\n",
    "#na relative frequencies = 0.4230985\n",
    "generate.cloud(mydf$scite1, \"scite1\")\n",
    "\n",
    "relative_na_frequencies(mydf$scite2)\n",
    "#na relative frequencies = 0.6098729\n",
    "generate.cloud(mydf$scite2, \"scite2\")\n",
    "\n",
    "relative_na_frequencies(mydf$scite3)\n",
    "#na relative frequencies = 0.7822826\n",
    "generate.cloud(mydf$scite3, \"scite3\")"
   ]
  },
  {
   "cell_type": "markdown",
   "metadata": {},
   "source": [
    "#### 4.9 - Variable corp2"
   ]
  },
  {
   "cell_type": "code",
   "execution_count": null,
   "metadata": {
    "collapsed": true
   },
   "outputs": [],
   "source": [
    "relative_na_frequencies(mydf$corp2)\n",
    "#na relative frequencies = 0.9497359\n",
    "\n",
    "generate.cloud(mydf$corp2, \"corp2\")"
   ]
  },
  {
   "cell_type": "markdown",
   "metadata": {},
   "source": [
    "#### 4.10 - Variable target2"
   ]
  },
  {
   "cell_type": "code",
   "execution_count": null,
   "metadata": {
    "collapsed": true
   },
   "outputs": [],
   "source": [
    "relative_na_frequencies(mydf$target2)\n",
    "#na relative frequencies = 0.943976\n",
    "\n",
    "generate.cloud(mydf$target2, \"target2\")"
   ]
  },
  {
   "cell_type": "markdown",
   "metadata": {},
   "source": [
    "#### 4.11 - Variable corp3"
   ]
  },
  {
   "cell_type": "code",
   "execution_count": null,
   "metadata": {
    "collapsed": true
   },
   "outputs": [],
   "source": [
    "relative_na_frequencies(mydf$corp3)\n",
    "#na relative frequencies = 0.9950119\n",
    "\n",
    "generate.cloud(mydf$corp3, \"corp3\")"
   ]
  },
  {
   "cell_type": "markdown",
   "metadata": {},
   "source": [
    "#### 4.11 - Variable target3"
   ]
  },
  {
   "cell_type": "code",
   "execution_count": null,
   "metadata": {
    "collapsed": true
   },
   "outputs": [],
   "source": [
    "relative_na_frequencies(mydf$target3)\n",
    "#na relative frequencies = 0.9940614\n",
    "\n",
    "generate.cloud(mydf$target3, \"target3\")"
   ]
  }
 ],
 "metadata": {
  "anaconda-cloud": {},
  "kernelspec": {
   "display_name": "R",
   "language": "R",
   "name": "ir"
  },
  "language_info": {
   "codemirror_mode": "r",
   "file_extension": ".r",
   "mimetype": "text/x-r-source",
   "name": "R",
   "pygments_lexer": "r",
   "version": "3.2.3"
  }
 },
 "nbformat": 4,
 "nbformat_minor": 1
}
