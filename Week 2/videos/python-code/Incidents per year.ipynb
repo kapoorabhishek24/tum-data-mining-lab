{
 "cells": [
  {
   "cell_type": "code",
   "execution_count": null,
   "metadata": {
    "collapsed": true
   },
   "outputs": [],
   "source": [
    "import csv\n",
    "from mpl_toolkits.basemap import Basemap\n",
    "import matplotlib.pyplot as plt\n",
    "import numpy as np\n",
    "\n",
    "# Created by Abhishek Kapoor\n",
    "# Book.csv, is a custom generated file with limited Columns\n",
    "filename = '~/Book.csv'\n",
    "\n",
    "# For Ploting, Empty lists for Latitudes and Longitudes\n",
    "ls, lsf, lo, lof = [], [], [], []\n",
    "\n",
    "\n",
    "# Reading the file\n",
    "with open(filename) as f:\n",
    "    reader = csv.reader(f)\n",
    "    for row in reader:\n",
    "        ls.append(row[0])\n",
    "        lo.append(row[1])\n",
    "\n",
    "#Converting to Float        \n",
    "lsf = [float(x) for x in ls]\n",
    "lof = [float(x) for x in lo]\n",
    "\n",
    "kill = np.unique(kills)\n",
    "\n",
    "a=0\n",
    "for ll in kill:\n",
    "    ls=[]\n",
    "    lo=[]\n",
    "    for kil, lon, lat in zip(kills, lof, lsf):\n",
    "        if kil == ll:\n",
    "            ls.append(lat)\n",
    "            lo.append(lon)\n",
    "    plt.figure(figsize=(16,12))\n",
    "    bmap = Basemap(projection='robin', resolution = 'c', area_thresh = 1000.0, lon_0=0)\n",
    "    bmap.bluemarble()\n",
    "    bmap.drawcoastlines()\n",
    "    bmap.drawcountries()\n",
    "    bmap.drawmapboundary()\n",
    "    plt.title(\"Scatter Plot as per the Number of Incidents since 1970\")\n",
    "    a=a+1\n",
    "    x, y = bmap(lo, ls)\n",
    "    bmap.plot(x, y, 'yo', markersize=8, label=ll)\n",
    "    plt.legend(fontsize=20, loc = 6, numpoints=1, title='Year')\n",
    "    plt.savefig(\"~/test/frame{0}\".format(str(a).rjust(3, \"0\")))\n",
    "    plt.clf()"
   ]
  }
 ],
 "metadata": {
  "anaconda-cloud": {},
  "kernelspec": {
   "display_name": "Python [default]",
   "language": "python",
   "name": "python3"
  },
  "language_info": {
   "codemirror_mode": {
    "name": "ipython",
    "version": 3
   },
   "file_extension": ".py",
   "mimetype": "text/x-python",
   "name": "python",
   "nbconvert_exporter": "python",
   "pygments_lexer": "ipython3",
   "version": "3.5.0rc4"
  }
 },
 "nbformat": 4,
 "nbformat_minor": 1
}
