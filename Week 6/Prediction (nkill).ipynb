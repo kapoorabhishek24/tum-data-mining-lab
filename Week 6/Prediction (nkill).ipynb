{
 "cells": [
  {
   "cell_type": "code",
   "execution_count": 1,
   "metadata": {
    "collapsed": false
   },
   "outputs": [
    {
     "name": "stdout",
     "output_type": "stream",
     "text": [
      "Loading DB...\n",
      "DB Read...\n"
     ]
    }
   ],
   "source": [
    "# Input the DB to Memory\n",
    "import pandas as pd\n",
    "import numpy as np\n",
    "print(\"Loading DB...\")\n",
    "dfs = pd.read_csv(\"terrorism_red_cat_for_nkill_pred.csv\")\n",
    "print(\"DB Read...\")\n",
    "#print(data_file.sheet_names)\n",
    "#dfs = data_file.parse(data_file.sheet_names[0])\n",
    "#print(\"DB Parsed...\")\n",
    "del(dfs['Unnamed: 0'])"
   ]
  },
  {
   "cell_type": "markdown",
   "metadata": {},
   "source": [
    "['iyear', 'extended', 'success', 'suicide', 'gname', 'nperps', 'nkill', 'nwound', 'ishostkid', 'nhostkid', 'weaptype1_txt_Biological', 'weaptype1_txt_Chemical', 'weaptype1_txt_Explosives/Bombs/Dynamite', 'weaptype1_txt_Fake Weapons', 'weaptype1_txt_Firearms', 'weaptype1_txt_Incendiary', 'weaptype1_txt_Melee', 'weaptype1_txt_Other', 'weaptype1_txt_Radiological', 'weaptype1_txt_Sabotage Equipment', 'weaptype1_txt_Unknown',\n",
    "       'weaptype1_txt_Vehicle (not to include vehicle-borne explosives, i.e., car or truck bombs)',\n",
    "       'attacktype1_txt_Armed Assault', 'attacktype1_txt_Assassination',\n",
    "       'attacktype1_txt_Bombing/Explosion',\n",
    "       'attacktype1_txt_Facility/Infrastructure Attack',\n",
    "       'attacktype1_txt_Hijacking',\n",
    "       'attacktype1_txt_Hostage Taking (Barricade Incident)',\n",
    "       'attacktype1_txt_Hostage Taking (Kidnapping)',\n",
    "       'attacktype1_txt_Unarmed Assault', 'attacktype1_txt_Unknown',\n",
    "       'targtype1_txt_Abortion Related', 'targtype1_txt_Airports & Aircraft',\n",
    "       'targtype1_txt_Business', 'targtype1_txt_Educational Institution',\n",
    "       'targtype1_txt_Food or Water Supply',\n",
    "       'targtype1_txt_Government (Diplomatic)',\n",
    "       'targtype1_txt_Government (General)',\n",
    "       'targtype1_txt_Journalists & Media', 'targtype1_txt_Maritime',\n",
    "       'targtype1_txt_Military', 'targtype1_txt_NGO', 'targtype1_txt_Other',\n",
    "       'targtype1_txt_Police', 'targtype1_txt_Private Citizens & Property',\n",
    "       'targtype1_txt_Religious Figures/Institutions',\n",
    "       'targtype1_txt_Telecommunication',\n",
    "       'targtype1_txt_Terrorists/Non-State Militia', 'targtype1_txt_Tourists',\n",
    "       'targtype1_txt_Transportation', 'targtype1_txt_Unknown',\n",
    "       'targtype1_txt_Utilities', 'targtype1_txt_Violent Political Party']"
   ]
  },
  {
   "cell_type": "code",
   "execution_count": 2,
   "metadata": {
    "collapsed": false
   },
   "outputs": [
    {
     "name": "stdout",
     "output_type": "stream",
     "text": [
      "Index(['iyear', 'extended', 'success', 'suicide', 'gname', 'nperps', 'nkill',\n",
      "       'nwound', 'ishostkid', 'nhostkid', 'weaptype1_txt_Biological',\n",
      "       'weaptype1_txt_Chemical', 'weaptype1_txt_Explosives/Bombs/Dynamite',\n",
      "       'weaptype1_txt_Fake Weapons', 'weaptype1_txt_Firearms',\n",
      "       'weaptype1_txt_Incendiary', 'weaptype1_txt_Melee',\n",
      "       'weaptype1_txt_Other', 'weaptype1_txt_Radiological',\n",
      "       'weaptype1_txt_Sabotage Equipment', 'weaptype1_txt_Unknown',\n",
      "       'weaptype1_txt_Vehicle (not to include vehicle-borne explosives, i.e., car or truck bombs)',\n",
      "       'attacktype1_txt_Armed Assault', 'attacktype1_txt_Assassination',\n",
      "       'attacktype1_txt_Bombing/Explosion',\n",
      "       'attacktype1_txt_Facility/Infrastructure Attack',\n",
      "       'attacktype1_txt_Hijacking',\n",
      "       'attacktype1_txt_Hostage Taking (Barricade Incident)',\n",
      "       'attacktype1_txt_Hostage Taking (Kidnapping)',\n",
      "       'attacktype1_txt_Unarmed Assault', 'attacktype1_txt_Unknown',\n",
      "       'targtype1_txt_Abortion Related', 'targtype1_txt_Airports & Aircraft',\n",
      "       'targtype1_txt_Business', 'targtype1_txt_Educational Institution',\n",
      "       'targtype1_txt_Food or Water Supply',\n",
      "       'targtype1_txt_Government (Diplomatic)',\n",
      "       'targtype1_txt_Government (General)',\n",
      "       'targtype1_txt_Journalists & Media', 'targtype1_txt_Maritime',\n",
      "       'targtype1_txt_Military', 'targtype1_txt_NGO', 'targtype1_txt_Other',\n",
      "       'targtype1_txt_Police', 'targtype1_txt_Private Citizens & Property',\n",
      "       'targtype1_txt_Religious Figures/Institutions',\n",
      "       'targtype1_txt_Telecommunication',\n",
      "       'targtype1_txt_Terrorists/Non-State Militia', 'targtype1_txt_Tourists',\n",
      "       'targtype1_txt_Transportation', 'targtype1_txt_Unknown',\n",
      "       'targtype1_txt_Utilities', 'targtype1_txt_Violent Political Party'],\n",
      "      dtype='object')\n"
     ]
    }
   ],
   "source": [
    "print(dfs.columns)"
   ]
  },
  {
   "cell_type": "code",
   "execution_count": 3,
   "metadata": {
    "collapsed": false
   },
   "outputs": [
    {
     "name": "stdout",
     "output_type": "stream",
     "text": [
      "Index(['iyear', 'extended', 'success', 'suicide', 'gname', 'nperps', 'nkill',\n",
      "       'ishostkid', 'nhostkid', 'weaptype1_txt_Biological',\n",
      "       'weaptype1_txt_Chemical', 'weaptype1_txt_Explosives/Bombs/Dynamite',\n",
      "       'weaptype1_txt_Fake Weapons', 'weaptype1_txt_Firearms',\n",
      "       'weaptype1_txt_Incendiary', 'weaptype1_txt_Melee',\n",
      "       'weaptype1_txt_Sabotage Equipment',\n",
      "       'weaptype1_txt_Vehicle (not to include vehicle-borne explosives, i.e., car or truck bombs)',\n",
      "       'attacktype1_txt_Armed Assault', 'attacktype1_txt_Assassination',\n",
      "       'attacktype1_txt_Bombing/Explosion',\n",
      "       'attacktype1_txt_Facility/Infrastructure Attack',\n",
      "       'attacktype1_txt_Hijacking',\n",
      "       'attacktype1_txt_Hostage Taking (Barricade Incident)',\n",
      "       'attacktype1_txt_Hostage Taking (Kidnapping)',\n",
      "       'attacktype1_txt_Unarmed Assault', 'targtype1_txt_Abortion Related',\n",
      "       'targtype1_txt_Airports & Aircraft', 'targtype1_txt_Business',\n",
      "       'targtype1_txt_Educational Institution',\n",
      "       'targtype1_txt_Food or Water Supply',\n",
      "       'targtype1_txt_Government (Diplomatic)',\n",
      "       'targtype1_txt_Government (General)',\n",
      "       'targtype1_txt_Journalists & Media', 'targtype1_txt_Maritime',\n",
      "       'targtype1_txt_Military', 'targtype1_txt_NGO', 'targtype1_txt_Police',\n",
      "       'targtype1_txt_Private Citizens & Property',\n",
      "       'targtype1_txt_Religious Figures/Institutions',\n",
      "       'targtype1_txt_Telecommunication',\n",
      "       'targtype1_txt_Terrorists/Non-State Militia', 'targtype1_txt_Tourists',\n",
      "       'targtype1_txt_Transportation', 'targtype1_txt_Utilities',\n",
      "       'targtype1_txt_Violent Political Party'],\n",
      "      dtype='object')\n",
      "['iyear', 'extended', 'success', 'suicide', 'gname', 'nperps', 'nkill', 'ishostkid', 'nhostkid', 'weaptype1_txt_Biological', 'weaptype1_txt_Chemical', 'weaptype1_txt_Explosives/Bombs/Dynamite', 'weaptype1_txt_Fake Weapons', 'weaptype1_txt_Firearms', 'weaptype1_txt_Incendiary', 'weaptype1_txt_Melee', 'weaptype1_txt_Sabotage Equipment', 'weaptype1_txt_Vehicle (not to include vehicle-borne explosives, i.e., car or truck bombs)', 'attacktype1_txt_Armed Assault', 'attacktype1_txt_Assassination', 'attacktype1_txt_Bombing/Explosion', 'attacktype1_txt_Facility/Infrastructure Attack', 'attacktype1_txt_Hijacking', 'attacktype1_txt_Hostage Taking (Barricade Incident)', 'attacktype1_txt_Hostage Taking (Kidnapping)', 'attacktype1_txt_Unarmed Assault', 'targtype1_txt_Abortion Related', 'targtype1_txt_Airports & Aircraft', 'targtype1_txt_Business', 'targtype1_txt_Educational Institution', 'targtype1_txt_Food or Water Supply', 'targtype1_txt_Government (Diplomatic)', 'targtype1_txt_Government (General)', 'targtype1_txt_Journalists & Media', 'targtype1_txt_Maritime', 'targtype1_txt_Military', 'targtype1_txt_NGO', 'targtype1_txt_Police', 'targtype1_txt_Private Citizens & Property', 'targtype1_txt_Religious Figures/Institutions', 'targtype1_txt_Telecommunication', 'targtype1_txt_Terrorists/Non-State Militia', 'targtype1_txt_Tourists', 'targtype1_txt_Transportation', 'targtype1_txt_Utilities', 'targtype1_txt_Violent Political Party']\n"
     ]
    }
   ],
   "source": [
    "dimensions = ['iyear', 'extended', 'success', 'suicide', 'gname', 'nperps', 'nkill', 'ishostkid', 'nhostkid',\n",
    "              'weaptype1_txt_Biological', 'weaptype1_txt_Chemical', 'weaptype1_txt_Explosives/Bombs/Dynamite', \n",
    "               'weaptype1_txt_Fake Weapons', 'weaptype1_txt_Firearms', 'weaptype1_txt_Incendiary', 'weaptype1_txt_Melee',\n",
    "               'weaptype1_txt_Sabotage Equipment', \n",
    "               'weaptype1_txt_Vehicle (not to include vehicle-borne explosives, i.e., car or truck bombs)', \n",
    "               'attacktype1_txt_Armed Assault', 'attacktype1_txt_Assassination', 'attacktype1_txt_Bombing/Explosion', \n",
    "               'attacktype1_txt_Facility/Infrastructure Attack', 'attacktype1_txt_Hijacking',\n",
    "               'attacktype1_txt_Hostage Taking (Barricade Incident)', 'attacktype1_txt_Hostage Taking (Kidnapping)',\n",
    "               'attacktype1_txt_Unarmed Assault', 'targtype1_txt_Abortion Related', 'targtype1_txt_Airports & Aircraft',\n",
    "               'targtype1_txt_Business', 'targtype1_txt_Educational Institution', 'targtype1_txt_Food or Water Supply', \n",
    "               'targtype1_txt_Government (Diplomatic)', 'targtype1_txt_Government (General)',\n",
    "               'targtype1_txt_Journalists & Media', 'targtype1_txt_Maritime', 'targtype1_txt_Military',\n",
    "               'targtype1_txt_NGO', 'targtype1_txt_Police', 'targtype1_txt_Private Citizens & Property',\n",
    "               'targtype1_txt_Religious Figures/Institutions', 'targtype1_txt_Telecommunication', \n",
    "               'targtype1_txt_Terrorists/Non-State Militia', 'targtype1_txt_Tourists', 'targtype1_txt_Transportation',\n",
    "               'targtype1_txt_Utilities', 'targtype1_txt_Violent Political Party']\n",
    "\n",
    "columns = dfs.columns\n",
    "for cols in columns:\n",
    "    if cols == 'gname':\n",
    "        continue\n",
    "    if cols not in dimensions:\n",
    "        del(dfs[cols])\n",
    "\n",
    "columns = dfs.columns\n",
    "print(columns)\n",
    "print(dimensions)"
   ]
  },
  {
   "cell_type": "code",
   "execution_count": 4,
   "metadata": {
    "collapsed": false
   },
   "outputs": [],
   "source": [
    "yarr = dfs['nkill']"
   ]
  },
  {
   "cell_type": "code",
   "execution_count": 5,
   "metadata": {
    "collapsed": false
   },
   "outputs": [
    {
     "name": "stdout",
     "output_type": "stream",
     "text": [
      "<class 'list'>\n"
     ]
    }
   ],
   "source": [
    "del(dfs['nkill'])\n",
    "del(dfs['gname'])\n",
    "xarr = dfs.values.tolist()\n",
    "print(type(xarr))   "
   ]
  },
  {
   "cell_type": "code",
   "execution_count": 6,
   "metadata": {
    "collapsed": false
   },
   "outputs": [
    {
     "name": "stdout",
     "output_type": "stream",
     "text": [
      "<class 'numpy.ndarray'>\n",
      "<class 'numpy.ndarray'>\n",
      "[[  1.97000000e+03   0.00000000e+00   1.00000000e+00 ...,   0.00000000e+00\n",
      "    0.00000000e+00   0.00000000e+00]\n",
      " [  1.97000000e+03   0.00000000e+00   1.00000000e+00 ...,   0.00000000e+00\n",
      "    0.00000000e+00   0.00000000e+00]\n",
      " [  1.97000000e+03   0.00000000e+00   1.00000000e+00 ...,   0.00000000e+00\n",
      "    0.00000000e+00   0.00000000e+00]\n",
      " ..., \n",
      " [  2.01500000e+03   0.00000000e+00   1.00000000e+00 ...,   0.00000000e+00\n",
      "    0.00000000e+00   0.00000000e+00]\n",
      " [  2.01500000e+03   0.00000000e+00   1.00000000e+00 ...,   0.00000000e+00\n",
      "    0.00000000e+00   0.00000000e+00]\n",
      " [  2.01500000e+03   1.00000000e+00   1.00000000e+00 ...,   0.00000000e+00\n",
      "    0.00000000e+00   0.00000000e+00]]\n",
      "[ 1.  0.  1. ...,  1.  5.  0.]\n"
     ]
    }
   ],
   "source": [
    "xarr = np.array(xarr)\n",
    "yarr = np.array(yarr)\n",
    "print(type(xarr))\n",
    "print(type(yarr))\n",
    "print(xarr)\n",
    "print(yarr)\n",
    "xarr = np.nan_to_num(xarr)\n",
    "yarr = np.nan_to_num(yarr)"
   ]
  },
  {
   "cell_type": "code",
   "execution_count": 7,
   "metadata": {
    "collapsed": false
   },
   "outputs": [],
   "source": [
    "from sklearn import model_selection"
   ]
  },
  {
   "cell_type": "code",
   "execution_count": 8,
   "metadata": {
    "collapsed": true
   },
   "outputs": [],
   "source": [
    "from sklearn import linear_model\n",
    "from scipy.spatial import distance"
   ]
  },
  {
   "cell_type": "code",
   "execution_count": 9,
   "metadata": {
    "collapsed": false
   },
   "outputs": [],
   "source": [
    "def get_result_perc(result_dict, l):\n",
    "    for key in result_dict:\n",
    "        result_dict[key] = round(result_dict[key]*100/l,2)\n",
    "    print(result_dict)\n",
    "def prepare_result_dict():\n",
    "    import collections\n",
    "    result_dict = collections.OrderedDict()\n",
    "    result_dict[\"1\"] = 0\n",
    "    result_dict[\"5\"] = 0\n",
    "    result_dict[\"10\"] = 0\n",
    "    result_dict[\"20\"] = 0\n",
    "    result_dict[\"50\"] = 0\n",
    "    result_dict[\"51+\"] = 0\n",
    "    return result_dict\n",
    "def update_result_dict(result_dict, error_list):\n",
    "    for error in error_list:\n",
    "        if error < 1:\n",
    "            result_dict[\"1\"] += 1\n",
    "        elif error < 5:\n",
    "            result_dict[\"5\"] += 1\n",
    "        elif error < 10:\n",
    "            result_dict[\"10\"] += 1\n",
    "        elif error < 20:\n",
    "            result_dict[\"20\"] += 1\n",
    "        elif error < 50:\n",
    "            result_dict[\"50\"] += 1\n",
    "        else:\n",
    "            result_dict[\"51+\"] += 1\n",
    "    print(result_dict)"
   ]
  },
  {
   "cell_type": "code",
   "execution_count": 10,
   "metadata": {
    "collapsed": false
   },
   "outputs": [
    {
     "name": "stdout",
     "output_type": "stream",
     "text": [
      "KFold(n_splits=10, random_state=42, shuffle=False)\n",
      "OrderedDict([('1', 57863), ('5', 63616), ('10', 7140), ('20', 2309), ('50', 1223), ('51+', 393)])\n",
      "OrderedDict([('1', 75988), ('5', 43846), ('10', 7033), ('20', 3537), ('50', 1649), ('51+', 491)])\n",
      "OrderedDict([('1', 43.66), ('5', 48.0), ('10', 5.39), ('20', 1.74), ('50', 0.92), ('51+', 0.3)])\n",
      "OrderedDict([('1', 57.33), ('5', 33.08), ('10', 5.31), ('20', 2.67), ('50', 1.24), ('51+', 0.37)])\n",
      "10204.041578132399\n"
     ]
    }
   ],
   "source": [
    "from sklearn.model_selection import KFold\n",
    "k = 10\n",
    "kf = KFold(n_splits=k,random_state=42)\n",
    "kf.get_n_splits(xarr,yarr)\n",
    "print(kf)  \n",
    "eu_sum = 0\n",
    "error_list = []\n",
    "actual_list = []\n",
    "rs_dict = prepare_result_dict()\n",
    "actual_dict = prepare_result_dict()\n",
    "for train_index, test_index in kf.split(xarr,yarr):\n",
    "    #print(\"TRAIN:\", train_index, \"TEST:\", test_index)\n",
    "    X_train, X_test = xarr[train_index], xarr[test_index]\n",
    "    y_train, y_test = yarr[train_index], yarr[test_index]\n",
    "    regr = linear_model.LinearRegression()\n",
    "    regr.fit(X_train, y_train)\n",
    "    yarr_model = regr.predict(X_test)\n",
    "    eu_sum += distance.euclidean(y_test,yarr_model)\n",
    "    for i in range(len(y_test)):\n",
    "        error_list.append(abs(y_test[i]-yarr_model[i]))\n",
    "        actual_list.append(y_test[i])\n",
    "\n",
    "update_result_dict(rs_dict, error_list)\n",
    "update_result_dict(actual_dict, actual_list)\n",
    "get_result_perc(rs_dict,len(error_list))\n",
    "get_result_perc(actual_dict,len(actual_list))\n",
    "print(eu_sum)"
   ]
  },
  {
   "cell_type": "code",
   "execution_count": 11,
   "metadata": {
    "collapsed": false
   },
   "outputs": [
    {
     "name": "stdout",
     "output_type": "stream",
     "text": [
      "2.52423400355\n",
      "1.26990345992\n",
      "2.23751241236\n",
      "92.6937873645\n",
      "1367.94226254\n",
      "5.88218033539e-05\n"
     ]
    }
   ],
   "source": [
    "import statistics\n",
    "print(statistics.mean(error_list))\n",
    "print(statistics.median(error_list))\n",
    "print(statistics.mode(error_list))\n",
    "print(statistics.variance(error_list))\n",
    "print(max(error_list))\n",
    "print(min(error_list))"
   ]
  },
  {
   "cell_type": "code",
   "execution_count": 13,
   "metadata": {
    "collapsed": false
   },
   "outputs": [
    {
     "data": {
      "text/plain": [
       "<matplotlib.text.Text at 0x1ef11b6de48>"
      ]
     },
     "execution_count": 13,
     "metadata": {},
     "output_type": "execute_result"
    },
    {
     "data": {
      "image/png": "[encoded data removed]",
      "text/plain": [
       "<matplotlib.figure.Figure at 0x1ef11aac208>"
      ]
     },
     "metadata": {},
     "output_type": "display_data"
    }
   ],
   "source": [
    "%matplotlib inline\n",
    "df = pd.DataFrame.from_dict(rs_dict, orient='index')\n",
    "g = df.plot(kind='bar', legend=False )\n",
    "g.xaxis.set_label_text(\"Error less than\")\n",
    "g.yaxis.set_label_text(\"Percentage of events\")\n",
    "g.set_title(\"Frequency of errors\")"
   ]
  },
  {
   "cell_type": "code",
   "execution_count": 14,
   "metadata": {
    "collapsed": false
   },
   "outputs": [
    {
     "name": "stdout",
     "output_type": "stream",
     "text": [
      "Error vs Actual Value\n"
     ]
    },
    {
     "data": {
      "image/png": "[encoded data removed]",
      "text/plain": [
       "<matplotlib.figure.Figure at 0x1ef11bc09b0>"
      ]
     },
     "metadata": {},
     "output_type": "display_data"
    }
   ],
   "source": [
    "import matplotlib.pyplot as plt\n",
    "g = plt.scatter(error_list, actual_list)\n",
    "g.axes.set_xlabel(\"Error Magnitude\")\n",
    "g.axes.set_ylabel(\"Actual value\")\n",
    "print(\"Error vs Actual Value\")\n",
    "plt.show()"
   ]
  },
  {
   "cell_type": "code",
   "execution_count": 17,
   "metadata": {
    "collapsed": false
   },
   "outputs": [
    {
     "name": "stdout",
     "output_type": "stream",
     "text": [
      "132544\n",
      "132544\n",
      "132542\n",
      "132542\n"
     ]
    }
   ],
   "source": [
    "err_list_copy = error_list.copy()\n",
    "act_list_copy = actual_list.copy()\n",
    "\n",
    "print(len(err_list_copy))\n",
    "print(len(act_list_copy))\n",
    "max_value = max(err_list_copy)\n",
    "max_index = err_list_copy.index(max_value)\n",
    "err_list_copy.remove(max_value)\n",
    "act_list_copy.remove(act_list_copy[max_index])\n",
    "max_value = max(err_list_copy)\n",
    "max_index = err_list_copy.index(max_value)\n",
    "err_list_copy.remove(max_value)\n",
    "act_list_copy.remove(act_list_copy[max_index])\n",
    "\n",
    "print(len(err_list_copy))\n",
    "print(len(act_list_copy))"
   ]
  },
  {
   "cell_type": "code",
   "execution_count": 18,
   "metadata": {
    "collapsed": false
   },
   "outputs": [
    {
     "name": "stdout",
     "output_type": "stream",
     "text": [
      "Error vs Actual Value\n"
     ]
    },
    {
     "data": {
      "image/png": "[encoded data removed]",
      "text/plain": [
       "<matplotlib.figure.Figure at 0x1ef120661d0>"
      ]
     },
     "metadata": {},
     "output_type": "display_data"
    }
   ],
   "source": [
    "g = plt.scatter(err_list_copy, act_list_copy)\n",
    "g.axes.set_xlabel(\"Error Magnitude\")\n",
    "g.axes.set_ylabel(\"Actual value\")\n",
    "print(\"Error vs Actual Value\")\n",
    "plt.show()"
   ]
  },
  {
   "cell_type": "code",
   "execution_count": null,
   "metadata": {
    "collapsed": true
   },
   "outputs": [],
   "source": []
  }
 ],
 "metadata": {
  "anaconda-cloud": {},
  "kernelspec": {
   "display_name": "Python [conda root]",
   "language": "python",
   "name": "conda-root-py"
  },
  "language_info": {
   "codemirror_mode": {
    "name": "ipython",
    "version": 3
   },
   "file_extension": ".py",
   "mimetype": "text/x-python",
   "name": "python",
   "nbconvert_exporter": "python",
   "pygments_lexer": "ipython3",
   "version": "3.5.2"
  }
 },
 "nbformat": 4,
 "nbformat_minor": 1
}
