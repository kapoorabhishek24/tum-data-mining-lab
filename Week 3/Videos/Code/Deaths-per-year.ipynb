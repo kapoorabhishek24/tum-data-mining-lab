{
 "cells": [
  {
   "cell_type": "code",
   "execution_count": 7,
   "metadata": {
    "collapsed": false
   },
   "outputs": [
    {
     "name": "stderr",
     "output_type": "stream",
     "text": [
      "//anaconda/lib/python3.5/site-packages/matplotlib/pyplot.py:516: RuntimeWarning: More than 20 figures have been opened. Figures created through the pyplot interface (`matplotlib.pyplot.figure`) are retained until explicitly closed and may consume too much memory. (To control this warning, see the rcParam `figure.max_open_warning`).\n",
      "  max_open_warning, RuntimeWarning)\n"
     ]
    }
   ],
   "source": [
    "import csv\n",
    "from mpl_toolkits.basemap import Basemap\n",
    "import matplotlib.pyplot as plt\n",
    "import numpy as np\n",
    "\n",
    "# Created by Abhishek Kapoor\n",
    "# Book.csv, is a custom generated file \n",
    "filename = '~/Book.csv'\n",
    "\n",
    "# For Ploting, Empty lists for Latitudes and Longitudes\n",
    "ls, lsf, lo, lof = [], [], [], []\n",
    "kills = []\n",
    "deads = []\n",
    "\n",
    "# Reading the file\n",
    "with open(filename) as f:\n",
    "    reader = csv.reader(f)\n",
    "    for row in reader:\n",
    "        ls.append(row[0])\n",
    "        lo.append(row[1])\n",
    "        kills.append(row[2])\n",
    "        deads.append(float(row[3]))\n",
    "\n",
    "#Converting to Float        \n",
    "lsf = [float(x) for x in ls]\n",
    "lof = [float(x) for x in lo]\n",
    "\n",
    "#Function to define the Colors associated with Number of Deaths\n",
    "def mark_color(death):\n",
    "    # Yellow for <10, Blue for <=50, Red for >50\n",
    "    if death == 0.0:\n",
    "        return (0,'wo')\n",
    "    elif death <= 10.0:\n",
    "        return (10,'yo')\n",
    "    elif death <= 50.0:\n",
    "        return (15,'bo')\n",
    "    else:\n",
    "        return (20,'ro')\n",
    "\n",
    "kill = np.unique(kills)\n",
    "\n",
    "a=0\n",
    "for ll in kill:\n",
    "    ls=[]\n",
    "    lo=[]\n",
    "    de=[]\n",
    "    for kil, lon, lat, dea in zip(kills, lof, lsf, deads):\n",
    "        if kil == ll:\n",
    "            ls.append(lat)\n",
    "            lo.append(lon)\n",
    "            de.append(dea)\n",
    "    plt.figure(figsize=(16,12))\n",
    "    bmap = Basemap(projection='robin', resolution = 'c', area_thresh = 1000.0, lon_0=0)\n",
    "    bmap.bluemarble()\n",
    "    bmap.drawcoastlines()\n",
    "    bmap.drawcountries()\n",
    "    bmap.drawmapboundary()\n",
    "    plt.title(\"Scatter Plot as per the Number of Deaths\\n Yellow<=10, 10<Blue<=50, Red>100\")\n",
    "    a=a+1\n",
    "    for long, lati, deay in zip(lo, ls, de):\n",
    "        x,y = bmap(long, lati)\n",
    "        si, marker_color = mark_color(deay)\n",
    "        bmap.plot(x, y, marker_color, markersize=si, alpha=0.8)\n",
    "    bmap.plot(0, 0, 'ko', markersize=0.008, label = ll)\n",
    "    bmap.plot(0, 0, 'yo', markersize=0.08, label = 'Deaths < 10')\n",
    "    bmap.plot(0, 0, 'bo', markersize=0.08, label = 'Deaths >10 and <=50')\n",
    "    bmap.plot(0, 0, 'ro', markersize=0.08, label = 'Deaths > 50')\n",
    "    plt.legend(fontsize=14, loc = 8,markerscale=200, title='Year and Number of Deaths', numpoints=1)\n",
    "    plt.savefig(\"/Users/abhishekkapoor/Desktop/ffff/frame{0}\".format(str(a).rjust(3, \"0\")), pad_inches=0.5, bbox_inches='tight')\n",
    "    plt.clf()"
   ]
  },
  {
   "cell_type": "code",
   "execution_count": null,
   "metadata": {
    "collapsed": true
   },
   "outputs": [],
   "source": []
  }
 ],
 "metadata": {
  "anaconda-cloud": {},
  "kernelspec": {
   "display_name": "Python [default]",
   "language": "python",
   "name": "python3"
  },
  "language_info": {
   "codemirror_mode": {
    "name": "ipython",
    "version": 3
   },
   "file_extension": ".py",
   "mimetype": "text/x-python",
   "name": "python",
   "nbconvert_exporter": "python",
   "pygments_lexer": "ipython3",
   "version": "3.5.0rc4"
  }
 },
 "nbformat": 4,
 "nbformat_minor": 1
}
