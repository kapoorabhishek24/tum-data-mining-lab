{
 "cells": [
  {
   "cell_type": "code",
   "execution_count": 32,
   "metadata": {
    "collapsed": false
   },
   "outputs": [
    {
     "name": "stderr",
     "output_type": "stream",
     "text": [
      "//anaconda/lib/python3.5/site-packages/matplotlib/pyplot.py:516: RuntimeWarning: More than 20 figures have been opened. Figures created through the pyplot interface (`matplotlib.pyplot.figure`) are retained until explicitly closed and may consume too much memory. (To control this warning, see the rcParam `figure.max_open_warning`).\n",
      "  max_open_warning, RuntimeWarning)\n"
     ]
    }
   ],
   "source": [
    "import csv\n",
    "from mpl_toolkits.basemap import Basemap\n",
    "import matplotlib.pyplot as plt\n",
    "import numpy as np\n",
    "\n",
    "# Created by Abhishek Kapoor\n",
    "# Book.csv, is a custom generated file with limited Columns\n",
    "filename = '~/Book.csv'\n",
    "\n",
    "# For Ploting, Empty lists for Latitudes and Longitudes\n",
    "ls, lsf, lo, lof = [], [], [], []\n",
    "years = []\n",
    "targets = []\n",
    "\n",
    "\n",
    "# Reading the file\n",
    "with open(filename) as f:\n",
    "    reader = csv.reader(f)\n",
    "    for row in reader:\n",
    "        ls.append(row[0])\n",
    "        lo.append(row[1])\n",
    "        years.append(row[2])\n",
    "        targets.append(row[3])\n",
    "        \n",
    "#Converting to Float        \n",
    "lsf = [float(x) for x in ls]\n",
    "lof = [float(x) for x in lo]\n",
    "\n",
    "year = np.unique(years)\n",
    "\n",
    "for a,z in enumerate(targets):\n",
    "    if z == 'Unknown' or z == 'Other':\n",
    "        targets[a]= 'Unknown'\n",
    "    elif z == 'Government (General)' or z == 'Government (Diplomatic)' or z == 'Violent Political Party' or z == 'Police' or z == 'Military':\n",
    "        targets[a]= 'Government and Military'\n",
    "    elif z == 'Airports & Aircraft' or z == 'Transportation' or z == 'Maritime' or z == 'Food or Water Supply' or z =='Utilities' or z == 'Telecommunication':\n",
    "        targets[a]= 'Infrastructure and Transportation'\n",
    "    elif z == 'Educational Institution' or z == 'NGO' or z == 'Religious Figures/Institutions' or z == 'Private Citizens & Property' or z == 'Tourists' or z == 'Business' or z == 'Journalists & Media':\n",
    "        targets[a]= 'People and Public Institutions'\n",
    "    elif z == 'Terrorists/Non-State Militia':\n",
    "        targets[a]= 'Terrorists/Non-State Militia'\n",
    "    elif z == 'Abortion Related':\n",
    "        targets[a]= 'Abortion Related'\n",
    "\n",
    "def mark_color(clr):\n",
    "    if clr == 'Government and Military':\n",
    "        return ('yo')\n",
    "    elif clr == 'Infrastructure and Transportation':\n",
    "        return ('co')\n",
    "    elif clr == 'People and Public Institutions':\n",
    "        return ('bo')\n",
    "    elif clr == 'Terrorists/Non-State Militia':\n",
    "        return ('wo')\n",
    "    elif clr == 'Abortion Related':\n",
    "        return ('ro')\n",
    "\n",
    "a=0\n",
    "for ll in year:\n",
    "    ls=[]\n",
    "    lo=[]\n",
    "    targ = []\n",
    "    for yea, tar, lon, lat in zip(years, targets, lof, lsf):\n",
    "        if yea == ll:\n",
    "            ls.append(lat)\n",
    "            lo.append(lon)\n",
    "            targ.append(tar)\n",
    "    plt.figure(figsize=(20,15))\n",
    "    bmap = Basemap(projection='robin', resolution = 'c', area_thresh = 1000.0, lon_0=0)\n",
    "    bmap.bluemarble()\n",
    "    bmap.drawcoastlines()\n",
    "    bmap.drawcountries()\n",
    "    bmap.drawmapboundary()\n",
    "    plt.title(\"Major Terrorist Targets since 1970\")\n",
    "    a=a+1\n",
    "    for ta, lati ,long in zip(targ, ls, lo):\n",
    "        if ta == 'Unknown':\n",
    "            zz=0\n",
    "        else:\n",
    "            marker_color = mark_color(ta)\n",
    "            x, y = bmap(long, lati)\n",
    "            bmap.plot(x, y, marker_color, markersize=12)\n",
    "    bmap.plot(0, 0, 'ko', markersize=0.002, label = ll)\n",
    "    bmap.plot(0, 0, 'yo', markersize=0.08, label = 'Government and Military')\n",
    "    bmap.plot(0, 0, 'co', markersize=0.08, label = 'Infrastructure and Transportation')\n",
    "    bmap.plot(0, 0, 'bo', markersize=0.08, label = 'People and Public Institutions')\n",
    "    bmap.plot(0, 0, 'wo', markersize=0.08, label = 'Terrorists/Non-State Militia')\n",
    "    bmap.plot(0, 0, 'ro', markersize=0.08, label = 'Abortion Related')\n",
    "    plt.legend(fontsize=14, loc = 8, markerscale = 200, numpoints=1, title='Year and Target Types')\n",
    "    plt.savefig(\"/Users/abhishekkapoor/Desktop/target-group/frame{0}\".format(str(a).rjust(3, \"0\")), pad_inches=0.5, bbox_inches='tight')\n",
    "    plt.clf()"
   ]
  },
  {
   "cell_type": "code",
   "execution_count": null,
   "metadata": {
    "collapsed": true
   },
   "outputs": [],
   "source": []
  }
 ],
 "metadata": {
  "anaconda-cloud": {},
  "kernelspec": {
   "display_name": "Python [default]",
   "language": "python",
   "name": "python3"
  },
  "language_info": {
   "codemirror_mode": {
    "name": "ipython",
    "version": 3
   },
   "file_extension": ".py",
   "mimetype": "text/x-python",
   "name": "python",
   "nbconvert_exporter": "python",
   "pygments_lexer": "ipython3",
   "version": "3.5.0rc4"
  }
 },
 "nbformat": 4,
 "nbformat_minor": 1
}
