{
 "cells": [
  {
   "cell_type": "code",
   "execution_count": 3,
   "metadata": {
    "collapsed": false
   },
   "outputs": [
    {
     "name": "stdout",
     "output_type": "stream",
     "text": [
      "['Australasia & Oceania' 'Central America & Caribbean' 'Central Asia'\n",
      " 'East Asia' 'Eastern Europe' 'Middle East & North Africa' 'North America'\n",
      " 'South America' 'South Asia' 'Southeast Asia' 'Sub-Saharan Africa'\n",
      " 'Western Europe']\n"
     ]
    },
    {
     "name": "stderr",
     "output_type": "stream",
     "text": [
      "//anaconda/lib/python3.5/site-packages/matplotlib/pyplot.py:516: RuntimeWarning: More than 20 figures have been opened. Figures created through the pyplot interface (`matplotlib.pyplot.figure`) are retained until explicitly closed and may consume too much memory. (To control this warning, see the rcParam `figure.max_open_warning`).\n",
      "  max_open_warning, RuntimeWarning)\n"
     ]
    }
   ],
   "source": [
    "import csv\n",
    "from mpl_toolkits.basemap import Basemap\n",
    "import matplotlib.pyplot as plt\n",
    "import numpy as np\n",
    "\n",
    "# Created by Abhishek Kapoor\n",
    "# Book.csv, is a custom generated file with limited Columns\n",
    "filename = '~/Book.csv'\n",
    "\n",
    "# For Ploting, Empty lists for Latitudes and Longitudes\n",
    "ls, lsf, lo, lof = [], [], [], []\n",
    "regions = []\n",
    "\n",
    "\n",
    "# Reading the file\n",
    "with open(filename) as f:\n",
    "    reader = csv.reader(f)\n",
    "    for row in reader:\n",
    "        ls.append(row[0])\n",
    "        lo.append(row[1])\n",
    "        regions.append(row[2])\n",
    "        \n",
    "#Converting to Float        \n",
    "lsf = [float(x) for x in ls]\n",
    "lof = [float(x) for x in lo]\n",
    "\n",
    "region = np.unique(regions)\n",
    "\n",
    "print (region)\n",
    "\n",
    "a=0\n",
    "for ll in region:\n",
    "    ls=[]\n",
    "    lo=[]\n",
    "    for reg, lon, lat in zip(regions, lof, lsf):\n",
    "        if reg == ll:\n",
    "            ls.append(lat)\n",
    "            lo.append(lon)\n",
    "    plt.figure(figsize=(16,12))\n",
    "    bmap = Basemap(projection='robin', resolution = 'c', area_thresh = 1000.0, lon_0=0)\n",
    "    bmap.bluemarble()\n",
    "    bmap.drawcoastlines()\n",
    "    bmap.drawcountries()\n",
    "    bmap.drawmapboundary()\n",
    "    plt.title(\"Number of Incidents per Regions\")\n",
    "    a=a+1\n",
    "    x, y = bmap(lo, ls)\n",
    "    bmap.plot(x, y, 'yo', markersize=8, label=ll)\n",
    "    plt.legend(fontsize=24, loc = 8, markerscale = 3, numpoints=1, title='Region')\n",
    "    plt.savefig(\"~/frame{0}\".format(str(a).rjust(3, \"0\")), pad_inches=0.5, bbox_inches='tight')\n",
    "    plt.clf()"
   ]
  },
  {
   "cell_type": "code",
   "execution_count": null,
   "metadata": {
    "collapsed": true
   },
   "outputs": [],
   "source": []
  }
 ],
 "metadata": {
  "anaconda-cloud": {},
  "kernelspec": {
   "display_name": "Python [default]",
   "language": "python",
   "name": "python3"
  },
  "language_info": {
   "codemirror_mode": {
    "name": "ipython",
    "version": 3
   },
   "file_extension": ".py",
   "mimetype": "text/x-python",
   "name": "python",
   "nbconvert_exporter": "python",
   "pygments_lexer": "ipython3",
   "version": "3.5.0rc4"
  }
 },
 "nbformat": 4,
 "nbformat_minor": 1
}
