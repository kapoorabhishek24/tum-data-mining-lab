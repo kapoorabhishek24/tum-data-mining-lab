{
 "cells": [
  {
   "cell_type": "code",
   "execution_count": 4,
   "metadata": {
    "collapsed": false
   },
   "outputs": [
    {
     "name": "stdout",
     "output_type": "stream",
     "text": [
      "['Abortion Related' 'Airports & Aircraft' 'Business'\n",
      " 'Educational Institution' 'Food or Water Supply' 'Government (Diplomatic)'\n",
      " 'Government (General)' 'Journalists & Media' 'Maritime' 'Military' 'NGO'\n",
      " 'Other' 'Police' 'Private Citizens & Property'\n",
      " 'Religious Figures/Institutions' 'Telecommunication'\n",
      " 'Terrorists/Non-State Militia' 'Tourists' 'Transportation' 'Unknown'\n",
      " 'Utilities' 'Violent Political Party']\n"
     ]
    },
    {
     "name": "stderr",
     "output_type": "stream",
     "text": [
      "//anaconda/lib/python3.5/site-packages/matplotlib/pyplot.py:516: RuntimeWarning: More than 20 figures have been opened. Figures created through the pyplot interface (`matplotlib.pyplot.figure`) are retained until explicitly closed and may consume too much memory. (To control this warning, see the rcParam `figure.max_open_warning`).\n",
      "  max_open_warning, RuntimeWarning)\n"
     ]
    }
   ],
   "source": [
    "import csv\n",
    "from mpl_toolkits.basemap import Basemap\n",
    "import matplotlib.pyplot as plt\n",
    "import numpy as np\n",
    "\n",
    "# Created by Abhishek Kapoor\n",
    "# Book.csv, is a custom generated file with limited Columns\n",
    "filename = '~/Book.csv'\n",
    "\n",
    "# For Ploting, Empty lists for Latitudes and Longitudes\n",
    "ls, lsf, lo, lof = [], [], [], []\n",
    "years = []\n",
    "targets = []\n",
    "\n",
    "\n",
    "# Reading the file\n",
    "with open(filename) as f:\n",
    "    reader = csv.reader(f)\n",
    "    for row in reader:\n",
    "        ls.append(row[0])\n",
    "        lo.append(row[1])\n",
    "        years.append(row[2])\n",
    "        targets.append(row[3])\n",
    "        \n",
    "#Converting to Float        \n",
    "lsf = [float(x) for x in ls]\n",
    "lof = [float(x) for x in lo]\n",
    "\n",
    "year = np.unique(years)\n",
    "\n",
    "target = np.unique(targets)\n",
    "\n",
    "a=0\n",
    "for ll in target:\n",
    "    ls=[]\n",
    "    lo=[]\n",
    "    for tar, lon, lat in zip(targets, lof, lsf):\n",
    "        if tar == ll and tar != 'Unknown' and tar != 'Other':\n",
    "            ls.append(lat)\n",
    "            lo.append(lon)\n",
    "    plt.figure(figsize=(16,12))\n",
    "    bmap = Basemap(projection='robin', resolution = 'c', area_thresh = 1000.0, lon_0=0)\n",
    "    bmap.bluemarble()\n",
    "    bmap.drawcoastlines()\n",
    "    bmap.drawcountries()\n",
    "    bmap.drawmapboundary()\n",
    "    plt.title(\"Number of Incidents per Type of Targets\")\n",
    "    a=a+1\n",
    "    x, y = bmap(lo, ls)\n",
    "    bmap.plot(x, y, 'ro', markersize=8, label=ll)\n",
    "    plt.legend(fontsize=24, loc = 8, markerscale = 3, numpoints=1, title='Target Type')\n",
    "    plt.savefig(\"~/frame{0}\".format(str(a).rjust(3, \"0\")), pad_inches=0.5, bbox_inches='tight')\n",
    "    plt.clf()"
   ]
  },
  {
   "cell_type": "code",
   "execution_count": null,
   "metadata": {
    "collapsed": true
   },
   "outputs": [],
   "source": []
  }
 ],
 "metadata": {
  "anaconda-cloud": {},
  "kernelspec": {
   "display_name": "Python [default]",
   "language": "python",
   "name": "python3"
  },
  "language_info": {
   "codemirror_mode": {
    "name": "ipython",
    "version": 3
   },
   "file_extension": ".py",
   "mimetype": "text/x-python",
   "name": "python",
   "nbconvert_exporter": "python",
   "pygments_lexer": "ipython3",
   "version": "3.5.0rc4"
  }
 },
 "nbformat": 4,
 "nbformat_minor": 1
}
